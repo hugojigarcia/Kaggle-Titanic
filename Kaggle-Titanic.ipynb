{
  "nbformat": 4,
  "nbformat_minor": 0,
  "metadata": {
    "colab": {
      "name": "Kaggle-Titanic.ipynb",
      "provenance": [],
      "collapsed_sections": [
        "CjLszXRNxE44",
        "othLgBN0pCgL",
        "CFZIvMDMwhPt",
        "kPqeo1KEwjwq",
        "rO8fssKKwoVF",
        "oYoaeGato05M",
        "fHC9lJPx5mAu",
        "QSB6b3p60Xw0",
        "QG9-NwiZ9hxl",
        "bwE9vU8Swvyt",
        "7kexfKK8w2Xv",
        "eEHarj8hw41r",
        "wI_oIv1k8oMX",
        "iV1uUu-pAjFu",
        "5zxEesQTOF5t",
        "UpfFntcIphAh",
        "Gu7xpDOltvRX",
        "4XrTH21r9-Ox",
        "gWQt3RmZzUgQ",
        "POwoDAPqH8fG",
        "m1rDfWrFHWL_",
        "zA2GIjw8s1Pz",
        "ET6Mqo7OhTHq",
        "NCNkNLpoIfwo",
        "ayI1DeuvIkaT",
        "1pOQCrStSkSl",
        "VrhvYp4OIrV7",
        "ody2setFIugB",
        "658HMo-dmWMg",
        "6JYRjaeOpv3F",
        "0nCDe4ixsp_N",
        "ry2pQA4stm3w",
        "_LgIYyA4uUh8",
        "BXdDrlwevN9a",
        "pc73WeFywmRI",
        "Q5Kj6zL7wrHk",
        "kVxmCz9DJ6Gu",
        "0fifvmOLJ9Yj",
        "m1o5a7ICSn-Y",
        "xHQKdXGSpgSK",
        "Uyh8Ug4mSxuf",
        "iYnosilQo_VQ",
        "06SFNLpVxDMy",
        "suxB1lXFxOtx",
        "TLwk0KQoMyk9",
        "TYVxM64DXh4O",
        "1cDzLQfRbyGV",
        "m7uXCH7OeGAO"
      ]
    },
    "kernelspec": {
      "display_name": "Python 3",
      "name": "python3"
    },
    "language_info": {
      "name": "python"
    }
  },
  "cells": [
    {
      "cell_type": "code",
      "source": [
        "train_url = \"https://huggingface.co/datasets/Tomate/Kaggle-Titanic/raw/main/train.csv\" #@param {type:\"string\"}\n",
        "predict_url = \"https://huggingface.co/datasets/Tomate/Kaggle-Titanic/raw/main/test.csv\" #@param {type:\"string\"}\n",
        "y_column_name = \"Survived\" #@param {type:\"string\"}\n",
        "seed = 1337"
      ],
      "metadata": {
        "id": "dKpXPQ1E7441"
      },
      "execution_count": 1,
      "outputs": []
    },
    {
      "cell_type": "markdown",
      "metadata": {
        "id": "CjLszXRNxE44"
      },
      "source": [
        "# **Libraries and Data Load**"
      ]
    },
    {
      "cell_type": "markdown",
      "metadata": {
        "id": "TGsRl2QB_lUa"
      },
      "source": [
        "Instalamos Nevergrad para realizar más adelante la optimización de hiperparámetros."
      ]
    },
    {
      "cell_type": "code",
      "source": [
        "random_seed = 1337"
      ],
      "metadata": {
        "id": "FVbjAwxxReol"
      },
      "execution_count": 2,
      "outputs": []
    },
    {
      "cell_type": "code",
      "metadata": {
        "id": "iSzKF1U1k39R"
      },
      "source": [
        "# !pip install nevergrad"
      ],
      "execution_count": 3,
      "outputs": []
    },
    {
      "cell_type": "code",
      "metadata": {
        "id": "8ZrzvSERDLI3"
      },
      "source": [
        "import pandas as pd\n",
        "import warnings\n",
        "import seaborn as sns\n",
        "from matplotlib import pyplot as plt\n",
        "import numpy as np\n",
        "import os\n",
        "# import sklearn.compose\n",
        "# from sklearn.model_selection import train_test_split\n",
        "# import nevergrad as ng\n",
        "# \n",
        "# from sklearn.metrics import f1_score\n",
        "# from sklearn.metrics import accuracy_score\n",
        "# from sklearn.neighbors import NearestCentroid\n",
        "# from sklearn.model_selection import GridSearchCV\n",
        "# from sklearn.linear_model import LogisticRegression\n",
        "# from sklearn.svm import LinearSVC\n",
        "# from sklearn import svm\n",
        "# from sklearn.neighbors import KNeighborsClassifier\n",
        "# from sklearn.naive_bayes import CategoricalNB\n",
        "# from sklearn.naive_bayes import GaussianNB\n",
        "# from sklearn.naive_bayes import MultinomialNB\n",
        "# from sklearn.naive_bayes import BernoulliNB\n",
        "# from sklearn.naive_bayes import ComplementNB\n",
        "# from sklearn.tree import DecisionTreeClassifier\n",
        "# from sklearn.tree import ExtraTreeClassifier\n",
        "# from sklearn.preprocessing import PolynomialFeatures\n",
        "# from sklearn.ensemble import VotingClassifier\n",
        "# from sklearn.ensemble import BaggingClassifier\n",
        "# from sklearn.ensemble import AdaBoostClassifier\n",
        "# from sklearn.ensemble import GradientBoostingClassifier\n",
        "# from sklearn.ensemble import StackingClassifier\n",
        "# import tensorflow as tf\n",
        "# import tensorflow.keras as K\n",
        "# \n",
        "# \n",
        "# \n",
        "# from keras import backend as Ke"
      ],
      "execution_count": 4,
      "outputs": []
    },
    {
      "cell_type": "markdown",
      "metadata": {
        "id": "yOrDzjJIoXQf"
      },
      "source": [
        "Se cargan los datos de entrenamiento y los necesarios para hacer la predicción desde un repositorio online. Los datos de entrenamiento se mezclan de forma aleatoria."
      ]
    },
    {
      "cell_type": "code",
      "metadata": {
        "colab": {
          "base_uri": "https://localhost:8080/",
          "height": 0
        },
        "id": "MwUFF2eKDGLG",
        "outputId": "8b00cfe4-63fa-426a-9c39-02600f08ff8a"
      },
      "source": [
        "data_predict = pd.read_csv(\"https://huggingface.co/datasets/Tomate/Kaggle-Titanic/raw/main/test.csv\", sep=\",\")\n",
        "\n",
        "data_train = pd.read_csv(\"https://huggingface.co/datasets/Tomate/Kaggle-Titanic/raw/main/train.csv\", sep=\",\")\n",
        "data_train = data_train.sample(frac=1, random_state=random_seed).reset_index(drop=True)\n",
        "\n",
        "data_train"
      ],
      "execution_count": 5,
      "outputs": [
        {
          "output_type": "execute_result",
          "data": {
            "text/plain": [
              "     PassengerId  Survived  Pclass  \\\n",
              "0            644         1       3   \n",
              "1            794         0       1   \n",
              "2            175         0       1   \n",
              "3             16         1       2   \n",
              "4            792         0       2   \n",
              "..           ...       ...     ...   \n",
              "886          168         0       3   \n",
              "887          233         0       2   \n",
              "888          861         0       3   \n",
              "889          190         0       3   \n",
              "890          152         1       1   \n",
              "\n",
              "                                                Name     Sex   Age  SibSp  \\\n",
              "0                                    Foo, Mr. Choong    male   NaN      0   \n",
              "1                           Hoyt, Mr. William Fisher    male   NaN      0   \n",
              "2                            Smith, Mr. James Clinch    male  56.0      0   \n",
              "3                   Hewlett, Mrs. (Mary D Kingcome)   female  55.0      0   \n",
              "4                                Gaskell, Mr. Alfred    male  16.0      0   \n",
              "..                                               ...     ...   ...    ...   \n",
              "886  Skoog, Mrs. William (Anna Bernhardina Karlsson)  female  45.0      1   \n",
              "887                        Sjostedt, Mr. Ernst Adolf    male  59.0      0   \n",
              "888                          Hansen, Mr. Claus Peter    male  41.0      2   \n",
              "889                              Turcin, Mr. Stjepan    male  36.0      0   \n",
              "890                Pears, Mrs. Thomas (Edith Wearne)  female  22.0      1   \n",
              "\n",
              "     Parch    Ticket     Fare Cabin Embarked  \n",
              "0        0      1601  56.4958   NaN        S  \n",
              "1        0  PC 17600  30.6958   NaN        C  \n",
              "2        0     17764  30.6958    A7        C  \n",
              "3        0    248706  16.0000   NaN        S  \n",
              "4        0    239865  26.0000   NaN        S  \n",
              "..     ...       ...      ...   ...      ...  \n",
              "886      4    347088  27.9000   NaN        S  \n",
              "887      0    237442  13.5000   NaN        S  \n",
              "888      0    350026  14.1083   NaN        S  \n",
              "889      0    349247   7.8958   NaN        S  \n",
              "890      0    113776  66.6000    C2        S  \n",
              "\n",
              "[891 rows x 12 columns]"
            ],
            "text/html": [
              "\n",
              "  <div id=\"df-e998006f-c711-4d8e-beeb-68a883678a2c\">\n",
              "    <div class=\"colab-df-container\">\n",
              "      <div>\n",
              "<style scoped>\n",
              "    .dataframe tbody tr th:only-of-type {\n",
              "        vertical-align: middle;\n",
              "    }\n",
              "\n",
              "    .dataframe tbody tr th {\n",
              "        vertical-align: top;\n",
              "    }\n",
              "\n",
              "    .dataframe thead th {\n",
              "        text-align: right;\n",
              "    }\n",
              "</style>\n",
              "<table border=\"1\" class=\"dataframe\">\n",
              "  <thead>\n",
              "    <tr style=\"text-align: right;\">\n",
              "      <th></th>\n",
              "      <th>PassengerId</th>\n",
              "      <th>Survived</th>\n",
              "      <th>Pclass</th>\n",
              "      <th>Name</th>\n",
              "      <th>Sex</th>\n",
              "      <th>Age</th>\n",
              "      <th>SibSp</th>\n",
              "      <th>Parch</th>\n",
              "      <th>Ticket</th>\n",
              "      <th>Fare</th>\n",
              "      <th>Cabin</th>\n",
              "      <th>Embarked</th>\n",
              "    </tr>\n",
              "  </thead>\n",
              "  <tbody>\n",
              "    <tr>\n",
              "      <th>0</th>\n",
              "      <td>644</td>\n",
              "      <td>1</td>\n",
              "      <td>3</td>\n",
              "      <td>Foo, Mr. Choong</td>\n",
              "      <td>male</td>\n",
              "      <td>NaN</td>\n",
              "      <td>0</td>\n",
              "      <td>0</td>\n",
              "      <td>1601</td>\n",
              "      <td>56.4958</td>\n",
              "      <td>NaN</td>\n",
              "      <td>S</td>\n",
              "    </tr>\n",
              "    <tr>\n",
              "      <th>1</th>\n",
              "      <td>794</td>\n",
              "      <td>0</td>\n",
              "      <td>1</td>\n",
              "      <td>Hoyt, Mr. William Fisher</td>\n",
              "      <td>male</td>\n",
              "      <td>NaN</td>\n",
              "      <td>0</td>\n",
              "      <td>0</td>\n",
              "      <td>PC 17600</td>\n",
              "      <td>30.6958</td>\n",
              "      <td>NaN</td>\n",
              "      <td>C</td>\n",
              "    </tr>\n",
              "    <tr>\n",
              "      <th>2</th>\n",
              "      <td>175</td>\n",
              "      <td>0</td>\n",
              "      <td>1</td>\n",
              "      <td>Smith, Mr. James Clinch</td>\n",
              "      <td>male</td>\n",
              "      <td>56.0</td>\n",
              "      <td>0</td>\n",
              "      <td>0</td>\n",
              "      <td>17764</td>\n",
              "      <td>30.6958</td>\n",
              "      <td>A7</td>\n",
              "      <td>C</td>\n",
              "    </tr>\n",
              "    <tr>\n",
              "      <th>3</th>\n",
              "      <td>16</td>\n",
              "      <td>1</td>\n",
              "      <td>2</td>\n",
              "      <td>Hewlett, Mrs. (Mary D Kingcome)</td>\n",
              "      <td>female</td>\n",
              "      <td>55.0</td>\n",
              "      <td>0</td>\n",
              "      <td>0</td>\n",
              "      <td>248706</td>\n",
              "      <td>16.0000</td>\n",
              "      <td>NaN</td>\n",
              "      <td>S</td>\n",
              "    </tr>\n",
              "    <tr>\n",
              "      <th>4</th>\n",
              "      <td>792</td>\n",
              "      <td>0</td>\n",
              "      <td>2</td>\n",
              "      <td>Gaskell, Mr. Alfred</td>\n",
              "      <td>male</td>\n",
              "      <td>16.0</td>\n",
              "      <td>0</td>\n",
              "      <td>0</td>\n",
              "      <td>239865</td>\n",
              "      <td>26.0000</td>\n",
              "      <td>NaN</td>\n",
              "      <td>S</td>\n",
              "    </tr>\n",
              "    <tr>\n",
              "      <th>...</th>\n",
              "      <td>...</td>\n",
              "      <td>...</td>\n",
              "      <td>...</td>\n",
              "      <td>...</td>\n",
              "      <td>...</td>\n",
              "      <td>...</td>\n",
              "      <td>...</td>\n",
              "      <td>...</td>\n",
              "      <td>...</td>\n",
              "      <td>...</td>\n",
              "      <td>...</td>\n",
              "      <td>...</td>\n",
              "    </tr>\n",
              "    <tr>\n",
              "      <th>886</th>\n",
              "      <td>168</td>\n",
              "      <td>0</td>\n",
              "      <td>3</td>\n",
              "      <td>Skoog, Mrs. William (Anna Bernhardina Karlsson)</td>\n",
              "      <td>female</td>\n",
              "      <td>45.0</td>\n",
              "      <td>1</td>\n",
              "      <td>4</td>\n",
              "      <td>347088</td>\n",
              "      <td>27.9000</td>\n",
              "      <td>NaN</td>\n",
              "      <td>S</td>\n",
              "    </tr>\n",
              "    <tr>\n",
              "      <th>887</th>\n",
              "      <td>233</td>\n",
              "      <td>0</td>\n",
              "      <td>2</td>\n",
              "      <td>Sjostedt, Mr. Ernst Adolf</td>\n",
              "      <td>male</td>\n",
              "      <td>59.0</td>\n",
              "      <td>0</td>\n",
              "      <td>0</td>\n",
              "      <td>237442</td>\n",
              "      <td>13.5000</td>\n",
              "      <td>NaN</td>\n",
              "      <td>S</td>\n",
              "    </tr>\n",
              "    <tr>\n",
              "      <th>888</th>\n",
              "      <td>861</td>\n",
              "      <td>0</td>\n",
              "      <td>3</td>\n",
              "      <td>Hansen, Mr. Claus Peter</td>\n",
              "      <td>male</td>\n",
              "      <td>41.0</td>\n",
              "      <td>2</td>\n",
              "      <td>0</td>\n",
              "      <td>350026</td>\n",
              "      <td>14.1083</td>\n",
              "      <td>NaN</td>\n",
              "      <td>S</td>\n",
              "    </tr>\n",
              "    <tr>\n",
              "      <th>889</th>\n",
              "      <td>190</td>\n",
              "      <td>0</td>\n",
              "      <td>3</td>\n",
              "      <td>Turcin, Mr. Stjepan</td>\n",
              "      <td>male</td>\n",
              "      <td>36.0</td>\n",
              "      <td>0</td>\n",
              "      <td>0</td>\n",
              "      <td>349247</td>\n",
              "      <td>7.8958</td>\n",
              "      <td>NaN</td>\n",
              "      <td>S</td>\n",
              "    </tr>\n",
              "    <tr>\n",
              "      <th>890</th>\n",
              "      <td>152</td>\n",
              "      <td>1</td>\n",
              "      <td>1</td>\n",
              "      <td>Pears, Mrs. Thomas (Edith Wearne)</td>\n",
              "      <td>female</td>\n",
              "      <td>22.0</td>\n",
              "      <td>1</td>\n",
              "      <td>0</td>\n",
              "      <td>113776</td>\n",
              "      <td>66.6000</td>\n",
              "      <td>C2</td>\n",
              "      <td>S</td>\n",
              "    </tr>\n",
              "  </tbody>\n",
              "</table>\n",
              "<p>891 rows × 12 columns</p>\n",
              "</div>\n",
              "      <button class=\"colab-df-convert\" onclick=\"convertToInteractive('df-e998006f-c711-4d8e-beeb-68a883678a2c')\"\n",
              "              title=\"Convert this dataframe to an interactive table.\"\n",
              "              style=\"display:none;\">\n",
              "        \n",
              "  <svg xmlns=\"http://www.w3.org/2000/svg\" height=\"24px\"viewBox=\"0 0 24 24\"\n",
              "       width=\"24px\">\n",
              "    <path d=\"M0 0h24v24H0V0z\" fill=\"none\"/>\n",
              "    <path d=\"M18.56 5.44l.94 2.06.94-2.06 2.06-.94-2.06-.94-.94-2.06-.94 2.06-2.06.94zm-11 1L8.5 8.5l.94-2.06 2.06-.94-2.06-.94L8.5 2.5l-.94 2.06-2.06.94zm10 10l.94 2.06.94-2.06 2.06-.94-2.06-.94-.94-2.06-.94 2.06-2.06.94z\"/><path d=\"M17.41 7.96l-1.37-1.37c-.4-.4-.92-.59-1.43-.59-.52 0-1.04.2-1.43.59L10.3 9.45l-7.72 7.72c-.78.78-.78 2.05 0 2.83L4 21.41c.39.39.9.59 1.41.59.51 0 1.02-.2 1.41-.59l7.78-7.78 2.81-2.81c.8-.78.8-2.07 0-2.86zM5.41 20L4 18.59l7.72-7.72 1.47 1.35L5.41 20z\"/>\n",
              "  </svg>\n",
              "      </button>\n",
              "      \n",
              "  <style>\n",
              "    .colab-df-container {\n",
              "      display:flex;\n",
              "      flex-wrap:wrap;\n",
              "      gap: 12px;\n",
              "    }\n",
              "\n",
              "    .colab-df-convert {\n",
              "      background-color: #E8F0FE;\n",
              "      border: none;\n",
              "      border-radius: 50%;\n",
              "      cursor: pointer;\n",
              "      display: none;\n",
              "      fill: #1967D2;\n",
              "      height: 32px;\n",
              "      padding: 0 0 0 0;\n",
              "      width: 32px;\n",
              "    }\n",
              "\n",
              "    .colab-df-convert:hover {\n",
              "      background-color: #E2EBFA;\n",
              "      box-shadow: 0px 1px 2px rgba(60, 64, 67, 0.3), 0px 1px 3px 1px rgba(60, 64, 67, 0.15);\n",
              "      fill: #174EA6;\n",
              "    }\n",
              "\n",
              "    [theme=dark] .colab-df-convert {\n",
              "      background-color: #3B4455;\n",
              "      fill: #D2E3FC;\n",
              "    }\n",
              "\n",
              "    [theme=dark] .colab-df-convert:hover {\n",
              "      background-color: #434B5C;\n",
              "      box-shadow: 0px 1px 3px 1px rgba(0, 0, 0, 0.15);\n",
              "      filter: drop-shadow(0px 1px 2px rgba(0, 0, 0, 0.3));\n",
              "      fill: #FFFFFF;\n",
              "    }\n",
              "  </style>\n",
              "\n",
              "      <script>\n",
              "        const buttonEl =\n",
              "          document.querySelector('#df-e998006f-c711-4d8e-beeb-68a883678a2c button.colab-df-convert');\n",
              "        buttonEl.style.display =\n",
              "          google.colab.kernel.accessAllowed ? 'block' : 'none';\n",
              "\n",
              "        async function convertToInteractive(key) {\n",
              "          const element = document.querySelector('#df-e998006f-c711-4d8e-beeb-68a883678a2c');\n",
              "          const dataTable =\n",
              "            await google.colab.kernel.invokeFunction('convertToInteractive',\n",
              "                                                     [key], {});\n",
              "          if (!dataTable) return;\n",
              "\n",
              "          const docLinkHtml = 'Like what you see? Visit the ' +\n",
              "            '<a target=\"_blank\" href=https://colab.research.google.com/notebooks/data_table.ipynb>data table notebook</a>'\n",
              "            + ' to learn more about interactive tables.';\n",
              "          element.innerHTML = '';\n",
              "          dataTable['output_type'] = 'display_data';\n",
              "          await google.colab.output.renderOutput(dataTable, element);\n",
              "          const docLink = document.createElement('div');\n",
              "          docLink.innerHTML = docLinkHtml;\n",
              "          element.appendChild(docLink);\n",
              "        }\n",
              "      </script>\n",
              "    </div>\n",
              "  </div>\n",
              "  "
            ]
          },
          "metadata": {},
          "execution_count": 5
        }
      ]
    },
    {
      "cell_type": "markdown",
      "metadata": {
        "id": "lG0zzCL5_uO5"
      },
      "source": [
        "**transfrom_Y** se encarga de transformar la columna de salida en dos columnas objetivo (una de victoria contraterrorista y otra de victoria terrorista).\n",
        "\n",
        "**inverse_transform_Y** se encarga de hacer el proceso contrario del método anterior."
      ]
    },
    {
      "cell_type": "code",
      "metadata": {
        "id": "yfSErHfDvvU8"
      },
      "source": [
        "# onehot = sklearn.preprocessing.OneHotEncoder()\n",
        "# def transform_Y (y):\n",
        "#   result = []\n",
        "#   for el in y:\n",
        "#     result.append([el])\n",
        "#   result = onehot.fit_transform(result).toarray()\n",
        "#   return pd.DataFrame(result, columns=y.unique())\n",
        "\n",
        "# def inverse_transform_Y (y, index=None):\n",
        "#   aux = onehot.inverse_transform(y)\n",
        "#   result = []\n",
        "#   for el in aux:\n",
        "#     result.append(el[0])\n",
        "#   return pd.Series(result, index=index)"
      ],
      "execution_count": 6,
      "outputs": []
    },
    {
      "cell_type": "markdown",
      "metadata": {
        "id": "-LO4vQLiAN0t"
      },
      "source": [
        "**f1_score_m** implementa la métrica de calidad f1 y hace uso de los métodos **recall_m** y **precision_m** para calcularla."
      ]
    },
    {
      "cell_type": "code",
      "metadata": {
        "id": "Tp-NWzwWAezc"
      },
      "source": [
        "# def recall_m(y_true, y_pred):\n",
        "#   true_positives = Ke.sum(Ke.round(Ke.clip(y_true * y_pred, 0, 1)))\n",
        "#   possible_positives = Ke.sum(Ke.round(Ke.clip(y_true, 0, 1)))\n",
        "#   recall = true_positives / (possible_positives + Ke.epsilon())\n",
        "#   return recall\n",
        "\n",
        "# def precision_m(y_true, y_pred):\n",
        "#   true_positives = Ke.sum(Ke.round(Ke.clip(y_true * y_pred, 0, 1)))\n",
        "#   predicted_positives = Ke.sum(Ke.round(Ke.clip(y_pred, 0, 1)))\n",
        "#   precision = true_positives / (predicted_positives + Ke.epsilon())\n",
        "#   return precision\n",
        "\n",
        "# def f1_score_m (y_true, y_pred):\n",
        "#   precision = precision_m(y_true, y_pred)\n",
        "#   recall = recall_m(y_true, y_pred)\n",
        "#   return 2*((precision*recall)/(precision+recall+Ke.epsilon()))"
      ],
      "execution_count": 7,
      "outputs": []
    },
    {
      "cell_type": "markdown",
      "metadata": {
        "id": "othLgBN0pCgL"
      },
      "source": [
        "# **Initial Study**"
      ]
    },
    {
      "cell_type": "markdown",
      "metadata": {
        "id": "CFZIvMDMwhPt"
      },
      "source": [
        "## *Describe*"
      ]
    },
    {
      "cell_type": "code",
      "metadata": {
        "colab": {
          "base_uri": "https://localhost:8080/",
          "height": 0
        },
        "id": "GASmkurObTcb",
        "outputId": "148748d5-3d1a-496d-fffe-bf5117953a16"
      },
      "source": [
        "data_train.describe(include=\"all\")"
      ],
      "execution_count": 8,
      "outputs": [
        {
          "output_type": "execute_result",
          "data": {
            "text/plain": [
              "        PassengerId    Survived      Pclass             Name   Sex  \\\n",
              "count    891.000000  891.000000  891.000000              891   891   \n",
              "unique          NaN         NaN         NaN              891     2   \n",
              "top             NaN         NaN         NaN  Foo, Mr. Choong  male   \n",
              "freq            NaN         NaN         NaN                1   577   \n",
              "mean     446.000000    0.383838    2.308642              NaN   NaN   \n",
              "std      257.353842    0.486592    0.836071              NaN   NaN   \n",
              "min        1.000000    0.000000    1.000000              NaN   NaN   \n",
              "25%      223.500000    0.000000    2.000000              NaN   NaN   \n",
              "50%      446.000000    0.000000    3.000000              NaN   NaN   \n",
              "75%      668.500000    1.000000    3.000000              NaN   NaN   \n",
              "max      891.000000    1.000000    3.000000              NaN   NaN   \n",
              "\n",
              "               Age       SibSp       Parch Ticket        Fare    Cabin  \\\n",
              "count   714.000000  891.000000  891.000000    891  891.000000      204   \n",
              "unique         NaN         NaN         NaN    681         NaN      147   \n",
              "top            NaN         NaN         NaN   1601         NaN  B96 B98   \n",
              "freq           NaN         NaN         NaN      7         NaN        4   \n",
              "mean     29.699118    0.523008    0.381594    NaN   32.204208      NaN   \n",
              "std      14.526497    1.102743    0.806057    NaN   49.693429      NaN   \n",
              "min       0.420000    0.000000    0.000000    NaN    0.000000      NaN   \n",
              "25%      20.125000    0.000000    0.000000    NaN    7.910400      NaN   \n",
              "50%      28.000000    0.000000    0.000000    NaN   14.454200      NaN   \n",
              "75%      38.000000    1.000000    0.000000    NaN   31.000000      NaN   \n",
              "max      80.000000    8.000000    6.000000    NaN  512.329200      NaN   \n",
              "\n",
              "       Embarked  \n",
              "count       889  \n",
              "unique        3  \n",
              "top           S  \n",
              "freq        644  \n",
              "mean        NaN  \n",
              "std         NaN  \n",
              "min         NaN  \n",
              "25%         NaN  \n",
              "50%         NaN  \n",
              "75%         NaN  \n",
              "max         NaN  "
            ],
            "text/html": [
              "\n",
              "  <div id=\"df-bdb59b53-76e5-4db3-bd39-3c798259e566\">\n",
              "    <div class=\"colab-df-container\">\n",
              "      <div>\n",
              "<style scoped>\n",
              "    .dataframe tbody tr th:only-of-type {\n",
              "        vertical-align: middle;\n",
              "    }\n",
              "\n",
              "    .dataframe tbody tr th {\n",
              "        vertical-align: top;\n",
              "    }\n",
              "\n",
              "    .dataframe thead th {\n",
              "        text-align: right;\n",
              "    }\n",
              "</style>\n",
              "<table border=\"1\" class=\"dataframe\">\n",
              "  <thead>\n",
              "    <tr style=\"text-align: right;\">\n",
              "      <th></th>\n",
              "      <th>PassengerId</th>\n",
              "      <th>Survived</th>\n",
              "      <th>Pclass</th>\n",
              "      <th>Name</th>\n",
              "      <th>Sex</th>\n",
              "      <th>Age</th>\n",
              "      <th>SibSp</th>\n",
              "      <th>Parch</th>\n",
              "      <th>Ticket</th>\n",
              "      <th>Fare</th>\n",
              "      <th>Cabin</th>\n",
              "      <th>Embarked</th>\n",
              "    </tr>\n",
              "  </thead>\n",
              "  <tbody>\n",
              "    <tr>\n",
              "      <th>count</th>\n",
              "      <td>891.000000</td>\n",
              "      <td>891.000000</td>\n",
              "      <td>891.000000</td>\n",
              "      <td>891</td>\n",
              "      <td>891</td>\n",
              "      <td>714.000000</td>\n",
              "      <td>891.000000</td>\n",
              "      <td>891.000000</td>\n",
              "      <td>891</td>\n",
              "      <td>891.000000</td>\n",
              "      <td>204</td>\n",
              "      <td>889</td>\n",
              "    </tr>\n",
              "    <tr>\n",
              "      <th>unique</th>\n",
              "      <td>NaN</td>\n",
              "      <td>NaN</td>\n",
              "      <td>NaN</td>\n",
              "      <td>891</td>\n",
              "      <td>2</td>\n",
              "      <td>NaN</td>\n",
              "      <td>NaN</td>\n",
              "      <td>NaN</td>\n",
              "      <td>681</td>\n",
              "      <td>NaN</td>\n",
              "      <td>147</td>\n",
              "      <td>3</td>\n",
              "    </tr>\n",
              "    <tr>\n",
              "      <th>top</th>\n",
              "      <td>NaN</td>\n",
              "      <td>NaN</td>\n",
              "      <td>NaN</td>\n",
              "      <td>Foo, Mr. Choong</td>\n",
              "      <td>male</td>\n",
              "      <td>NaN</td>\n",
              "      <td>NaN</td>\n",
              "      <td>NaN</td>\n",
              "      <td>1601</td>\n",
              "      <td>NaN</td>\n",
              "      <td>B96 B98</td>\n",
              "      <td>S</td>\n",
              "    </tr>\n",
              "    <tr>\n",
              "      <th>freq</th>\n",
              "      <td>NaN</td>\n",
              "      <td>NaN</td>\n",
              "      <td>NaN</td>\n",
              "      <td>1</td>\n",
              "      <td>577</td>\n",
              "      <td>NaN</td>\n",
              "      <td>NaN</td>\n",
              "      <td>NaN</td>\n",
              "      <td>7</td>\n",
              "      <td>NaN</td>\n",
              "      <td>4</td>\n",
              "      <td>644</td>\n",
              "    </tr>\n",
              "    <tr>\n",
              "      <th>mean</th>\n",
              "      <td>446.000000</td>\n",
              "      <td>0.383838</td>\n",
              "      <td>2.308642</td>\n",
              "      <td>NaN</td>\n",
              "      <td>NaN</td>\n",
              "      <td>29.699118</td>\n",
              "      <td>0.523008</td>\n",
              "      <td>0.381594</td>\n",
              "      <td>NaN</td>\n",
              "      <td>32.204208</td>\n",
              "      <td>NaN</td>\n",
              "      <td>NaN</td>\n",
              "    </tr>\n",
              "    <tr>\n",
              "      <th>std</th>\n",
              "      <td>257.353842</td>\n",
              "      <td>0.486592</td>\n",
              "      <td>0.836071</td>\n",
              "      <td>NaN</td>\n",
              "      <td>NaN</td>\n",
              "      <td>14.526497</td>\n",
              "      <td>1.102743</td>\n",
              "      <td>0.806057</td>\n",
              "      <td>NaN</td>\n",
              "      <td>49.693429</td>\n",
              "      <td>NaN</td>\n",
              "      <td>NaN</td>\n",
              "    </tr>\n",
              "    <tr>\n",
              "      <th>min</th>\n",
              "      <td>1.000000</td>\n",
              "      <td>0.000000</td>\n",
              "      <td>1.000000</td>\n",
              "      <td>NaN</td>\n",
              "      <td>NaN</td>\n",
              "      <td>0.420000</td>\n",
              "      <td>0.000000</td>\n",
              "      <td>0.000000</td>\n",
              "      <td>NaN</td>\n",
              "      <td>0.000000</td>\n",
              "      <td>NaN</td>\n",
              "      <td>NaN</td>\n",
              "    </tr>\n",
              "    <tr>\n",
              "      <th>25%</th>\n",
              "      <td>223.500000</td>\n",
              "      <td>0.000000</td>\n",
              "      <td>2.000000</td>\n",
              "      <td>NaN</td>\n",
              "      <td>NaN</td>\n",
              "      <td>20.125000</td>\n",
              "      <td>0.000000</td>\n",
              "      <td>0.000000</td>\n",
              "      <td>NaN</td>\n",
              "      <td>7.910400</td>\n",
              "      <td>NaN</td>\n",
              "      <td>NaN</td>\n",
              "    </tr>\n",
              "    <tr>\n",
              "      <th>50%</th>\n",
              "      <td>446.000000</td>\n",
              "      <td>0.000000</td>\n",
              "      <td>3.000000</td>\n",
              "      <td>NaN</td>\n",
              "      <td>NaN</td>\n",
              "      <td>28.000000</td>\n",
              "      <td>0.000000</td>\n",
              "      <td>0.000000</td>\n",
              "      <td>NaN</td>\n",
              "      <td>14.454200</td>\n",
              "      <td>NaN</td>\n",
              "      <td>NaN</td>\n",
              "    </tr>\n",
              "    <tr>\n",
              "      <th>75%</th>\n",
              "      <td>668.500000</td>\n",
              "      <td>1.000000</td>\n",
              "      <td>3.000000</td>\n",
              "      <td>NaN</td>\n",
              "      <td>NaN</td>\n",
              "      <td>38.000000</td>\n",
              "      <td>1.000000</td>\n",
              "      <td>0.000000</td>\n",
              "      <td>NaN</td>\n",
              "      <td>31.000000</td>\n",
              "      <td>NaN</td>\n",
              "      <td>NaN</td>\n",
              "    </tr>\n",
              "    <tr>\n",
              "      <th>max</th>\n",
              "      <td>891.000000</td>\n",
              "      <td>1.000000</td>\n",
              "      <td>3.000000</td>\n",
              "      <td>NaN</td>\n",
              "      <td>NaN</td>\n",
              "      <td>80.000000</td>\n",
              "      <td>8.000000</td>\n",
              "      <td>6.000000</td>\n",
              "      <td>NaN</td>\n",
              "      <td>512.329200</td>\n",
              "      <td>NaN</td>\n",
              "      <td>NaN</td>\n",
              "    </tr>\n",
              "  </tbody>\n",
              "</table>\n",
              "</div>\n",
              "      <button class=\"colab-df-convert\" onclick=\"convertToInteractive('df-bdb59b53-76e5-4db3-bd39-3c798259e566')\"\n",
              "              title=\"Convert this dataframe to an interactive table.\"\n",
              "              style=\"display:none;\">\n",
              "        \n",
              "  <svg xmlns=\"http://www.w3.org/2000/svg\" height=\"24px\"viewBox=\"0 0 24 24\"\n",
              "       width=\"24px\">\n",
              "    <path d=\"M0 0h24v24H0V0z\" fill=\"none\"/>\n",
              "    <path d=\"M18.56 5.44l.94 2.06.94-2.06 2.06-.94-2.06-.94-.94-2.06-.94 2.06-2.06.94zm-11 1L8.5 8.5l.94-2.06 2.06-.94-2.06-.94L8.5 2.5l-.94 2.06-2.06.94zm10 10l.94 2.06.94-2.06 2.06-.94-2.06-.94-.94-2.06-.94 2.06-2.06.94z\"/><path d=\"M17.41 7.96l-1.37-1.37c-.4-.4-.92-.59-1.43-.59-.52 0-1.04.2-1.43.59L10.3 9.45l-7.72 7.72c-.78.78-.78 2.05 0 2.83L4 21.41c.39.39.9.59 1.41.59.51 0 1.02-.2 1.41-.59l7.78-7.78 2.81-2.81c.8-.78.8-2.07 0-2.86zM5.41 20L4 18.59l7.72-7.72 1.47 1.35L5.41 20z\"/>\n",
              "  </svg>\n",
              "      </button>\n",
              "      \n",
              "  <style>\n",
              "    .colab-df-container {\n",
              "      display:flex;\n",
              "      flex-wrap:wrap;\n",
              "      gap: 12px;\n",
              "    }\n",
              "\n",
              "    .colab-df-convert {\n",
              "      background-color: #E8F0FE;\n",
              "      border: none;\n",
              "      border-radius: 50%;\n",
              "      cursor: pointer;\n",
              "      display: none;\n",
              "      fill: #1967D2;\n",
              "      height: 32px;\n",
              "      padding: 0 0 0 0;\n",
              "      width: 32px;\n",
              "    }\n",
              "\n",
              "    .colab-df-convert:hover {\n",
              "      background-color: #E2EBFA;\n",
              "      box-shadow: 0px 1px 2px rgba(60, 64, 67, 0.3), 0px 1px 3px 1px rgba(60, 64, 67, 0.15);\n",
              "      fill: #174EA6;\n",
              "    }\n",
              "\n",
              "    [theme=dark] .colab-df-convert {\n",
              "      background-color: #3B4455;\n",
              "      fill: #D2E3FC;\n",
              "    }\n",
              "\n",
              "    [theme=dark] .colab-df-convert:hover {\n",
              "      background-color: #434B5C;\n",
              "      box-shadow: 0px 1px 3px 1px rgba(0, 0, 0, 0.15);\n",
              "      filter: drop-shadow(0px 1px 2px rgba(0, 0, 0, 0.3));\n",
              "      fill: #FFFFFF;\n",
              "    }\n",
              "  </style>\n",
              "\n",
              "      <script>\n",
              "        const buttonEl =\n",
              "          document.querySelector('#df-bdb59b53-76e5-4db3-bd39-3c798259e566 button.colab-df-convert');\n",
              "        buttonEl.style.display =\n",
              "          google.colab.kernel.accessAllowed ? 'block' : 'none';\n",
              "\n",
              "        async function convertToInteractive(key) {\n",
              "          const element = document.querySelector('#df-bdb59b53-76e5-4db3-bd39-3c798259e566');\n",
              "          const dataTable =\n",
              "            await google.colab.kernel.invokeFunction('convertToInteractive',\n",
              "                                                     [key], {});\n",
              "          if (!dataTable) return;\n",
              "\n",
              "          const docLinkHtml = 'Like what you see? Visit the ' +\n",
              "            '<a target=\"_blank\" href=https://colab.research.google.com/notebooks/data_table.ipynb>data table notebook</a>'\n",
              "            + ' to learn more about interactive tables.';\n",
              "          element.innerHTML = '';\n",
              "          dataTable['output_type'] = 'display_data';\n",
              "          await google.colab.output.renderOutput(dataTable, element);\n",
              "          const docLink = document.createElement('div');\n",
              "          docLink.innerHTML = docLinkHtml;\n",
              "          element.appendChild(docLink);\n",
              "        }\n",
              "      </script>\n",
              "    </div>\n",
              "  </div>\n",
              "  "
            ]
          },
          "metadata": {},
          "execution_count": 8
        }
      ]
    },
    {
      "cell_type": "markdown",
      "source": [
        "## *Correlation Matrix*"
      ],
      "metadata": {
        "id": "qBucxR119ny8"
      }
    },
    {
      "cell_type": "code",
      "source": [
        "def drawCorrelationMatrix(X):\n",
        "  correlationMatrix = X.corr(method='pearson')\n",
        "\n",
        "  fig, ax = plt.subplots(nrows = 1, ncols = 1, figsize = (15, 15))\n",
        "\n",
        "  sns.heatmap(\n",
        "      correlationMatrix,\n",
        "      annot     = True,\n",
        "      cbar      = False,\n",
        "      annot_kws = {\"size\": 10},\n",
        "      vmin      = -1,\n",
        "      vmax      = 1,\n",
        "      center    = 0,\n",
        "      cmap      = sns.diverging_palette(20, 220, n=200),\n",
        "      square    = True,\n",
        "      ax        = ax\n",
        ")\n",
        "  ax.set_xticklabels(\n",
        "      ax.get_xticklabels(),\n",
        "      rotation = 45,\n",
        "      horizontalalignment = 'right',\n",
        "  )\n",
        "\n",
        "  ax.tick_params(labelsize = 15)\n",
        "\n",
        "drawCorrelationMatrix(data_train)"
      ],
      "metadata": {
        "id": "2JeV1Vpa9lpc",
        "outputId": "c80944cc-cb1e-496a-9731-4cda17ca520b",
        "colab": {
          "base_uri": "https://localhost:8080/",
          "height": 0
        }
      },
      "execution_count": 9,
      "outputs": [
        {
          "output_type": "display_data",
          "data": {
            "text/plain": [
              "<Figure size 1080x1080 with 1 Axes>"
            ],
            "image/png": "[encoded data removed]"
          },
          "metadata": {
            "needs_background": "light"
          }
        }
      ]
    },
    {
      "cell_type": "markdown",
      "metadata": {
        "id": "oYoaeGato05M"
      },
      "source": [
        "# **Preprocessing**\n"
      ]
    },
    {
      "cell_type": "code",
      "source": [
        "data_train"
      ],
      "metadata": {
        "id": "KgD3wbHMB0Bk",
        "outputId": "00bda1a6-d280-43cb-d923-3d175e027aa0",
        "colab": {
          "base_uri": "https://localhost:8080/",
          "height": 0
        }
      },
      "execution_count": 10,
      "outputs": [
        {
          "output_type": "execute_result",
          "data": {
            "text/plain": [
              "     PassengerId  Survived  Pclass  \\\n",
              "0            644         1       3   \n",
              "1            794         0       1   \n",
              "2            175         0       1   \n",
              "3             16         1       2   \n",
              "4            792         0       2   \n",
              "..           ...       ...     ...   \n",
              "886          168         0       3   \n",
              "887          233         0       2   \n",
              "888          861         0       3   \n",
              "889          190         0       3   \n",
              "890          152         1       1   \n",
              "\n",
              "                                                Name     Sex   Age  SibSp  \\\n",
              "0                                    Foo, Mr. Choong    male   NaN      0   \n",
              "1                           Hoyt, Mr. William Fisher    male   NaN      0   \n",
              "2                            Smith, Mr. James Clinch    male  56.0      0   \n",
              "3                   Hewlett, Mrs. (Mary D Kingcome)   female  55.0      0   \n",
              "4                                Gaskell, Mr. Alfred    male  16.0      0   \n",
              "..                                               ...     ...   ...    ...   \n",
              "886  Skoog, Mrs. William (Anna Bernhardina Karlsson)  female  45.0      1   \n",
              "887                        Sjostedt, Mr. Ernst Adolf    male  59.0      0   \n",
              "888                          Hansen, Mr. Claus Peter    male  41.0      2   \n",
              "889                              Turcin, Mr. Stjepan    male  36.0      0   \n",
              "890                Pears, Mrs. Thomas (Edith Wearne)  female  22.0      1   \n",
              "\n",
              "     Parch    Ticket     Fare Cabin Embarked  \n",
              "0        0      1601  56.4958   NaN        S  \n",
              "1        0  PC 17600  30.6958   NaN        C  \n",
              "2        0     17764  30.6958    A7        C  \n",
              "3        0    248706  16.0000   NaN        S  \n",
              "4        0    239865  26.0000   NaN        S  \n",
              "..     ...       ...      ...   ...      ...  \n",
              "886      4    347088  27.9000   NaN        S  \n",
              "887      0    237442  13.5000   NaN        S  \n",
              "888      0    350026  14.1083   NaN        S  \n",
              "889      0    349247   7.8958   NaN        S  \n",
              "890      0    113776  66.6000    C2        S  \n",
              "\n",
              "[891 rows x 12 columns]"
            ],
            "text/html": [
              "\n",
              "  <div id=\"df-54754c8e-6ab9-46d5-8584-5b0c5129764c\">\n",
              "    <div class=\"colab-df-container\">\n",
              "      <div>\n",
              "<style scoped>\n",
              "    .dataframe tbody tr th:only-of-type {\n",
              "        vertical-align: middle;\n",
              "    }\n",
              "\n",
              "    .dataframe tbody tr th {\n",
              "        vertical-align: top;\n",
              "    }\n",
              "\n",
              "    .dataframe thead th {\n",
              "        text-align: right;\n",
              "    }\n",
              "</style>\n",
              "<table border=\"1\" class=\"dataframe\">\n",
              "  <thead>\n",
              "    <tr style=\"text-align: right;\">\n",
              "      <th></th>\n",
              "      <th>PassengerId</th>\n",
              "      <th>Survived</th>\n",
              "      <th>Pclass</th>\n",
              "      <th>Name</th>\n",
              "      <th>Sex</th>\n",
              "      <th>Age</th>\n",
              "      <th>SibSp</th>\n",
              "      <th>Parch</th>\n",
              "      <th>Ticket</th>\n",
              "      <th>Fare</th>\n",
              "      <th>Cabin</th>\n",
              "      <th>Embarked</th>\n",
              "    </tr>\n",
              "  </thead>\n",
              "  <tbody>\n",
              "    <tr>\n",
              "      <th>0</th>\n",
              "      <td>644</td>\n",
              "      <td>1</td>\n",
              "      <td>3</td>\n",
              "      <td>Foo, Mr. Choong</td>\n",
              "      <td>male</td>\n",
              "      <td>NaN</td>\n",
              "      <td>0</td>\n",
              "      <td>0</td>\n",
              "      <td>1601</td>\n",
              "      <td>56.4958</td>\n",
              "      <td>NaN</td>\n",
              "      <td>S</td>\n",
              "    </tr>\n",
              "    <tr>\n",
              "      <th>1</th>\n",
              "      <td>794</td>\n",
              "      <td>0</td>\n",
              "      <td>1</td>\n",
              "      <td>Hoyt, Mr. William Fisher</td>\n",
              "      <td>male</td>\n",
              "      <td>NaN</td>\n",
              "      <td>0</td>\n",
              "      <td>0</td>\n",
              "      <td>PC 17600</td>\n",
              "      <td>30.6958</td>\n",
              "      <td>NaN</td>\n",
              "      <td>C</td>\n",
              "    </tr>\n",
              "    <tr>\n",
              "      <th>2</th>\n",
              "      <td>175</td>\n",
              "      <td>0</td>\n",
              "      <td>1</td>\n",
              "      <td>Smith, Mr. James Clinch</td>\n",
              "      <td>male</td>\n",
              "      <td>56.0</td>\n",
              "      <td>0</td>\n",
              "      <td>0</td>\n",
              "      <td>17764</td>\n",
              "      <td>30.6958</td>\n",
              "      <td>A7</td>\n",
              "      <td>C</td>\n",
              "    </tr>\n",
              "    <tr>\n",
              "      <th>3</th>\n",
              "      <td>16</td>\n",
              "      <td>1</td>\n",
              "      <td>2</td>\n",
              "      <td>Hewlett, Mrs. (Mary D Kingcome)</td>\n",
              "      <td>female</td>\n",
              "      <td>55.0</td>\n",
              "      <td>0</td>\n",
              "      <td>0</td>\n",
              "      <td>248706</td>\n",
              "      <td>16.0000</td>\n",
              "      <td>NaN</td>\n",
              "      <td>S</td>\n",
              "    </tr>\n",
              "    <tr>\n",
              "      <th>4</th>\n",
              "      <td>792</td>\n",
              "      <td>0</td>\n",
              "      <td>2</td>\n",
              "      <td>Gaskell, Mr. Alfred</td>\n",
              "      <td>male</td>\n",
              "      <td>16.0</td>\n",
              "      <td>0</td>\n",
              "      <td>0</td>\n",
              "      <td>239865</td>\n",
              "      <td>26.0000</td>\n",
              "      <td>NaN</td>\n",
              "      <td>S</td>\n",
              "    </tr>\n",
              "    <tr>\n",
              "      <th>...</th>\n",
              "      <td>...</td>\n",
              "      <td>...</td>\n",
              "      <td>...</td>\n",
              "      <td>...</td>\n",
              "      <td>...</td>\n",
              "      <td>...</td>\n",
              "      <td>...</td>\n",
              "      <td>...</td>\n",
              "      <td>...</td>\n",
              "      <td>...</td>\n",
              "      <td>...</td>\n",
              "      <td>...</td>\n",
              "    </tr>\n",
              "    <tr>\n",
              "      <th>886</th>\n",
              "      <td>168</td>\n",
              "      <td>0</td>\n",
              "      <td>3</td>\n",
              "      <td>Skoog, Mrs. William (Anna Bernhardina Karlsson)</td>\n",
              "      <td>female</td>\n",
              "      <td>45.0</td>\n",
              "      <td>1</td>\n",
              "      <td>4</td>\n",
              "      <td>347088</td>\n",
              "      <td>27.9000</td>\n",
              "      <td>NaN</td>\n",
              "      <td>S</td>\n",
              "    </tr>\n",
              "    <tr>\n",
              "      <th>887</th>\n",
              "      <td>233</td>\n",
              "      <td>0</td>\n",
              "      <td>2</td>\n",
              "      <td>Sjostedt, Mr. Ernst Adolf</td>\n",
              "      <td>male</td>\n",
              "      <td>59.0</td>\n",
              "      <td>0</td>\n",
              "      <td>0</td>\n",
              "      <td>237442</td>\n",
              "      <td>13.5000</td>\n",
              "      <td>NaN</td>\n",
              "      <td>S</td>\n",
              "    </tr>\n",
              "    <tr>\n",
              "      <th>888</th>\n",
              "      <td>861</td>\n",
              "      <td>0</td>\n",
              "      <td>3</td>\n",
              "      <td>Hansen, Mr. Claus Peter</td>\n",
              "      <td>male</td>\n",
              "      <td>41.0</td>\n",
              "      <td>2</td>\n",
              "      <td>0</td>\n",
              "      <td>350026</td>\n",
              "      <td>14.1083</td>\n",
              "      <td>NaN</td>\n",
              "      <td>S</td>\n",
              "    </tr>\n",
              "    <tr>\n",
              "      <th>889</th>\n",
              "      <td>190</td>\n",
              "      <td>0</td>\n",
              "      <td>3</td>\n",
              "      <td>Turcin, Mr. Stjepan</td>\n",
              "      <td>male</td>\n",
              "      <td>36.0</td>\n",
              "      <td>0</td>\n",
              "      <td>0</td>\n",
              "      <td>349247</td>\n",
              "      <td>7.8958</td>\n",
              "      <td>NaN</td>\n",
              "      <td>S</td>\n",
              "    </tr>\n",
              "    <tr>\n",
              "      <th>890</th>\n",
              "      <td>152</td>\n",
              "      <td>1</td>\n",
              "      <td>1</td>\n",
              "      <td>Pears, Mrs. Thomas (Edith Wearne)</td>\n",
              "      <td>female</td>\n",
              "      <td>22.0</td>\n",
              "      <td>1</td>\n",
              "      <td>0</td>\n",
              "      <td>113776</td>\n",
              "      <td>66.6000</td>\n",
              "      <td>C2</td>\n",
              "      <td>S</td>\n",
              "    </tr>\n",
              "  </tbody>\n",
              "</table>\n",
              "<p>891 rows × 12 columns</p>\n",
              "</div>\n",
              "      <button class=\"colab-df-convert\" onclick=\"convertToInteractive('df-54754c8e-6ab9-46d5-8584-5b0c5129764c')\"\n",
              "              title=\"Convert this dataframe to an interactive table.\"\n",
              "              style=\"display:none;\">\n",
              "        \n",
              "  <svg xmlns=\"http://www.w3.org/2000/svg\" height=\"24px\"viewBox=\"0 0 24 24\"\n",
              "       width=\"24px\">\n",
              "    <path d=\"M0 0h24v24H0V0z\" fill=\"none\"/>\n",
              "    <path d=\"M18.56 5.44l.94 2.06.94-2.06 2.06-.94-2.06-.94-.94-2.06-.94 2.06-2.06.94zm-11 1L8.5 8.5l.94-2.06 2.06-.94-2.06-.94L8.5 2.5l-.94 2.06-2.06.94zm10 10l.94 2.06.94-2.06 2.06-.94-2.06-.94-.94-2.06-.94 2.06-2.06.94z\"/><path d=\"M17.41 7.96l-1.37-1.37c-.4-.4-.92-.59-1.43-.59-.52 0-1.04.2-1.43.59L10.3 9.45l-7.72 7.72c-.78.78-.78 2.05 0 2.83L4 21.41c.39.39.9.59 1.41.59.51 0 1.02-.2 1.41-.59l7.78-7.78 2.81-2.81c.8-.78.8-2.07 0-2.86zM5.41 20L4 18.59l7.72-7.72 1.47 1.35L5.41 20z\"/>\n",
              "  </svg>\n",
              "      </button>\n",
              "      \n",
              "  <style>\n",
              "    .colab-df-container {\n",
              "      display:flex;\n",
              "      flex-wrap:wrap;\n",
              "      gap: 12px;\n",
              "    }\n",
              "\n",
              "    .colab-df-convert {\n",
              "      background-color: #E8F0FE;\n",
              "      border: none;\n",
              "      border-radius: 50%;\n",
              "      cursor: pointer;\n",
              "      display: none;\n",
              "      fill: #1967D2;\n",
              "      height: 32px;\n",
              "      padding: 0 0 0 0;\n",
              "      width: 32px;\n",
              "    }\n",
              "\n",
              "    .colab-df-convert:hover {\n",
              "      background-color: #E2EBFA;\n",
              "      box-shadow: 0px 1px 2px rgba(60, 64, 67, 0.3), 0px 1px 3px 1px rgba(60, 64, 67, 0.15);\n",
              "      fill: #174EA6;\n",
              "    }\n",
              "\n",
              "    [theme=dark] .colab-df-convert {\n",
              "      background-color: #3B4455;\n",
              "      fill: #D2E3FC;\n",
              "    }\n",
              "\n",
              "    [theme=dark] .colab-df-convert:hover {\n",
              "      background-color: #434B5C;\n",
              "      box-shadow: 0px 1px 3px 1px rgba(0, 0, 0, 0.15);\n",
              "      filter: drop-shadow(0px 1px 2px rgba(0, 0, 0, 0.3));\n",
              "      fill: #FFFFFF;\n",
              "    }\n",
              "  </style>\n",
              "\n",
              "      <script>\n",
              "        const buttonEl =\n",
              "          document.querySelector('#df-54754c8e-6ab9-46d5-8584-5b0c5129764c button.colab-df-convert');\n",
              "        buttonEl.style.display =\n",
              "          google.colab.kernel.accessAllowed ? 'block' : 'none';\n",
              "\n",
              "        async function convertToInteractive(key) {\n",
              "          const element = document.querySelector('#df-54754c8e-6ab9-46d5-8584-5b0c5129764c');\n",
              "          const dataTable =\n",
              "            await google.colab.kernel.invokeFunction('convertToInteractive',\n",
              "                                                     [key], {});\n",
              "          if (!dataTable) return;\n",
              "\n",
              "          const docLinkHtml = 'Like what you see? Visit the ' +\n",
              "            '<a target=\"_blank\" href=https://colab.research.google.com/notebooks/data_table.ipynb>data table notebook</a>'\n",
              "            + ' to learn more about interactive tables.';\n",
              "          element.innerHTML = '';\n",
              "          dataTable['output_type'] = 'display_data';\n",
              "          await google.colab.output.renderOutput(dataTable, element);\n",
              "          const docLink = document.createElement('div');\n",
              "          docLink.innerHTML = docLinkHtml;\n",
              "          element.appendChild(docLink);\n",
              "        }\n",
              "      </script>\n",
              "    </div>\n",
              "  </div>\n",
              "  "
            ]
          },
          "metadata": {},
          "execution_count": 10
        }
      ]
    },
    {
      "cell_type": "code",
      "source": [
        "columns = data_train.columns\n",
        "columns"
      ],
      "metadata": {
        "id": "vkj5GhUQB2gh",
        "outputId": "334e8235-f0d7-439c-de65-ca504e657ab6",
        "colab": {
          "base_uri": "https://localhost:8080/"
        }
      },
      "execution_count": 11,
      "outputs": [
        {
          "output_type": "execute_result",
          "data": {
            "text/plain": [
              "Index(['PassengerId', 'Survived', 'Pclass', 'Name', 'Sex', 'Age', 'SibSp',\n",
              "       'Parch', 'Ticket', 'Fare', 'Cabin', 'Embarked'],\n",
              "      dtype='object')"
            ]
          },
          "metadata": {},
          "execution_count": 11
        }
      ]
    },
    {
      "cell_type": "markdown",
      "source": [
        "## *Methods*"
      ],
      "metadata": {
        "id": "rlI8GPLbB9AX"
      }
    },
    {
      "cell_type": "code",
      "source": [
        "def get_categories(X, column_name, keep_null=False):\n",
        "  categories = X[column].unique()\n",
        "  if keep_null==False:\n",
        "    categories = categories[~pd.isnull(categories)]\n",
        "  return categories"
      ],
      "metadata": {
        "id": "_o0gFwJrB6WT"
      },
      "execution_count": 12,
      "outputs": []
    },
    {
      "cell_type": "code",
      "source": [
        "def one_hot_encoder(X, column_name, categories, others=False):\n",
        "  for element in categories:\n",
        "    X[column_name + '_' + str(element)] = 0.0\n",
        "\n",
        "  if others != False:\n",
        "    other_name = column_name + '_' + 'other'\n",
        "    X[other_name] = 0.0\n",
        "\n",
        "  for i in range(len(X[column_name])):\n",
        "    if X[column_name][i] in categories:\n",
        "      X[column_name + '_' + str(X[column_name][i])][i] = 1.0\n",
        "    elif others != False:\n",
        "      X[other_name][i] = 1.0\n",
        "  X.pop(column_name)"
      ],
      "metadata": {
        "id": "e9iv-VcVCBBA"
      },
      "execution_count": 13,
      "outputs": []
    },
    {
      "cell_type": "markdown",
      "source": [
        "## *Survived*"
      ],
      "metadata": {
        "id": "k2QNccULBufd"
      }
    },
    {
      "cell_type": "code",
      "source": [
        "column = \"Survived\""
      ],
      "metadata": {
        "id": "IADjdkNWBwZt"
      },
      "execution_count": 14,
      "outputs": []
    },
    {
      "cell_type": "code",
      "source": [
        "#@markdown # Barplot\n",
        "data_train[column].value_counts().plot(kind=\"bar\")"
      ],
      "metadata": {
        "cellView": "form",
        "id": "2oK8YBoTCJpF",
        "outputId": "60821b7f-67dc-4014-e43f-94c1199f12b6",
        "colab": {
          "base_uri": "https://localhost:8080/",
          "height": 0
        }
      },
      "execution_count": 15,
      "outputs": [
        {
          "output_type": "execute_result",
          "data": {
            "text/plain": [
              "<matplotlib.axes._subplots.AxesSubplot at 0x7f553a7ecf10>"
            ]
          },
          "metadata": {},
          "execution_count": 15
        },
        {
          "output_type": "display_data",
          "data": {
            "text/plain": [
              "<Figure size 432x288 with 1 Axes>"
            ],
            "image/png": "[encoded data removed]"
          },
          "metadata": {
            "needs_background": "light"
          }
        }
      ]
    },
    {
      "cell_type": "code",
      "source": [
        "#@markdown # Catplot\n",
        "sns.catplot(x=column, y=column, data=data_train)"
      ],
      "metadata": {
        "cellView": "form",
        "id": "C8Aw3nRDCKJH",
        "outputId": "485e71be-2144-4b50-e999-8cdc7bd19024",
        "colab": {
          "base_uri": "https://localhost:8080/",
          "height": 0
        }
      },
      "execution_count": 16,
      "outputs": [
        {
          "output_type": "execute_result",
          "data": {
            "text/plain": [
              "<seaborn.axisgrid.FacetGrid at 0x7f553e591110>"
            ]
          },
          "metadata": {},
          "execution_count": 16
        },
        {
          "output_type": "display_data",
          "data": {
            "text/plain": [
              "<Figure size 360x360 with 1 Axes>"
            ],
            "image/png": "[encoded data removed]"
          },
          "metadata": {
            "needs_background": "light"
          }
        }
      ]
    },
    {
      "cell_type": "markdown",
      "source": [
        "## *Pclass*"
      ],
      "metadata": {
        "id": "gk0MbI0rlWDM"
      }
    },
    {
      "cell_type": "code",
      "source": [
        "column = \"Pclass\""
      ],
      "metadata": {
        "id": "KkmzIIQxlWDM"
      },
      "execution_count": 17,
      "outputs": []
    },
    {
      "cell_type": "code",
      "source": [
        "#@markdown # Barplot\n",
        "data_train[column].value_counts().plot(kind=\"bar\")"
      ],
      "metadata": {
        "cellView": "form",
        "outputId": "66241942-5273-47e1-b66e-2ad2d7da4172",
        "colab": {
          "base_uri": "https://localhost:8080/",
          "height": 0
        },
        "id": "oqo3ekexlWDM"
      },
      "execution_count": 18,
      "outputs": [
        {
          "output_type": "execute_result",
          "data": {
            "text/plain": [
              "<matplotlib.axes._subplots.AxesSubplot at 0x7f553a70d290>"
            ]
          },
          "metadata": {},
          "execution_count": 18
        },
        {
          "output_type": "display_data",
          "data": {
            "text/plain": [
              "<Figure size 432x288 with 1 Axes>"
            ],
            "image/png": "[encoded data removed]"
          },
          "metadata": {
            "needs_background": "light"
          }
        }
      ]
    },
    {
      "cell_type": "code",
      "source": [
        "#@markdown # Catplot\n",
        "sns.catplot(x=column, y=column, data=data_train)"
      ],
      "metadata": {
        "cellView": "form",
        "outputId": "e948b285-129a-4f7a-d879-bf44b769a453",
        "colab": {
          "base_uri": "https://localhost:8080/",
          "height": 0
        },
        "id": "xVupSHkLlWDN"
      },
      "execution_count": 19,
      "outputs": [
        {
          "output_type": "execute_result",
          "data": {
            "text/plain": [
              "<seaborn.axisgrid.FacetGrid at 0x7f553a676790>"
            ]
          },
          "metadata": {},
          "execution_count": 19
        },
        {
          "output_type": "display_data",
          "data": {
            "text/plain": [
              "<Figure size 360x360 with 1 Axes>"
            ],
            "image/png": "[encoded data removed]"
          },
          "metadata": {
            "needs_background": "light"
          }
        }
      ]
    },
    {
      "cell_type": "code",
      "source": [
        "categories = get_categories(data_train, column, keep_null=True)\n",
        "categories"
      ],
      "metadata": {
        "outputId": "980a1524-2b87-4415-fa44-40935a09ec6d",
        "colab": {
          "base_uri": "https://localhost:8080/"
        },
        "id": "OqVL09lGlWDN"
      },
      "execution_count": 20,
      "outputs": [
        {
          "output_type": "execute_result",
          "data": {
            "text/plain": [
              "array([3, 1, 2])"
            ]
          },
          "metadata": {},
          "execution_count": 20
        }
      ]
    },
    {
      "cell_type": "code",
      "source": [
        "one_hot_encoder(data_train, column, categories)\n",
        "one_hot_encoder(data_predict, column, categories)\n",
        "data_train"
      ],
      "metadata": {
        "outputId": "ab335c32-7ec9-4cd5-d972-ce62e76c00bb",
        "colab": {
          "base_uri": "https://localhost:8080/",
          "height": 0
        },
        "id": "tj6cO4QmlWDN"
      },
      "execution_count": 21,
      "outputs": [
        {
          "output_type": "stream",
          "name": "stderr",
          "text": [
            "/usr/local/lib/python3.7/dist-packages/ipykernel_launcher.py:11: SettingWithCopyWarning: \n",
            "A value is trying to be set on a copy of a slice from a DataFrame\n",
            "\n",
            "See the caveats in the documentation: https://pandas.pydata.org/pandas-docs/stable/user_guide/indexing.html#returning-a-view-versus-a-copy\n",
            "  # This is added back by InteractiveShellApp.init_path()\n"
          ]
        },
        {
          "output_type": "execute_result",
          "data": {
            "text/plain": [
              "     PassengerId  Survived                                             Name  \\\n",
              "0            644         1                                  Foo, Mr. Choong   \n",
              "1            794         0                         Hoyt, Mr. William Fisher   \n",
              "2            175         0                          Smith, Mr. James Clinch   \n",
              "3             16         1                 Hewlett, Mrs. (Mary D Kingcome)    \n",
              "4            792         0                              Gaskell, Mr. Alfred   \n",
              "..           ...       ...                                              ...   \n",
              "886          168         0  Skoog, Mrs. William (Anna Bernhardina Karlsson)   \n",
              "887          233         0                        Sjostedt, Mr. Ernst Adolf   \n",
              "888          861         0                          Hansen, Mr. Claus Peter   \n",
              "889          190         0                              Turcin, Mr. Stjepan   \n",
              "890          152         1                Pears, Mrs. Thomas (Edith Wearne)   \n",
              "\n",
              "        Sex   Age  SibSp  Parch    Ticket     Fare Cabin Embarked  Pclass_3  \\\n",
              "0      male   NaN      0      0      1601  56.4958   NaN        S       1.0   \n",
              "1      male   NaN      0      0  PC 17600  30.6958   NaN        C       0.0   \n",
              "2      male  56.0      0      0     17764  30.6958    A7        C       0.0   \n",
              "3    female  55.0      0      0    248706  16.0000   NaN        S       0.0   \n",
              "4      male  16.0      0      0    239865  26.0000   NaN        S       0.0   \n",
              "..      ...   ...    ...    ...       ...      ...   ...      ...       ...   \n",
              "886  female  45.0      1      4    347088  27.9000   NaN        S       1.0   \n",
              "887    male  59.0      0      0    237442  13.5000   NaN        S       0.0   \n",
              "888    male  41.0      2      0    350026  14.1083   NaN        S       1.0   \n",
              "889    male  36.0      0      0    349247   7.8958   NaN        S       1.0   \n",
              "890  female  22.0      1      0    113776  66.6000    C2        S       0.0   \n",
              "\n",
              "     Pclass_1  Pclass_2  \n",
              "0         0.0       0.0  \n",
              "1         1.0       0.0  \n",
              "2         1.0       0.0  \n",
              "3         0.0       1.0  \n",
              "4         0.0       1.0  \n",
              "..        ...       ...  \n",
              "886       0.0       0.0  \n",
              "887       0.0       1.0  \n",
              "888       0.0       0.0  \n",
              "889       0.0       0.0  \n",
              "890       1.0       0.0  \n",
              "\n",
              "[891 rows x 14 columns]"
            ],
            "text/html": [
              "\n",
              "  <div id=\"df-375e942f-d454-446d-84b9-232896d36a29\">\n",
              "    <div class=\"colab-df-container\">\n",
              "      <div>\n",
              "<style scoped>\n",
              "    .dataframe tbody tr th:only-of-type {\n",
              "        vertical-align: middle;\n",
              "    }\n",
              "\n",
              "    .dataframe tbody tr th {\n",
              "        vertical-align: top;\n",
              "    }\n",
              "\n",
              "    .dataframe thead th {\n",
              "        text-align: right;\n",
              "    }\n",
              "</style>\n",
              "<table border=\"1\" class=\"dataframe\">\n",
              "  <thead>\n",
              "    <tr style=\"text-align: right;\">\n",
              "      <th></th>\n",
              "      <th>PassengerId</th>\n",
              "      <th>Survived</th>\n",
              "      <th>Name</th>\n",
              "      <th>Sex</th>\n",
              "      <th>Age</th>\n",
              "      <th>SibSp</th>\n",
              "      <th>Parch</th>\n",
              "      <th>Ticket</th>\n",
              "      <th>Fare</th>\n",
              "      <th>Cabin</th>\n",
              "      <th>Embarked</th>\n",
              "      <th>Pclass_3</th>\n",
              "      <th>Pclass_1</th>\n",
              "      <th>Pclass_2</th>\n",
              "    </tr>\n",
              "  </thead>\n",
              "  <tbody>\n",
              "    <tr>\n",
              "      <th>0</th>\n",
              "      <td>644</td>\n",
              "      <td>1</td>\n",
              "      <td>Foo, Mr. Choong</td>\n",
              "      <td>male</td>\n",
              "      <td>NaN</td>\n",
              "      <td>0</td>\n",
              "      <td>0</td>\n",
              "      <td>1601</td>\n",
              "      <td>56.4958</td>\n",
              "      <td>NaN</td>\n",
              "      <td>S</td>\n",
              "      <td>1.0</td>\n",
              "      <td>0.0</td>\n",
              "      <td>0.0</td>\n",
              "    </tr>\n",
              "    <tr>\n",
              "      <th>1</th>\n",
              "      <td>794</td>\n",
              "      <td>0</td>\n",
              "      <td>Hoyt, Mr. William Fisher</td>\n",
              "      <td>male</td>\n",
              "      <td>NaN</td>\n",
              "      <td>0</td>\n",
              "      <td>0</td>\n",
              "      <td>PC 17600</td>\n",
              "      <td>30.6958</td>\n",
              "      <td>NaN</td>\n",
              "      <td>C</td>\n",
              "      <td>0.0</td>\n",
              "      <td>1.0</td>\n",
              "      <td>0.0</td>\n",
              "    </tr>\n",
              "    <tr>\n",
              "      <th>2</th>\n",
              "      <td>175</td>\n",
              "      <td>0</td>\n",
              "      <td>Smith, Mr. James Clinch</td>\n",
              "      <td>male</td>\n",
              "      <td>56.0</td>\n",
              "      <td>0</td>\n",
              "      <td>0</td>\n",
              "      <td>17764</td>\n",
              "      <td>30.6958</td>\n",
              "      <td>A7</td>\n",
              "      <td>C</td>\n",
              "      <td>0.0</td>\n",
              "      <td>1.0</td>\n",
              "      <td>0.0</td>\n",
              "    </tr>\n",
              "    <tr>\n",
              "      <th>3</th>\n",
              "      <td>16</td>\n",
              "      <td>1</td>\n",
              "      <td>Hewlett, Mrs. (Mary D Kingcome)</td>\n",
              "      <td>female</td>\n",
              "      <td>55.0</td>\n",
              "      <td>0</td>\n",
              "      <td>0</td>\n",
              "      <td>248706</td>\n",
              "      <td>16.0000</td>\n",
              "      <td>NaN</td>\n",
              "      <td>S</td>\n",
              "      <td>0.0</td>\n",
              "      <td>0.0</td>\n",
              "      <td>1.0</td>\n",
              "    </tr>\n",
              "    <tr>\n",
              "      <th>4</th>\n",
              "      <td>792</td>\n",
              "      <td>0</td>\n",
              "      <td>Gaskell, Mr. Alfred</td>\n",
              "      <td>male</td>\n",
              "      <td>16.0</td>\n",
              "      <td>0</td>\n",
              "      <td>0</td>\n",
              "      <td>239865</td>\n",
              "      <td>26.0000</td>\n",
              "      <td>NaN</td>\n",
              "      <td>S</td>\n",
              "      <td>0.0</td>\n",
              "      <td>0.0</td>\n",
              "      <td>1.0</td>\n",
              "    </tr>\n",
              "    <tr>\n",
              "      <th>...</th>\n",
              "      <td>...</td>\n",
              "      <td>...</td>\n",
              "      <td>...</td>\n",
              "      <td>...</td>\n",
              "      <td>...</td>\n",
              "      <td>...</td>\n",
              "      <td>...</td>\n",
              "      <td>...</td>\n",
              "      <td>...</td>\n",
              "      <td>...</td>\n",
              "      <td>...</td>\n",
              "      <td>...</td>\n",
              "      <td>...</td>\n",
              "      <td>...</td>\n",
              "    </tr>\n",
              "    <tr>\n",
              "      <th>886</th>\n",
              "      <td>168</td>\n",
              "      <td>0</td>\n",
              "      <td>Skoog, Mrs. William (Anna Bernhardina Karlsson)</td>\n",
              "      <td>female</td>\n",
              "      <td>45.0</td>\n",
              "      <td>1</td>\n",
              "      <td>4</td>\n",
              "      <td>347088</td>\n",
              "      <td>27.9000</td>\n",
              "      <td>NaN</td>\n",
              "      <td>S</td>\n",
              "      <td>1.0</td>\n",
              "      <td>0.0</td>\n",
              "      <td>0.0</td>\n",
              "    </tr>\n",
              "    <tr>\n",
              "      <th>887</th>\n",
              "      <td>233</td>\n",
              "      <td>0</td>\n",
              "      <td>Sjostedt, Mr. Ernst Adolf</td>\n",
              "      <td>male</td>\n",
              "      <td>59.0</td>\n",
              "      <td>0</td>\n",
              "      <td>0</td>\n",
              "      <td>237442</td>\n",
              "      <td>13.5000</td>\n",
              "      <td>NaN</td>\n",
              "      <td>S</td>\n",
              "      <td>0.0</td>\n",
              "      <td>0.0</td>\n",
              "      <td>1.0</td>\n",
              "    </tr>\n",
              "    <tr>\n",
              "      <th>888</th>\n",
              "      <td>861</td>\n",
              "      <td>0</td>\n",
              "      <td>Hansen, Mr. Claus Peter</td>\n",
              "      <td>male</td>\n",
              "      <td>41.0</td>\n",
              "      <td>2</td>\n",
              "      <td>0</td>\n",
              "      <td>350026</td>\n",
              "      <td>14.1083</td>\n",
              "      <td>NaN</td>\n",
              "      <td>S</td>\n",
              "      <td>1.0</td>\n",
              "      <td>0.0</td>\n",
              "      <td>0.0</td>\n",
              "    </tr>\n",
              "    <tr>\n",
              "      <th>889</th>\n",
              "      <td>190</td>\n",
              "      <td>0</td>\n",
              "      <td>Turcin, Mr. Stjepan</td>\n",
              "      <td>male</td>\n",
              "      <td>36.0</td>\n",
              "      <td>0</td>\n",
              "      <td>0</td>\n",
              "      <td>349247</td>\n",
              "      <td>7.8958</td>\n",
              "      <td>NaN</td>\n",
              "      <td>S</td>\n",
              "      <td>1.0</td>\n",
              "      <td>0.0</td>\n",
              "      <td>0.0</td>\n",
              "    </tr>\n",
              "    <tr>\n",
              "      <th>890</th>\n",
              "      <td>152</td>\n",
              "      <td>1</td>\n",
              "      <td>Pears, Mrs. Thomas (Edith Wearne)</td>\n",
              "      <td>female</td>\n",
              "      <td>22.0</td>\n",
              "      <td>1</td>\n",
              "      <td>0</td>\n",
              "      <td>113776</td>\n",
              "      <td>66.6000</td>\n",
              "      <td>C2</td>\n",
              "      <td>S</td>\n",
              "      <td>0.0</td>\n",
              "      <td>1.0</td>\n",
              "      <td>0.0</td>\n",
              "    </tr>\n",
              "  </tbody>\n",
              "</table>\n",
              "<p>891 rows × 14 columns</p>\n",
              "</div>\n",
              "      <button class=\"colab-df-convert\" onclick=\"convertToInteractive('df-375e942f-d454-446d-84b9-232896d36a29')\"\n",
              "              title=\"Convert this dataframe to an interactive table.\"\n",
              "              style=\"display:none;\">\n",
              "        \n",
              "  <svg xmlns=\"http://www.w3.org/2000/svg\" height=\"24px\"viewBox=\"0 0 24 24\"\n",
              "       width=\"24px\">\n",
              "    <path d=\"M0 0h24v24H0V0z\" fill=\"none\"/>\n",
              "    <path d=\"M18.56 5.44l.94 2.06.94-2.06 2.06-.94-2.06-.94-.94-2.06-.94 2.06-2.06.94zm-11 1L8.5 8.5l.94-2.06 2.06-.94-2.06-.94L8.5 2.5l-.94 2.06-2.06.94zm10 10l.94 2.06.94-2.06 2.06-.94-2.06-.94-.94-2.06-.94 2.06-2.06.94z\"/><path d=\"M17.41 7.96l-1.37-1.37c-.4-.4-.92-.59-1.43-.59-.52 0-1.04.2-1.43.59L10.3 9.45l-7.72 7.72c-.78.78-.78 2.05 0 2.83L4 21.41c.39.39.9.59 1.41.59.51 0 1.02-.2 1.41-.59l7.78-7.78 2.81-2.81c.8-.78.8-2.07 0-2.86zM5.41 20L4 18.59l7.72-7.72 1.47 1.35L5.41 20z\"/>\n",
              "  </svg>\n",
              "      </button>\n",
              "      \n",
              "  <style>\n",
              "    .colab-df-container {\n",
              "      display:flex;\n",
              "      flex-wrap:wrap;\n",
              "      gap: 12px;\n",
              "    }\n",
              "\n",
              "    .colab-df-convert {\n",
              "      background-color: #E8F0FE;\n",
              "      border: none;\n",
              "      border-radius: 50%;\n",
              "      cursor: pointer;\n",
              "      display: none;\n",
              "      fill: #1967D2;\n",
              "      height: 32px;\n",
              "      padding: 0 0 0 0;\n",
              "      width: 32px;\n",
              "    }\n",
              "\n",
              "    .colab-df-convert:hover {\n",
              "      background-color: #E2EBFA;\n",
              "      box-shadow: 0px 1px 2px rgba(60, 64, 67, 0.3), 0px 1px 3px 1px rgba(60, 64, 67, 0.15);\n",
              "      fill: #174EA6;\n",
              "    }\n",
              "\n",
              "    [theme=dark] .colab-df-convert {\n",
              "      background-color: #3B4455;\n",
              "      fill: #D2E3FC;\n",
              "    }\n",
              "\n",
              "    [theme=dark] .colab-df-convert:hover {\n",
              "      background-color: #434B5C;\n",
              "      box-shadow: 0px 1px 3px 1px rgba(0, 0, 0, 0.15);\n",
              "      filter: drop-shadow(0px 1px 2px rgba(0, 0, 0, 0.3));\n",
              "      fill: #FFFFFF;\n",
              "    }\n",
              "  </style>\n",
              "\n",
              "      <script>\n",
              "        const buttonEl =\n",
              "          document.querySelector('#df-375e942f-d454-446d-84b9-232896d36a29 button.colab-df-convert');\n",
              "        buttonEl.style.display =\n",
              "          google.colab.kernel.accessAllowed ? 'block' : 'none';\n",
              "\n",
              "        async function convertToInteractive(key) {\n",
              "          const element = document.querySelector('#df-375e942f-d454-446d-84b9-232896d36a29');\n",
              "          const dataTable =\n",
              "            await google.colab.kernel.invokeFunction('convertToInteractive',\n",
              "                                                     [key], {});\n",
              "          if (!dataTable) return;\n",
              "\n",
              "          const docLinkHtml = 'Like what you see? Visit the ' +\n",
              "            '<a target=\"_blank\" href=https://colab.research.google.com/notebooks/data_table.ipynb>data table notebook</a>'\n",
              "            + ' to learn more about interactive tables.';\n",
              "          element.innerHTML = '';\n",
              "          dataTable['output_type'] = 'display_data';\n",
              "          await google.colab.output.renderOutput(dataTable, element);\n",
              "          const docLink = document.createElement('div');\n",
              "          docLink.innerHTML = docLinkHtml;\n",
              "          element.appendChild(docLink);\n",
              "        }\n",
              "      </script>\n",
              "    </div>\n",
              "  </div>\n",
              "  "
            ]
          },
          "metadata": {},
          "execution_count": 21
        }
      ]
    },
    {
      "cell_type": "markdown",
      "source": [
        "## *Sex*"
      ],
      "metadata": {
        "id": "gR9kJjZrlPk6"
      }
    },
    {
      "cell_type": "code",
      "source": [
        "column = \"Sex\""
      ],
      "metadata": {
        "id": "Wk68z8P2lPk7"
      },
      "execution_count": 22,
      "outputs": []
    },
    {
      "cell_type": "code",
      "source": [
        "#@markdown # Barplot\n",
        "data_train[column].value_counts().plot(kind=\"bar\")"
      ],
      "metadata": {
        "cellView": "form",
        "outputId": "9b581a0c-6707-479e-f0bf-6365d54d1600",
        "colab": {
          "base_uri": "https://localhost:8080/",
          "height": 0
        },
        "id": "Xa7l84lSlPk7"
      },
      "execution_count": 23,
      "outputs": [
        {
          "output_type": "execute_result",
          "data": {
            "text/plain": [
              "<matplotlib.axes._subplots.AxesSubplot at 0x7f553a5f5990>"
            ]
          },
          "metadata": {},
          "execution_count": 23
        },
        {
          "output_type": "display_data",
          "data": {
            "text/plain": [
              "<Figure size 432x288 with 1 Axes>"
            ],
            "image/png": "[encoded data removed]"
          },
          "metadata": {
            "needs_background": "light"
          }
        }
      ]
    },
    {
      "cell_type": "code",
      "source": [
        "#@markdown # Catplot\n",
        "sns.catplot(x=column, y=column, data=data_train)"
      ],
      "metadata": {
        "cellView": "form",
        "outputId": "e026cac5-2ccf-4c94-be09-1b16500d8953",
        "colab": {
          "base_uri": "https://localhost:8080/",
          "height": 0
        },
        "id": "or7wIr0olPk_"
      },
      "execution_count": 24,
      "outputs": [
        {
          "output_type": "execute_result",
          "data": {
            "text/plain": [
              "<seaborn.axisgrid.FacetGrid at 0x7f553a5726d0>"
            ]
          },
          "metadata": {},
          "execution_count": 24
        },
        {
          "output_type": "display_data",
          "data": {
            "text/plain": [
              "<Figure size 360x360 with 1 Axes>"
            ],
            "image/png": "[encoded data removed]"
          },
          "metadata": {
            "needs_background": "light"
          }
        }
      ]
    },
    {
      "cell_type": "code",
      "source": [
        "categories = get_categories(data_train, column, keep_null=True)\n",
        "categories"
      ],
      "metadata": {
        "outputId": "db3cca11-f14f-4a19-bcbc-d88c7dd1fac5",
        "colab": {
          "base_uri": "https://localhost:8080/"
        },
        "id": "_t8EAWSDlPlA"
      },
      "execution_count": 25,
      "outputs": [
        {
          "output_type": "execute_result",
          "data": {
            "text/plain": [
              "array(['male', 'female'], dtype=object)"
            ]
          },
          "metadata": {},
          "execution_count": 25
        }
      ]
    },
    {
      "cell_type": "code",
      "source": [
        "one_hot_encoder(data_train, column, categories)\n",
        "one_hot_encoder(data_predict, column, categories)\n",
        "data_train"
      ],
      "metadata": {
        "outputId": "89ee69ad-7c8d-47f1-fd35-61ed763f5a0e",
        "colab": {
          "base_uri": "https://localhost:8080/",
          "height": 0
        },
        "id": "l7pQygBLlPlA"
      },
      "execution_count": 26,
      "outputs": [
        {
          "output_type": "stream",
          "name": "stderr",
          "text": [
            "/usr/local/lib/python3.7/dist-packages/ipykernel_launcher.py:11: SettingWithCopyWarning: \n",
            "A value is trying to be set on a copy of a slice from a DataFrame\n",
            "\n",
            "See the caveats in the documentation: https://pandas.pydata.org/pandas-docs/stable/user_guide/indexing.html#returning-a-view-versus-a-copy\n",
            "  # This is added back by InteractiveShellApp.init_path()\n"
          ]
        },
        {
          "output_type": "execute_result",
          "data": {
            "text/plain": [
              "     PassengerId  Survived                                             Name  \\\n",
              "0            644         1                                  Foo, Mr. Choong   \n",
              "1            794         0                         Hoyt, Mr. William Fisher   \n",
              "2            175         0                          Smith, Mr. James Clinch   \n",
              "3             16         1                 Hewlett, Mrs. (Mary D Kingcome)    \n",
              "4            792         0                              Gaskell, Mr. Alfred   \n",
              "..           ...       ...                                              ...   \n",
              "886          168         0  Skoog, Mrs. William (Anna Bernhardina Karlsson)   \n",
              "887          233         0                        Sjostedt, Mr. Ernst Adolf   \n",
              "888          861         0                          Hansen, Mr. Claus Peter   \n",
              "889          190         0                              Turcin, Mr. Stjepan   \n",
              "890          152         1                Pears, Mrs. Thomas (Edith Wearne)   \n",
              "\n",
              "      Age  SibSp  Parch    Ticket     Fare Cabin Embarked  Pclass_3  Pclass_1  \\\n",
              "0     NaN      0      0      1601  56.4958   NaN        S       1.0       0.0   \n",
              "1     NaN      0      0  PC 17600  30.6958   NaN        C       0.0       1.0   \n",
              "2    56.0      0      0     17764  30.6958    A7        C       0.0       1.0   \n",
              "3    55.0      0      0    248706  16.0000   NaN        S       0.0       0.0   \n",
              "4    16.0      0      0    239865  26.0000   NaN        S       0.0       0.0   \n",
              "..    ...    ...    ...       ...      ...   ...      ...       ...       ...   \n",
              "886  45.0      1      4    347088  27.9000   NaN        S       1.0       0.0   \n",
              "887  59.0      0      0    237442  13.5000   NaN        S       0.0       0.0   \n",
              "888  41.0      2      0    350026  14.1083   NaN        S       1.0       0.0   \n",
              "889  36.0      0      0    349247   7.8958   NaN        S       1.0       0.0   \n",
              "890  22.0      1      0    113776  66.6000    C2        S       0.0       1.0   \n",
              "\n",
              "     Pclass_2  Sex_male  Sex_female  \n",
              "0         0.0       1.0         0.0  \n",
              "1         0.0       1.0         0.0  \n",
              "2         0.0       1.0         0.0  \n",
              "3         1.0       0.0         1.0  \n",
              "4         1.0       1.0         0.0  \n",
              "..        ...       ...         ...  \n",
              "886       0.0       0.0         1.0  \n",
              "887       1.0       1.0         0.0  \n",
              "888       0.0       1.0         0.0  \n",
              "889       0.0       1.0         0.0  \n",
              "890       0.0       0.0         1.0  \n",
              "\n",
              "[891 rows x 15 columns]"
            ],
            "text/html": [
              "\n",
              "  <div id=\"df-37c15ec1-edb0-470b-9c00-549d255d464b\">\n",
              "    <div class=\"colab-df-container\">\n",
              "      <div>\n",
              "<style scoped>\n",
              "    .dataframe tbody tr th:only-of-type {\n",
              "        vertical-align: middle;\n",
              "    }\n",
              "\n",
              "    .dataframe tbody tr th {\n",
              "        vertical-align: top;\n",
              "    }\n",
              "\n",
              "    .dataframe thead th {\n",
              "        text-align: right;\n",
              "    }\n",
              "</style>\n",
              "<table border=\"1\" class=\"dataframe\">\n",
              "  <thead>\n",
              "    <tr style=\"text-align: right;\">\n",
              "      <th></th>\n",
              "      <th>PassengerId</th>\n",
              "      <th>Survived</th>\n",
              "      <th>Name</th>\n",
              "      <th>Age</th>\n",
              "      <th>SibSp</th>\n",
              "      <th>Parch</th>\n",
              "      <th>Ticket</th>\n",
              "      <th>Fare</th>\n",
              "      <th>Cabin</th>\n",
              "      <th>Embarked</th>\n",
              "      <th>Pclass_3</th>\n",
              "      <th>Pclass_1</th>\n",
              "      <th>Pclass_2</th>\n",
              "      <th>Sex_male</th>\n",
              "      <th>Sex_female</th>\n",
              "    </tr>\n",
              "  </thead>\n",
              "  <tbody>\n",
              "    <tr>\n",
              "      <th>0</th>\n",
              "      <td>644</td>\n",
              "      <td>1</td>\n",
              "      <td>Foo, Mr. Choong</td>\n",
              "      <td>NaN</td>\n",
              "      <td>0</td>\n",
              "      <td>0</td>\n",
              "      <td>1601</td>\n",
              "      <td>56.4958</td>\n",
              "      <td>NaN</td>\n",
              "      <td>S</td>\n",
              "      <td>1.0</td>\n",
              "      <td>0.0</td>\n",
              "      <td>0.0</td>\n",
              "      <td>1.0</td>\n",
              "      <td>0.0</td>\n",
              "    </tr>\n",
              "    <tr>\n",
              "      <th>1</th>\n",
              "      <td>794</td>\n",
              "      <td>0</td>\n",
              "      <td>Hoyt, Mr. William Fisher</td>\n",
              "      <td>NaN</td>\n",
              "      <td>0</td>\n",
              "      <td>0</td>\n",
              "      <td>PC 17600</td>\n",
              "      <td>30.6958</td>\n",
              "      <td>NaN</td>\n",
              "      <td>C</td>\n",
              "      <td>0.0</td>\n",
              "      <td>1.0</td>\n",
              "      <td>0.0</td>\n",
              "      <td>1.0</td>\n",
              "      <td>0.0</td>\n",
              "    </tr>\n",
              "    <tr>\n",
              "      <th>2</th>\n",
              "      <td>175</td>\n",
              "      <td>0</td>\n",
              "      <td>Smith, Mr. James Clinch</td>\n",
              "      <td>56.0</td>\n",
              "      <td>0</td>\n",
              "      <td>0</td>\n",
              "      <td>17764</td>\n",
              "      <td>30.6958</td>\n",
              "      <td>A7</td>\n",
              "      <td>C</td>\n",
              "      <td>0.0</td>\n",
              "      <td>1.0</td>\n",
              "      <td>0.0</td>\n",
              "      <td>1.0</td>\n",
              "      <td>0.0</td>\n",
              "    </tr>\n",
              "    <tr>\n",
              "      <th>3</th>\n",
              "      <td>16</td>\n",
              "      <td>1</td>\n",
              "      <td>Hewlett, Mrs. (Mary D Kingcome)</td>\n",
              "      <td>55.0</td>\n",
              "      <td>0</td>\n",
              "      <td>0</td>\n",
              "      <td>248706</td>\n",
              "      <td>16.0000</td>\n",
              "      <td>NaN</td>\n",
              "      <td>S</td>\n",
              "      <td>0.0</td>\n",
              "      <td>0.0</td>\n",
              "      <td>1.0</td>\n",
              "      <td>0.0</td>\n",
              "      <td>1.0</td>\n",
              "    </tr>\n",
              "    <tr>\n",
              "      <th>4</th>\n",
              "      <td>792</td>\n",
              "      <td>0</td>\n",
              "      <td>Gaskell, Mr. Alfred</td>\n",
              "      <td>16.0</td>\n",
              "      <td>0</td>\n",
              "      <td>0</td>\n",
              "      <td>239865</td>\n",
              "      <td>26.0000</td>\n",
              "      <td>NaN</td>\n",
              "      <td>S</td>\n",
              "      <td>0.0</td>\n",
              "      <td>0.0</td>\n",
              "      <td>1.0</td>\n",
              "      <td>1.0</td>\n",
              "      <td>0.0</td>\n",
              "    </tr>\n",
              "    <tr>\n",
              "      <th>...</th>\n",
              "      <td>...</td>\n",
              "      <td>...</td>\n",
              "      <td>...</td>\n",
              "      <td>...</td>\n",
              "      <td>...</td>\n",
              "      <td>...</td>\n",
              "      <td>...</td>\n",
              "      <td>...</td>\n",
              "      <td>...</td>\n",
              "      <td>...</td>\n",
              "      <td>...</td>\n",
              "      <td>...</td>\n",
              "      <td>...</td>\n",
              "      <td>...</td>\n",
              "      <td>...</td>\n",
              "    </tr>\n",
              "    <tr>\n",
              "      <th>886</th>\n",
              "      <td>168</td>\n",
              "      <td>0</td>\n",
              "      <td>Skoog, Mrs. William (Anna Bernhardina Karlsson)</td>\n",
              "      <td>45.0</td>\n",
              "      <td>1</td>\n",
              "      <td>4</td>\n",
              "      <td>347088</td>\n",
              "      <td>27.9000</td>\n",
              "      <td>NaN</td>\n",
              "      <td>S</td>\n",
              "      <td>1.0</td>\n",
              "      <td>0.0</td>\n",
              "      <td>0.0</td>\n",
              "      <td>0.0</td>\n",
              "      <td>1.0</td>\n",
              "    </tr>\n",
              "    <tr>\n",
              "      <th>887</th>\n",
              "      <td>233</td>\n",
              "      <td>0</td>\n",
              "      <td>Sjostedt, Mr. Ernst Adolf</td>\n",
              "      <td>59.0</td>\n",
              "      <td>0</td>\n",
              "      <td>0</td>\n",
              "      <td>237442</td>\n",
              "      <td>13.5000</td>\n",
              "      <td>NaN</td>\n",
              "      <td>S</td>\n",
              "      <td>0.0</td>\n",
              "      <td>0.0</td>\n",
              "      <td>1.0</td>\n",
              "      <td>1.0</td>\n",
              "      <td>0.0</td>\n",
              "    </tr>\n",
              "    <tr>\n",
              "      <th>888</th>\n",
              "      <td>861</td>\n",
              "      <td>0</td>\n",
              "      <td>Hansen, Mr. Claus Peter</td>\n",
              "      <td>41.0</td>\n",
              "      <td>2</td>\n",
              "      <td>0</td>\n",
              "      <td>350026</td>\n",
              "      <td>14.1083</td>\n",
              "      <td>NaN</td>\n",
              "      <td>S</td>\n",
              "      <td>1.0</td>\n",
              "      <td>0.0</td>\n",
              "      <td>0.0</td>\n",
              "      <td>1.0</td>\n",
              "      <td>0.0</td>\n",
              "    </tr>\n",
              "    <tr>\n",
              "      <th>889</th>\n",
              "      <td>190</td>\n",
              "      <td>0</td>\n",
              "      <td>Turcin, Mr. Stjepan</td>\n",
              "      <td>36.0</td>\n",
              "      <td>0</td>\n",
              "      <td>0</td>\n",
              "      <td>349247</td>\n",
              "      <td>7.8958</td>\n",
              "      <td>NaN</td>\n",
              "      <td>S</td>\n",
              "      <td>1.0</td>\n",
              "      <td>0.0</td>\n",
              "      <td>0.0</td>\n",
              "      <td>1.0</td>\n",
              "      <td>0.0</td>\n",
              "    </tr>\n",
              "    <tr>\n",
              "      <th>890</th>\n",
              "      <td>152</td>\n",
              "      <td>1</td>\n",
              "      <td>Pears, Mrs. Thomas (Edith Wearne)</td>\n",
              "      <td>22.0</td>\n",
              "      <td>1</td>\n",
              "      <td>0</td>\n",
              "      <td>113776</td>\n",
              "      <td>66.6000</td>\n",
              "      <td>C2</td>\n",
              "      <td>S</td>\n",
              "      <td>0.0</td>\n",
              "      <td>1.0</td>\n",
              "      <td>0.0</td>\n",
              "      <td>0.0</td>\n",
              "      <td>1.0</td>\n",
              "    </tr>\n",
              "  </tbody>\n",
              "</table>\n",
              "<p>891 rows × 15 columns</p>\n",
              "</div>\n",
              "      <button class=\"colab-df-convert\" onclick=\"convertToInteractive('df-37c15ec1-edb0-470b-9c00-549d255d464b')\"\n",
              "              title=\"Convert this dataframe to an interactive table.\"\n",
              "              style=\"display:none;\">\n",
              "        \n",
              "  <svg xmlns=\"http://www.w3.org/2000/svg\" height=\"24px\"viewBox=\"0 0 24 24\"\n",
              "       width=\"24px\">\n",
              "    <path d=\"M0 0h24v24H0V0z\" fill=\"none\"/>\n",
              "    <path d=\"M18.56 5.44l.94 2.06.94-2.06 2.06-.94-2.06-.94-.94-2.06-.94 2.06-2.06.94zm-11 1L8.5 8.5l.94-2.06 2.06-.94-2.06-.94L8.5 2.5l-.94 2.06-2.06.94zm10 10l.94 2.06.94-2.06 2.06-.94-2.06-.94-.94-2.06-.94 2.06-2.06.94z\"/><path d=\"M17.41 7.96l-1.37-1.37c-.4-.4-.92-.59-1.43-.59-.52 0-1.04.2-1.43.59L10.3 9.45l-7.72 7.72c-.78.78-.78 2.05 0 2.83L4 21.41c.39.39.9.59 1.41.59.51 0 1.02-.2 1.41-.59l7.78-7.78 2.81-2.81c.8-.78.8-2.07 0-2.86zM5.41 20L4 18.59l7.72-7.72 1.47 1.35L5.41 20z\"/>\n",
              "  </svg>\n",
              "      </button>\n",
              "      \n",
              "  <style>\n",
              "    .colab-df-container {\n",
              "      display:flex;\n",
              "      flex-wrap:wrap;\n",
              "      gap: 12px;\n",
              "    }\n",
              "\n",
              "    .colab-df-convert {\n",
              "      background-color: #E8F0FE;\n",
              "      border: none;\n",
              "      border-radius: 50%;\n",
              "      cursor: pointer;\n",
              "      display: none;\n",
              "      fill: #1967D2;\n",
              "      height: 32px;\n",
              "      padding: 0 0 0 0;\n",
              "      width: 32px;\n",
              "    }\n",
              "\n",
              "    .colab-df-convert:hover {\n",
              "      background-color: #E2EBFA;\n",
              "      box-shadow: 0px 1px 2px rgba(60, 64, 67, 0.3), 0px 1px 3px 1px rgba(60, 64, 67, 0.15);\n",
              "      fill: #174EA6;\n",
              "    }\n",
              "\n",
              "    [theme=dark] .colab-df-convert {\n",
              "      background-color: #3B4455;\n",
              "      fill: #D2E3FC;\n",
              "    }\n",
              "\n",
              "    [theme=dark] .colab-df-convert:hover {\n",
              "      background-color: #434B5C;\n",
              "      box-shadow: 0px 1px 3px 1px rgba(0, 0, 0, 0.15);\n",
              "      filter: drop-shadow(0px 1px 2px rgba(0, 0, 0, 0.3));\n",
              "      fill: #FFFFFF;\n",
              "    }\n",
              "  </style>\n",
              "\n",
              "      <script>\n",
              "        const buttonEl =\n",
              "          document.querySelector('#df-37c15ec1-edb0-470b-9c00-549d255d464b button.colab-df-convert');\n",
              "        buttonEl.style.display =\n",
              "          google.colab.kernel.accessAllowed ? 'block' : 'none';\n",
              "\n",
              "        async function convertToInteractive(key) {\n",
              "          const element = document.querySelector('#df-37c15ec1-edb0-470b-9c00-549d255d464b');\n",
              "          const dataTable =\n",
              "            await google.colab.kernel.invokeFunction('convertToInteractive',\n",
              "                                                     [key], {});\n",
              "          if (!dataTable) return;\n",
              "\n",
              "          const docLinkHtml = 'Like what you see? Visit the ' +\n",
              "            '<a target=\"_blank\" href=https://colab.research.google.com/notebooks/data_table.ipynb>data table notebook</a>'\n",
              "            + ' to learn more about interactive tables.';\n",
              "          element.innerHTML = '';\n",
              "          dataTable['output_type'] = 'display_data';\n",
              "          await google.colab.output.renderOutput(dataTable, element);\n",
              "          const docLink = document.createElement('div');\n",
              "          docLink.innerHTML = docLinkHtml;\n",
              "          element.appendChild(docLink);\n",
              "        }\n",
              "      </script>\n",
              "    </div>\n",
              "  </div>\n",
              "  "
            ]
          },
          "metadata": {},
          "execution_count": 26
        }
      ]
    },
    {
      "cell_type": "markdown",
      "source": [
        "## *SibSp*"
      ],
      "metadata": {
        "id": "1d2kNFV8mXsg"
      }
    },
    {
      "cell_type": "code",
      "source": [
        "column = \"SibSp\""
      ],
      "metadata": {
        "id": "G-CU8b32mXsh"
      },
      "execution_count": 27,
      "outputs": []
    },
    {
      "cell_type": "code",
      "source": [
        "#@markdown # Barplot\n",
        "data_train[column].value_counts().plot(kind=\"bar\")"
      ],
      "metadata": {
        "cellView": "form",
        "outputId": "f6529bc4-b61a-4cbd-8396-b6fe998e03c7",
        "colab": {
          "base_uri": "https://localhost:8080/",
          "height": 0
        },
        "id": "xGqmrs5fmXsh"
      },
      "execution_count": 28,
      "outputs": [
        {
          "output_type": "execute_result",
          "data": {
            "text/plain": [
              "<matplotlib.axes._subplots.AxesSubplot at 0x7f553a52df90>"
            ]
          },
          "metadata": {},
          "execution_count": 28
        },
        {
          "output_type": "display_data",
          "data": {
            "text/plain": [
              "<Figure size 432x288 with 1 Axes>"
            ],
            "image/png": "[encoded data removed]"
          },
          "metadata": {
            "needs_background": "light"
          }
        }
      ]
    },
    {
      "cell_type": "code",
      "source": [
        "#@markdown # Catplot\n",
        "sns.catplot(x=column, y=column, data=data_train)"
      ],
      "metadata": {
        "cellView": "form",
        "outputId": "7a960ed3-edd8-486c-c439-b39356b19695",
        "colab": {
          "base_uri": "https://localhost:8080/",
          "height": 0
        },
        "id": "wJW5lm1QmXsh"
      },
      "execution_count": 29,
      "outputs": [
        {
          "output_type": "execute_result",
          "data": {
            "text/plain": [
              "<seaborn.axisgrid.FacetGrid at 0x7f553a53de50>"
            ]
          },
          "metadata": {},
          "execution_count": 29
        },
        {
          "output_type": "display_data",
          "data": {
            "text/plain": [
              "<Figure size 360x360 with 1 Axes>"
            ],
            "image/png": "[encoded data removed]"
          },
          "metadata": {
            "needs_background": "light"
          }
        }
      ]
    },
    {
      "cell_type": "code",
      "source": [
        "categories = get_categories(data_train, column, keep_null=True)\n",
        "categories"
      ],
      "metadata": {
        "outputId": "44827ce6-00ce-45ef-e4d3-e36e62a2a5f4",
        "colab": {
          "base_uri": "https://localhost:8080/"
        },
        "id": "P0FI7TIDmXsh"
      },
      "execution_count": 30,
      "outputs": [
        {
          "output_type": "execute_result",
          "data": {
            "text/plain": [
              "array([0, 1, 3, 2, 8, 5, 4])"
            ]
          },
          "metadata": {},
          "execution_count": 30
        }
      ]
    },
    {
      "cell_type": "code",
      "source": [
        "one_hot_encoder(data_train, column, categories)\n",
        "one_hot_encoder(data_predict, column, categories)\n",
        "data_train"
      ],
      "metadata": {
        "outputId": "8fa06771-30d0-4cf1-a4e6-0c23701c58f1",
        "colab": {
          "base_uri": "https://localhost:8080/",
          "height": 0
        },
        "id": "jkRCT_IUmXsh"
      },
      "execution_count": 31,
      "outputs": [
        {
          "output_type": "stream",
          "name": "stderr",
          "text": [
            "/usr/local/lib/python3.7/dist-packages/ipykernel_launcher.py:11: SettingWithCopyWarning: \n",
            "A value is trying to be set on a copy of a slice from a DataFrame\n",
            "\n",
            "See the caveats in the documentation: https://pandas.pydata.org/pandas-docs/stable/user_guide/indexing.html#returning-a-view-versus-a-copy\n",
            "  # This is added back by InteractiveShellApp.init_path()\n"
          ]
        },
        {
          "output_type": "execute_result",
          "data": {
            "text/plain": [
              "     PassengerId  Survived                                             Name  \\\n",
              "0            644         1                                  Foo, Mr. Choong   \n",
              "1            794         0                         Hoyt, Mr. William Fisher   \n",
              "2            175         0                          Smith, Mr. James Clinch   \n",
              "3             16         1                 Hewlett, Mrs. (Mary D Kingcome)    \n",
              "4            792         0                              Gaskell, Mr. Alfred   \n",
              "..           ...       ...                                              ...   \n",
              "886          168         0  Skoog, Mrs. William (Anna Bernhardina Karlsson)   \n",
              "887          233         0                        Sjostedt, Mr. Ernst Adolf   \n",
              "888          861         0                          Hansen, Mr. Claus Peter   \n",
              "889          190         0                              Turcin, Mr. Stjepan   \n",
              "890          152         1                Pears, Mrs. Thomas (Edith Wearne)   \n",
              "\n",
              "      Age  Parch    Ticket     Fare Cabin Embarked  Pclass_3  ...  Pclass_2  \\\n",
              "0     NaN      0      1601  56.4958   NaN        S       1.0  ...       0.0   \n",
              "1     NaN      0  PC 17600  30.6958   NaN        C       0.0  ...       0.0   \n",
              "2    56.0      0     17764  30.6958    A7        C       0.0  ...       0.0   \n",
              "3    55.0      0    248706  16.0000   NaN        S       0.0  ...       1.0   \n",
              "4    16.0      0    239865  26.0000   NaN        S       0.0  ...       1.0   \n",
              "..    ...    ...       ...      ...   ...      ...       ...  ...       ...   \n",
              "886  45.0      4    347088  27.9000   NaN        S       1.0  ...       0.0   \n",
              "887  59.0      0    237442  13.5000   NaN        S       0.0  ...       1.0   \n",
              "888  41.0      0    350026  14.1083   NaN        S       1.0  ...       0.0   \n",
              "889  36.0      0    349247   7.8958   NaN        S       1.0  ...       0.0   \n",
              "890  22.0      0    113776  66.6000    C2        S       0.0  ...       0.0   \n",
              "\n",
              "     Sex_male  Sex_female  SibSp_0  SibSp_1  SibSp_3  SibSp_2  SibSp_8  \\\n",
              "0         1.0         0.0      1.0      0.0      0.0      0.0      0.0   \n",
              "1         1.0         0.0      1.0      0.0      0.0      0.0      0.0   \n",
              "2         1.0         0.0      1.0      0.0      0.0      0.0      0.0   \n",
              "3         0.0         1.0      1.0      0.0      0.0      0.0      0.0   \n",
              "4         1.0         0.0      1.0      0.0      0.0      0.0      0.0   \n",
              "..        ...         ...      ...      ...      ...      ...      ...   \n",
              "886       0.0         1.0      0.0      1.0      0.0      0.0      0.0   \n",
              "887       1.0         0.0      1.0      0.0      0.0      0.0      0.0   \n",
              "888       1.0         0.0      0.0      0.0      0.0      1.0      0.0   \n",
              "889       1.0         0.0      1.0      0.0      0.0      0.0      0.0   \n",
              "890       0.0         1.0      0.0      1.0      0.0      0.0      0.0   \n",
              "\n",
              "     SibSp_5  SibSp_4  \n",
              "0        0.0      0.0  \n",
              "1        0.0      0.0  \n",
              "2        0.0      0.0  \n",
              "3        0.0      0.0  \n",
              "4        0.0      0.0  \n",
              "..       ...      ...  \n",
              "886      0.0      0.0  \n",
              "887      0.0      0.0  \n",
              "888      0.0      0.0  \n",
              "889      0.0      0.0  \n",
              "890      0.0      0.0  \n",
              "\n",
              "[891 rows x 21 columns]"
            ],
            "text/html": [
              "\n",
              "  <div id=\"df-e2fb5a64-20d3-410a-a2f7-6e36a71d9cae\">\n",
              "    <div class=\"colab-df-container\">\n",
              "      <div>\n",
              "<style scoped>\n",
              "    .dataframe tbody tr th:only-of-type {\n",
              "        vertical-align: middle;\n",
              "    }\n",
              "\n",
              "    .dataframe tbody tr th {\n",
              "        vertical-align: top;\n",
              "    }\n",
              "\n",
              "    .dataframe thead th {\n",
              "        text-align: right;\n",
              "    }\n",
              "</style>\n",
              "<table border=\"1\" class=\"dataframe\">\n",
              "  <thead>\n",
              "    <tr style=\"text-align: right;\">\n",
              "      <th></th>\n",
              "      <th>PassengerId</th>\n",
              "      <th>Survived</th>\n",
              "      <th>Name</th>\n",
              "      <th>Age</th>\n",
              "      <th>Parch</th>\n",
              "      <th>Ticket</th>\n",
              "      <th>Fare</th>\n",
              "      <th>Cabin</th>\n",
              "      <th>Embarked</th>\n",
              "      <th>Pclass_3</th>\n",
              "      <th>...</th>\n",
              "      <th>Pclass_2</th>\n",
              "      <th>Sex_male</th>\n",
              "      <th>Sex_female</th>\n",
              "      <th>SibSp_0</th>\n",
              "      <th>SibSp_1</th>\n",
              "      <th>SibSp_3</th>\n",
              "      <th>SibSp_2</th>\n",
              "      <th>SibSp_8</th>\n",
              "      <th>SibSp_5</th>\n",
              "      <th>SibSp_4</th>\n",
              "    </tr>\n",
              "  </thead>\n",
              "  <tbody>\n",
              "    <tr>\n",
              "      <th>0</th>\n",
              "      <td>644</td>\n",
              "      <td>1</td>\n",
              "      <td>Foo, Mr. Choong</td>\n",
              "      <td>NaN</td>\n",
              "      <td>0</td>\n",
              "      <td>1601</td>\n",
              "      <td>56.4958</td>\n",
              "      <td>NaN</td>\n",
              "      <td>S</td>\n",
              "      <td>1.0</td>\n",
              "      <td>...</td>\n",
              "      <td>0.0</td>\n",
              "      <td>1.0</td>\n",
              "      <td>0.0</td>\n",
              "      <td>1.0</td>\n",
              "      <td>0.0</td>\n",
              "      <td>0.0</td>\n",
              "      <td>0.0</td>\n",
              "      <td>0.0</td>\n",
              "      <td>0.0</td>\n",
              "      <td>0.0</td>\n",
              "    </tr>\n",
              "    <tr>\n",
              "      <th>1</th>\n",
              "      <td>794</td>\n",
              "      <td>0</td>\n",
              "      <td>Hoyt, Mr. William Fisher</td>\n",
              "      <td>NaN</td>\n",
              "      <td>0</td>\n",
              "      <td>PC 17600</td>\n",
              "      <td>30.6958</td>\n",
              "      <td>NaN</td>\n",
              "      <td>C</td>\n",
              "      <td>0.0</td>\n",
              "      <td>...</td>\n",
              "      <td>0.0</td>\n",
              "      <td>1.0</td>\n",
              "      <td>0.0</td>\n",
              "      <td>1.0</td>\n",
              "      <td>0.0</td>\n",
              "      <td>0.0</td>\n",
              "      <td>0.0</td>\n",
              "      <td>0.0</td>\n",
              "      <td>0.0</td>\n",
              "      <td>0.0</td>\n",
              "    </tr>\n",
              "    <tr>\n",
              "      <th>2</th>\n",
              "      <td>175</td>\n",
              "      <td>0</td>\n",
              "      <td>Smith, Mr. James Clinch</td>\n",
              "      <td>56.0</td>\n",
              "      <td>0</td>\n",
              "      <td>17764</td>\n",
              "      <td>30.6958</td>\n",
              "      <td>A7</td>\n",
              "      <td>C</td>\n",
              "      <td>0.0</td>\n",
              "      <td>...</td>\n",
              "      <td>0.0</td>\n",
              "      <td>1.0</td>\n",
              "      <td>0.0</td>\n",
              "      <td>1.0</td>\n",
              "      <td>0.0</td>\n",
              "      <td>0.0</td>\n",
              "      <td>0.0</td>\n",
              "      <td>0.0</td>\n",
              "      <td>0.0</td>\n",
              "      <td>0.0</td>\n",
              "    </tr>\n",
              "    <tr>\n",
              "      <th>3</th>\n",
              "      <td>16</td>\n",
              "      <td>1</td>\n",
              "      <td>Hewlett, Mrs. (Mary D Kingcome)</td>\n",
              "      <td>55.0</td>\n",
              "      <td>0</td>\n",
              "      <td>248706</td>\n",
              "      <td>16.0000</td>\n",
              "      <td>NaN</td>\n",
              "      <td>S</td>\n",
              "      <td>0.0</td>\n",
              "      <td>...</td>\n",
              "      <td>1.0</td>\n",
              "      <td>0.0</td>\n",
              "      <td>1.0</td>\n",
              "      <td>1.0</td>\n",
              "      <td>0.0</td>\n",
              "      <td>0.0</td>\n",
              "      <td>0.0</td>\n",
              "      <td>0.0</td>\n",
              "      <td>0.0</td>\n",
              "      <td>0.0</td>\n",
              "    </tr>\n",
              "    <tr>\n",
              "      <th>4</th>\n",
              "      <td>792</td>\n",
              "      <td>0</td>\n",
              "      <td>Gaskell, Mr. Alfred</td>\n",
              "      <td>16.0</td>\n",
              "      <td>0</td>\n",
              "      <td>239865</td>\n",
              "      <td>26.0000</td>\n",
              "      <td>NaN</td>\n",
              "      <td>S</td>\n",
              "      <td>0.0</td>\n",
              "      <td>...</td>\n",
              "      <td>1.0</td>\n",
              "      <td>1.0</td>\n",
              "      <td>0.0</td>\n",
              "      <td>1.0</td>\n",
              "      <td>0.0</td>\n",
              "      <td>0.0</td>\n",
              "      <td>0.0</td>\n",
              "      <td>0.0</td>\n",
              "      <td>0.0</td>\n",
              "      <td>0.0</td>\n",
              "    </tr>\n",
              "    <tr>\n",
              "      <th>...</th>\n",
              "      <td>...</td>\n",
              "      <td>...</td>\n",
              "      <td>...</td>\n",
              "      <td>...</td>\n",
              "      <td>...</td>\n",
              "      <td>...</td>\n",
              "      <td>...</td>\n",
              "      <td>...</td>\n",
              "      <td>...</td>\n",
              "      <td>...</td>\n",
              "      <td>...</td>\n",
              "      <td>...</td>\n",
              "      <td>...</td>\n",
              "      <td>...</td>\n",
              "      <td>...</td>\n",
              "      <td>...</td>\n",
              "      <td>...</td>\n",
              "      <td>...</td>\n",
              "      <td>...</td>\n",
              "      <td>...</td>\n",
              "      <td>...</td>\n",
              "    </tr>\n",
              "    <tr>\n",
              "      <th>886</th>\n",
              "      <td>168</td>\n",
              "      <td>0</td>\n",
              "      <td>Skoog, Mrs. William (Anna Bernhardina Karlsson)</td>\n",
              "      <td>45.0</td>\n",
              "      <td>4</td>\n",
              "      <td>347088</td>\n",
              "      <td>27.9000</td>\n",
              "      <td>NaN</td>\n",
              "      <td>S</td>\n",
              "      <td>1.0</td>\n",
              "      <td>...</td>\n",
              "      <td>0.0</td>\n",
              "      <td>0.0</td>\n",
              "      <td>1.0</td>\n",
              "      <td>0.0</td>\n",
              "      <td>1.0</td>\n",
              "      <td>0.0</td>\n",
              "      <td>0.0</td>\n",
              "      <td>0.0</td>\n",
              "      <td>0.0</td>\n",
              "      <td>0.0</td>\n",
              "    </tr>\n",
              "    <tr>\n",
              "      <th>887</th>\n",
              "      <td>233</td>\n",
              "      <td>0</td>\n",
              "      <td>Sjostedt, Mr. Ernst Adolf</td>\n",
              "      <td>59.0</td>\n",
              "      <td>0</td>\n",
              "      <td>237442</td>\n",
              "      <td>13.5000</td>\n",
              "      <td>NaN</td>\n",
              "      <td>S</td>\n",
              "      <td>0.0</td>\n",
              "      <td>...</td>\n",
              "      <td>1.0</td>\n",
              "      <td>1.0</td>\n",
              "      <td>0.0</td>\n",
              "      <td>1.0</td>\n",
              "      <td>0.0</td>\n",
              "      <td>0.0</td>\n",
              "      <td>0.0</td>\n",
              "      <td>0.0</td>\n",
              "      <td>0.0</td>\n",
              "      <td>0.0</td>\n",
              "    </tr>\n",
              "    <tr>\n",
              "      <th>888</th>\n",
              "      <td>861</td>\n",
              "      <td>0</td>\n",
              "      <td>Hansen, Mr. Claus Peter</td>\n",
              "      <td>41.0</td>\n",
              "      <td>0</td>\n",
              "      <td>350026</td>\n",
              "      <td>14.1083</td>\n",
              "      <td>NaN</td>\n",
              "      <td>S</td>\n",
              "      <td>1.0</td>\n",
              "      <td>...</td>\n",
              "      <td>0.0</td>\n",
              "      <td>1.0</td>\n",
              "      <td>0.0</td>\n",
              "      <td>0.0</td>\n",
              "      <td>0.0</td>\n",
              "      <td>0.0</td>\n",
              "      <td>1.0</td>\n",
              "      <td>0.0</td>\n",
              "      <td>0.0</td>\n",
              "      <td>0.0</td>\n",
              "    </tr>\n",
              "    <tr>\n",
              "      <th>889</th>\n",
              "      <td>190</td>\n",
              "      <td>0</td>\n",
              "      <td>Turcin, Mr. Stjepan</td>\n",
              "      <td>36.0</td>\n",
              "      <td>0</td>\n",
              "      <td>349247</td>\n",
              "      <td>7.8958</td>\n",
              "      <td>NaN</td>\n",
              "      <td>S</td>\n",
              "      <td>1.0</td>\n",
              "      <td>...</td>\n",
              "      <td>0.0</td>\n",
              "      <td>1.0</td>\n",
              "      <td>0.0</td>\n",
              "      <td>1.0</td>\n",
              "      <td>0.0</td>\n",
              "      <td>0.0</td>\n",
              "      <td>0.0</td>\n",
              "      <td>0.0</td>\n",
              "      <td>0.0</td>\n",
              "      <td>0.0</td>\n",
              "    </tr>\n",
              "    <tr>\n",
              "      <th>890</th>\n",
              "      <td>152</td>\n",
              "      <td>1</td>\n",
              "      <td>Pears, Mrs. Thomas (Edith Wearne)</td>\n",
              "      <td>22.0</td>\n",
              "      <td>0</td>\n",
              "      <td>113776</td>\n",
              "      <td>66.6000</td>\n",
              "      <td>C2</td>\n",
              "      <td>S</td>\n",
              "      <td>0.0</td>\n",
              "      <td>...</td>\n",
              "      <td>0.0</td>\n",
              "      <td>0.0</td>\n",
              "      <td>1.0</td>\n",
              "      <td>0.0</td>\n",
              "      <td>1.0</td>\n",
              "      <td>0.0</td>\n",
              "      <td>0.0</td>\n",
              "      <td>0.0</td>\n",
              "      <td>0.0</td>\n",
              "      <td>0.0</td>\n",
              "    </tr>\n",
              "  </tbody>\n",
              "</table>\n",
              "<p>891 rows × 21 columns</p>\n",
              "</div>\n",
              "      <button class=\"colab-df-convert\" onclick=\"convertToInteractive('df-e2fb5a64-20d3-410a-a2f7-6e36a71d9cae')\"\n",
              "              title=\"Convert this dataframe to an interactive table.\"\n",
              "              style=\"display:none;\">\n",
              "        \n",
              "  <svg xmlns=\"http://www.w3.org/2000/svg\" height=\"24px\"viewBox=\"0 0 24 24\"\n",
              "       width=\"24px\">\n",
              "    <path d=\"M0 0h24v24H0V0z\" fill=\"none\"/>\n",
              "    <path d=\"M18.56 5.44l.94 2.06.94-2.06 2.06-.94-2.06-.94-.94-2.06-.94 2.06-2.06.94zm-11 1L8.5 8.5l.94-2.06 2.06-.94-2.06-.94L8.5 2.5l-.94 2.06-2.06.94zm10 10l.94 2.06.94-2.06 2.06-.94-2.06-.94-.94-2.06-.94 2.06-2.06.94z\"/><path d=\"M17.41 7.96l-1.37-1.37c-.4-.4-.92-.59-1.43-.59-.52 0-1.04.2-1.43.59L10.3 9.45l-7.72 7.72c-.78.78-.78 2.05 0 2.83L4 21.41c.39.39.9.59 1.41.59.51 0 1.02-.2 1.41-.59l7.78-7.78 2.81-2.81c.8-.78.8-2.07 0-2.86zM5.41 20L4 18.59l7.72-7.72 1.47 1.35L5.41 20z\"/>\n",
              "  </svg>\n",
              "      </button>\n",
              "      \n",
              "  <style>\n",
              "    .colab-df-container {\n",
              "      display:flex;\n",
              "      flex-wrap:wrap;\n",
              "      gap: 12px;\n",
              "    }\n",
              "\n",
              "    .colab-df-convert {\n",
              "      background-color: #E8F0FE;\n",
              "      border: none;\n",
              "      border-radius: 50%;\n",
              "      cursor: pointer;\n",
              "      display: none;\n",
              "      fill: #1967D2;\n",
              "      height: 32px;\n",
              "      padding: 0 0 0 0;\n",
              "      width: 32px;\n",
              "    }\n",
              "\n",
              "    .colab-df-convert:hover {\n",
              "      background-color: #E2EBFA;\n",
              "      box-shadow: 0px 1px 2px rgba(60, 64, 67, 0.3), 0px 1px 3px 1px rgba(60, 64, 67, 0.15);\n",
              "      fill: #174EA6;\n",
              "    }\n",
              "\n",
              "    [theme=dark] .colab-df-convert {\n",
              "      background-color: #3B4455;\n",
              "      fill: #D2E3FC;\n",
              "    }\n",
              "\n",
              "    [theme=dark] .colab-df-convert:hover {\n",
              "      background-color: #434B5C;\n",
              "      box-shadow: 0px 1px 3px 1px rgba(0, 0, 0, 0.15);\n",
              "      filter: drop-shadow(0px 1px 2px rgba(0, 0, 0, 0.3));\n",
              "      fill: #FFFFFF;\n",
              "    }\n",
              "  </style>\n",
              "\n",
              "      <script>\n",
              "        const buttonEl =\n",
              "          document.querySelector('#df-e2fb5a64-20d3-410a-a2f7-6e36a71d9cae button.colab-df-convert');\n",
              "        buttonEl.style.display =\n",
              "          google.colab.kernel.accessAllowed ? 'block' : 'none';\n",
              "\n",
              "        async function convertToInteractive(key) {\n",
              "          const element = document.querySelector('#df-e2fb5a64-20d3-410a-a2f7-6e36a71d9cae');\n",
              "          const dataTable =\n",
              "            await google.colab.kernel.invokeFunction('convertToInteractive',\n",
              "                                                     [key], {});\n",
              "          if (!dataTable) return;\n",
              "\n",
              "          const docLinkHtml = 'Like what you see? Visit the ' +\n",
              "            '<a target=\"_blank\" href=https://colab.research.google.com/notebooks/data_table.ipynb>data table notebook</a>'\n",
              "            + ' to learn more about interactive tables.';\n",
              "          element.innerHTML = '';\n",
              "          dataTable['output_type'] = 'display_data';\n",
              "          await google.colab.output.renderOutput(dataTable, element);\n",
              "          const docLink = document.createElement('div');\n",
              "          docLink.innerHTML = docLinkHtml;\n",
              "          element.appendChild(docLink);\n",
              "        }\n",
              "      </script>\n",
              "    </div>\n",
              "  </div>\n",
              "  "
            ]
          },
          "metadata": {},
          "execution_count": 31
        }
      ]
    },
    {
      "cell_type": "markdown",
      "source": [
        "## *Parch*"
      ],
      "metadata": {
        "id": "DtKEwDjmmjVy"
      }
    },
    {
      "cell_type": "code",
      "source": [
        "column = \"Parch\""
      ],
      "metadata": {
        "id": "XV5vVTaJmjVy"
      },
      "execution_count": 32,
      "outputs": []
    },
    {
      "cell_type": "code",
      "source": [
        "#@markdown # Barplot\n",
        "data_train[column].value_counts().plot(kind=\"bar\")"
      ],
      "metadata": {
        "cellView": "form",
        "outputId": "d788dad6-79aa-4192-c47e-f474ce29e6e5",
        "colab": {
          "base_uri": "https://localhost:8080/",
          "height": 0
        },
        "id": "GVAUxSY8mjVy"
      },
      "execution_count": 33,
      "outputs": [
        {
          "output_type": "execute_result",
          "data": {
            "text/plain": [
              "<matplotlib.axes._subplots.AxesSubplot at 0x7f553a3ee150>"
            ]
          },
          "metadata": {},
          "execution_count": 33
        },
        {
          "output_type": "display_data",
          "data": {
            "text/plain": [
              "<Figure size 432x288 with 1 Axes>"
            ],
            "image/png": "[encoded data removed]"
          },
          "metadata": {
            "needs_background": "light"
          }
        }
      ]
    },
    {
      "cell_type": "code",
      "source": [
        "#@markdown # Catplot\n",
        "sns.catplot(x=column, y=column, data=data_train)"
      ],
      "metadata": {
        "cellView": "form",
        "outputId": "ee6f3972-4715-4cc5-a80c-1554a72b3682",
        "colab": {
          "base_uri": "https://localhost:8080/",
          "height": 0
        },
        "id": "pNSG8r7dmjVy"
      },
      "execution_count": 34,
      "outputs": [
        {
          "output_type": "execute_result",
          "data": {
            "text/plain": [
              "<seaborn.axisgrid.FacetGrid at 0x7f553a5d6a90>"
            ]
          },
          "metadata": {},
          "execution_count": 34
        },
        {
          "output_type": "display_data",
          "data": {
            "text/plain": [
              "<Figure size 360x360 with 1 Axes>"
            ],
            "image/png": "[encoded data removed]"
          },
          "metadata": {
            "needs_background": "light"
          }
        }
      ]
    },
    {
      "cell_type": "code",
      "source": [
        "categories = get_categories(data_train, column, keep_null=True)\n",
        "categories"
      ],
      "metadata": {
        "outputId": "0762b0d2-6f0b-479e-a3a5-34a307148a1d",
        "colab": {
          "base_uri": "https://localhost:8080/"
        },
        "id": "M_Hpc_memjVy"
      },
      "execution_count": 35,
      "outputs": [
        {
          "output_type": "execute_result",
          "data": {
            "text/plain": [
              "array([0, 6, 2, 1, 5, 3, 4])"
            ]
          },
          "metadata": {},
          "execution_count": 35
        }
      ]
    },
    {
      "cell_type": "code",
      "source": [
        "one_hot_encoder(data_train, column, categories)\n",
        "one_hot_encoder(data_predict, column, categories)\n",
        "data_train"
      ],
      "metadata": {
        "outputId": "92a82962-a865-4537-b8b9-34abd8c98819",
        "colab": {
          "base_uri": "https://localhost:8080/",
          "height": 0
        },
        "id": "I9jZV4pFmjVz"
      },
      "execution_count": 36,
      "outputs": [
        {
          "output_type": "stream",
          "name": "stderr",
          "text": [
            "/usr/local/lib/python3.7/dist-packages/ipykernel_launcher.py:11: SettingWithCopyWarning: \n",
            "A value is trying to be set on a copy of a slice from a DataFrame\n",
            "\n",
            "See the caveats in the documentation: https://pandas.pydata.org/pandas-docs/stable/user_guide/indexing.html#returning-a-view-versus-a-copy\n",
            "  # This is added back by InteractiveShellApp.init_path()\n"
          ]
        },
        {
          "output_type": "execute_result",
          "data": {
            "text/plain": [
              "     PassengerId  Survived                                             Name  \\\n",
              "0            644         1                                  Foo, Mr. Choong   \n",
              "1            794         0                         Hoyt, Mr. William Fisher   \n",
              "2            175         0                          Smith, Mr. James Clinch   \n",
              "3             16         1                 Hewlett, Mrs. (Mary D Kingcome)    \n",
              "4            792         0                              Gaskell, Mr. Alfred   \n",
              "..           ...       ...                                              ...   \n",
              "886          168         0  Skoog, Mrs. William (Anna Bernhardina Karlsson)   \n",
              "887          233         0                        Sjostedt, Mr. Ernst Adolf   \n",
              "888          861         0                          Hansen, Mr. Claus Peter   \n",
              "889          190         0                              Turcin, Mr. Stjepan   \n",
              "890          152         1                Pears, Mrs. Thomas (Edith Wearne)   \n",
              "\n",
              "      Age    Ticket     Fare Cabin Embarked  Pclass_3  Pclass_1  ...  SibSp_8  \\\n",
              "0     NaN      1601  56.4958   NaN        S       1.0       0.0  ...      0.0   \n",
              "1     NaN  PC 17600  30.6958   NaN        C       0.0       1.0  ...      0.0   \n",
              "2    56.0     17764  30.6958    A7        C       0.0       1.0  ...      0.0   \n",
              "3    55.0    248706  16.0000   NaN        S       0.0       0.0  ...      0.0   \n",
              "4    16.0    239865  26.0000   NaN        S       0.0       0.0  ...      0.0   \n",
              "..    ...       ...      ...   ...      ...       ...       ...  ...      ...   \n",
              "886  45.0    347088  27.9000   NaN        S       1.0       0.0  ...      0.0   \n",
              "887  59.0    237442  13.5000   NaN        S       0.0       0.0  ...      0.0   \n",
              "888  41.0    350026  14.1083   NaN        S       1.0       0.0  ...      0.0   \n",
              "889  36.0    349247   7.8958   NaN        S       1.0       0.0  ...      0.0   \n",
              "890  22.0    113776  66.6000    C2        S       0.0       1.0  ...      0.0   \n",
              "\n",
              "     SibSp_5  SibSp_4  Parch_0  Parch_6  Parch_2  Parch_1  Parch_5  Parch_3  \\\n",
              "0        0.0      0.0      1.0      0.0      0.0      0.0      0.0      0.0   \n",
              "1        0.0      0.0      1.0      0.0      0.0      0.0      0.0      0.0   \n",
              "2        0.0      0.0      1.0      0.0      0.0      0.0      0.0      0.0   \n",
              "3        0.0      0.0      1.0      0.0      0.0      0.0      0.0      0.0   \n",
              "4        0.0      0.0      1.0      0.0      0.0      0.0      0.0      0.0   \n",
              "..       ...      ...      ...      ...      ...      ...      ...      ...   \n",
              "886      0.0      0.0      0.0      0.0      0.0      0.0      0.0      0.0   \n",
              "887      0.0      0.0      1.0      0.0      0.0      0.0      0.0      0.0   \n",
              "888      0.0      0.0      1.0      0.0      0.0      0.0      0.0      0.0   \n",
              "889      0.0      0.0      1.0      0.0      0.0      0.0      0.0      0.0   \n",
              "890      0.0      0.0      1.0      0.0      0.0      0.0      0.0      0.0   \n",
              "\n",
              "     Parch_4  \n",
              "0        0.0  \n",
              "1        0.0  \n",
              "2        0.0  \n",
              "3        0.0  \n",
              "4        0.0  \n",
              "..       ...  \n",
              "886      1.0  \n",
              "887      0.0  \n",
              "888      0.0  \n",
              "889      0.0  \n",
              "890      0.0  \n",
              "\n",
              "[891 rows x 27 columns]"
            ],
            "text/html": [
              "\n",
              "  <div id=\"df-82ce2813-930b-4f38-a3e2-13c9c3a52fbd\">\n",
              "    <div class=\"colab-df-container\">\n",
              "      <div>\n",
              "<style scoped>\n",
              "    .dataframe tbody tr th:only-of-type {\n",
              "        vertical-align: middle;\n",
              "    }\n",
              "\n",
              "    .dataframe tbody tr th {\n",
              "        vertical-align: top;\n",
              "    }\n",
              "\n",
              "    .dataframe thead th {\n",
              "        text-align: right;\n",
              "    }\n",
              "</style>\n",
              "<table border=\"1\" class=\"dataframe\">\n",
              "  <thead>\n",
              "    <tr style=\"text-align: right;\">\n",
              "      <th></th>\n",
              "      <th>PassengerId</th>\n",
              "      <th>Survived</th>\n",
              "      <th>Name</th>\n",
              "      <th>Age</th>\n",
              "      <th>Ticket</th>\n",
              "      <th>Fare</th>\n",
              "      <th>Cabin</th>\n",
              "      <th>Embarked</th>\n",
              "      <th>Pclass_3</th>\n",
              "      <th>Pclass_1</th>\n",
              "      <th>...</th>\n",
              "      <th>SibSp_8</th>\n",
              "      <th>SibSp_5</th>\n",
              "      <th>SibSp_4</th>\n",
              "      <th>Parch_0</th>\n",
              "      <th>Parch_6</th>\n",
              "      <th>Parch_2</th>\n",
              "      <th>Parch_1</th>\n",
              "      <th>Parch_5</th>\n",
              "      <th>Parch_3</th>\n",
              "      <th>Parch_4</th>\n",
              "    </tr>\n",
              "  </thead>\n",
              "  <tbody>\n",
              "    <tr>\n",
              "      <th>0</th>\n",
              "      <td>644</td>\n",
              "      <td>1</td>\n",
              "      <td>Foo, Mr. Choong</td>\n",
              "      <td>NaN</td>\n",
              "      <td>1601</td>\n",
              "      <td>56.4958</td>\n",
              "      <td>NaN</td>\n",
              "      <td>S</td>\n",
              "      <td>1.0</td>\n",
              "      <td>0.0</td>\n",
              "      <td>...</td>\n",
              "      <td>0.0</td>\n",
              "      <td>0.0</td>\n",
              "      <td>0.0</td>\n",
              "      <td>1.0</td>\n",
              "      <td>0.0</td>\n",
              "      <td>0.0</td>\n",
              "      <td>0.0</td>\n",
              "      <td>0.0</td>\n",
              "      <td>0.0</td>\n",
              "      <td>0.0</td>\n",
              "    </tr>\n",
              "    <tr>\n",
              "      <th>1</th>\n",
              "      <td>794</td>\n",
              "      <td>0</td>\n",
              "      <td>Hoyt, Mr. William Fisher</td>\n",
              "      <td>NaN</td>\n",
              "      <td>PC 17600</td>\n",
              "      <td>30.6958</td>\n",
              "      <td>NaN</td>\n",
              "      <td>C</td>\n",
              "      <td>0.0</td>\n",
              "      <td>1.0</td>\n",
              "      <td>...</td>\n",
              "      <td>0.0</td>\n",
              "      <td>0.0</td>\n",
              "      <td>0.0</td>\n",
              "      <td>1.0</td>\n",
              "      <td>0.0</td>\n",
              "      <td>0.0</td>\n",
              "      <td>0.0</td>\n",
              "      <td>0.0</td>\n",
              "      <td>0.0</td>\n",
              "      <td>0.0</td>\n",
              "    </tr>\n",
              "    <tr>\n",
              "      <th>2</th>\n",
              "      <td>175</td>\n",
              "      <td>0</td>\n",
              "      <td>Smith, Mr. James Clinch</td>\n",
              "      <td>56.0</td>\n",
              "      <td>17764</td>\n",
              "      <td>30.6958</td>\n",
              "      <td>A7</td>\n",
              "      <td>C</td>\n",
              "      <td>0.0</td>\n",
              "      <td>1.0</td>\n",
              "      <td>...</td>\n",
              "      <td>0.0</td>\n",
              "      <td>0.0</td>\n",
              "      <td>0.0</td>\n",
              "      <td>1.0</td>\n",
              "      <td>0.0</td>\n",
              "      <td>0.0</td>\n",
              "      <td>0.0</td>\n",
              "      <td>0.0</td>\n",
              "      <td>0.0</td>\n",
              "      <td>0.0</td>\n",
              "    </tr>\n",
              "    <tr>\n",
              "      <th>3</th>\n",
              "      <td>16</td>\n",
              "      <td>1</td>\n",
              "      <td>Hewlett, Mrs. (Mary D Kingcome)</td>\n",
              "      <td>55.0</td>\n",
              "      <td>248706</td>\n",
              "      <td>16.0000</td>\n",
              "      <td>NaN</td>\n",
              "      <td>S</td>\n",
              "      <td>0.0</td>\n",
              "      <td>0.0</td>\n",
              "      <td>...</td>\n",
              "      <td>0.0</td>\n",
              "      <td>0.0</td>\n",
              "      <td>0.0</td>\n",
              "      <td>1.0</td>\n",
              "      <td>0.0</td>\n",
              "      <td>0.0</td>\n",
              "      <td>0.0</td>\n",
              "      <td>0.0</td>\n",
              "      <td>0.0</td>\n",
              "      <td>0.0</td>\n",
              "    </tr>\n",
              "    <tr>\n",
              "      <th>4</th>\n",
              "      <td>792</td>\n",
              "      <td>0</td>\n",
              "      <td>Gaskell, Mr. Alfred</td>\n",
              "      <td>16.0</td>\n",
              "      <td>239865</td>\n",
              "      <td>26.0000</td>\n",
              "      <td>NaN</td>\n",
              "      <td>S</td>\n",
              "      <td>0.0</td>\n",
              "      <td>0.0</td>\n",
              "      <td>...</td>\n",
              "      <td>0.0</td>\n",
              "      <td>0.0</td>\n",
              "      <td>0.0</td>\n",
              "      <td>1.0</td>\n",
              "      <td>0.0</td>\n",
              "      <td>0.0</td>\n",
              "      <td>0.0</td>\n",
              "      <td>0.0</td>\n",
              "      <td>0.0</td>\n",
              "      <td>0.0</td>\n",
              "    </tr>\n",
              "    <tr>\n",
              "      <th>...</th>\n",
              "      <td>...</td>\n",
              "      <td>...</td>\n",
              "      <td>...</td>\n",
              "      <td>...</td>\n",
              "      <td>...</td>\n",
              "      <td>...</td>\n",
              "      <td>...</td>\n",
              "      <td>...</td>\n",
              "      <td>...</td>\n",
              "      <td>...</td>\n",
              "      <td>...</td>\n",
              "      <td>...</td>\n",
              "      <td>...</td>\n",
              "      <td>...</td>\n",
              "      <td>...</td>\n",
              "      <td>...</td>\n",
              "      <td>...</td>\n",
              "      <td>...</td>\n",
              "      <td>...</td>\n",
              "      <td>...</td>\n",
              "      <td>...</td>\n",
              "    </tr>\n",
              "    <tr>\n",
              "      <th>886</th>\n",
              "      <td>168</td>\n",
              "      <td>0</td>\n",
              "      <td>Skoog, Mrs. William (Anna Bernhardina Karlsson)</td>\n",
              "      <td>45.0</td>\n",
              "      <td>347088</td>\n",
              "      <td>27.9000</td>\n",
              "      <td>NaN</td>\n",
              "      <td>S</td>\n",
              "      <td>1.0</td>\n",
              "      <td>0.0</td>\n",
              "      <td>...</td>\n",
              "      <td>0.0</td>\n",
              "      <td>0.0</td>\n",
              "      <td>0.0</td>\n",
              "      <td>0.0</td>\n",
              "      <td>0.0</td>\n",
              "      <td>0.0</td>\n",
              "      <td>0.0</td>\n",
              "      <td>0.0</td>\n",
              "      <td>0.0</td>\n",
              "      <td>1.0</td>\n",
              "    </tr>\n",
              "    <tr>\n",
              "      <th>887</th>\n",
              "      <td>233</td>\n",
              "      <td>0</td>\n",
              "      <td>Sjostedt, Mr. Ernst Adolf</td>\n",
              "      <td>59.0</td>\n",
              "      <td>237442</td>\n",
              "      <td>13.5000</td>\n",
              "      <td>NaN</td>\n",
              "      <td>S</td>\n",
              "      <td>0.0</td>\n",
              "      <td>0.0</td>\n",
              "      <td>...</td>\n",
              "      <td>0.0</td>\n",
              "      <td>0.0</td>\n",
              "      <td>0.0</td>\n",
              "      <td>1.0</td>\n",
              "      <td>0.0</td>\n",
              "      <td>0.0</td>\n",
              "      <td>0.0</td>\n",
              "      <td>0.0</td>\n",
              "      <td>0.0</td>\n",
              "      <td>0.0</td>\n",
              "    </tr>\n",
              "    <tr>\n",
              "      <th>888</th>\n",
              "      <td>861</td>\n",
              "      <td>0</td>\n",
              "      <td>Hansen, Mr. Claus Peter</td>\n",
              "      <td>41.0</td>\n",
              "      <td>350026</td>\n",
              "      <td>14.1083</td>\n",
              "      <td>NaN</td>\n",
              "      <td>S</td>\n",
              "      <td>1.0</td>\n",
              "      <td>0.0</td>\n",
              "      <td>...</td>\n",
              "      <td>0.0</td>\n",
              "      <td>0.0</td>\n",
              "      <td>0.0</td>\n",
              "      <td>1.0</td>\n",
              "      <td>0.0</td>\n",
              "      <td>0.0</td>\n",
              "      <td>0.0</td>\n",
              "      <td>0.0</td>\n",
              "      <td>0.0</td>\n",
              "      <td>0.0</td>\n",
              "    </tr>\n",
              "    <tr>\n",
              "      <th>889</th>\n",
              "      <td>190</td>\n",
              "      <td>0</td>\n",
              "      <td>Turcin, Mr. Stjepan</td>\n",
              "      <td>36.0</td>\n",
              "      <td>349247</td>\n",
              "      <td>7.8958</td>\n",
              "      <td>NaN</td>\n",
              "      <td>S</td>\n",
              "      <td>1.0</td>\n",
              "      <td>0.0</td>\n",
              "      <td>...</td>\n",
              "      <td>0.0</td>\n",
              "      <td>0.0</td>\n",
              "      <td>0.0</td>\n",
              "      <td>1.0</td>\n",
              "      <td>0.0</td>\n",
              "      <td>0.0</td>\n",
              "      <td>0.0</td>\n",
              "      <td>0.0</td>\n",
              "      <td>0.0</td>\n",
              "      <td>0.0</td>\n",
              "    </tr>\n",
              "    <tr>\n",
              "      <th>890</th>\n",
              "      <td>152</td>\n",
              "      <td>1</td>\n",
              "      <td>Pears, Mrs. Thomas (Edith Wearne)</td>\n",
              "      <td>22.0</td>\n",
              "      <td>113776</td>\n",
              "      <td>66.6000</td>\n",
              "      <td>C2</td>\n",
              "      <td>S</td>\n",
              "      <td>0.0</td>\n",
              "      <td>1.0</td>\n",
              "      <td>...</td>\n",
              "      <td>0.0</td>\n",
              "      <td>0.0</td>\n",
              "      <td>0.0</td>\n",
              "      <td>1.0</td>\n",
              "      <td>0.0</td>\n",
              "      <td>0.0</td>\n",
              "      <td>0.0</td>\n",
              "      <td>0.0</td>\n",
              "      <td>0.0</td>\n",
              "      <td>0.0</td>\n",
              "    </tr>\n",
              "  </tbody>\n",
              "</table>\n",
              "<p>891 rows × 27 columns</p>\n",
              "</div>\n",
              "      <button class=\"colab-df-convert\" onclick=\"convertToInteractive('df-82ce2813-930b-4f38-a3e2-13c9c3a52fbd')\"\n",
              "              title=\"Convert this dataframe to an interactive table.\"\n",
              "              style=\"display:none;\">\n",
              "        \n",
              "  <svg xmlns=\"http://www.w3.org/2000/svg\" height=\"24px\"viewBox=\"0 0 24 24\"\n",
              "       width=\"24px\">\n",
              "    <path d=\"M0 0h24v24H0V0z\" fill=\"none\"/>\n",
              "    <path d=\"M18.56 5.44l.94 2.06.94-2.06 2.06-.94-2.06-.94-.94-2.06-.94 2.06-2.06.94zm-11 1L8.5 8.5l.94-2.06 2.06-.94-2.06-.94L8.5 2.5l-.94 2.06-2.06.94zm10 10l.94 2.06.94-2.06 2.06-.94-2.06-.94-.94-2.06-.94 2.06-2.06.94z\"/><path d=\"M17.41 7.96l-1.37-1.37c-.4-.4-.92-.59-1.43-.59-.52 0-1.04.2-1.43.59L10.3 9.45l-7.72 7.72c-.78.78-.78 2.05 0 2.83L4 21.41c.39.39.9.59 1.41.59.51 0 1.02-.2 1.41-.59l7.78-7.78 2.81-2.81c.8-.78.8-2.07 0-2.86zM5.41 20L4 18.59l7.72-7.72 1.47 1.35L5.41 20z\"/>\n",
              "  </svg>\n",
              "      </button>\n",
              "      \n",
              "  <style>\n",
              "    .colab-df-container {\n",
              "      display:flex;\n",
              "      flex-wrap:wrap;\n",
              "      gap: 12px;\n",
              "    }\n",
              "\n",
              "    .colab-df-convert {\n",
              "      background-color: #E8F0FE;\n",
              "      border: none;\n",
              "      border-radius: 50%;\n",
              "      cursor: pointer;\n",
              "      display: none;\n",
              "      fill: #1967D2;\n",
              "      height: 32px;\n",
              "      padding: 0 0 0 0;\n",
              "      width: 32px;\n",
              "    }\n",
              "\n",
              "    .colab-df-convert:hover {\n",
              "      background-color: #E2EBFA;\n",
              "      box-shadow: 0px 1px 2px rgba(60, 64, 67, 0.3), 0px 1px 3px 1px rgba(60, 64, 67, 0.15);\n",
              "      fill: #174EA6;\n",
              "    }\n",
              "\n",
              "    [theme=dark] .colab-df-convert {\n",
              "      background-color: #3B4455;\n",
              "      fill: #D2E3FC;\n",
              "    }\n",
              "\n",
              "    [theme=dark] .colab-df-convert:hover {\n",
              "      background-color: #434B5C;\n",
              "      box-shadow: 0px 1px 3px 1px rgba(0, 0, 0, 0.15);\n",
              "      filter: drop-shadow(0px 1px 2px rgba(0, 0, 0, 0.3));\n",
              "      fill: #FFFFFF;\n",
              "    }\n",
              "  </style>\n",
              "\n",
              "      <script>\n",
              "        const buttonEl =\n",
              "          document.querySelector('#df-82ce2813-930b-4f38-a3e2-13c9c3a52fbd button.colab-df-convert');\n",
              "        buttonEl.style.display =\n",
              "          google.colab.kernel.accessAllowed ? 'block' : 'none';\n",
              "\n",
              "        async function convertToInteractive(key) {\n",
              "          const element = document.querySelector('#df-82ce2813-930b-4f38-a3e2-13c9c3a52fbd');\n",
              "          const dataTable =\n",
              "            await google.colab.kernel.invokeFunction('convertToInteractive',\n",
              "                                                     [key], {});\n",
              "          if (!dataTable) return;\n",
              "\n",
              "          const docLinkHtml = 'Like what you see? Visit the ' +\n",
              "            '<a target=\"_blank\" href=https://colab.research.google.com/notebooks/data_table.ipynb>data table notebook</a>'\n",
              "            + ' to learn more about interactive tables.';\n",
              "          element.innerHTML = '';\n",
              "          dataTable['output_type'] = 'display_data';\n",
              "          await google.colab.output.renderOutput(dataTable, element);\n",
              "          const docLink = document.createElement('div');\n",
              "          docLink.innerHTML = docLinkHtml;\n",
              "          element.appendChild(docLink);\n",
              "        }\n",
              "      </script>\n",
              "    </div>\n",
              "  </div>\n",
              "  "
            ]
          },
          "metadata": {},
          "execution_count": 36
        }
      ]
    },
    {
      "cell_type": "markdown",
      "source": [
        "## *Cabin*"
      ],
      "metadata": {
        "id": "K-hp_oZTmscE"
      }
    },
    {
      "cell_type": "code",
      "source": [
        "column = \"Cabin\""
      ],
      "metadata": {
        "id": "fjPSof8bmscE"
      },
      "execution_count": 37,
      "outputs": []
    },
    {
      "cell_type": "code",
      "source": [
        "#@markdown # Barplot\n",
        "data_train[column].value_counts().plot(kind=\"bar\")"
      ],
      "metadata": {
        "cellView": "form",
        "outputId": "3c1c7b42-f688-4c2b-a3c9-f48c6c8f0e8c",
        "colab": {
          "base_uri": "https://localhost:8080/",
          "height": 0
        },
        "id": "BIHrl_p0mscE"
      },
      "execution_count": 38,
      "outputs": [
        {
          "output_type": "execute_result",
          "data": {
            "text/plain": [
              "<matplotlib.axes._subplots.AxesSubplot at 0x7f553a2fb0d0>"
            ]
          },
          "metadata": {},
          "execution_count": 38
        },
        {
          "output_type": "display_data",
          "data": {
            "text/plain": [
              "<Figure size 432x288 with 1 Axes>"
            ],
            "image/png": "[encoded data removed]"
          },
          "metadata": {
            "needs_background": "light"
          }
        }
      ]
    },
    {
      "cell_type": "code",
      "source": [
        "#@markdown # Catplot\n",
        "sns.catplot(x=column, y=column, data=data_train)"
      ],
      "metadata": {
        "cellView": "form",
        "outputId": "fa89e263-1f4f-480d-ee01-bc647ae15e3c",
        "colab": {
          "base_uri": "https://localhost:8080/",
          "height": 0
        },
        "id": "Rv3ohp1amscE"
      },
      "execution_count": 39,
      "outputs": [
        {
          "output_type": "execute_result",
          "data": {
            "text/plain": [
              "<seaborn.axisgrid.FacetGrid at 0x7f553a0cd810>"
            ]
          },
          "metadata": {},
          "execution_count": 39
        },
        {
          "output_type": "display_data",
          "data": {
            "text/plain": [
              "<Figure size 360x360 with 1 Axes>"
            ],
            "image/png": "[encoded data removed]"
          },
          "metadata": {
            "needs_background": "light"
          }
        }
      ]
    },
    {
      "cell_type": "code",
      "source": [
        "categories = get_categories(data_train, column, keep_null=True)\n",
        "categories"
      ],
      "metadata": {
        "outputId": "7d5b7932-6ce2-4506-fdc8-eb13eb632d80",
        "colab": {
          "base_uri": "https://localhost:8080/"
        },
        "id": "xSA75RUvmscF"
      },
      "execution_count": 40,
      "outputs": [
        {
          "output_type": "execute_result",
          "data": {
            "text/plain": [
              "array([nan, 'A7', 'C65', 'D46', 'A36', 'B102', 'C118', 'C23 C25 C27',\n",
              "       'E44', 'D30', 'A5', 'D35', 'C62 C64', 'C104', 'B35', 'E8', 'C103',\n",
              "       'C123', 'B96 B98', 'B19', 'D20', 'B94', 'E33', 'C52', 'D26', 'B41',\n",
              "       'B37', 'D17', 'B20', 'D47', 'D36', 'E25', 'C82', 'D9', 'C78',\n",
              "       'C50', 'E67', 'A26', 'B101', 'F G63', 'F2', 'F G73', 'B5', 'D49',\n",
              "       'D11', 'E101', 'C93', 'B51 B53 B55', 'A31', 'F4', 'B50', 'D15',\n",
              "       'B57 B59 B63 B66', 'D45', 'C83', 'F E69', 'D50', 'D56', 'C111',\n",
              "       'D', 'C30', 'C110', 'D37', 'C86', 'C68', 'E63', 'F33', 'B82 B84',\n",
              "       'C54', 'D21', 'E46', 'C128', 'A14', 'B39', 'B86', 'B49', 'C45',\n",
              "       'B71', 'B22', 'C90', 'C126', 'E36', 'E121', 'A19', 'B18', 'A34',\n",
              "       'C125', 'C32', 'D6', 'E68', 'D7', 'B30', 'B42', 'C7', 'D33', 'G6',\n",
              "       'B28', 'E38', 'D10 D12', 'E49', 'B38', 'E58', 'B69', 'C2', 'B79',\n",
              "       'C124', 'C106', 'A32', 'B58 B60', 'C22 C26', 'E34', 'C95', 'C46',\n",
              "       'C47', 'C85', 'C101', 'A20', 'C92', 'B4', 'E77', 'D19', 'F38',\n",
              "       'C99', 'B77', 'A16', 'B3', 'B78', 'C49', 'E24', 'C87', 'E12',\n",
              "       'E17', 'T', 'C70', 'A23', 'E10', 'E31', 'C148', 'D28', 'A24',\n",
              "       'C91', 'A10', 'B73', 'B80', 'E40', 'D48', 'E50', 'A6'],\n",
              "      dtype=object)"
            ]
          },
          "metadata": {},
          "execution_count": 40
        }
      ]
    },
    {
      "cell_type": "code",
      "source": [
        "one_hot_encoder(data_train, column, categories)\n",
        "one_hot_encoder(data_predict, column, categories)\n",
        "data_train"
      ],
      "metadata": {
        "outputId": "71c7443d-202e-45cb-a51e-c8b0a004bed1",
        "colab": {
          "base_uri": "https://localhost:8080/",
          "height": 0
        },
        "id": "Bs9Nf_6pmscF"
      },
      "execution_count": 41,
      "outputs": [
        {
          "output_type": "stream",
          "name": "stderr",
          "text": [
            "/usr/local/lib/python3.7/dist-packages/ipykernel_launcher.py:3: PerformanceWarning: DataFrame is highly fragmented.  This is usually the result of calling `frame.insert` many times, which has poor performance.  Consider joining all columns at once using pd.concat(axis=1) instead.  To get a de-fragmented frame, use `newframe = frame.copy()`\n",
            "  This is separate from the ipykernel package so we can avoid doing imports until\n",
            "/usr/local/lib/python3.7/dist-packages/ipykernel_launcher.py:11: SettingWithCopyWarning: \n",
            "A value is trying to be set on a copy of a slice from a DataFrame\n",
            "\n",
            "See the caveats in the documentation: https://pandas.pydata.org/pandas-docs/stable/user_guide/indexing.html#returning-a-view-versus-a-copy\n",
            "  # This is added back by InteractiveShellApp.init_path()\n"
          ]
        },
        {
          "output_type": "execute_result",
          "data": {
            "text/plain": [
              "     PassengerId  Survived                                             Name  \\\n",
              "0            644         1                                  Foo, Mr. Choong   \n",
              "1            794         0                         Hoyt, Mr. William Fisher   \n",
              "2            175         0                          Smith, Mr. James Clinch   \n",
              "3             16         1                 Hewlett, Mrs. (Mary D Kingcome)    \n",
              "4            792         0                              Gaskell, Mr. Alfred   \n",
              "..           ...       ...                                              ...   \n",
              "886          168         0  Skoog, Mrs. William (Anna Bernhardina Karlsson)   \n",
              "887          233         0                        Sjostedt, Mr. Ernst Adolf   \n",
              "888          861         0                          Hansen, Mr. Claus Peter   \n",
              "889          190         0                              Turcin, Mr. Stjepan   \n",
              "890          152         1                Pears, Mrs. Thomas (Edith Wearne)   \n",
              "\n",
              "      Age    Ticket     Fare Embarked  Pclass_3  Pclass_1  Pclass_2  ...  \\\n",
              "0     NaN      1601  56.4958        S       1.0       0.0       0.0  ...   \n",
              "1     NaN  PC 17600  30.6958        C       0.0       1.0       0.0  ...   \n",
              "2    56.0     17764  30.6958        C       0.0       1.0       0.0  ...   \n",
              "3    55.0    248706  16.0000        S       0.0       0.0       1.0  ...   \n",
              "4    16.0    239865  26.0000        S       0.0       0.0       1.0  ...   \n",
              "..    ...       ...      ...      ...       ...       ...       ...  ...   \n",
              "886  45.0    347088  27.9000        S       1.0       0.0       0.0  ...   \n",
              "887  59.0    237442  13.5000        S       0.0       0.0       1.0  ...   \n",
              "888  41.0    350026  14.1083        S       1.0       0.0       0.0  ...   \n",
              "889  36.0    349247   7.8958        S       1.0       0.0       0.0  ...   \n",
              "890  22.0    113776  66.6000        S       0.0       1.0       0.0  ...   \n",
              "\n",
              "     Cabin_D28  Cabin_A24  Cabin_C91  Cabin_A10  Cabin_B73  Cabin_B80  \\\n",
              "0          0.0        0.0        0.0        0.0        0.0        0.0   \n",
              "1          0.0        0.0        0.0        0.0        0.0        0.0   \n",
              "2          0.0        0.0        0.0        0.0        0.0        0.0   \n",
              "3          0.0        0.0        0.0        0.0        0.0        0.0   \n",
              "4          0.0        0.0        0.0        0.0        0.0        0.0   \n",
              "..         ...        ...        ...        ...        ...        ...   \n",
              "886        0.0        0.0        0.0        0.0        0.0        0.0   \n",
              "887        0.0        0.0        0.0        0.0        0.0        0.0   \n",
              "888        0.0        0.0        0.0        0.0        0.0        0.0   \n",
              "889        0.0        0.0        0.0        0.0        0.0        0.0   \n",
              "890        0.0        0.0        0.0        0.0        0.0        0.0   \n",
              "\n",
              "     Cabin_E40  Cabin_D48  Cabin_E50  Cabin_A6  \n",
              "0          0.0        0.0        0.0       0.0  \n",
              "1          0.0        0.0        0.0       0.0  \n",
              "2          0.0        0.0        0.0       0.0  \n",
              "3          0.0        0.0        0.0       0.0  \n",
              "4          0.0        0.0        0.0       0.0  \n",
              "..         ...        ...        ...       ...  \n",
              "886        0.0        0.0        0.0       0.0  \n",
              "887        0.0        0.0        0.0       0.0  \n",
              "888        0.0        0.0        0.0       0.0  \n",
              "889        0.0        0.0        0.0       0.0  \n",
              "890        0.0        0.0        0.0       0.0  \n",
              "\n",
              "[891 rows x 174 columns]"
            ],
            "text/html": [
              "\n",
              "  <div id=\"df-69f10529-0720-4b20-a9e6-e803591167b0\">\n",
              "    <div class=\"colab-df-container\">\n",
              "      <div>\n",
              "<style scoped>\n",
              "    .dataframe tbody tr th:only-of-type {\n",
              "        vertical-align: middle;\n",
              "    }\n",
              "\n",
              "    .dataframe tbody tr th {\n",
              "        vertical-align: top;\n",
              "    }\n",
              "\n",
              "    .dataframe thead th {\n",
              "        text-align: right;\n",
              "    }\n",
              "</style>\n",
              "<table border=\"1\" class=\"dataframe\">\n",
              "  <thead>\n",
              "    <tr style=\"text-align: right;\">\n",
              "      <th></th>\n",
              "      <th>PassengerId</th>\n",
              "      <th>Survived</th>\n",
              "      <th>Name</th>\n",
              "      <th>Age</th>\n",
              "      <th>Ticket</th>\n",
              "      <th>Fare</th>\n",
              "      <th>Embarked</th>\n",
              "      <th>Pclass_3</th>\n",
              "      <th>Pclass_1</th>\n",
              "      <th>Pclass_2</th>\n",
              "      <th>...</th>\n",
              "      <th>Cabin_D28</th>\n",
              "      <th>Cabin_A24</th>\n",
              "      <th>Cabin_C91</th>\n",
              "      <th>Cabin_A10</th>\n",
              "      <th>Cabin_B73</th>\n",
              "      <th>Cabin_B80</th>\n",
              "      <th>Cabin_E40</th>\n",
              "      <th>Cabin_D48</th>\n",
              "      <th>Cabin_E50</th>\n",
              "      <th>Cabin_A6</th>\n",
              "    </tr>\n",
              "  </thead>\n",
              "  <tbody>\n",
              "    <tr>\n",
              "      <th>0</th>\n",
              "      <td>644</td>\n",
              "      <td>1</td>\n",
              "      <td>Foo, Mr. Choong</td>\n",
              "      <td>NaN</td>\n",
              "      <td>1601</td>\n",
              "      <td>56.4958</td>\n",
              "      <td>S</td>\n",
              "      <td>1.0</td>\n",
              "      <td>0.0</td>\n",
              "      <td>0.0</td>\n",
              "      <td>...</td>\n",
              "      <td>0.0</td>\n",
              "      <td>0.0</td>\n",
              "      <td>0.0</td>\n",
              "      <td>0.0</td>\n",
              "      <td>0.0</td>\n",
              "      <td>0.0</td>\n",
              "      <td>0.0</td>\n",
              "      <td>0.0</td>\n",
              "      <td>0.0</td>\n",
              "      <td>0.0</td>\n",
              "    </tr>\n",
              "    <tr>\n",
              "      <th>1</th>\n",
              "      <td>794</td>\n",
              "      <td>0</td>\n",
              "      <td>Hoyt, Mr. William Fisher</td>\n",
              "      <td>NaN</td>\n",
              "      <td>PC 17600</td>\n",
              "      <td>30.6958</td>\n",
              "      <td>C</td>\n",
              "      <td>0.0</td>\n",
              "      <td>1.0</td>\n",
              "      <td>0.0</td>\n",
              "      <td>...</td>\n",
              "      <td>0.0</td>\n",
              "      <td>0.0</td>\n",
              "      <td>0.0</td>\n",
              "      <td>0.0</td>\n",
              "      <td>0.0</td>\n",
              "      <td>0.0</td>\n",
              "      <td>0.0</td>\n",
              "      <td>0.0</td>\n",
              "      <td>0.0</td>\n",
              "      <td>0.0</td>\n",
              "    </tr>\n",
              "    <tr>\n",
              "      <th>2</th>\n",
              "      <td>175</td>\n",
              "      <td>0</td>\n",
              "      <td>Smith, Mr. James Clinch</td>\n",
              "      <td>56.0</td>\n",
              "      <td>17764</td>\n",
              "      <td>30.6958</td>\n",
              "      <td>C</td>\n",
              "      <td>0.0</td>\n",
              "      <td>1.0</td>\n",
              "      <td>0.0</td>\n",
              "      <td>...</td>\n",
              "      <td>0.0</td>\n",
              "      <td>0.0</td>\n",
              "      <td>0.0</td>\n",
              "      <td>0.0</td>\n",
              "      <td>0.0</td>\n",
              "      <td>0.0</td>\n",
              "      <td>0.0</td>\n",
              "      <td>0.0</td>\n",
              "      <td>0.0</td>\n",
              "      <td>0.0</td>\n",
              "    </tr>\n",
              "    <tr>\n",
              "      <th>3</th>\n",
              "      <td>16</td>\n",
              "      <td>1</td>\n",
              "      <td>Hewlett, Mrs. (Mary D Kingcome)</td>\n",
              "      <td>55.0</td>\n",
              "      <td>248706</td>\n",
              "      <td>16.0000</td>\n",
              "      <td>S</td>\n",
              "      <td>0.0</td>\n",
              "      <td>0.0</td>\n",
              "      <td>1.0</td>\n",
              "      <td>...</td>\n",
              "      <td>0.0</td>\n",
              "      <td>0.0</td>\n",
              "      <td>0.0</td>\n",
              "      <td>0.0</td>\n",
              "      <td>0.0</td>\n",
              "      <td>0.0</td>\n",
              "      <td>0.0</td>\n",
              "      <td>0.0</td>\n",
              "      <td>0.0</td>\n",
              "      <td>0.0</td>\n",
              "    </tr>\n",
              "    <tr>\n",
              "      <th>4</th>\n",
              "      <td>792</td>\n",
              "      <td>0</td>\n",
              "      <td>Gaskell, Mr. Alfred</td>\n",
              "      <td>16.0</td>\n",
              "      <td>239865</td>\n",
              "      <td>26.0000</td>\n",
              "      <td>S</td>\n",
              "      <td>0.0</td>\n",
              "      <td>0.0</td>\n",
              "      <td>1.0</td>\n",
              "      <td>...</td>\n",
              "      <td>0.0</td>\n",
              "      <td>0.0</td>\n",
              "      <td>0.0</td>\n",
              "      <td>0.0</td>\n",
              "      <td>0.0</td>\n",
              "      <td>0.0</td>\n",
              "      <td>0.0</td>\n",
              "      <td>0.0</td>\n",
              "      <td>0.0</td>\n",
              "      <td>0.0</td>\n",
              "    </tr>\n",
              "    <tr>\n",
              "      <th>...</th>\n",
              "      <td>...</td>\n",
              "      <td>...</td>\n",
              "      <td>...</td>\n",
              "      <td>...</td>\n",
              "      <td>...</td>\n",
              "      <td>...</td>\n",
              "      <td>...</td>\n",
              "      <td>...</td>\n",
              "      <td>...</td>\n",
              "      <td>...</td>\n",
              "      <td>...</td>\n",
              "      <td>...</td>\n",
              "      <td>...</td>\n",
              "      <td>...</td>\n",
              "      <td>...</td>\n",
              "      <td>...</td>\n",
              "      <td>...</td>\n",
              "      <td>...</td>\n",
              "      <td>...</td>\n",
              "      <td>...</td>\n",
              "      <td>...</td>\n",
              "    </tr>\n",
              "    <tr>\n",
              "      <th>886</th>\n",
              "      <td>168</td>\n",
              "      <td>0</td>\n",
              "      <td>Skoog, Mrs. William (Anna Bernhardina Karlsson)</td>\n",
              "      <td>45.0</td>\n",
              "      <td>347088</td>\n",
              "      <td>27.9000</td>\n",
              "      <td>S</td>\n",
              "      <td>1.0</td>\n",
              "      <td>0.0</td>\n",
              "      <td>0.0</td>\n",
              "      <td>...</td>\n",
              "      <td>0.0</td>\n",
              "      <td>0.0</td>\n",
              "      <td>0.0</td>\n",
              "      <td>0.0</td>\n",
              "      <td>0.0</td>\n",
              "      <td>0.0</td>\n",
              "      <td>0.0</td>\n",
              "      <td>0.0</td>\n",
              "      <td>0.0</td>\n",
              "      <td>0.0</td>\n",
              "    </tr>\n",
              "    <tr>\n",
              "      <th>887</th>\n",
              "      <td>233</td>\n",
              "      <td>0</td>\n",
              "      <td>Sjostedt, Mr. Ernst Adolf</td>\n",
              "      <td>59.0</td>\n",
              "      <td>237442</td>\n",
              "      <td>13.5000</td>\n",
              "      <td>S</td>\n",
              "      <td>0.0</td>\n",
              "      <td>0.0</td>\n",
              "      <td>1.0</td>\n",
              "      <td>...</td>\n",
              "      <td>0.0</td>\n",
              "      <td>0.0</td>\n",
              "      <td>0.0</td>\n",
              "      <td>0.0</td>\n",
              "      <td>0.0</td>\n",
              "      <td>0.0</td>\n",
              "      <td>0.0</td>\n",
              "      <td>0.0</td>\n",
              "      <td>0.0</td>\n",
              "      <td>0.0</td>\n",
              "    </tr>\n",
              "    <tr>\n",
              "      <th>888</th>\n",
              "      <td>861</td>\n",
              "      <td>0</td>\n",
              "      <td>Hansen, Mr. Claus Peter</td>\n",
              "      <td>41.0</td>\n",
              "      <td>350026</td>\n",
              "      <td>14.1083</td>\n",
              "      <td>S</td>\n",
              "      <td>1.0</td>\n",
              "      <td>0.0</td>\n",
              "      <td>0.0</td>\n",
              "      <td>...</td>\n",
              "      <td>0.0</td>\n",
              "      <td>0.0</td>\n",
              "      <td>0.0</td>\n",
              "      <td>0.0</td>\n",
              "      <td>0.0</td>\n",
              "      <td>0.0</td>\n",
              "      <td>0.0</td>\n",
              "      <td>0.0</td>\n",
              "      <td>0.0</td>\n",
              "      <td>0.0</td>\n",
              "    </tr>\n",
              "    <tr>\n",
              "      <th>889</th>\n",
              "      <td>190</td>\n",
              "      <td>0</td>\n",
              "      <td>Turcin, Mr. Stjepan</td>\n",
              "      <td>36.0</td>\n",
              "      <td>349247</td>\n",
              "      <td>7.8958</td>\n",
              "      <td>S</td>\n",
              "      <td>1.0</td>\n",
              "      <td>0.0</td>\n",
              "      <td>0.0</td>\n",
              "      <td>...</td>\n",
              "      <td>0.0</td>\n",
              "      <td>0.0</td>\n",
              "      <td>0.0</td>\n",
              "      <td>0.0</td>\n",
              "      <td>0.0</td>\n",
              "      <td>0.0</td>\n",
              "      <td>0.0</td>\n",
              "      <td>0.0</td>\n",
              "      <td>0.0</td>\n",
              "      <td>0.0</td>\n",
              "    </tr>\n",
              "    <tr>\n",
              "      <th>890</th>\n",
              "      <td>152</td>\n",
              "      <td>1</td>\n",
              "      <td>Pears, Mrs. Thomas (Edith Wearne)</td>\n",
              "      <td>22.0</td>\n",
              "      <td>113776</td>\n",
              "      <td>66.6000</td>\n",
              "      <td>S</td>\n",
              "      <td>0.0</td>\n",
              "      <td>1.0</td>\n",
              "      <td>0.0</td>\n",
              "      <td>...</td>\n",
              "      <td>0.0</td>\n",
              "      <td>0.0</td>\n",
              "      <td>0.0</td>\n",
              "      <td>0.0</td>\n",
              "      <td>0.0</td>\n",
              "      <td>0.0</td>\n",
              "      <td>0.0</td>\n",
              "      <td>0.0</td>\n",
              "      <td>0.0</td>\n",
              "      <td>0.0</td>\n",
              "    </tr>\n",
              "  </tbody>\n",
              "</table>\n",
              "<p>891 rows × 174 columns</p>\n",
              "</div>\n",
              "      <button class=\"colab-df-convert\" onclick=\"convertToInteractive('df-69f10529-0720-4b20-a9e6-e803591167b0')\"\n",
              "              title=\"Convert this dataframe to an interactive table.\"\n",
              "              style=\"display:none;\">\n",
              "        \n",
              "  <svg xmlns=\"http://www.w3.org/2000/svg\" height=\"24px\"viewBox=\"0 0 24 24\"\n",
              "       width=\"24px\">\n",
              "    <path d=\"M0 0h24v24H0V0z\" fill=\"none\"/>\n",
              "    <path d=\"M18.56 5.44l.94 2.06.94-2.06 2.06-.94-2.06-.94-.94-2.06-.94 2.06-2.06.94zm-11 1L8.5 8.5l.94-2.06 2.06-.94-2.06-.94L8.5 2.5l-.94 2.06-2.06.94zm10 10l.94 2.06.94-2.06 2.06-.94-2.06-.94-.94-2.06-.94 2.06-2.06.94z\"/><path d=\"M17.41 7.96l-1.37-1.37c-.4-.4-.92-.59-1.43-.59-.52 0-1.04.2-1.43.59L10.3 9.45l-7.72 7.72c-.78.78-.78 2.05 0 2.83L4 21.41c.39.39.9.59 1.41.59.51 0 1.02-.2 1.41-.59l7.78-7.78 2.81-2.81c.8-.78.8-2.07 0-2.86zM5.41 20L4 18.59l7.72-7.72 1.47 1.35L5.41 20z\"/>\n",
              "  </svg>\n",
              "      </button>\n",
              "      \n",
              "  <style>\n",
              "    .colab-df-container {\n",
              "      display:flex;\n",
              "      flex-wrap:wrap;\n",
              "      gap: 12px;\n",
              "    }\n",
              "\n",
              "    .colab-df-convert {\n",
              "      background-color: #E8F0FE;\n",
              "      border: none;\n",
              "      border-radius: 50%;\n",
              "      cursor: pointer;\n",
              "      display: none;\n",
              "      fill: #1967D2;\n",
              "      height: 32px;\n",
              "      padding: 0 0 0 0;\n",
              "      width: 32px;\n",
              "    }\n",
              "\n",
              "    .colab-df-convert:hover {\n",
              "      background-color: #E2EBFA;\n",
              "      box-shadow: 0px 1px 2px rgba(60, 64, 67, 0.3), 0px 1px 3px 1px rgba(60, 64, 67, 0.15);\n",
              "      fill: #174EA6;\n",
              "    }\n",
              "\n",
              "    [theme=dark] .colab-df-convert {\n",
              "      background-color: #3B4455;\n",
              "      fill: #D2E3FC;\n",
              "    }\n",
              "\n",
              "    [theme=dark] .colab-df-convert:hover {\n",
              "      background-color: #434B5C;\n",
              "      box-shadow: 0px 1px 3px 1px rgba(0, 0, 0, 0.15);\n",
              "      filter: drop-shadow(0px 1px 2px rgba(0, 0, 0, 0.3));\n",
              "      fill: #FFFFFF;\n",
              "    }\n",
              "  </style>\n",
              "\n",
              "      <script>\n",
              "        const buttonEl =\n",
              "          document.querySelector('#df-69f10529-0720-4b20-a9e6-e803591167b0 button.colab-df-convert');\n",
              "        buttonEl.style.display =\n",
              "          google.colab.kernel.accessAllowed ? 'block' : 'none';\n",
              "\n",
              "        async function convertToInteractive(key) {\n",
              "          const element = document.querySelector('#df-69f10529-0720-4b20-a9e6-e803591167b0');\n",
              "          const dataTable =\n",
              "            await google.colab.kernel.invokeFunction('convertToInteractive',\n",
              "                                                     [key], {});\n",
              "          if (!dataTable) return;\n",
              "\n",
              "          const docLinkHtml = 'Like what you see? Visit the ' +\n",
              "            '<a target=\"_blank\" href=https://colab.research.google.com/notebooks/data_table.ipynb>data table notebook</a>'\n",
              "            + ' to learn more about interactive tables.';\n",
              "          element.innerHTML = '';\n",
              "          dataTable['output_type'] = 'display_data';\n",
              "          await google.colab.output.renderOutput(dataTable, element);\n",
              "          const docLink = document.createElement('div');\n",
              "          docLink.innerHTML = docLinkHtml;\n",
              "          element.appendChild(docLink);\n",
              "        }\n",
              "      </script>\n",
              "    </div>\n",
              "  </div>\n",
              "  "
            ]
          },
          "metadata": {},
          "execution_count": 41
        }
      ]
    },
    {
      "cell_type": "markdown",
      "source": [
        "## *Embarked*"
      ],
      "metadata": {
        "id": "sxREnUs4m3ss"
      }
    },
    {
      "cell_type": "code",
      "source": [
        "column = \"Embarked\""
      ],
      "metadata": {
        "id": "Y0wWa0vZm3ss"
      },
      "execution_count": 42,
      "outputs": []
    },
    {
      "cell_type": "code",
      "source": [
        "#@markdown # Barplot\n",
        "data_train[column].value_counts().plot(kind=\"bar\")"
      ],
      "metadata": {
        "cellView": "form",
        "outputId": "255643c2-0b6b-45c2-c0ab-6d252d38f6ba",
        "colab": {
          "base_uri": "https://localhost:8080/",
          "height": 0
        },
        "id": "TMOfckVWm3ss"
      },
      "execution_count": 43,
      "outputs": [
        {
          "output_type": "execute_result",
          "data": {
            "text/plain": [
              "<matplotlib.axes._subplots.AxesSubplot at 0x7f55399dd1d0>"
            ]
          },
          "metadata": {},
          "execution_count": 43
        },
        {
          "output_type": "display_data",
          "data": {
            "text/plain": [
              "<Figure size 432x288 with 1 Axes>"
            ],
            "image/png": "[encoded data removed]"
          },
          "metadata": {
            "needs_background": "light"
          }
        }
      ]
    },
    {
      "cell_type": "code",
      "source": [
        "#@markdown # Catplot\n",
        "sns.catplot(x=column, y=column, data=data_train)"
      ],
      "metadata": {
        "cellView": "form",
        "outputId": "d505557b-f066-4664-a420-fa4b8749ff14",
        "colab": {
          "base_uri": "https://localhost:8080/",
          "height": 0
        },
        "id": "8SCB2Abtm3ss"
      },
      "execution_count": 44,
      "outputs": [
        {
          "output_type": "execute_result",
          "data": {
            "text/plain": [
              "<seaborn.axisgrid.FacetGrid at 0x7f5539a43d10>"
            ]
          },
          "metadata": {},
          "execution_count": 44
        },
        {
          "output_type": "display_data",
          "data": {
            "text/plain": [
              "<Figure size 360x360 with 1 Axes>"
            ],
            "image/png": "[encoded data removed]"
          },
          "metadata": {
            "needs_background": "light"
          }
        }
      ]
    },
    {
      "cell_type": "code",
      "source": [
        "categories = get_categories(data_train, column, keep_null=True)\n",
        "categories"
      ],
      "metadata": {
        "outputId": "5d107330-8118-403a-fcf2-4236823705ad",
        "colab": {
          "base_uri": "https://localhost:8080/"
        },
        "id": "YW7uifEOm3ss"
      },
      "execution_count": 45,
      "outputs": [
        {
          "output_type": "execute_result",
          "data": {
            "text/plain": [
              "array(['S', 'C', 'Q', nan], dtype=object)"
            ]
          },
          "metadata": {},
          "execution_count": 45
        }
      ]
    },
    {
      "cell_type": "code",
      "source": [
        "one_hot_encoder(data_train, column, categories)\n",
        "one_hot_encoder(data_predict, column, categories)\n",
        "data_train"
      ],
      "metadata": {
        "outputId": "b5fed98a-b988-4ec0-bde6-be8b2d0476e4",
        "colab": {
          "base_uri": "https://localhost:8080/",
          "height": 0
        },
        "id": "aveEGPgXm3st"
      },
      "execution_count": 46,
      "outputs": [
        {
          "output_type": "stream",
          "name": "stderr",
          "text": [
            "/usr/local/lib/python3.7/dist-packages/ipykernel_launcher.py:11: SettingWithCopyWarning: \n",
            "A value is trying to be set on a copy of a slice from a DataFrame\n",
            "\n",
            "See the caveats in the documentation: https://pandas.pydata.org/pandas-docs/stable/user_guide/indexing.html#returning-a-view-versus-a-copy\n",
            "  # This is added back by InteractiveShellApp.init_path()\n",
            "/usr/local/lib/python3.7/dist-packages/ipykernel_launcher.py:3: PerformanceWarning: DataFrame is highly fragmented.  This is usually the result of calling `frame.insert` many times, which has poor performance.  Consider joining all columns at once using pd.concat(axis=1) instead.  To get a de-fragmented frame, use `newframe = frame.copy()`\n",
            "  This is separate from the ipykernel package so we can avoid doing imports until\n"
          ]
        },
        {
          "output_type": "execute_result",
          "data": {
            "text/plain": [
              "     PassengerId  Survived                                             Name  \\\n",
              "0            644         1                                  Foo, Mr. Choong   \n",
              "1            794         0                         Hoyt, Mr. William Fisher   \n",
              "2            175         0                          Smith, Mr. James Clinch   \n",
              "3             16         1                 Hewlett, Mrs. (Mary D Kingcome)    \n",
              "4            792         0                              Gaskell, Mr. Alfred   \n",
              "..           ...       ...                                              ...   \n",
              "886          168         0  Skoog, Mrs. William (Anna Bernhardina Karlsson)   \n",
              "887          233         0                        Sjostedt, Mr. Ernst Adolf   \n",
              "888          861         0                          Hansen, Mr. Claus Peter   \n",
              "889          190         0                              Turcin, Mr. Stjepan   \n",
              "890          152         1                Pears, Mrs. Thomas (Edith Wearne)   \n",
              "\n",
              "      Age    Ticket     Fare  Pclass_3  Pclass_1  Pclass_2  Sex_male  ...  \\\n",
              "0     NaN      1601  56.4958       1.0       0.0       0.0       1.0  ...   \n",
              "1     NaN  PC 17600  30.6958       0.0       1.0       0.0       1.0  ...   \n",
              "2    56.0     17764  30.6958       0.0       1.0       0.0       1.0  ...   \n",
              "3    55.0    248706  16.0000       0.0       0.0       1.0       0.0  ...   \n",
              "4    16.0    239865  26.0000       0.0       0.0       1.0       1.0  ...   \n",
              "..    ...       ...      ...       ...       ...       ...       ...  ...   \n",
              "886  45.0    347088  27.9000       1.0       0.0       0.0       0.0  ...   \n",
              "887  59.0    237442  13.5000       0.0       0.0       1.0       1.0  ...   \n",
              "888  41.0    350026  14.1083       1.0       0.0       0.0       1.0  ...   \n",
              "889  36.0    349247   7.8958       1.0       0.0       0.0       1.0  ...   \n",
              "890  22.0    113776  66.6000       0.0       1.0       0.0       0.0  ...   \n",
              "\n",
              "     Cabin_B73  Cabin_B80  Cabin_E40  Cabin_D48  Cabin_E50  Cabin_A6  \\\n",
              "0          0.0        0.0        0.0        0.0        0.0       0.0   \n",
              "1          0.0        0.0        0.0        0.0        0.0       0.0   \n",
              "2          0.0        0.0        0.0        0.0        0.0       0.0   \n",
              "3          0.0        0.0        0.0        0.0        0.0       0.0   \n",
              "4          0.0        0.0        0.0        0.0        0.0       0.0   \n",
              "..         ...        ...        ...        ...        ...       ...   \n",
              "886        0.0        0.0        0.0        0.0        0.0       0.0   \n",
              "887        0.0        0.0        0.0        0.0        0.0       0.0   \n",
              "888        0.0        0.0        0.0        0.0        0.0       0.0   \n",
              "889        0.0        0.0        0.0        0.0        0.0       0.0   \n",
              "890        0.0        0.0        0.0        0.0        0.0       0.0   \n",
              "\n",
              "     Embarked_S  Embarked_C  Embarked_Q  Embarked_nan  \n",
              "0           1.0         0.0         0.0           0.0  \n",
              "1           0.0         1.0         0.0           0.0  \n",
              "2           0.0         1.0         0.0           0.0  \n",
              "3           1.0         0.0         0.0           0.0  \n",
              "4           1.0         0.0         0.0           0.0  \n",
              "..          ...         ...         ...           ...  \n",
              "886         1.0         0.0         0.0           0.0  \n",
              "887         1.0         0.0         0.0           0.0  \n",
              "888         1.0         0.0         0.0           0.0  \n",
              "889         1.0         0.0         0.0           0.0  \n",
              "890         1.0         0.0         0.0           0.0  \n",
              "\n",
              "[891 rows x 177 columns]"
            ],
            "text/html": [
              "\n",
              "  <div id=\"df-20d9bd4d-bfe5-40ba-b515-4fe13050ebba\">\n",
              "    <div class=\"colab-df-container\">\n",
              "      <div>\n",
              "<style scoped>\n",
              "    .dataframe tbody tr th:only-of-type {\n",
              "        vertical-align: middle;\n",
              "    }\n",
              "\n",
              "    .dataframe tbody tr th {\n",
              "        vertical-align: top;\n",
              "    }\n",
              "\n",
              "    .dataframe thead th {\n",
              "        text-align: right;\n",
              "    }\n",
              "</style>\n",
              "<table border=\"1\" class=\"dataframe\">\n",
              "  <thead>\n",
              "    <tr style=\"text-align: right;\">\n",
              "      <th></th>\n",
              "      <th>PassengerId</th>\n",
              "      <th>Survived</th>\n",
              "      <th>Name</th>\n",
              "      <th>Age</th>\n",
              "      <th>Ticket</th>\n",
              "      <th>Fare</th>\n",
              "      <th>Pclass_3</th>\n",
              "      <th>Pclass_1</th>\n",
              "      <th>Pclass_2</th>\n",
              "      <th>Sex_male</th>\n",
              "      <th>...</th>\n",
              "      <th>Cabin_B73</th>\n",
              "      <th>Cabin_B80</th>\n",
              "      <th>Cabin_E40</th>\n",
              "      <th>Cabin_D48</th>\n",
              "      <th>Cabin_E50</th>\n",
              "      <th>Cabin_A6</th>\n",
              "      <th>Embarked_S</th>\n",
              "      <th>Embarked_C</th>\n",
              "      <th>Embarked_Q</th>\n",
              "      <th>Embarked_nan</th>\n",
              "    </tr>\n",
              "  </thead>\n",
              "  <tbody>\n",
              "    <tr>\n",
              "      <th>0</th>\n",
              "      <td>644</td>\n",
              "      <td>1</td>\n",
              "      <td>Foo, Mr. Choong</td>\n",
              "      <td>NaN</td>\n",
              "      <td>1601</td>\n",
              "      <td>56.4958</td>\n",
              "      <td>1.0</td>\n",
              "      <td>0.0</td>\n",
              "      <td>0.0</td>\n",
              "      <td>1.0</td>\n",
              "      <td>...</td>\n",
              "      <td>0.0</td>\n",
              "      <td>0.0</td>\n",
              "      <td>0.0</td>\n",
              "      <td>0.0</td>\n",
              "      <td>0.0</td>\n",
              "      <td>0.0</td>\n",
              "      <td>1.0</td>\n",
              "      <td>0.0</td>\n",
              "      <td>0.0</td>\n",
              "      <td>0.0</td>\n",
              "    </tr>\n",
              "    <tr>\n",
              "      <th>1</th>\n",
              "      <td>794</td>\n",
              "      <td>0</td>\n",
              "      <td>Hoyt, Mr. William Fisher</td>\n",
              "      <td>NaN</td>\n",
              "      <td>PC 17600</td>\n",
              "      <td>30.6958</td>\n",
              "      <td>0.0</td>\n",
              "      <td>1.0</td>\n",
              "      <td>0.0</td>\n",
              "      <td>1.0</td>\n",
              "      <td>...</td>\n",
              "      <td>0.0</td>\n",
              "      <td>0.0</td>\n",
              "      <td>0.0</td>\n",
              "      <td>0.0</td>\n",
              "      <td>0.0</td>\n",
              "      <td>0.0</td>\n",
              "      <td>0.0</td>\n",
              "      <td>1.0</td>\n",
              "      <td>0.0</td>\n",
              "      <td>0.0</td>\n",
              "    </tr>\n",
              "    <tr>\n",
              "      <th>2</th>\n",
              "      <td>175</td>\n",
              "      <td>0</td>\n",
              "      <td>Smith, Mr. James Clinch</td>\n",
              "      <td>56.0</td>\n",
              "      <td>17764</td>\n",
              "      <td>30.6958</td>\n",
              "      <td>0.0</td>\n",
              "      <td>1.0</td>\n",
              "      <td>0.0</td>\n",
              "      <td>1.0</td>\n",
              "      <td>...</td>\n",
              "      <td>0.0</td>\n",
              "      <td>0.0</td>\n",
              "      <td>0.0</td>\n",
              "      <td>0.0</td>\n",
              "      <td>0.0</td>\n",
              "      <td>0.0</td>\n",
              "      <td>0.0</td>\n",
              "      <td>1.0</td>\n",
              "      <td>0.0</td>\n",
              "      <td>0.0</td>\n",
              "    </tr>\n",
              "    <tr>\n",
              "      <th>3</th>\n",
              "      <td>16</td>\n",
              "      <td>1</td>\n",
              "      <td>Hewlett, Mrs. (Mary D Kingcome)</td>\n",
              "      <td>55.0</td>\n",
              "      <td>248706</td>\n",
              "      <td>16.0000</td>\n",
              "      <td>0.0</td>\n",
              "      <td>0.0</td>\n",
              "      <td>1.0</td>\n",
              "      <td>0.0</td>\n",
              "      <td>...</td>\n",
              "      <td>0.0</td>\n",
              "      <td>0.0</td>\n",
              "      <td>0.0</td>\n",
              "      <td>0.0</td>\n",
              "      <td>0.0</td>\n",
              "      <td>0.0</td>\n",
              "      <td>1.0</td>\n",
              "      <td>0.0</td>\n",
              "      <td>0.0</td>\n",
              "      <td>0.0</td>\n",
              "    </tr>\n",
              "    <tr>\n",
              "      <th>4</th>\n",
              "      <td>792</td>\n",
              "      <td>0</td>\n",
              "      <td>Gaskell, Mr. Alfred</td>\n",
              "      <td>16.0</td>\n",
              "      <td>239865</td>\n",
              "      <td>26.0000</td>\n",
              "      <td>0.0</td>\n",
              "      <td>0.0</td>\n",
              "      <td>1.0</td>\n",
              "      <td>1.0</td>\n",
              "      <td>...</td>\n",
              "      <td>0.0</td>\n",
              "      <td>0.0</td>\n",
              "      <td>0.0</td>\n",
              "      <td>0.0</td>\n",
              "      <td>0.0</td>\n",
              "      <td>0.0</td>\n",
              "      <td>1.0</td>\n",
              "      <td>0.0</td>\n",
              "      <td>0.0</td>\n",
              "      <td>0.0</td>\n",
              "    </tr>\n",
              "    <tr>\n",
              "      <th>...</th>\n",
              "      <td>...</td>\n",
              "      <td>...</td>\n",
              "      <td>...</td>\n",
              "      <td>...</td>\n",
              "      <td>...</td>\n",
              "      <td>...</td>\n",
              "      <td>...</td>\n",
              "      <td>...</td>\n",
              "      <td>...</td>\n",
              "      <td>...</td>\n",
              "      <td>...</td>\n",
              "      <td>...</td>\n",
              "      <td>...</td>\n",
              "      <td>...</td>\n",
              "      <td>...</td>\n",
              "      <td>...</td>\n",
              "      <td>...</td>\n",
              "      <td>...</td>\n",
              "      <td>...</td>\n",
              "      <td>...</td>\n",
              "      <td>...</td>\n",
              "    </tr>\n",
              "    <tr>\n",
              "      <th>886</th>\n",
              "      <td>168</td>\n",
              "      <td>0</td>\n",
              "      <td>Skoog, Mrs. William (Anna Bernhardina Karlsson)</td>\n",
              "      <td>45.0</td>\n",
              "      <td>347088</td>\n",
              "      <td>27.9000</td>\n",
              "      <td>1.0</td>\n",
              "      <td>0.0</td>\n",
              "      <td>0.0</td>\n",
              "      <td>0.0</td>\n",
              "      <td>...</td>\n",
              "      <td>0.0</td>\n",
              "      <td>0.0</td>\n",
              "      <td>0.0</td>\n",
              "      <td>0.0</td>\n",
              "      <td>0.0</td>\n",
              "      <td>0.0</td>\n",
              "      <td>1.0</td>\n",
              "      <td>0.0</td>\n",
              "      <td>0.0</td>\n",
              "      <td>0.0</td>\n",
              "    </tr>\n",
              "    <tr>\n",
              "      <th>887</th>\n",
              "      <td>233</td>\n",
              "      <td>0</td>\n",
              "      <td>Sjostedt, Mr. Ernst Adolf</td>\n",
              "      <td>59.0</td>\n",
              "      <td>237442</td>\n",
              "      <td>13.5000</td>\n",
              "      <td>0.0</td>\n",
              "      <td>0.0</td>\n",
              "      <td>1.0</td>\n",
              "      <td>1.0</td>\n",
              "      <td>...</td>\n",
              "      <td>0.0</td>\n",
              "      <td>0.0</td>\n",
              "      <td>0.0</td>\n",
              "      <td>0.0</td>\n",
              "      <td>0.0</td>\n",
              "      <td>0.0</td>\n",
              "      <td>1.0</td>\n",
              "      <td>0.0</td>\n",
              "      <td>0.0</td>\n",
              "      <td>0.0</td>\n",
              "    </tr>\n",
              "    <tr>\n",
              "      <th>888</th>\n",
              "      <td>861</td>\n",
              "      <td>0</td>\n",
              "      <td>Hansen, Mr. Claus Peter</td>\n",
              "      <td>41.0</td>\n",
              "      <td>350026</td>\n",
              "      <td>14.1083</td>\n",
              "      <td>1.0</td>\n",
              "      <td>0.0</td>\n",
              "      <td>0.0</td>\n",
              "      <td>1.0</td>\n",
              "      <td>...</td>\n",
              "      <td>0.0</td>\n",
              "      <td>0.0</td>\n",
              "      <td>0.0</td>\n",
              "      <td>0.0</td>\n",
              "      <td>0.0</td>\n",
              "      <td>0.0</td>\n",
              "      <td>1.0</td>\n",
              "      <td>0.0</td>\n",
              "      <td>0.0</td>\n",
              "      <td>0.0</td>\n",
              "    </tr>\n",
              "    <tr>\n",
              "      <th>889</th>\n",
              "      <td>190</td>\n",
              "      <td>0</td>\n",
              "      <td>Turcin, Mr. Stjepan</td>\n",
              "      <td>36.0</td>\n",
              "      <td>349247</td>\n",
              "      <td>7.8958</td>\n",
              "      <td>1.0</td>\n",
              "      <td>0.0</td>\n",
              "      <td>0.0</td>\n",
              "      <td>1.0</td>\n",
              "      <td>...</td>\n",
              "      <td>0.0</td>\n",
              "      <td>0.0</td>\n",
              "      <td>0.0</td>\n",
              "      <td>0.0</td>\n",
              "      <td>0.0</td>\n",
              "      <td>0.0</td>\n",
              "      <td>1.0</td>\n",
              "      <td>0.0</td>\n",
              "      <td>0.0</td>\n",
              "      <td>0.0</td>\n",
              "    </tr>\n",
              "    <tr>\n",
              "      <th>890</th>\n",
              "      <td>152</td>\n",
              "      <td>1</td>\n",
              "      <td>Pears, Mrs. Thomas (Edith Wearne)</td>\n",
              "      <td>22.0</td>\n",
              "      <td>113776</td>\n",
              "      <td>66.6000</td>\n",
              "      <td>0.0</td>\n",
              "      <td>1.0</td>\n",
              "      <td>0.0</td>\n",
              "      <td>0.0</td>\n",
              "      <td>...</td>\n",
              "      <td>0.0</td>\n",
              "      <td>0.0</td>\n",
              "      <td>0.0</td>\n",
              "      <td>0.0</td>\n",
              "      <td>0.0</td>\n",
              "      <td>0.0</td>\n",
              "      <td>1.0</td>\n",
              "      <td>0.0</td>\n",
              "      <td>0.0</td>\n",
              "      <td>0.0</td>\n",
              "    </tr>\n",
              "  </tbody>\n",
              "</table>\n",
              "<p>891 rows × 177 columns</p>\n",
              "</div>\n",
              "      <button class=\"colab-df-convert\" onclick=\"convertToInteractive('df-20d9bd4d-bfe5-40ba-b515-4fe13050ebba')\"\n",
              "              title=\"Convert this dataframe to an interactive table.\"\n",
              "              style=\"display:none;\">\n",
              "        \n",
              "  <svg xmlns=\"http://www.w3.org/2000/svg\" height=\"24px\"viewBox=\"0 0 24 24\"\n",
              "       width=\"24px\">\n",
              "    <path d=\"M0 0h24v24H0V0z\" fill=\"none\"/>\n",
              "    <path d=\"M18.56 5.44l.94 2.06.94-2.06 2.06-.94-2.06-.94-.94-2.06-.94 2.06-2.06.94zm-11 1L8.5 8.5l.94-2.06 2.06-.94-2.06-.94L8.5 2.5l-.94 2.06-2.06.94zm10 10l.94 2.06.94-2.06 2.06-.94-2.06-.94-.94-2.06-.94 2.06-2.06.94z\"/><path d=\"M17.41 7.96l-1.37-1.37c-.4-.4-.92-.59-1.43-.59-.52 0-1.04.2-1.43.59L10.3 9.45l-7.72 7.72c-.78.78-.78 2.05 0 2.83L4 21.41c.39.39.9.59 1.41.59.51 0 1.02-.2 1.41-.59l7.78-7.78 2.81-2.81c.8-.78.8-2.07 0-2.86zM5.41 20L4 18.59l7.72-7.72 1.47 1.35L5.41 20z\"/>\n",
              "  </svg>\n",
              "      </button>\n",
              "      \n",
              "  <style>\n",
              "    .colab-df-container {\n",
              "      display:flex;\n",
              "      flex-wrap:wrap;\n",
              "      gap: 12px;\n",
              "    }\n",
              "\n",
              "    .colab-df-convert {\n",
              "      background-color: #E8F0FE;\n",
              "      border: none;\n",
              "      border-radius: 50%;\n",
              "      cursor: pointer;\n",
              "      display: none;\n",
              "      fill: #1967D2;\n",
              "      height: 32px;\n",
              "      padding: 0 0 0 0;\n",
              "      width: 32px;\n",
              "    }\n",
              "\n",
              "    .colab-df-convert:hover {\n",
              "      background-color: #E2EBFA;\n",
              "      box-shadow: 0px 1px 2px rgba(60, 64, 67, 0.3), 0px 1px 3px 1px rgba(60, 64, 67, 0.15);\n",
              "      fill: #174EA6;\n",
              "    }\n",
              "\n",
              "    [theme=dark] .colab-df-convert {\n",
              "      background-color: #3B4455;\n",
              "      fill: #D2E3FC;\n",
              "    }\n",
              "\n",
              "    [theme=dark] .colab-df-convert:hover {\n",
              "      background-color: #434B5C;\n",
              "      box-shadow: 0px 1px 3px 1px rgba(0, 0, 0, 0.15);\n",
              "      filter: drop-shadow(0px 1px 2px rgba(0, 0, 0, 0.3));\n",
              "      fill: #FFFFFF;\n",
              "    }\n",
              "  </style>\n",
              "\n",
              "      <script>\n",
              "        const buttonEl =\n",
              "          document.querySelector('#df-20d9bd4d-bfe5-40ba-b515-4fe13050ebba button.colab-df-convert');\n",
              "        buttonEl.style.display =\n",
              "          google.colab.kernel.accessAllowed ? 'block' : 'none';\n",
              "\n",
              "        async function convertToInteractive(key) {\n",
              "          const element = document.querySelector('#df-20d9bd4d-bfe5-40ba-b515-4fe13050ebba');\n",
              "          const dataTable =\n",
              "            await google.colab.kernel.invokeFunction('convertToInteractive',\n",
              "                                                     [key], {});\n",
              "          if (!dataTable) return;\n",
              "\n",
              "          const docLinkHtml = 'Like what you see? Visit the ' +\n",
              "            '<a target=\"_blank\" href=https://colab.research.google.com/notebooks/data_table.ipynb>data table notebook</a>'\n",
              "            + ' to learn more about interactive tables.';\n",
              "          element.innerHTML = '';\n",
              "          dataTable['output_type'] = 'display_data';\n",
              "          await google.colab.output.renderOutput(dataTable, element);\n",
              "          const docLink = document.createElement('div');\n",
              "          docLink.innerHTML = docLinkHtml;\n",
              "          element.appendChild(docLink);\n",
              "        }\n",
              "      </script>\n",
              "    </div>\n",
              "  </div>\n",
              "  "
            ]
          },
          "metadata": {},
          "execution_count": 46
        }
      ]
    },
    {
      "cell_type": "markdown",
      "source": [
        "## ELIMINAR COLUMNAS MOLESTAS"
      ],
      "metadata": {
        "id": "gsCRxLH7pWhP"
      }
    },
    {
      "cell_type": "code",
      "source": [
        "data_train.drop(columns='Name', inplace=True)\n",
        "data_train.drop(columns='Ticket', inplace=True)\n",
        "data_train.drop(columns='Age', inplace=True) #nulos\n",
        "data_train.drop(columns='Fare', inplace=True) #nulos en el predict\n",
        "\n",
        "data_predict.drop(columns='Name', inplace=True)\n",
        "data_predict.drop(columns='Ticket', inplace=True)\n",
        "data_predict.drop(columns='Age', inplace=True)\n",
        "data_predict.drop(columns='Fare', inplace=True)"
      ],
      "metadata": {
        "id": "xZ8Y19x7pZ4q"
      },
      "execution_count": 47,
      "outputs": []
    },
    {
      "cell_type": "markdown",
      "source": [
        "## *RESULTS*"
      ],
      "metadata": {
        "id": "VJF1Cv43m9u2"
      }
    },
    {
      "cell_type": "code",
      "source": [
        "y_train = data_train['Survived']\n",
        "X_train = data_train.copy()\n",
        "X_train.drop(columns='Survived', inplace=True)\n",
        "X_train.drop(columns='PassengerId', inplace=True)\n",
        "data_train"
      ],
      "metadata": {
        "outputId": "fb8a27a1-ad2d-43d5-b999-10cbf79aaa44",
        "colab": {
          "base_uri": "https://localhost:8080/",
          "height": 0
        },
        "id": "eVdAjFZBm9u3"
      },
      "execution_count": 48,
      "outputs": [
        {
          "output_type": "execute_result",
          "data": {
            "text/plain": [
              "     PassengerId  Survived  Pclass_3  Pclass_1  Pclass_2  Sex_male  \\\n",
              "0            644         1       1.0       0.0       0.0       1.0   \n",
              "1            794         0       0.0       1.0       0.0       1.0   \n",
              "2            175         0       0.0       1.0       0.0       1.0   \n",
              "3             16         1       0.0       0.0       1.0       0.0   \n",
              "4            792         0       0.0       0.0       1.0       1.0   \n",
              "..           ...       ...       ...       ...       ...       ...   \n",
              "886          168         0       1.0       0.0       0.0       0.0   \n",
              "887          233         0       0.0       0.0       1.0       1.0   \n",
              "888          861         0       1.0       0.0       0.0       1.0   \n",
              "889          190         0       1.0       0.0       0.0       1.0   \n",
              "890          152         1       0.0       1.0       0.0       0.0   \n",
              "\n",
              "     Sex_female  SibSp_0  SibSp_1  SibSp_3  ...  Cabin_B73  Cabin_B80  \\\n",
              "0           0.0      1.0      0.0      0.0  ...        0.0        0.0   \n",
              "1           0.0      1.0      0.0      0.0  ...        0.0        0.0   \n",
              "2           0.0      1.0      0.0      0.0  ...        0.0        0.0   \n",
              "3           1.0      1.0      0.0      0.0  ...        0.0        0.0   \n",
              "4           0.0      1.0      0.0      0.0  ...        0.0        0.0   \n",
              "..          ...      ...      ...      ...  ...        ...        ...   \n",
              "886         1.0      0.0      1.0      0.0  ...        0.0        0.0   \n",
              "887         0.0      1.0      0.0      0.0  ...        0.0        0.0   \n",
              "888         0.0      0.0      0.0      0.0  ...        0.0        0.0   \n",
              "889         0.0      1.0      0.0      0.0  ...        0.0        0.0   \n",
              "890         1.0      0.0      1.0      0.0  ...        0.0        0.0   \n",
              "\n",
              "     Cabin_E40  Cabin_D48  Cabin_E50  Cabin_A6  Embarked_S  Embarked_C  \\\n",
              "0          0.0        0.0        0.0       0.0         1.0         0.0   \n",
              "1          0.0        0.0        0.0       0.0         0.0         1.0   \n",
              "2          0.0        0.0        0.0       0.0         0.0         1.0   \n",
              "3          0.0        0.0        0.0       0.0         1.0         0.0   \n",
              "4          0.0        0.0        0.0       0.0         1.0         0.0   \n",
              "..         ...        ...        ...       ...         ...         ...   \n",
              "886        0.0        0.0        0.0       0.0         1.0         0.0   \n",
              "887        0.0        0.0        0.0       0.0         1.0         0.0   \n",
              "888        0.0        0.0        0.0       0.0         1.0         0.0   \n",
              "889        0.0        0.0        0.0       0.0         1.0         0.0   \n",
              "890        0.0        0.0        0.0       0.0         1.0         0.0   \n",
              "\n",
              "     Embarked_Q  Embarked_nan  \n",
              "0           0.0           0.0  \n",
              "1           0.0           0.0  \n",
              "2           0.0           0.0  \n",
              "3           0.0           0.0  \n",
              "4           0.0           0.0  \n",
              "..          ...           ...  \n",
              "886         0.0           0.0  \n",
              "887         0.0           0.0  \n",
              "888         0.0           0.0  \n",
              "889         0.0           0.0  \n",
              "890         0.0           0.0  \n",
              "\n",
              "[891 rows x 173 columns]"
            ],
            "text/html": [
              "\n",
              "  <div id=\"df-d171cd57-ec53-4406-8549-26b739fe598d\">\n",
              "    <div class=\"colab-df-container\">\n",
              "      <div>\n",
              "<style scoped>\n",
              "    .dataframe tbody tr th:only-of-type {\n",
              "        vertical-align: middle;\n",
              "    }\n",
              "\n",
              "    .dataframe tbody tr th {\n",
              "        vertical-align: top;\n",
              "    }\n",
              "\n",
              "    .dataframe thead th {\n",
              "        text-align: right;\n",
              "    }\n",
              "</style>\n",
              "<table border=\"1\" class=\"dataframe\">\n",
              "  <thead>\n",
              "    <tr style=\"text-align: right;\">\n",
              "      <th></th>\n",
              "      <th>PassengerId</th>\n",
              "      <th>Survived</th>\n",
              "      <th>Pclass_3</th>\n",
              "      <th>Pclass_1</th>\n",
              "      <th>Pclass_2</th>\n",
              "      <th>Sex_male</th>\n",
              "      <th>Sex_female</th>\n",
              "      <th>SibSp_0</th>\n",
              "      <th>SibSp_1</th>\n",
              "      <th>SibSp_3</th>\n",
              "      <th>...</th>\n",
              "      <th>Cabin_B73</th>\n",
              "      <th>Cabin_B80</th>\n",
              "      <th>Cabin_E40</th>\n",
              "      <th>Cabin_D48</th>\n",
              "      <th>Cabin_E50</th>\n",
              "      <th>Cabin_A6</th>\n",
              "      <th>Embarked_S</th>\n",
              "      <th>Embarked_C</th>\n",
              "      <th>Embarked_Q</th>\n",
              "      <th>Embarked_nan</th>\n",
              "    </tr>\n",
              "  </thead>\n",
              "  <tbody>\n",
              "    <tr>\n",
              "      <th>0</th>\n",
              "      <td>644</td>\n",
              "      <td>1</td>\n",
              "      <td>1.0</td>\n",
              "      <td>0.0</td>\n",
              "      <td>0.0</td>\n",
              "      <td>1.0</td>\n",
              "      <td>0.0</td>\n",
              "      <td>1.0</td>\n",
              "      <td>0.0</td>\n",
              "      <td>0.0</td>\n",
              "      <td>...</td>\n",
              "      <td>0.0</td>\n",
              "      <td>0.0</td>\n",
              "      <td>0.0</td>\n",
              "      <td>0.0</td>\n",
              "      <td>0.0</td>\n",
              "      <td>0.0</td>\n",
              "      <td>1.0</td>\n",
              "      <td>0.0</td>\n",
              "      <td>0.0</td>\n",
              "      <td>0.0</td>\n",
              "    </tr>\n",
              "    <tr>\n",
              "      <th>1</th>\n",
              "      <td>794</td>\n",
              "      <td>0</td>\n",
              "      <td>0.0</td>\n",
              "      <td>1.0</td>\n",
              "      <td>0.0</td>\n",
              "      <td>1.0</td>\n",
              "      <td>0.0</td>\n",
              "      <td>1.0</td>\n",
              "      <td>0.0</td>\n",
              "      <td>0.0</td>\n",
              "      <td>...</td>\n",
              "      <td>0.0</td>\n",
              "      <td>0.0</td>\n",
              "      <td>0.0</td>\n",
              "      <td>0.0</td>\n",
              "      <td>0.0</td>\n",
              "      <td>0.0</td>\n",
              "      <td>0.0</td>\n",
              "      <td>1.0</td>\n",
              "      <td>0.0</td>\n",
              "      <td>0.0</td>\n",
              "    </tr>\n",
              "    <tr>\n",
              "      <th>2</th>\n",
              "      <td>175</td>\n",
              "      <td>0</td>\n",
              "      <td>0.0</td>\n",
              "      <td>1.0</td>\n",
              "      <td>0.0</td>\n",
              "      <td>1.0</td>\n",
              "      <td>0.0</td>\n",
              "      <td>1.0</td>\n",
              "      <td>0.0</td>\n",
              "      <td>0.0</td>\n",
              "      <td>...</td>\n",
              "      <td>0.0</td>\n",
              "      <td>0.0</td>\n",
              "      <td>0.0</td>\n",
              "      <td>0.0</td>\n",
              "      <td>0.0</td>\n",
              "      <td>0.0</td>\n",
              "      <td>0.0</td>\n",
              "      <td>1.0</td>\n",
              "      <td>0.0</td>\n",
              "      <td>0.0</td>\n",
              "    </tr>\n",
              "    <tr>\n",
              "      <th>3</th>\n",
              "      <td>16</td>\n",
              "      <td>1</td>\n",
              "      <td>0.0</td>\n",
              "      <td>0.0</td>\n",
              "      <td>1.0</td>\n",
              "      <td>0.0</td>\n",
              "      <td>1.0</td>\n",
              "      <td>1.0</td>\n",
              "      <td>0.0</td>\n",
              "      <td>0.0</td>\n",
              "      <td>...</td>\n",
              "      <td>0.0</td>\n",
              "      <td>0.0</td>\n",
              "      <td>0.0</td>\n",
              "      <td>0.0</td>\n",
              "      <td>0.0</td>\n",
              "      <td>0.0</td>\n",
              "      <td>1.0</td>\n",
              "      <td>0.0</td>\n",
              "      <td>0.0</td>\n",
              "      <td>0.0</td>\n",
              "    </tr>\n",
              "    <tr>\n",
              "      <th>4</th>\n",
              "      <td>792</td>\n",
              "      <td>0</td>\n",
              "      <td>0.0</td>\n",
              "      <td>0.0</td>\n",
              "      <td>1.0</td>\n",
              "      <td>1.0</td>\n",
              "      <td>0.0</td>\n",
              "      <td>1.0</td>\n",
              "      <td>0.0</td>\n",
              "      <td>0.0</td>\n",
              "      <td>...</td>\n",
              "      <td>0.0</td>\n",
              "      <td>0.0</td>\n",
              "      <td>0.0</td>\n",
              "      <td>0.0</td>\n",
              "      <td>0.0</td>\n",
              "      <td>0.0</td>\n",
              "      <td>1.0</td>\n",
              "      <td>0.0</td>\n",
              "      <td>0.0</td>\n",
              "      <td>0.0</td>\n",
              "    </tr>\n",
              "    <tr>\n",
              "      <th>...</th>\n",
              "      <td>...</td>\n",
              "      <td>...</td>\n",
              "      <td>...</td>\n",
              "      <td>...</td>\n",
              "      <td>...</td>\n",
              "      <td>...</td>\n",
              "      <td>...</td>\n",
              "      <td>...</td>\n",
              "      <td>...</td>\n",
              "      <td>...</td>\n",
              "      <td>...</td>\n",
              "      <td>...</td>\n",
              "      <td>...</td>\n",
              "      <td>...</td>\n",
              "      <td>...</td>\n",
              "      <td>...</td>\n",
              "      <td>...</td>\n",
              "      <td>...</td>\n",
              "      <td>...</td>\n",
              "      <td>...</td>\n",
              "      <td>...</td>\n",
              "    </tr>\n",
              "    <tr>\n",
              "      <th>886</th>\n",
              "      <td>168</td>\n",
              "      <td>0</td>\n",
              "      <td>1.0</td>\n",
              "      <td>0.0</td>\n",
              "      <td>0.0</td>\n",
              "      <td>0.0</td>\n",
              "      <td>1.0</td>\n",
              "      <td>0.0</td>\n",
              "      <td>1.0</td>\n",
              "      <td>0.0</td>\n",
              "      <td>...</td>\n",
              "      <td>0.0</td>\n",
              "      <td>0.0</td>\n",
              "      <td>0.0</td>\n",
              "      <td>0.0</td>\n",
              "      <td>0.0</td>\n",
              "      <td>0.0</td>\n",
              "      <td>1.0</td>\n",
              "      <td>0.0</td>\n",
              "      <td>0.0</td>\n",
              "      <td>0.0</td>\n",
              "    </tr>\n",
              "    <tr>\n",
              "      <th>887</th>\n",
              "      <td>233</td>\n",
              "      <td>0</td>\n",
              "      <td>0.0</td>\n",
              "      <td>0.0</td>\n",
              "      <td>1.0</td>\n",
              "      <td>1.0</td>\n",
              "      <td>0.0</td>\n",
              "      <td>1.0</td>\n",
              "      <td>0.0</td>\n",
              "      <td>0.0</td>\n",
              "      <td>...</td>\n",
              "      <td>0.0</td>\n",
              "      <td>0.0</td>\n",
              "      <td>0.0</td>\n",
              "      <td>0.0</td>\n",
              "      <td>0.0</td>\n",
              "      <td>0.0</td>\n",
              "      <td>1.0</td>\n",
              "      <td>0.0</td>\n",
              "      <td>0.0</td>\n",
              "      <td>0.0</td>\n",
              "    </tr>\n",
              "    <tr>\n",
              "      <th>888</th>\n",
              "      <td>861</td>\n",
              "      <td>0</td>\n",
              "      <td>1.0</td>\n",
              "      <td>0.0</td>\n",
              "      <td>0.0</td>\n",
              "      <td>1.0</td>\n",
              "      <td>0.0</td>\n",
              "      <td>0.0</td>\n",
              "      <td>0.0</td>\n",
              "      <td>0.0</td>\n",
              "      <td>...</td>\n",
              "      <td>0.0</td>\n",
              "      <td>0.0</td>\n",
              "      <td>0.0</td>\n",
              "      <td>0.0</td>\n",
              "      <td>0.0</td>\n",
              "      <td>0.0</td>\n",
              "      <td>1.0</td>\n",
              "      <td>0.0</td>\n",
              "      <td>0.0</td>\n",
              "      <td>0.0</td>\n",
              "    </tr>\n",
              "    <tr>\n",
              "      <th>889</th>\n",
              "      <td>190</td>\n",
              "      <td>0</td>\n",
              "      <td>1.0</td>\n",
              "      <td>0.0</td>\n",
              "      <td>0.0</td>\n",
              "      <td>1.0</td>\n",
              "      <td>0.0</td>\n",
              "      <td>1.0</td>\n",
              "      <td>0.0</td>\n",
              "      <td>0.0</td>\n",
              "      <td>...</td>\n",
              "      <td>0.0</td>\n",
              "      <td>0.0</td>\n",
              "      <td>0.0</td>\n",
              "      <td>0.0</td>\n",
              "      <td>0.0</td>\n",
              "      <td>0.0</td>\n",
              "      <td>1.0</td>\n",
              "      <td>0.0</td>\n",
              "      <td>0.0</td>\n",
              "      <td>0.0</td>\n",
              "    </tr>\n",
              "    <tr>\n",
              "      <th>890</th>\n",
              "      <td>152</td>\n",
              "      <td>1</td>\n",
              "      <td>0.0</td>\n",
              "      <td>1.0</td>\n",
              "      <td>0.0</td>\n",
              "      <td>0.0</td>\n",
              "      <td>1.0</td>\n",
              "      <td>0.0</td>\n",
              "      <td>1.0</td>\n",
              "      <td>0.0</td>\n",
              "      <td>...</td>\n",
              "      <td>0.0</td>\n",
              "      <td>0.0</td>\n",
              "      <td>0.0</td>\n",
              "      <td>0.0</td>\n",
              "      <td>0.0</td>\n",
              "      <td>0.0</td>\n",
              "      <td>1.0</td>\n",
              "      <td>0.0</td>\n",
              "      <td>0.0</td>\n",
              "      <td>0.0</td>\n",
              "    </tr>\n",
              "  </tbody>\n",
              "</table>\n",
              "<p>891 rows × 173 columns</p>\n",
              "</div>\n",
              "      <button class=\"colab-df-convert\" onclick=\"convertToInteractive('df-d171cd57-ec53-4406-8549-26b739fe598d')\"\n",
              "              title=\"Convert this dataframe to an interactive table.\"\n",
              "              style=\"display:none;\">\n",
              "        \n",
              "  <svg xmlns=\"http://www.w3.org/2000/svg\" height=\"24px\"viewBox=\"0 0 24 24\"\n",
              "       width=\"24px\">\n",
              "    <path d=\"M0 0h24v24H0V0z\" fill=\"none\"/>\n",
              "    <path d=\"M18.56 5.44l.94 2.06.94-2.06 2.06-.94-2.06-.94-.94-2.06-.94 2.06-2.06.94zm-11 1L8.5 8.5l.94-2.06 2.06-.94-2.06-.94L8.5 2.5l-.94 2.06-2.06.94zm10 10l.94 2.06.94-2.06 2.06-.94-2.06-.94-.94-2.06-.94 2.06-2.06.94z\"/><path d=\"M17.41 7.96l-1.37-1.37c-.4-.4-.92-.59-1.43-.59-.52 0-1.04.2-1.43.59L10.3 9.45l-7.72 7.72c-.78.78-.78 2.05 0 2.83L4 21.41c.39.39.9.59 1.41.59.51 0 1.02-.2 1.41-.59l7.78-7.78 2.81-2.81c.8-.78.8-2.07 0-2.86zM5.41 20L4 18.59l7.72-7.72 1.47 1.35L5.41 20z\"/>\n",
              "  </svg>\n",
              "      </button>\n",
              "      \n",
              "  <style>\n",
              "    .colab-df-container {\n",
              "      display:flex;\n",
              "      flex-wrap:wrap;\n",
              "      gap: 12px;\n",
              "    }\n",
              "\n",
              "    .colab-df-convert {\n",
              "      background-color: #E8F0FE;\n",
              "      border: none;\n",
              "      border-radius: 50%;\n",
              "      cursor: pointer;\n",
              "      display: none;\n",
              "      fill: #1967D2;\n",
              "      height: 32px;\n",
              "      padding: 0 0 0 0;\n",
              "      width: 32px;\n",
              "    }\n",
              "\n",
              "    .colab-df-convert:hover {\n",
              "      background-color: #E2EBFA;\n",
              "      box-shadow: 0px 1px 2px rgba(60, 64, 67, 0.3), 0px 1px 3px 1px rgba(60, 64, 67, 0.15);\n",
              "      fill: #174EA6;\n",
              "    }\n",
              "\n",
              "    [theme=dark] .colab-df-convert {\n",
              "      background-color: #3B4455;\n",
              "      fill: #D2E3FC;\n",
              "    }\n",
              "\n",
              "    [theme=dark] .colab-df-convert:hover {\n",
              "      background-color: #434B5C;\n",
              "      box-shadow: 0px 1px 3px 1px rgba(0, 0, 0, 0.15);\n",
              "      filter: drop-shadow(0px 1px 2px rgba(0, 0, 0, 0.3));\n",
              "      fill: #FFFFFF;\n",
              "    }\n",
              "  </style>\n",
              "\n",
              "      <script>\n",
              "        const buttonEl =\n",
              "          document.querySelector('#df-d171cd57-ec53-4406-8549-26b739fe598d button.colab-df-convert');\n",
              "        buttonEl.style.display =\n",
              "          google.colab.kernel.accessAllowed ? 'block' : 'none';\n",
              "\n",
              "        async function convertToInteractive(key) {\n",
              "          const element = document.querySelector('#df-d171cd57-ec53-4406-8549-26b739fe598d');\n",
              "          const dataTable =\n",
              "            await google.colab.kernel.invokeFunction('convertToInteractive',\n",
              "                                                     [key], {});\n",
              "          if (!dataTable) return;\n",
              "\n",
              "          const docLinkHtml = 'Like what you see? Visit the ' +\n",
              "            '<a target=\"_blank\" href=https://colab.research.google.com/notebooks/data_table.ipynb>data table notebook</a>'\n",
              "            + ' to learn more about interactive tables.';\n",
              "          element.innerHTML = '';\n",
              "          dataTable['output_type'] = 'display_data';\n",
              "          await google.colab.output.renderOutput(dataTable, element);\n",
              "          const docLink = document.createElement('div');\n",
              "          docLink.innerHTML = docLinkHtml;\n",
              "          element.appendChild(docLink);\n",
              "        }\n",
              "      </script>\n",
              "    </div>\n",
              "  </div>\n",
              "  "
            ]
          },
          "metadata": {},
          "execution_count": 48
        }
      ]
    },
    {
      "cell_type": "code",
      "source": [
        "X_predict = data_predict.copy()\n",
        "X_predict.drop(columns='PassengerId', inplace=True)\n",
        "data_predict"
      ],
      "metadata": {
        "id": "D5rIveg1nrA_",
        "outputId": "8e2ee7d0-8fc1-434b-da5c-5a1f35f0c231",
        "colab": {
          "base_uri": "https://localhost:8080/",
          "height": 0
        }
      },
      "execution_count": 49,
      "outputs": [
        {
          "output_type": "execute_result",
          "data": {
            "text/plain": [
              "     PassengerId  Pclass_3  Pclass_1  Pclass_2  Sex_male  Sex_female  SibSp_0  \\\n",
              "0            892       1.0       0.0       0.0       1.0         0.0      1.0   \n",
              "1            893       1.0       0.0       0.0       0.0         1.0      0.0   \n",
              "2            894       0.0       0.0       1.0       1.0         0.0      1.0   \n",
              "3            895       1.0       0.0       0.0       1.0         0.0      1.0   \n",
              "4            896       1.0       0.0       0.0       0.0         1.0      0.0   \n",
              "..           ...       ...       ...       ...       ...         ...      ...   \n",
              "413         1305       1.0       0.0       0.0       1.0         0.0      1.0   \n",
              "414         1306       0.0       1.0       0.0       0.0         1.0      1.0   \n",
              "415         1307       1.0       0.0       0.0       1.0         0.0      1.0   \n",
              "416         1308       1.0       0.0       0.0       1.0         0.0      1.0   \n",
              "417         1309       1.0       0.0       0.0       1.0         0.0      0.0   \n",
              "\n",
              "     SibSp_1  SibSp_3  SibSp_2  ...  Cabin_B73  Cabin_B80  Cabin_E40  \\\n",
              "0        0.0      0.0      0.0  ...        0.0        0.0        0.0   \n",
              "1        1.0      0.0      0.0  ...        0.0        0.0        0.0   \n",
              "2        0.0      0.0      0.0  ...        0.0        0.0        0.0   \n",
              "3        0.0      0.0      0.0  ...        0.0        0.0        0.0   \n",
              "4        1.0      0.0      0.0  ...        0.0        0.0        0.0   \n",
              "..       ...      ...      ...  ...        ...        ...        ...   \n",
              "413      0.0      0.0      0.0  ...        0.0        0.0        0.0   \n",
              "414      0.0      0.0      0.0  ...        0.0        0.0        0.0   \n",
              "415      0.0      0.0      0.0  ...        0.0        0.0        0.0   \n",
              "416      0.0      0.0      0.0  ...        0.0        0.0        0.0   \n",
              "417      1.0      0.0      0.0  ...        0.0        0.0        0.0   \n",
              "\n",
              "     Cabin_D48  Cabin_E50  Cabin_A6  Embarked_S  Embarked_C  Embarked_Q  \\\n",
              "0          0.0        0.0       0.0         0.0         0.0         1.0   \n",
              "1          0.0        0.0       0.0         1.0         0.0         0.0   \n",
              "2          0.0        0.0       0.0         0.0         0.0         1.0   \n",
              "3          0.0        0.0       0.0         1.0         0.0         0.0   \n",
              "4          0.0        0.0       0.0         1.0         0.0         0.0   \n",
              "..         ...        ...       ...         ...         ...         ...   \n",
              "413        0.0        0.0       0.0         1.0         0.0         0.0   \n",
              "414        0.0        0.0       0.0         0.0         1.0         0.0   \n",
              "415        0.0        0.0       0.0         1.0         0.0         0.0   \n",
              "416        0.0        0.0       0.0         1.0         0.0         0.0   \n",
              "417        0.0        0.0       0.0         0.0         1.0         0.0   \n",
              "\n",
              "     Embarked_nan  \n",
              "0             0.0  \n",
              "1             0.0  \n",
              "2             0.0  \n",
              "3             0.0  \n",
              "4             0.0  \n",
              "..            ...  \n",
              "413           0.0  \n",
              "414           0.0  \n",
              "415           0.0  \n",
              "416           0.0  \n",
              "417           0.0  \n",
              "\n",
              "[418 rows x 172 columns]"
            ],
            "text/html": [
              "\n",
              "  <div id=\"df-3c039b84-639d-48b1-9bdb-f6a26f3acf4e\">\n",
              "    <div class=\"colab-df-container\">\n",
              "      <div>\n",
              "<style scoped>\n",
              "    .dataframe tbody tr th:only-of-type {\n",
              "        vertical-align: middle;\n",
              "    }\n",
              "\n",
              "    .dataframe tbody tr th {\n",
              "        vertical-align: top;\n",
              "    }\n",
              "\n",
              "    .dataframe thead th {\n",
              "        text-align: right;\n",
              "    }\n",
              "</style>\n",
              "<table border=\"1\" class=\"dataframe\">\n",
              "  <thead>\n",
              "    <tr style=\"text-align: right;\">\n",
              "      <th></th>\n",
              "      <th>PassengerId</th>\n",
              "      <th>Pclass_3</th>\n",
              "      <th>Pclass_1</th>\n",
              "      <th>Pclass_2</th>\n",
              "      <th>Sex_male</th>\n",
              "      <th>Sex_female</th>\n",
              "      <th>SibSp_0</th>\n",
              "      <th>SibSp_1</th>\n",
              "      <th>SibSp_3</th>\n",
              "      <th>SibSp_2</th>\n",
              "      <th>...</th>\n",
              "      <th>Cabin_B73</th>\n",
              "      <th>Cabin_B80</th>\n",
              "      <th>Cabin_E40</th>\n",
              "      <th>Cabin_D48</th>\n",
              "      <th>Cabin_E50</th>\n",
              "      <th>Cabin_A6</th>\n",
              "      <th>Embarked_S</th>\n",
              "      <th>Embarked_C</th>\n",
              "      <th>Embarked_Q</th>\n",
              "      <th>Embarked_nan</th>\n",
              "    </tr>\n",
              "  </thead>\n",
              "  <tbody>\n",
              "    <tr>\n",
              "      <th>0</th>\n",
              "      <td>892</td>\n",
              "      <td>1.0</td>\n",
              "      <td>0.0</td>\n",
              "      <td>0.0</td>\n",
              "      <td>1.0</td>\n",
              "      <td>0.0</td>\n",
              "      <td>1.0</td>\n",
              "      <td>0.0</td>\n",
              "      <td>0.0</td>\n",
              "      <td>0.0</td>\n",
              "      <td>...</td>\n",
              "      <td>0.0</td>\n",
              "      <td>0.0</td>\n",
              "      <td>0.0</td>\n",
              "      <td>0.0</td>\n",
              "      <td>0.0</td>\n",
              "      <td>0.0</td>\n",
              "      <td>0.0</td>\n",
              "      <td>0.0</td>\n",
              "      <td>1.0</td>\n",
              "      <td>0.0</td>\n",
              "    </tr>\n",
              "    <tr>\n",
              "      <th>1</th>\n",
              "      <td>893</td>\n",
              "      <td>1.0</td>\n",
              "      <td>0.0</td>\n",
              "      <td>0.0</td>\n",
              "      <td>0.0</td>\n",
              "      <td>1.0</td>\n",
              "      <td>0.0</td>\n",
              "      <td>1.0</td>\n",
              "      <td>0.0</td>\n",
              "      <td>0.0</td>\n",
              "      <td>...</td>\n",
              "      <td>0.0</td>\n",
              "      <td>0.0</td>\n",
              "      <td>0.0</td>\n",
              "      <td>0.0</td>\n",
              "      <td>0.0</td>\n",
              "      <td>0.0</td>\n",
              "      <td>1.0</td>\n",
              "      <td>0.0</td>\n",
              "      <td>0.0</td>\n",
              "      <td>0.0</td>\n",
              "    </tr>\n",
              "    <tr>\n",
              "      <th>2</th>\n",
              "      <td>894</td>\n",
              "      <td>0.0</td>\n",
              "      <td>0.0</td>\n",
              "      <td>1.0</td>\n",
              "      <td>1.0</td>\n",
              "      <td>0.0</td>\n",
              "      <td>1.0</td>\n",
              "      <td>0.0</td>\n",
              "      <td>0.0</td>\n",
              "      <td>0.0</td>\n",
              "      <td>...</td>\n",
              "      <td>0.0</td>\n",
              "      <td>0.0</td>\n",
              "      <td>0.0</td>\n",
              "      <td>0.0</td>\n",
              "      <td>0.0</td>\n",
              "      <td>0.0</td>\n",
              "      <td>0.0</td>\n",
              "      <td>0.0</td>\n",
              "      <td>1.0</td>\n",
              "      <td>0.0</td>\n",
              "    </tr>\n",
              "    <tr>\n",
              "      <th>3</th>\n",
              "      <td>895</td>\n",
              "      <td>1.0</td>\n",
              "      <td>0.0</td>\n",
              "      <td>0.0</td>\n",
              "      <td>1.0</td>\n",
              "      <td>0.0</td>\n",
              "      <td>1.0</td>\n",
              "      <td>0.0</td>\n",
              "      <td>0.0</td>\n",
              "      <td>0.0</td>\n",
              "      <td>...</td>\n",
              "      <td>0.0</td>\n",
              "      <td>0.0</td>\n",
              "      <td>0.0</td>\n",
              "      <td>0.0</td>\n",
              "      <td>0.0</td>\n",
              "      <td>0.0</td>\n",
              "      <td>1.0</td>\n",
              "      <td>0.0</td>\n",
              "      <td>0.0</td>\n",
              "      <td>0.0</td>\n",
              "    </tr>\n",
              "    <tr>\n",
              "      <th>4</th>\n",
              "      <td>896</td>\n",
              "      <td>1.0</td>\n",
              "      <td>0.0</td>\n",
              "      <td>0.0</td>\n",
              "      <td>0.0</td>\n",
              "      <td>1.0</td>\n",
              "      <td>0.0</td>\n",
              "      <td>1.0</td>\n",
              "      <td>0.0</td>\n",
              "      <td>0.0</td>\n",
              "      <td>...</td>\n",
              "      <td>0.0</td>\n",
              "      <td>0.0</td>\n",
              "      <td>0.0</td>\n",
              "      <td>0.0</td>\n",
              "      <td>0.0</td>\n",
              "      <td>0.0</td>\n",
              "      <td>1.0</td>\n",
              "      <td>0.0</td>\n",
              "      <td>0.0</td>\n",
              "      <td>0.0</td>\n",
              "    </tr>\n",
              "    <tr>\n",
              "      <th>...</th>\n",
              "      <td>...</td>\n",
              "      <td>...</td>\n",
              "      <td>...</td>\n",
              "      <td>...</td>\n",
              "      <td>...</td>\n",
              "      <td>...</td>\n",
              "      <td>...</td>\n",
              "      <td>...</td>\n",
              "      <td>...</td>\n",
              "      <td>...</td>\n",
              "      <td>...</td>\n",
              "      <td>...</td>\n",
              "      <td>...</td>\n",
              "      <td>...</td>\n",
              "      <td>...</td>\n",
              "      <td>...</td>\n",
              "      <td>...</td>\n",
              "      <td>...</td>\n",
              "      <td>...</td>\n",
              "      <td>...</td>\n",
              "      <td>...</td>\n",
              "    </tr>\n",
              "    <tr>\n",
              "      <th>413</th>\n",
              "      <td>1305</td>\n",
              "      <td>1.0</td>\n",
              "      <td>0.0</td>\n",
              "      <td>0.0</td>\n",
              "      <td>1.0</td>\n",
              "      <td>0.0</td>\n",
              "      <td>1.0</td>\n",
              "      <td>0.0</td>\n",
              "      <td>0.0</td>\n",
              "      <td>0.0</td>\n",
              "      <td>...</td>\n",
              "      <td>0.0</td>\n",
              "      <td>0.0</td>\n",
              "      <td>0.0</td>\n",
              "      <td>0.0</td>\n",
              "      <td>0.0</td>\n",
              "      <td>0.0</td>\n",
              "      <td>1.0</td>\n",
              "      <td>0.0</td>\n",
              "      <td>0.0</td>\n",
              "      <td>0.0</td>\n",
              "    </tr>\n",
              "    <tr>\n",
              "      <th>414</th>\n",
              "      <td>1306</td>\n",
              "      <td>0.0</td>\n",
              "      <td>1.0</td>\n",
              "      <td>0.0</td>\n",
              "      <td>0.0</td>\n",
              "      <td>1.0</td>\n",
              "      <td>1.0</td>\n",
              "      <td>0.0</td>\n",
              "      <td>0.0</td>\n",
              "      <td>0.0</td>\n",
              "      <td>...</td>\n",
              "      <td>0.0</td>\n",
              "      <td>0.0</td>\n",
              "      <td>0.0</td>\n",
              "      <td>0.0</td>\n",
              "      <td>0.0</td>\n",
              "      <td>0.0</td>\n",
              "      <td>0.0</td>\n",
              "      <td>1.0</td>\n",
              "      <td>0.0</td>\n",
              "      <td>0.0</td>\n",
              "    </tr>\n",
              "    <tr>\n",
              "      <th>415</th>\n",
              "      <td>1307</td>\n",
              "      <td>1.0</td>\n",
              "      <td>0.0</td>\n",
              "      <td>0.0</td>\n",
              "      <td>1.0</td>\n",
              "      <td>0.0</td>\n",
              "      <td>1.0</td>\n",
              "      <td>0.0</td>\n",
              "      <td>0.0</td>\n",
              "      <td>0.0</td>\n",
              "      <td>...</td>\n",
              "      <td>0.0</td>\n",
              "      <td>0.0</td>\n",
              "      <td>0.0</td>\n",
              "      <td>0.0</td>\n",
              "      <td>0.0</td>\n",
              "      <td>0.0</td>\n",
              "      <td>1.0</td>\n",
              "      <td>0.0</td>\n",
              "      <td>0.0</td>\n",
              "      <td>0.0</td>\n",
              "    </tr>\n",
              "    <tr>\n",
              "      <th>416</th>\n",
              "      <td>1308</td>\n",
              "      <td>1.0</td>\n",
              "      <td>0.0</td>\n",
              "      <td>0.0</td>\n",
              "      <td>1.0</td>\n",
              "      <td>0.0</td>\n",
              "      <td>1.0</td>\n",
              "      <td>0.0</td>\n",
              "      <td>0.0</td>\n",
              "      <td>0.0</td>\n",
              "      <td>...</td>\n",
              "      <td>0.0</td>\n",
              "      <td>0.0</td>\n",
              "      <td>0.0</td>\n",
              "      <td>0.0</td>\n",
              "      <td>0.0</td>\n",
              "      <td>0.0</td>\n",
              "      <td>1.0</td>\n",
              "      <td>0.0</td>\n",
              "      <td>0.0</td>\n",
              "      <td>0.0</td>\n",
              "    </tr>\n",
              "    <tr>\n",
              "      <th>417</th>\n",
              "      <td>1309</td>\n",
              "      <td>1.0</td>\n",
              "      <td>0.0</td>\n",
              "      <td>0.0</td>\n",
              "      <td>1.0</td>\n",
              "      <td>0.0</td>\n",
              "      <td>0.0</td>\n",
              "      <td>1.0</td>\n",
              "      <td>0.0</td>\n",
              "      <td>0.0</td>\n",
              "      <td>...</td>\n",
              "      <td>0.0</td>\n",
              "      <td>0.0</td>\n",
              "      <td>0.0</td>\n",
              "      <td>0.0</td>\n",
              "      <td>0.0</td>\n",
              "      <td>0.0</td>\n",
              "      <td>0.0</td>\n",
              "      <td>1.0</td>\n",
              "      <td>0.0</td>\n",
              "      <td>0.0</td>\n",
              "    </tr>\n",
              "  </tbody>\n",
              "</table>\n",
              "<p>418 rows × 172 columns</p>\n",
              "</div>\n",
              "      <button class=\"colab-df-convert\" onclick=\"convertToInteractive('df-3c039b84-639d-48b1-9bdb-f6a26f3acf4e')\"\n",
              "              title=\"Convert this dataframe to an interactive table.\"\n",
              "              style=\"display:none;\">\n",
              "        \n",
              "  <svg xmlns=\"http://www.w3.org/2000/svg\" height=\"24px\"viewBox=\"0 0 24 24\"\n",
              "       width=\"24px\">\n",
              "    <path d=\"M0 0h24v24H0V0z\" fill=\"none\"/>\n",
              "    <path d=\"M18.56 5.44l.94 2.06.94-2.06 2.06-.94-2.06-.94-.94-2.06-.94 2.06-2.06.94zm-11 1L8.5 8.5l.94-2.06 2.06-.94-2.06-.94L8.5 2.5l-.94 2.06-2.06.94zm10 10l.94 2.06.94-2.06 2.06-.94-2.06-.94-.94-2.06-.94 2.06-2.06.94z\"/><path d=\"M17.41 7.96l-1.37-1.37c-.4-.4-.92-.59-1.43-.59-.52 0-1.04.2-1.43.59L10.3 9.45l-7.72 7.72c-.78.78-.78 2.05 0 2.83L4 21.41c.39.39.9.59 1.41.59.51 0 1.02-.2 1.41-.59l7.78-7.78 2.81-2.81c.8-.78.8-2.07 0-2.86zM5.41 20L4 18.59l7.72-7.72 1.47 1.35L5.41 20z\"/>\n",
              "  </svg>\n",
              "      </button>\n",
              "      \n",
              "  <style>\n",
              "    .colab-df-container {\n",
              "      display:flex;\n",
              "      flex-wrap:wrap;\n",
              "      gap: 12px;\n",
              "    }\n",
              "\n",
              "    .colab-df-convert {\n",
              "      background-color: #E8F0FE;\n",
              "      border: none;\n",
              "      border-radius: 50%;\n",
              "      cursor: pointer;\n",
              "      display: none;\n",
              "      fill: #1967D2;\n",
              "      height: 32px;\n",
              "      padding: 0 0 0 0;\n",
              "      width: 32px;\n",
              "    }\n",
              "\n",
              "    .colab-df-convert:hover {\n",
              "      background-color: #E2EBFA;\n",
              "      box-shadow: 0px 1px 2px rgba(60, 64, 67, 0.3), 0px 1px 3px 1px rgba(60, 64, 67, 0.15);\n",
              "      fill: #174EA6;\n",
              "    }\n",
              "\n",
              "    [theme=dark] .colab-df-convert {\n",
              "      background-color: #3B4455;\n",
              "      fill: #D2E3FC;\n",
              "    }\n",
              "\n",
              "    [theme=dark] .colab-df-convert:hover {\n",
              "      background-color: #434B5C;\n",
              "      box-shadow: 0px 1px 3px 1px rgba(0, 0, 0, 0.15);\n",
              "      filter: drop-shadow(0px 1px 2px rgba(0, 0, 0, 0.3));\n",
              "      fill: #FFFFFF;\n",
              "    }\n",
              "  </style>\n",
              "\n",
              "      <script>\n",
              "        const buttonEl =\n",
              "          document.querySelector('#df-3c039b84-639d-48b1-9bdb-f6a26f3acf4e button.colab-df-convert');\n",
              "        buttonEl.style.display =\n",
              "          google.colab.kernel.accessAllowed ? 'block' : 'none';\n",
              "\n",
              "        async function convertToInteractive(key) {\n",
              "          const element = document.querySelector('#df-3c039b84-639d-48b1-9bdb-f6a26f3acf4e');\n",
              "          const dataTable =\n",
              "            await google.colab.kernel.invokeFunction('convertToInteractive',\n",
              "                                                     [key], {});\n",
              "          if (!dataTable) return;\n",
              "\n",
              "          const docLinkHtml = 'Like what you see? Visit the ' +\n",
              "            '<a target=\"_blank\" href=https://colab.research.google.com/notebooks/data_table.ipynb>data table notebook</a>'\n",
              "            + ' to learn more about interactive tables.';\n",
              "          element.innerHTML = '';\n",
              "          dataTable['output_type'] = 'display_data';\n",
              "          await google.colab.output.renderOutput(dataTable, element);\n",
              "          const docLink = document.createElement('div');\n",
              "          docLink.innerHTML = docLinkHtml;\n",
              "          element.appendChild(docLink);\n",
              "        }\n",
              "      </script>\n",
              "    </div>\n",
              "  </div>\n",
              "  "
            ]
          },
          "metadata": {},
          "execution_count": 49
        }
      ]
    },
    {
      "cell_type": "markdown",
      "metadata": {
        "id": "5zxEesQTOF5t"
      },
      "source": [
        "# **Save Predictions**"
      ]
    },
    {
      "cell_type": "markdown",
      "metadata": {
        "id": "og9fNT1sFoFi"
      },
      "source": [
        "El método necesario para guardar las predicciones con un nombre característico en formato .csv"
      ]
    },
    {
      "cell_type": "code",
      "metadata": {
        "id": "nHJNSpEV8B_t"
      },
      "source": [
        "def guardar(score, prediccion, nombreModelo, ruta='/content', params=[]):\n",
        "  try:\n",
        "    os.mkdir(ruta)\n",
        "  except:\n",
        "    pass\n",
        "\n",
        "  nombre = ruta + '/'+ str(score) + ' - '+nombreModelo\n",
        "  for param in params:\n",
        "    nombre += ' ' +param[0]+'='+str(param[1])\n",
        "\n",
        "  nombre+='.csv'\n",
        "  prediccion.to_csv(nombre, index=False)"
      ],
      "execution_count": 50,
      "outputs": []
    },
    {
      "cell_type": "markdown",
      "metadata": {
        "id": "AlneQYLMtodB"
      },
      "source": [
        "# **Models**"
      ]
    },
    {
      "cell_type": "markdown",
      "metadata": {
        "id": "UpfFntcIphAh"
      },
      "source": [
        "## **Regresión Logística**"
      ]
    },
    {
      "cell_type": "markdown",
      "metadata": {
        "id": "Gu7xpDOltvRX"
      },
      "source": [
        "### ***Regresión Logística***"
      ]
    },
    {
      "cell_type": "markdown",
      "metadata": {
        "id": "4XrTH21r9-Ox"
      },
      "source": [
        "#### *Optimización*"
      ]
    },
    {
      "cell_type": "markdown",
      "metadata": {
        "id": "zSKeCphbGcWz"
      },
      "source": [
        "Optimización de hiperparámetros por fuerza bruta.\n"
      ]
    },
    {
      "cell_type": "code",
      "metadata": {
        "id": "khY-PSf_pm7G",
        "colab": {
          "base_uri": "https://localhost:8080/"
        },
        "outputId": "2071cf95-8733-48dd-bba8-b070105c1b3a"
      },
      "source": [
        "warnings.filterwarnings(\"ignore\")\n",
        "\n",
        "best_score = -1\n",
        "best_params = (0, 0, 0, 0)\n",
        "for max_iter in range(1, 2, 1):\n",
        "  for penalty in ['l1', 'l2', 'elasticnet']:\n",
        "    for solver in ['newton-cg', 'lbfgs', 'liblinear', 'sag', 'saga']:\n",
        "      for l1_ratio in np.arange(0.0, 1.0, 0.1):\n",
        "        try:\n",
        "          regresionLogistica = LogisticRegression(max_iter=max_iter, penalty=penalty, solver=solver, l1_ratio=l1_ratio, n_jobs=-1)\n",
        "          regresionLogistica.fit(X_train, y_train)\n",
        "          y_pred = regresionLogistica.predict(X_val)\n",
        "          scoreRegresionLogistica = f1_score(y_val, y_pred, average='weighted')\n",
        "          if (scoreRegresionLogistica>best_score):\n",
        "            best_params = (max_iter, penalty, solver,l1_ratio)\n",
        "            best_score = scoreRegresionLogistica\n",
        "            print(\"   NEW BEST=\", bestScore, \"PARAMS:\", best_params)\n",
        "        except:\n",
        "          pass\n",
        "print(\"BESTSCORE=\", best_score, \"PARAMS\", best_params)\n",
        "\n",
        "warnings.filterwarnings(\"default\")"
      ],
      "execution_count": null,
      "outputs": [
        {
          "output_type": "stream",
          "name": "stdout",
          "text": [
            "BESTSCORE= 0.7403260894980361 PARAMS (1, 'l2', 'liblinear', 0.0)\n"
          ]
        }
      ]
    },
    {
      "cell_type": "markdown",
      "metadata": {
        "id": "X3rhw3HP-KOR"
      },
      "source": [
        "#### *Individual*"
      ]
    },
    {
      "cell_type": "markdown",
      "metadata": {
        "id": "F3YthNWxHD7d"
      },
      "source": [
        "Entrenamiento con unos parámetros concretos"
      ]
    },
    {
      "cell_type": "code",
      "metadata": {
        "colab": {
          "base_uri": "https://localhost:8080/"
        },
        "id": "QAfIDWLM-KOU",
        "outputId": "0677dc3e-60d2-4083-e1b5-9c6b2a53a450"
      },
      "source": [
        "max_iter = 100\n",
        "penalty = 'l2' # ['l1', 'l2', 'elasticnet']:\n",
        "solver = 'newton-cg' #, 'lbfgs', 'liblinear', 'sag', 'saga']:\n",
        "l1_ratio = 1 #in np.arange(0.0, 1.0, 0.1):\n",
        "\n",
        "regresionLogistica = LogisticRegression(max_iter=max_iter, penalty=penalty, solver=solver, l1_ratio=l1_ratio, n_jobs=-1)\n",
        "regresionLogistica.fit(X_train, y_train)"
      ],
      "execution_count": null,
      "outputs": [
        {
          "name": "stderr",
          "output_type": "stream",
          "text": [
            "/usr/local/lib/python3.7/dist-packages/sklearn/linear_model/_logistic.py:1479: UserWarning: l1_ratio parameter is only used when penalty is 'elasticnet'. Got (penalty=l2)\n",
            "  \"(penalty={})\".format(self.penalty)\n"
          ]
        },
        {
          "data": {
            "text/plain": [
              "0.7493516940642351"
            ]
          },
          "execution_count": 18,
          "metadata": {},
          "output_type": "execute_result"
        }
      ]
    },
    {
      "cell_type": "code",
      "metadata": {
        "id": "VvUyEb83G9_T"
      },
      "source": [
        "y_pred = regresionLogistica.predict(X_val)\n",
        "scoreRegresionLogistica = (f1_score(y_val, y_pred, average='weighted'), accuracy_score(y_val, y_pred))\n",
        "scoreRegresionLogistica"
      ],
      "execution_count": null,
      "outputs": []
    },
    {
      "cell_type": "code",
      "metadata": {
        "colab": {
          "base_uri": "https://localhost:8080/",
          "height": 424
        },
        "id": "GGNjpJ-J-KOV",
        "outputId": "167775db-1dfb-49ed-ec36-6519e5f69517"
      },
      "source": [
        "resultRegresionLogistica = pd.DataFrame({'id': data_test['id'], 'round_winner': regresionLogistica.predict(X_predict)})\n",
        "resultRegresionLogistica"
      ],
      "execution_count": null,
      "outputs": [
        {
          "data": {
            "text/html": [
              "<div>\n",
              "<style scoped>\n",
              "    .dataframe tbody tr th:only-of-type {\n",
              "        vertical-align: middle;\n",
              "    }\n",
              "\n",
              "    .dataframe tbody tr th {\n",
              "        vertical-align: top;\n",
              "    }\n",
              "\n",
              "    .dataframe thead th {\n",
              "        text-align: right;\n",
              "    }\n",
              "</style>\n",
              "<table border=\"1\" class=\"dataframe\">\n",
              "  <thead>\n",
              "    <tr style=\"text-align: right;\">\n",
              "      <th></th>\n",
              "      <th>id</th>\n",
              "      <th>round_winner</th>\n",
              "    </tr>\n",
              "  </thead>\n",
              "  <tbody>\n",
              "    <tr>\n",
              "      <th>0</th>\n",
              "      <td>6548</td>\n",
              "      <td>CT</td>\n",
              "    </tr>\n",
              "    <tr>\n",
              "      <th>1</th>\n",
              "      <td>79093</td>\n",
              "      <td>T</td>\n",
              "    </tr>\n",
              "    <tr>\n",
              "      <th>2</th>\n",
              "      <td>103345</td>\n",
              "      <td>T</td>\n",
              "    </tr>\n",
              "    <tr>\n",
              "      <th>3</th>\n",
              "      <td>17113</td>\n",
              "      <td>CT</td>\n",
              "    </tr>\n",
              "    <tr>\n",
              "      <th>4</th>\n",
              "      <td>108774</td>\n",
              "      <td>T</td>\n",
              "    </tr>\n",
              "    <tr>\n",
              "      <th>...</th>\n",
              "      <td>...</td>\n",
              "      <td>...</td>\n",
              "    </tr>\n",
              "    <tr>\n",
              "      <th>48959</th>\n",
              "      <td>122127</td>\n",
              "      <td>T</td>\n",
              "    </tr>\n",
              "    <tr>\n",
              "      <th>48960</th>\n",
              "      <td>93115</td>\n",
              "      <td>T</td>\n",
              "    </tr>\n",
              "    <tr>\n",
              "      <th>48961</th>\n",
              "      <td>71219</td>\n",
              "      <td>T</td>\n",
              "    </tr>\n",
              "    <tr>\n",
              "      <th>48962</th>\n",
              "      <td>74073</td>\n",
              "      <td>CT</td>\n",
              "    </tr>\n",
              "    <tr>\n",
              "      <th>48963</th>\n",
              "      <td>29200</td>\n",
              "      <td>T</td>\n",
              "    </tr>\n",
              "  </tbody>\n",
              "</table>\n",
              "<p>48964 rows × 2 columns</p>\n",
              "</div>"
            ],
            "text/plain": [
              "           id round_winner\n",
              "0        6548           CT\n",
              "1       79093            T\n",
              "2      103345            T\n",
              "3       17113           CT\n",
              "4      108774            T\n",
              "...       ...          ...\n",
              "48959  122127            T\n",
              "48960   93115            T\n",
              "48961   71219            T\n",
              "48962   74073           CT\n",
              "48963   29200            T\n",
              "\n",
              "[48964 rows x 2 columns]"
            ]
          },
          "execution_count": 19,
          "metadata": {},
          "output_type": "execute_result"
        }
      ]
    },
    {
      "cell_type": "code",
      "metadata": {
        "id": "LFy-jZry-KOW"
      },
      "source": [
        "guardar(score=scoreRegresionLogistica, prediccion=resultRegresionLogistica, nombreModelo=\"RegresionLogistica\", ruta='/content/predicciones', \n",
        "        params=[])"
      ],
      "execution_count": null,
      "outputs": []
    },
    {
      "cell_type": "markdown",
      "metadata": {
        "id": "gWQt3RmZzUgQ"
      },
      "source": [
        "### ***Regresión Polinómica***"
      ]
    },
    {
      "cell_type": "markdown",
      "metadata": {
        "id": "POwoDAPqH8fG"
      },
      "source": [
        "#### *Optimización*"
      ]
    },
    {
      "cell_type": "code",
      "metadata": {
        "colab": {
          "base_uri": "https://localhost:8080/"
        },
        "id": "wA3xNZRLzibD",
        "outputId": "7be1130c-ceed-495c-92ba-e6bea79f45de"
      },
      "source": [
        "best_score = -1\n",
        "best_params = (0, 0, 0, 0)\n",
        "for degree in range(1, 2, 1):\n",
        "  poly = PolynomialFeatures(degree)\n",
        "  poly.fit(X_train)\n",
        "  X_train_poly = poly.transform(X_train)\n",
        "  X_val_poly = poly.transform(X_val)\n",
        "  for max_iter in range(100, 10001, 100):\n",
        "    for penalty in ['l1', 'l2', 'elasticnet']:\n",
        "      for solver in ['newton-cg', 'lbfgs', 'liblinear', 'sag', 'saga']:\n",
        "        for l1_ratio in np.arange(0.0, 1.0, 0.1):\n",
        "          try:\n",
        "            regresionPolinomica = LogisticRegression(max_iter=max_iter, penalty=penalty, solver=solver, l1_ratio=l1_ratio, n_jobs=-1)\n",
        "            regresionPolinomica.fit(X_train_poly, y_train)\n",
        "            y_pred = regresionPolinomica.predict(X_val_poly)\n",
        "            scoreRegresionPolinomica = f1_score(y_val, y_pred, average='weighted')\n",
        "            if (scoreRegresionPolinomica>best_score):\n",
        "              best_params = (max_iter, penalty, solver,l1_ratio)\n",
        "              best_score = scoreRegresionPolinomica\n",
        "              print(\"   NEW BEST=\", bestScore, \"PARAMS:\", best_params)\n",
        "          except:\n",
        "            pass\n",
        "print(\"BESTSCORE=\", best_score, \"PARAMS\", best_params)"
      ],
      "execution_count": null,
      "outputs": [
        {
          "name": "stdout",
          "output_type": "stream",
          "text": [
            "BESTSCORE= -1 PARAMS (0, 0, 0, 0)\n"
          ]
        }
      ]
    },
    {
      "cell_type": "markdown",
      "metadata": {
        "id": "m1rDfWrFHWL_"
      },
      "source": [
        "#### *Individual*"
      ]
    },
    {
      "cell_type": "code",
      "metadata": {
        "colab": {
          "background_save": true,
          "base_uri": "https://localhost:8080/"
        },
        "id": "GRMcQkY7zy-C",
        "outputId": "fffafaa2-b921-462e-92e0-c5cecff903d0"
      },
      "source": [
        "degree = 2\n",
        "max_iter = 100\n",
        "penalty = 'l2' #, 'l1', 'elasticnet']:\n",
        "solver = 'newton-cg' #, 'lbfgs', 'liblinear', 'sag', 'saga']:\n",
        "l1_ratio = 1 #in np.arange(0.0, 1.0, 0.1):\n",
        "\n",
        "poly = PolynomialFeatures(degree)\n",
        "poly.fit(X_train)\n",
        "X_train_poly = poly.transform(X_train)\n",
        "\n",
        "regresionPolinomica = LogisticRegression(max_iter=max_iter, penalty=penalty, solver=solver, l1_ratio=l1_ratio, n_jobs=-1)\n",
        "regresionPolinomica.fit(X_train_poly, y_train)"
      ],
      "execution_count": null,
      "outputs": [
        {
          "name": "stderr",
          "output_type": "stream",
          "text": [
            "/usr/local/lib/python3.7/dist-packages/sklearn/linear_model/_logistic.py:1479: UserWarning: l1_ratio parameter is only used when penalty is 'elasticnet'. Got (penalty=l2)\n",
            "  \"(penalty={})\".format(self.penalty)\n"
          ]
        }
      ]
    },
    {
      "cell_type": "code",
      "metadata": {
        "id": "QDHdqui-Hvoo"
      },
      "source": [
        "X_val_poly = poly.transform(X_val)\n",
        "y_pred = regresionPolinomica.predict(X_val_poly)\n",
        "scoreRegresionPolinomica = (f1_score(y_val, y_pred, average='weighted'), accuracy_score(y_val, y_pred))\n",
        "scoreRegresionPolinomica"
      ],
      "execution_count": null,
      "outputs": []
    },
    {
      "cell_type": "code",
      "metadata": {
        "id": "ylS7KeEszmpK"
      },
      "source": [
        "regresionPolinomica = LogisticRegression(max_iter=max_iter, penalty=penalty, solver=solver, l1_ratio=l1_ratio, n_jobs=-1)\n",
        "            regresionPolinomica.fit(X_poly, y_train)\n",
        "\n",
        "resultRegresionPolinomica = pd.DataFrame({'id': data_test['id'], 'round_winner': regresionPolinomica.predict(X_predict)})\n",
        "resultRegresionPolinomica"
      ],
      "execution_count": null,
      "outputs": []
    },
    {
      "cell_type": "code",
      "metadata": {
        "id": "bVe28LUezoIE"
      },
      "source": [
        "guardar(score=scoreRegresionPolinomica, prediccion=resultRegresionPolinomica, nombreModelo=\"regresionPolinomica\", ruta='/content/predicciones', \n",
        "        params=[])"
      ],
      "execution_count": null,
      "outputs": []
    },
    {
      "cell_type": "markdown",
      "metadata": {
        "id": "zA2GIjw8s1Pz"
      },
      "source": [
        "## **Support Vector Machines**"
      ]
    },
    {
      "cell_type": "code",
      "metadata": {
        "id": "93eaW1s5tIrf"
      },
      "source": [
        "svc = svm.SVC(kernel='linear', probability=True)\n",
        "svc.fit(X_train, y_train)"
      ],
      "execution_count": null,
      "outputs": []
    },
    {
      "cell_type": "code",
      "metadata": {
        "id": "F_lujmq1INqp"
      },
      "source": [
        "y_pred = svc.predict(X_val)\n",
        "scoreSupportVectorMachines = (f1_score(y_val, y_pred, average='weighted'), accuracy_score(y_val, y_pred))"
      ],
      "execution_count": null,
      "outputs": []
    },
    {
      "cell_type": "code",
      "metadata": {
        "id": "efctEmVd330V"
      },
      "source": [
        "resultVectorMachines = pd.DataFrame({'id': data_test['id'], 'round_winner': svc.predict(X_predict)})\n",
        "resultVectorMachines"
      ],
      "execution_count": null,
      "outputs": []
    },
    {
      "cell_type": "code",
      "metadata": {
        "id": "pcibZb054E-M"
      },
      "source": [
        "guardar(score=scoreSupportVectorMachines, prediccion=resultVectorMachines, nombreModelo=\"vectorMachines\", ruta='/content/predicciones', \n",
        "        params=[])"
      ],
      "execution_count": null,
      "outputs": []
    },
    {
      "cell_type": "markdown",
      "metadata": {
        "id": "ET6Mqo7OhTHq"
      },
      "source": [
        "## **KNN Classifier**"
      ]
    },
    {
      "cell_type": "markdown",
      "metadata": {
        "id": "NCNkNLpoIfwo"
      },
      "source": [
        "#### *Optimización*"
      ]
    },
    {
      "cell_type": "code",
      "metadata": {
        "id": "YXUgtxJJQ754"
      },
      "source": [
        "bestScore, bestParam = -1, (1, '')\n",
        "for n_neighbors in range (1,101,1):\n",
        "  for weights in ['uniform', 'distance']:\n",
        "    knn = KNeighborsClassifier(n_neighbors=n_neighbors, weights=weights, n_jobs=-1)\n",
        "    knn.fit(X_train, y_train)\n",
        "    y_pred = knn.predict(X_val)\n",
        "    scoreknn = f1_score(y_val, y_pred, average='weighted')\n",
        "    if(scoreknn > bestScore):\n",
        "      bestScore = scoreknn\n",
        "      bestParam = (n_neighbors, weights)\n",
        "      print(\"   NEW BEST=\",bestScore, \"n_neighbors=\",n_neighbors, \"weights=\", weights)\n",
        "print(\"BESTSCORE=\",bestScore, \"n_neighbors\", bestParam([0]), \"weights=\", bestParam([1]))"
      ],
      "execution_count": null,
      "outputs": []
    },
    {
      "cell_type": "markdown",
      "metadata": {
        "id": "ayI1DeuvIkaT"
      },
      "source": [
        "#### *Individual*"
      ]
    },
    {
      "cell_type": "code",
      "metadata": {
        "colab": {
          "base_uri": "https://localhost:8080/"
        },
        "id": "7VJeCpC7hZ6Q",
        "outputId": "a8e6328a-c168-44e8-848f-63047560069f"
      },
      "source": [
        "n_neighbors = 10\n",
        "weights = 'distance' #uniform\n",
        "\n",
        "knn = KNeighborsClassifier(n_neighbors=n_neighbors, weights=weights, n_jobs=-1)\n",
        "knn.fit(X_train, y_train)"
      ],
      "execution_count": null,
      "outputs": [
        {
          "output_type": "execute_result",
          "data": {
            "text/plain": [
              "KNeighborsClassifier(n_jobs=-1, n_neighbors=10, weights='distance')"
            ]
          },
          "metadata": {},
          "execution_count": 38
        }
      ]
    },
    {
      "cell_type": "code",
      "metadata": {
        "colab": {
          "base_uri": "https://localhost:8080/"
        },
        "id": "sgCAtpOqiigq",
        "outputId": "e373d2f8-4774-453d-e9fc-7a97e9a930f1"
      },
      "source": [
        "y_pred = knn.predict(X_val)\n",
        "scoreKNN= (f1_score(y_val, y_pred, average='weighted'), accuracy_score(y_val, y_pred))\n",
        "scoreKNN"
      ],
      "execution_count": null,
      "outputs": [
        {
          "output_type": "execute_result",
          "data": {
            "text/plain": [
              "(0.8221164637607394, 0.822093128800944)"
            ]
          },
          "metadata": {},
          "execution_count": 39
        }
      ]
    },
    {
      "cell_type": "code",
      "metadata": {
        "colab": {
          "base_uri": "https://localhost:8080/",
          "height": 424
        },
        "id": "mQ6H7Jctha7s",
        "outputId": "dd564397-c430-4e8e-dbdd-a0ccef6c62b4"
      },
      "source": [
        "resultKNN = pd.DataFrame({'id': data_test['id'], 'round_winner': knn.predict(X_predict)})\n",
        "resultKNN"
      ],
      "execution_count": null,
      "outputs": [
        {
          "output_type": "execute_result",
          "data": {
            "text/html": [
              "<div>\n",
              "<style scoped>\n",
              "    .dataframe tbody tr th:only-of-type {\n",
              "        vertical-align: middle;\n",
              "    }\n",
              "\n",
              "    .dataframe tbody tr th {\n",
              "        vertical-align: top;\n",
              "    }\n",
              "\n",
              "    .dataframe thead th {\n",
              "        text-align: right;\n",
              "    }\n",
              "</style>\n",
              "<table border=\"1\" class=\"dataframe\">\n",
              "  <thead>\n",
              "    <tr style=\"text-align: right;\">\n",
              "      <th></th>\n",
              "      <th>id</th>\n",
              "      <th>round_winner</th>\n",
              "    </tr>\n",
              "  </thead>\n",
              "  <tbody>\n",
              "    <tr>\n",
              "      <th>0</th>\n",
              "      <td>6548</td>\n",
              "      <td>CT</td>\n",
              "    </tr>\n",
              "    <tr>\n",
              "      <th>1</th>\n",
              "      <td>79093</td>\n",
              "      <td>CT</td>\n",
              "    </tr>\n",
              "    <tr>\n",
              "      <th>2</th>\n",
              "      <td>103345</td>\n",
              "      <td>T</td>\n",
              "    </tr>\n",
              "    <tr>\n",
              "      <th>3</th>\n",
              "      <td>17113</td>\n",
              "      <td>T</td>\n",
              "    </tr>\n",
              "    <tr>\n",
              "      <th>4</th>\n",
              "      <td>108774</td>\n",
              "      <td>T</td>\n",
              "    </tr>\n",
              "    <tr>\n",
              "      <th>...</th>\n",
              "      <td>...</td>\n",
              "      <td>...</td>\n",
              "    </tr>\n",
              "    <tr>\n",
              "      <th>48959</th>\n",
              "      <td>122127</td>\n",
              "      <td>T</td>\n",
              "    </tr>\n",
              "    <tr>\n",
              "      <th>48960</th>\n",
              "      <td>93115</td>\n",
              "      <td>CT</td>\n",
              "    </tr>\n",
              "    <tr>\n",
              "      <th>48961</th>\n",
              "      <td>71219</td>\n",
              "      <td>CT</td>\n",
              "    </tr>\n",
              "    <tr>\n",
              "      <th>48962</th>\n",
              "      <td>74073</td>\n",
              "      <td>CT</td>\n",
              "    </tr>\n",
              "    <tr>\n",
              "      <th>48963</th>\n",
              "      <td>29200</td>\n",
              "      <td>T</td>\n",
              "    </tr>\n",
              "  </tbody>\n",
              "</table>\n",
              "<p>48964 rows × 2 columns</p>\n",
              "</div>"
            ],
            "text/plain": [
              "           id round_winner\n",
              "0        6548           CT\n",
              "1       79093           CT\n",
              "2      103345            T\n",
              "3       17113            T\n",
              "4      108774            T\n",
              "...       ...          ...\n",
              "48959  122127            T\n",
              "48960   93115           CT\n",
              "48961   71219           CT\n",
              "48962   74073           CT\n",
              "48963   29200            T\n",
              "\n",
              "[48964 rows x 2 columns]"
            ]
          },
          "metadata": {},
          "execution_count": 40
        }
      ]
    },
    {
      "cell_type": "code",
      "metadata": {
        "id": "vlS0UFDEhb9C"
      },
      "source": [
        "guardar(score=scoreKNN, prediccion=resultKNN, nombreModelo=\"KNN\", ruta='/content/predicciones', \n",
        "        params=[('n_neighbors',n_neighbors), ('weights',weights)])"
      ],
      "execution_count": null,
      "outputs": []
    },
    {
      "cell_type": "markdown",
      "metadata": {
        "id": "1pOQCrStSkSl"
      },
      "source": [
        "## **Nearest Centroid**"
      ]
    },
    {
      "cell_type": "markdown",
      "metadata": {
        "id": "VrhvYp4OIrV7"
      },
      "source": [
        "#### *Optimizador*"
      ]
    },
    {
      "cell_type": "code",
      "metadata": {
        "colab": {
          "base_uri": "https://localhost:8080/"
        },
        "id": "Iz4maKFmSrU_",
        "outputId": "a13fef35-8bdd-4798-a0fa-8191e05d8596"
      },
      "source": [
        "bestScore, bestParam = -1, -1\n",
        "for shrink_threshold in range (1,101,1):\n",
        "  nearestCentroid = NearestCentroid(shrink_threshold=shrink_threshold)\n",
        "  nearestCentroid.fit(X_train, y_train)\n",
        "  y_pred = nearestCentroid.predict(X_val)\n",
        "  scoreNearestCentroid = f1_score(y_val, y_pred, average='weighted')\n",
        "  if(scoreNearestCentroid>bestScore):\n",
        "    bestScore = scoreNearestCentroid\n",
        "    bestParam = shrink_threshold\n",
        "    print(\"   NEW BEST=\",bestScore, \"shrink_threshold\",bestParam)\n",
        "print(\"BESTSCORE=\",bestScore, \"shrink_threshold\",bestParam)"
      ],
      "execution_count": null,
      "outputs": [
        {
          "name": "stdout",
          "output_type": "stream",
          "text": [
            "   NEW BEST= 0.6058432970092901 shrink_threshold 1\n",
            "   NEW BEST= 0.7195346081648306 shrink_threshold 30\n",
            "   NEW BEST= 0.7196420791257796 shrink_threshold 34\n",
            "   NEW BEST= 0.7197750371121122 shrink_threshold 37\n",
            "   NEW BEST= 0.7202791790591149 shrink_threshold 38\n",
            "   NEW BEST= 0.7204992961894254 shrink_threshold 39\n",
            "   NEW BEST= 0.720734547236868 shrink_threshold 40\n",
            "BESTSCORE= 0.720734547236868 shrink_threshold 40\n"
          ]
        }
      ]
    },
    {
      "cell_type": "markdown",
      "metadata": {
        "id": "ody2setFIugB"
      },
      "source": [
        "#### *Individual*"
      ]
    },
    {
      "cell_type": "code",
      "metadata": {
        "colab": {
          "base_uri": "https://localhost:8080/"
        },
        "id": "urtzlbTQbzjY",
        "outputId": "de82a01e-5e85-4966-9461-09cff2d10720"
      },
      "source": [
        "shrink_threshold = 40\n",
        "nearestCentroid = NearestCentroid(shrink_threshold=shrink_threshold)\n",
        "nearestCentroid.fit(X_train, y_train)"
      ],
      "execution_count": null,
      "outputs": [
        {
          "data": {
            "text/plain": [
              "NearestCentroid(metric='euclidean', shrink_threshold=40)"
            ]
          },
          "execution_count": 24,
          "metadata": {},
          "output_type": "execute_result"
        }
      ]
    },
    {
      "cell_type": "code",
      "metadata": {
        "id": "2hbEpkeIJWnd"
      },
      "source": [
        "y_pred = nearestCentroid.predict(X_val)\n",
        "scoreNearestCentroid= (f1_score(y_val, y_pred, average='weighted'), accuracy_score(y_val, y_pred))\n",
        "scoreNearestCentroid"
      ],
      "execution_count": null,
      "outputs": []
    },
    {
      "cell_type": "code",
      "metadata": {
        "id": "QUS-i00_anv6"
      },
      "source": [
        "resultNearestCentroid = pd.DataFrame({'id': data_test['id'], 'round_winner': nearestCentroid.predict(X_predict)})\n",
        "\n",
        "guardar(score=scoreNearestCentroid, prediccion=resultNearestCentroid, nombreModelo=\"NearestCentroid\", ruta='/content/predicciones', \n",
        "        params=[('shrink_threshold', shrink_threshold)])"
      ],
      "execution_count": null,
      "outputs": []
    },
    {
      "cell_type": "markdown",
      "metadata": {
        "id": "658HMo-dmWMg"
      },
      "source": [
        "## **Naive Bayes**"
      ]
    },
    {
      "cell_type": "markdown",
      "metadata": {
        "id": "6JYRjaeOpv3F"
      },
      "source": [
        "### ***Gaussian Naïve Bayes***"
      ]
    },
    {
      "cell_type": "code",
      "metadata": {
        "colab": {
          "base_uri": "https://localhost:8080/"
        },
        "id": "aKk-qWOWpzMa",
        "outputId": "1e9f2aff-ac23-4979-d8dc-b7731b6d562a"
      },
      "source": [
        "gnb = GaussianNB()\n",
        "gnb.fit(X_train, y_train)"
      ],
      "execution_count": null,
      "outputs": [
        {
          "data": {
            "text/plain": [
              "GaussianNB()"
            ]
          },
          "execution_count": 94,
          "metadata": {},
          "output_type": "execute_result"
        }
      ]
    },
    {
      "cell_type": "code",
      "metadata": {
        "colab": {
          "base_uri": "https://localhost:8080/"
        },
        "id": "mWuec0VSp5pg",
        "outputId": "3de10a10-7100-4afb-f4d8-290579c792ba"
      },
      "source": [
        "y_pred = gnb.predict(X_val)\n",
        "scoreGBN= (f1_score(y_val, y_pred, average='weighted'), accuracy_score(y_val, y_pred))\n",
        "scoreGBN"
      ],
      "execution_count": null,
      "outputs": [
        {
          "data": {
            "text/plain": [
              "0.7292017431045373"
            ]
          },
          "execution_count": 95,
          "metadata": {},
          "output_type": "execute_result"
        }
      ]
    },
    {
      "cell_type": "code",
      "metadata": {
        "colab": {
          "base_uri": "https://localhost:8080/",
          "height": 424
        },
        "id": "WhwZFM1Cp6wv",
        "outputId": "dc31f2ac-70be-4e53-d89d-680014cd0d45"
      },
      "source": [
        "resultGNB= pd.DataFrame({'id': data_test['id'], 'round_winner': gnb.predict(X_predict)})\n",
        "resultGNB"
      ],
      "execution_count": null,
      "outputs": [
        {
          "data": {
            "text/html": [
              "<div>\n",
              "<style scoped>\n",
              "    .dataframe tbody tr th:only-of-type {\n",
              "        vertical-align: middle;\n",
              "    }\n",
              "\n",
              "    .dataframe tbody tr th {\n",
              "        vertical-align: top;\n",
              "    }\n",
              "\n",
              "    .dataframe thead th {\n",
              "        text-align: right;\n",
              "    }\n",
              "</style>\n",
              "<table border=\"1\" class=\"dataframe\">\n",
              "  <thead>\n",
              "    <tr style=\"text-align: right;\">\n",
              "      <th></th>\n",
              "      <th>id</th>\n",
              "      <th>round_winner</th>\n",
              "    </tr>\n",
              "  </thead>\n",
              "  <tbody>\n",
              "    <tr>\n",
              "      <th>0</th>\n",
              "      <td>6548</td>\n",
              "      <td>CT</td>\n",
              "    </tr>\n",
              "    <tr>\n",
              "      <th>1</th>\n",
              "      <td>79093</td>\n",
              "      <td>T</td>\n",
              "    </tr>\n",
              "    <tr>\n",
              "      <th>2</th>\n",
              "      <td>103345</td>\n",
              "      <td>T</td>\n",
              "    </tr>\n",
              "    <tr>\n",
              "      <th>3</th>\n",
              "      <td>17113</td>\n",
              "      <td>CT</td>\n",
              "    </tr>\n",
              "    <tr>\n",
              "      <th>4</th>\n",
              "      <td>108774</td>\n",
              "      <td>T</td>\n",
              "    </tr>\n",
              "    <tr>\n",
              "      <th>...</th>\n",
              "      <td>...</td>\n",
              "      <td>...</td>\n",
              "    </tr>\n",
              "    <tr>\n",
              "      <th>48959</th>\n",
              "      <td>122127</td>\n",
              "      <td>T</td>\n",
              "    </tr>\n",
              "    <tr>\n",
              "      <th>48960</th>\n",
              "      <td>93115</td>\n",
              "      <td>T</td>\n",
              "    </tr>\n",
              "    <tr>\n",
              "      <th>48961</th>\n",
              "      <td>71219</td>\n",
              "      <td>T</td>\n",
              "    </tr>\n",
              "    <tr>\n",
              "      <th>48962</th>\n",
              "      <td>74073</td>\n",
              "      <td>T</td>\n",
              "    </tr>\n",
              "    <tr>\n",
              "      <th>48963</th>\n",
              "      <td>29200</td>\n",
              "      <td>CT</td>\n",
              "    </tr>\n",
              "  </tbody>\n",
              "</table>\n",
              "<p>48964 rows × 2 columns</p>\n",
              "</div>"
            ],
            "text/plain": [
              "           id round_winner\n",
              "0        6548           CT\n",
              "1       79093            T\n",
              "2      103345            T\n",
              "3       17113           CT\n",
              "4      108774            T\n",
              "...       ...          ...\n",
              "48959  122127            T\n",
              "48960   93115            T\n",
              "48961   71219            T\n",
              "48962   74073            T\n",
              "48963   29200           CT\n",
              "\n",
              "[48964 rows x 2 columns]"
            ]
          },
          "execution_count": 96,
          "metadata": {},
          "output_type": "execute_result"
        }
      ]
    },
    {
      "cell_type": "code",
      "metadata": {
        "id": "4bMLwnvjp72N"
      },
      "source": [
        "guardar(score=scoreGBN, prediccion=resultGNB, nombreModelo=\"Gaussian Naïve Bayes\", ruta='/content/predicciones', \n",
        "        params=[])"
      ],
      "execution_count": null,
      "outputs": []
    },
    {
      "cell_type": "markdown",
      "metadata": {
        "id": "0nCDe4ixsp_N"
      },
      "source": [
        "### ***Multinominal Naïve Bayes***"
      ]
    },
    {
      "cell_type": "code",
      "metadata": {
        "colab": {
          "base_uri": "https://localhost:8080/"
        },
        "id": "ZIwFAtRgsp_O",
        "outputId": "e304a981-31bf-46ce-d802-9dc57aed757e"
      },
      "source": [
        "alpha = 0\n",
        "mnb = MultinomialNB(alpha=0)\n",
        "mnb.fit(X_train, y_train)"
      ],
      "execution_count": null,
      "outputs": [
        {
          "name": "stderr",
          "output_type": "stream",
          "text": [
            "/usr/local/lib/python3.7/dist-packages/sklearn/naive_bayes.py:557: UserWarning: alpha too small will result in numeric errors, setting alpha = 1.0e-10\n",
            "  % _ALPHA_MIN\n"
          ]
        },
        {
          "data": {
            "text/plain": [
              "MultinomialNB(alpha=0)"
            ]
          },
          "execution_count": 196,
          "metadata": {},
          "output_type": "execute_result"
        }
      ]
    },
    {
      "cell_type": "code",
      "metadata": {
        "colab": {
          "base_uri": "https://localhost:8080/"
        },
        "id": "vyZOfhJOsp_P",
        "outputId": "3ba542d5-d5db-4abc-ef4d-035882b30832"
      },
      "source": [
        "y_pred = mnb.predict(X_val)\n",
        "scoreMNB= (f1_score(y_val, y_pred, average='weighted'), accuracy_score(y_val, y_pred))\n",
        "scoreMNB"
      ],
      "execution_count": null,
      "outputs": [
        {
          "data": {
            "text/plain": [
              "0.6146101642302008"
            ]
          },
          "execution_count": 197,
          "metadata": {},
          "output_type": "execute_result"
        }
      ]
    },
    {
      "cell_type": "code",
      "metadata": {
        "colab": {
          "base_uri": "https://localhost:8080/"
        },
        "id": "8diD15uesp_Q",
        "outputId": "f0a35197-b912-40ef-e995-c3ddfc9f4690"
      },
      "source": [
        "resultMNB= pd.DataFrame({'id': data_test['id'], 'round_winner': mnb.predict(X_predict)})\n",
        "resultMNB"
      ],
      "execution_count": null,
      "outputs": [
        {
          "data": {
            "text/html": [
              "<div>\n",
              "<style scoped>\n",
              "    .dataframe tbody tr th:only-of-type {\n",
              "        vertical-align: middle;\n",
              "    }\n",
              "\n",
              "    .dataframe tbody tr th {\n",
              "        vertical-align: top;\n",
              "    }\n",
              "\n",
              "    .dataframe thead th {\n",
              "        text-align: right;\n",
              "    }\n",
              "</style>\n",
              "<table border=\"1\" class=\"dataframe\">\n",
              "  <thead>\n",
              "    <tr style=\"text-align: right;\">\n",
              "      <th></th>\n",
              "      <th>id</th>\n",
              "      <th>round_winner</th>\n",
              "    </tr>\n",
              "  </thead>\n",
              "  <tbody>\n",
              "    <tr>\n",
              "      <th>0</th>\n",
              "      <td>6548</td>\n",
              "      <td>CT</td>\n",
              "    </tr>\n",
              "    <tr>\n",
              "      <th>1</th>\n",
              "      <td>79093</td>\n",
              "      <td>CT</td>\n",
              "    </tr>\n",
              "    <tr>\n",
              "      <th>2</th>\n",
              "      <td>103345</td>\n",
              "      <td>T</td>\n",
              "    </tr>\n",
              "    <tr>\n",
              "      <th>3</th>\n",
              "      <td>17113</td>\n",
              "      <td>T</td>\n",
              "    </tr>\n",
              "    <tr>\n",
              "      <th>4</th>\n",
              "      <td>108774</td>\n",
              "      <td>CT</td>\n",
              "    </tr>\n",
              "    <tr>\n",
              "      <th>...</th>\n",
              "      <td>...</td>\n",
              "      <td>...</td>\n",
              "    </tr>\n",
              "    <tr>\n",
              "      <th>48959</th>\n",
              "      <td>122127</td>\n",
              "      <td>T</td>\n",
              "    </tr>\n",
              "    <tr>\n",
              "      <th>48960</th>\n",
              "      <td>93115</td>\n",
              "      <td>CT</td>\n",
              "    </tr>\n",
              "    <tr>\n",
              "      <th>48961</th>\n",
              "      <td>71219</td>\n",
              "      <td>T</td>\n",
              "    </tr>\n",
              "    <tr>\n",
              "      <th>48962</th>\n",
              "      <td>74073</td>\n",
              "      <td>T</td>\n",
              "    </tr>\n",
              "    <tr>\n",
              "      <th>48963</th>\n",
              "      <td>29200</td>\n",
              "      <td>CT</td>\n",
              "    </tr>\n",
              "  </tbody>\n",
              "</table>\n",
              "<p>48964 rows × 2 columns</p>\n",
              "</div>"
            ],
            "text/plain": [
              "           id round_winner\n",
              "0        6548           CT\n",
              "1       79093           CT\n",
              "2      103345            T\n",
              "3       17113            T\n",
              "4      108774           CT\n",
              "...       ...          ...\n",
              "48959  122127            T\n",
              "48960   93115           CT\n",
              "48961   71219            T\n",
              "48962   74073            T\n",
              "48963   29200           CT\n",
              "\n",
              "[48964 rows x 2 columns]"
            ]
          },
          "execution_count": 198,
          "metadata": {},
          "output_type": "execute_result"
        }
      ]
    },
    {
      "cell_type": "code",
      "metadata": {
        "id": "3qgJuCj9sp_R"
      },
      "source": [
        "guardar(score=scoreMNB, prediccion=resultMNB, nombreModelo=\"Multinominal Naïve Bayes\", ruta='/content/predicciones', \n",
        "        params=[('alpha',alpha)])"
      ],
      "execution_count": null,
      "outputs": []
    },
    {
      "cell_type": "markdown",
      "metadata": {
        "id": "ry2pQA4stm3w"
      },
      "source": [
        "### ***Bernoulli Naïve Bayes***"
      ]
    },
    {
      "cell_type": "code",
      "metadata": {
        "colab": {
          "base_uri": "https://localhost:8080/"
        },
        "id": "M1_EfN4itm3y",
        "outputId": "4223e6d4-bc11-4324-b718-9216480f3676"
      },
      "source": [
        "alpha = 0\n",
        "bnb = BernoulliNB(alpha=alpha, binarize=None)\n",
        "bnb.fit(X_train, y_train)"
      ],
      "execution_count": null,
      "outputs": [
        {
          "name": "stderr",
          "output_type": "stream",
          "text": [
            "/usr/local/lib/python3.7/dist-packages/sklearn/naive_bayes.py:557: UserWarning: alpha too small will result in numeric errors, setting alpha = 1.0e-10\n",
            "  % _ALPHA_MIN\n"
          ]
        },
        {
          "data": {
            "text/plain": [
              "BernoulliNB(alpha=0, binarize=None)"
            ]
          },
          "execution_count": 202,
          "metadata": {},
          "output_type": "execute_result"
        }
      ]
    },
    {
      "cell_type": "code",
      "metadata": {
        "colab": {
          "base_uri": "https://localhost:8080/"
        },
        "id": "RkkU9_FBtm3z",
        "outputId": "5156be7b-c600-4cc0-ac7f-7c45a7a7c552"
      },
      "source": [
        "y_pred = bnb.predict(X_val)\n",
        "scoreBNB= (f1_score(y_val, y_pred, average='weighted'), accuracy_score(y_val, y_pred))\n",
        "scoreBNB"
      ],
      "execution_count": null,
      "outputs": [
        {
          "name": "stderr",
          "output_type": "stream",
          "text": [
            "/usr/local/lib/python3.7/dist-packages/sklearn/naive_bayes.py:1183: RuntimeWarning: invalid value encountered in log\n",
            "  neg_prob = np.log(1 - np.exp(self.feature_log_prob_))\n"
          ]
        },
        {
          "data": {
            "text/plain": [
              "0.32010656797896375"
            ]
          },
          "execution_count": 203,
          "metadata": {},
          "output_type": "execute_result"
        }
      ]
    },
    {
      "cell_type": "code",
      "metadata": {
        "colab": {
          "base_uri": "https://localhost:8080/"
        },
        "id": "q1Xwx6tztm3z",
        "outputId": "37168fdb-9600-43e3-8a02-f576373c46cf"
      },
      "source": [
        "resultBNB= pd.DataFrame({'id': data_test['id'], 'round_winner': bnb.predict(X_predict)})\n",
        "resultBNB"
      ],
      "execution_count": null,
      "outputs": [
        {
          "name": "stderr",
          "output_type": "stream",
          "text": [
            "/usr/local/lib/python3.7/dist-packages/sklearn/naive_bayes.py:1183: RuntimeWarning: invalid value encountered in log\n",
            "  neg_prob = np.log(1 - np.exp(self.feature_log_prob_))\n"
          ]
        },
        {
          "data": {
            "text/html": [
              "<div>\n",
              "<style scoped>\n",
              "    .dataframe tbody tr th:only-of-type {\n",
              "        vertical-align: middle;\n",
              "    }\n",
              "\n",
              "    .dataframe tbody tr th {\n",
              "        vertical-align: top;\n",
              "    }\n",
              "\n",
              "    .dataframe thead th {\n",
              "        text-align: right;\n",
              "    }\n",
              "</style>\n",
              "<table border=\"1\" class=\"dataframe\">\n",
              "  <thead>\n",
              "    <tr style=\"text-align: right;\">\n",
              "      <th></th>\n",
              "      <th>id</th>\n",
              "      <th>round_winner</th>\n",
              "    </tr>\n",
              "  </thead>\n",
              "  <tbody>\n",
              "    <tr>\n",
              "      <th>0</th>\n",
              "      <td>6548</td>\n",
              "      <td>CT</td>\n",
              "    </tr>\n",
              "    <tr>\n",
              "      <th>1</th>\n",
              "      <td>79093</td>\n",
              "      <td>CT</td>\n",
              "    </tr>\n",
              "    <tr>\n",
              "      <th>2</th>\n",
              "      <td>103345</td>\n",
              "      <td>CT</td>\n",
              "    </tr>\n",
              "    <tr>\n",
              "      <th>3</th>\n",
              "      <td>17113</td>\n",
              "      <td>CT</td>\n",
              "    </tr>\n",
              "    <tr>\n",
              "      <th>4</th>\n",
              "      <td>108774</td>\n",
              "      <td>CT</td>\n",
              "    </tr>\n",
              "    <tr>\n",
              "      <th>...</th>\n",
              "      <td>...</td>\n",
              "      <td>...</td>\n",
              "    </tr>\n",
              "    <tr>\n",
              "      <th>48959</th>\n",
              "      <td>122127</td>\n",
              "      <td>CT</td>\n",
              "    </tr>\n",
              "    <tr>\n",
              "      <th>48960</th>\n",
              "      <td>93115</td>\n",
              "      <td>CT</td>\n",
              "    </tr>\n",
              "    <tr>\n",
              "      <th>48961</th>\n",
              "      <td>71219</td>\n",
              "      <td>CT</td>\n",
              "    </tr>\n",
              "    <tr>\n",
              "      <th>48962</th>\n",
              "      <td>74073</td>\n",
              "      <td>CT</td>\n",
              "    </tr>\n",
              "    <tr>\n",
              "      <th>48963</th>\n",
              "      <td>29200</td>\n",
              "      <td>CT</td>\n",
              "    </tr>\n",
              "  </tbody>\n",
              "</table>\n",
              "<p>48964 rows × 2 columns</p>\n",
              "</div>"
            ],
            "text/plain": [
              "           id round_winner\n",
              "0        6548           CT\n",
              "1       79093           CT\n",
              "2      103345           CT\n",
              "3       17113           CT\n",
              "4      108774           CT\n",
              "...       ...          ...\n",
              "48959  122127           CT\n",
              "48960   93115           CT\n",
              "48961   71219           CT\n",
              "48962   74073           CT\n",
              "48963   29200           CT\n",
              "\n",
              "[48964 rows x 2 columns]"
            ]
          },
          "execution_count": 204,
          "metadata": {},
          "output_type": "execute_result"
        }
      ]
    },
    {
      "cell_type": "code",
      "metadata": {
        "id": "vT5WTEQ0tm30"
      },
      "source": [
        "guardar(score=scoreBNB, prediccion=resultBNB, nombreModelo=\"Bernoulli Naïve Bayes\", ruta='/content/predicciones', \n",
        "        params=[('alpha',alpha)])"
      ],
      "execution_count": null,
      "outputs": []
    },
    {
      "cell_type": "markdown",
      "metadata": {
        "id": "_LgIYyA4uUh8"
      },
      "source": [
        "### ***Complement Naïve Bayes***"
      ]
    },
    {
      "cell_type": "code",
      "metadata": {
        "colab": {
          "base_uri": "https://localhost:8080/"
        },
        "id": "DnT89NzvuUh-",
        "outputId": "0b700622-e1ed-4cec-dd8e-0d8c993a6666"
      },
      "source": [
        "alpha = 0\n",
        "cnb = ComplementNB(alpha=alpha)\n",
        "cnb.fit(X_train, y_train)"
      ],
      "execution_count": null,
      "outputs": [
        {
          "name": "stderr",
          "output_type": "stream",
          "text": [
            "/usr/local/lib/python3.7/dist-packages/sklearn/naive_bayes.py:557: UserWarning: alpha too small will result in numeric errors, setting alpha = 1.0e-10\n",
            "  % _ALPHA_MIN\n"
          ]
        },
        {
          "data": {
            "text/plain": [
              "ComplementNB(alpha=0)"
            ]
          },
          "execution_count": 208,
          "metadata": {},
          "output_type": "execute_result"
        }
      ]
    },
    {
      "cell_type": "code",
      "metadata": {
        "colab": {
          "base_uri": "https://localhost:8080/"
        },
        "id": "xLAR96MguUiA",
        "outputId": "8c2af45a-98f4-403f-a834-79f157ed350a"
      },
      "source": [
        "y_pred = cnb.predict(X_val)\n",
        "scoreCNB= (f1_score(y_val, y_pred, average='weighted'), accuracy_score(y_val, y_pred))\n",
        "scoreCNB"
      ],
      "execution_count": null,
      "outputs": [
        {
          "data": {
            "text/plain": [
              "0.6146101642302008"
            ]
          },
          "execution_count": 209,
          "metadata": {},
          "output_type": "execute_result"
        }
      ]
    },
    {
      "cell_type": "code",
      "metadata": {
        "colab": {
          "base_uri": "https://localhost:8080/"
        },
        "id": "XVWxo9kfuUiB",
        "outputId": "ce4e834b-4f61-4d6d-d206-1004ee45eb1a"
      },
      "source": [
        "resultCNB= pd.DataFrame({'id': data_test['id'], 'round_winner': cnb.predict(X_predict)})\n",
        "resultCNB"
      ],
      "execution_count": null,
      "outputs": [
        {
          "data": {
            "text/html": [
              "<div>\n",
              "<style scoped>\n",
              "    .dataframe tbody tr th:only-of-type {\n",
              "        vertical-align: middle;\n",
              "    }\n",
              "\n",
              "    .dataframe tbody tr th {\n",
              "        vertical-align: top;\n",
              "    }\n",
              "\n",
              "    .dataframe thead th {\n",
              "        text-align: right;\n",
              "    }\n",
              "</style>\n",
              "<table border=\"1\" class=\"dataframe\">\n",
              "  <thead>\n",
              "    <tr style=\"text-align: right;\">\n",
              "      <th></th>\n",
              "      <th>id</th>\n",
              "      <th>round_winner</th>\n",
              "    </tr>\n",
              "  </thead>\n",
              "  <tbody>\n",
              "    <tr>\n",
              "      <th>0</th>\n",
              "      <td>6548</td>\n",
              "      <td>CT</td>\n",
              "    </tr>\n",
              "    <tr>\n",
              "      <th>1</th>\n",
              "      <td>79093</td>\n",
              "      <td>CT</td>\n",
              "    </tr>\n",
              "    <tr>\n",
              "      <th>2</th>\n",
              "      <td>103345</td>\n",
              "      <td>T</td>\n",
              "    </tr>\n",
              "    <tr>\n",
              "      <th>3</th>\n",
              "      <td>17113</td>\n",
              "      <td>T</td>\n",
              "    </tr>\n",
              "    <tr>\n",
              "      <th>4</th>\n",
              "      <td>108774</td>\n",
              "      <td>CT</td>\n",
              "    </tr>\n",
              "    <tr>\n",
              "      <th>...</th>\n",
              "      <td>...</td>\n",
              "      <td>...</td>\n",
              "    </tr>\n",
              "    <tr>\n",
              "      <th>48959</th>\n",
              "      <td>122127</td>\n",
              "      <td>T</td>\n",
              "    </tr>\n",
              "    <tr>\n",
              "      <th>48960</th>\n",
              "      <td>93115</td>\n",
              "      <td>CT</td>\n",
              "    </tr>\n",
              "    <tr>\n",
              "      <th>48961</th>\n",
              "      <td>71219</td>\n",
              "      <td>T</td>\n",
              "    </tr>\n",
              "    <tr>\n",
              "      <th>48962</th>\n",
              "      <td>74073</td>\n",
              "      <td>T</td>\n",
              "    </tr>\n",
              "    <tr>\n",
              "      <th>48963</th>\n",
              "      <td>29200</td>\n",
              "      <td>CT</td>\n",
              "    </tr>\n",
              "  </tbody>\n",
              "</table>\n",
              "<p>48964 rows × 2 columns</p>\n",
              "</div>"
            ],
            "text/plain": [
              "           id round_winner\n",
              "0        6548           CT\n",
              "1       79093           CT\n",
              "2      103345            T\n",
              "3       17113            T\n",
              "4      108774           CT\n",
              "...       ...          ...\n",
              "48959  122127            T\n",
              "48960   93115           CT\n",
              "48961   71219            T\n",
              "48962   74073            T\n",
              "48963   29200           CT\n",
              "\n",
              "[48964 rows x 2 columns]"
            ]
          },
          "execution_count": 210,
          "metadata": {},
          "output_type": "execute_result"
        }
      ]
    },
    {
      "cell_type": "code",
      "metadata": {
        "id": "QZRdOVb4uUiC"
      },
      "source": [
        "guardar(score=scoreCNB, prediccion=resultCNB, nombreModelo=\"Complement Naïve Bayes\", ruta='/content/predicciones', \n",
        "        params=[('alpha',alpha)])"
      ],
      "execution_count": null,
      "outputs": []
    },
    {
      "cell_type": "markdown",
      "metadata": {
        "id": "BXdDrlwevN9a"
      },
      "source": [
        "## **Árboles de decisión**"
      ]
    },
    {
      "cell_type": "markdown",
      "metadata": {
        "id": "pc73WeFywmRI"
      },
      "source": [
        "### ***Árbol de decisión estándar***"
      ]
    },
    {
      "cell_type": "code",
      "metadata": {
        "colab": {
          "base_uri": "https://localhost:8080/"
        },
        "id": "3UsxMOiivN9c",
        "outputId": "211d5a1c-df5c-4160-cb87-ef0a697c0d83"
      },
      "source": [
        "criterion='entropy'\n",
        "splitter='best'\n",
        "max_depth=3\n",
        "\n",
        "arbol = DecisionTreeClassifier(criterion=criterion, splitter=splitter, max_depth=max_depth)\n",
        "arbol.fit(X_train, y_train)"
      ],
      "execution_count": null,
      "outputs": [
        {
          "data": {
            "text/plain": [
              "DecisionTreeClassifier(criterion='entropy', max_depth=3)"
            ]
          },
          "execution_count": 240,
          "metadata": {},
          "output_type": "execute_result"
        }
      ]
    },
    {
      "cell_type": "code",
      "metadata": {
        "colab": {
          "base_uri": "https://localhost:8080/"
        },
        "id": "9JARLmDfvN9d",
        "outputId": "4323f1f3-13a8-4a9f-a03f-4bb703916929"
      },
      "source": [
        "y_pred = arbol.predict(X_val)\n",
        "scoreArbol= (f1_score(y_val, y_pred, average='weighted'), accuracy_score(y_val, y_pred))\n",
        "scoreArbol"
      ],
      "execution_count": null,
      "outputs": [
        {
          "data": {
            "text/plain": [
              "0.7081686517007907"
            ]
          },
          "execution_count": 241,
          "metadata": {},
          "output_type": "execute_result"
        }
      ]
    },
    {
      "cell_type": "code",
      "metadata": {
        "colab": {
          "base_uri": "https://localhost:8080/"
        },
        "id": "GUTr0RxYvN9d",
        "outputId": "c0b921d8-ac2c-42d4-8ed2-a5b0d3677c5a"
      },
      "source": [
        "resultArbol= pd.DataFrame({'id': data_test['id'], 'round_winner': arbol.predict(X_predict)})\n",
        "resultArbol"
      ],
      "execution_count": null,
      "outputs": [
        {
          "data": {
            "text/html": [
              "<div>\n",
              "<style scoped>\n",
              "    .dataframe tbody tr th:only-of-type {\n",
              "        vertical-align: middle;\n",
              "    }\n",
              "\n",
              "    .dataframe tbody tr th {\n",
              "        vertical-align: top;\n",
              "    }\n",
              "\n",
              "    .dataframe thead th {\n",
              "        text-align: right;\n",
              "    }\n",
              "</style>\n",
              "<table border=\"1\" class=\"dataframe\">\n",
              "  <thead>\n",
              "    <tr style=\"text-align: right;\">\n",
              "      <th></th>\n",
              "      <th>id</th>\n",
              "      <th>round_winner</th>\n",
              "    </tr>\n",
              "  </thead>\n",
              "  <tbody>\n",
              "    <tr>\n",
              "      <th>0</th>\n",
              "      <td>6548</td>\n",
              "      <td>CT</td>\n",
              "    </tr>\n",
              "    <tr>\n",
              "      <th>1</th>\n",
              "      <td>79093</td>\n",
              "      <td>CT</td>\n",
              "    </tr>\n",
              "    <tr>\n",
              "      <th>2</th>\n",
              "      <td>103345</td>\n",
              "      <td>T</td>\n",
              "    </tr>\n",
              "    <tr>\n",
              "      <th>3</th>\n",
              "      <td>17113</td>\n",
              "      <td>T</td>\n",
              "    </tr>\n",
              "    <tr>\n",
              "      <th>4</th>\n",
              "      <td>108774</td>\n",
              "      <td>T</td>\n",
              "    </tr>\n",
              "    <tr>\n",
              "      <th>...</th>\n",
              "      <td>...</td>\n",
              "      <td>...</td>\n",
              "    </tr>\n",
              "    <tr>\n",
              "      <th>48959</th>\n",
              "      <td>122127</td>\n",
              "      <td>T</td>\n",
              "    </tr>\n",
              "    <tr>\n",
              "      <th>48960</th>\n",
              "      <td>93115</td>\n",
              "      <td>T</td>\n",
              "    </tr>\n",
              "    <tr>\n",
              "      <th>48961</th>\n",
              "      <td>71219</td>\n",
              "      <td>T</td>\n",
              "    </tr>\n",
              "    <tr>\n",
              "      <th>48962</th>\n",
              "      <td>74073</td>\n",
              "      <td>T</td>\n",
              "    </tr>\n",
              "    <tr>\n",
              "      <th>48963</th>\n",
              "      <td>29200</td>\n",
              "      <td>T</td>\n",
              "    </tr>\n",
              "  </tbody>\n",
              "</table>\n",
              "<p>48964 rows × 2 columns</p>\n",
              "</div>"
            ],
            "text/plain": [
              "           id round_winner\n",
              "0        6548           CT\n",
              "1       79093           CT\n",
              "2      103345            T\n",
              "3       17113            T\n",
              "4      108774            T\n",
              "...       ...          ...\n",
              "48959  122127            T\n",
              "48960   93115            T\n",
              "48961   71219            T\n",
              "48962   74073            T\n",
              "48963   29200            T\n",
              "\n",
              "[48964 rows x 2 columns]"
            ]
          },
          "execution_count": 242,
          "metadata": {},
          "output_type": "execute_result"
        }
      ]
    },
    {
      "cell_type": "code",
      "metadata": {
        "id": "KKj1lKqGvN9e"
      },
      "source": [
        "guardar(score=scoreArbol, prediccion=resultArbol, nombreModelo=\"Árbol de decisión\", ruta='/content/predicciones', \n",
        "        params=[('criterion',criterion), ('splitter',splitter), ('max_depth',max_depth)])"
      ],
      "execution_count": null,
      "outputs": []
    },
    {
      "cell_type": "markdown",
      "metadata": {
        "id": "Q5Kj6zL7wrHk"
      },
      "source": [
        "### ***Extra Tree Classifier***"
      ]
    },
    {
      "cell_type": "markdown",
      "metadata": {
        "id": "kVxmCz9DJ6Gu"
      },
      "source": [
        "#### *Optimizador*"
      ]
    },
    {
      "cell_type": "code",
      "metadata": {
        "colab": {
          "base_uri": "https://localhost:8080/"
        },
        "id": "GCXKkTBwTBon",
        "outputId": "ce713197-273d-4b5f-880c-2f9303986318"
      },
      "source": [
        "bestScore, bestMax_depth, bestCriterion = -1, -1, ''\n",
        "for max_depth in range (1,101,1):\n",
        "  for criterion in ['gini', 'entropy']:\n",
        "    arbolExtra = ExtraTreeClassifier(criterion=criterion, splitter='best', max_depth=max_depth)\n",
        "    arbolExtra.fit(X_train, y_train)\n",
        "    y_pred = arbolExtra.predict(X_val)\n",
        "    scoreArbolExtra = f1_score(y_val, y_pred, average='weighted')\n",
        "    if(scoreArbolExtra > bestScore):\n",
        "      bestScore = scoreArbolExtra\n",
        "      bestMax_depth, bestCriterion = max_depth, criterion\n",
        "      print(\"   NEW BEST=\", bestScore, \"bestMax_depth=\",bestMax_depth, \"bestCriterion=\", bestCriterion)\n",
        "print(\"BESTSCORE=\",bestScore, \"bestMax_depth\", bestMax_depth, \"bestCriterion=\", bestCriterion)"
      ],
      "execution_count": null,
      "outputs": [
        {
          "name": "stdout",
          "output_type": "stream",
          "text": [
            "   NEW BEST= 0.4034974221467371 bestMax_depth= 1 bestCriterion= gini\n",
            "   NEW BEST= 0.4495453706356776 bestMax_depth= 1 bestCriterion= entropy\n",
            "   NEW BEST= 0.6163591525701669 bestMax_depth= 2 bestCriterion= gini\n",
            "   NEW BEST= 0.6380604862955693 bestMax_depth= 2 bestCriterion= entropy\n",
            "   NEW BEST= 0.6524112276276054 bestMax_depth= 3 bestCriterion= gini\n",
            "   NEW BEST= 0.6927702857541871 bestMax_depth= 3 bestCriterion= entropy\n",
            "   NEW BEST= 0.7110606129430623 bestMax_depth= 5 bestCriterion= gini\n",
            "   NEW BEST= 0.7134147200603521 bestMax_depth= 7 bestCriterion= entropy\n",
            "   NEW BEST= 0.7392428750348994 bestMax_depth= 8 bestCriterion= gini\n",
            "   NEW BEST= 0.7411432086894395 bestMax_depth= 10 bestCriterion= gini\n",
            "   NEW BEST= 0.7421960684295561 bestMax_depth= 17 bestCriterion= entropy\n",
            "   NEW BEST= 0.7490860818692481 bestMax_depth= 18 bestCriterion= gini\n",
            "   NEW BEST= 0.7506228240603293 bestMax_depth= 21 bestCriterion= gini\n",
            "   NEW BEST= 0.7599734675856713 bestMax_depth= 23 bestCriterion= gini\n",
            "   NEW BEST= 0.7675884791602052 bestMax_depth= 28 bestCriterion= gini\n",
            "   NEW BEST= 0.7676958031282979 bestMax_depth= 33 bestCriterion= gini\n",
            "   NEW BEST= 0.7685500477787495 bestMax_depth= 35 bestCriterion= gini\n",
            "   NEW BEST= 0.7714488228474753 bestMax_depth= 40 bestCriterion= gini\n",
            "   NEW BEST= 0.7736605923068566 bestMax_depth= 43 bestCriterion= gini\n",
            "   NEW BEST= 0.777221396292572 bestMax_depth= 45 bestCriterion= entropy\n",
            "   NEW BEST= 0.7776525726630221 bestMax_depth= 79 bestCriterion= entropy\n",
            "   NEW BEST= 0.7788414474913156 bestMax_depth= 88 bestCriterion= gini\n",
            "BESTSCORE= 0.7788414474913156 bestMax_depth 88 bestCriterion= gini\n"
          ]
        }
      ]
    },
    {
      "cell_type": "markdown",
      "metadata": {
        "id": "0fifvmOLJ9Yj"
      },
      "source": [
        "#### *Individual*"
      ]
    },
    {
      "cell_type": "code",
      "metadata": {
        "colab": {
          "base_uri": "https://localhost:8080/"
        },
        "id": "XQHjZodlwrHk",
        "outputId": "01c7d8b9-034e-4b11-8100-ff09dfa76743"
      },
      "source": [
        "criterion='gini'\n",
        "splitter='best'\n",
        "max_depth=88\n",
        "\n",
        "arbolExtra = ExtraTreeClassifier(criterion=criterion, splitter=splitter, max_depth=max_depth)\n",
        "arbolExtra.fit(X_train, y_train)"
      ],
      "execution_count": null,
      "outputs": [
        {
          "data": {
            "text/plain": [
              "ExtraTreeClassifier(criterion='entropy', max_depth=75, splitter='best')"
            ]
          },
          "execution_count": 281,
          "metadata": {},
          "output_type": "execute_result"
        }
      ]
    },
    {
      "cell_type": "code",
      "metadata": {
        "colab": {
          "base_uri": "https://localhost:8080/"
        },
        "id": "6zUVM0bUwrHl",
        "outputId": "808738db-0564-455f-80cd-3f31aaa0b9d2"
      },
      "source": [
        "y_pred = arbolExtra.predict(X_val)\n",
        "scoreArbolExtra= (f1_score(y_val, y_pred, average='weighted'), accuracy_score(y_val, y_pred))\n",
        "scoreArbolExtra"
      ],
      "execution_count": null,
      "outputs": [
        {
          "data": {
            "text/plain": [
              "0.7671909836057507"
            ]
          },
          "execution_count": 282,
          "metadata": {},
          "output_type": "execute_result"
        }
      ]
    },
    {
      "cell_type": "code",
      "metadata": {
        "colab": {
          "base_uri": "https://localhost:8080/"
        },
        "id": "BEvQwflswrHm",
        "outputId": "8986b687-abd5-4906-eb31-642d4d5f9929"
      },
      "source": [
        "resultArbolExtra= pd.DataFrame({'id': data_test['id'], 'round_winner': arbolExtra.predict(X_predict)})\n",
        "resultArbolExtra"
      ],
      "execution_count": null,
      "outputs": [
        {
          "data": {
            "text/html": [
              "<div>\n",
              "<style scoped>\n",
              "    .dataframe tbody tr th:only-of-type {\n",
              "        vertical-align: middle;\n",
              "    }\n",
              "\n",
              "    .dataframe tbody tr th {\n",
              "        vertical-align: top;\n",
              "    }\n",
              "\n",
              "    .dataframe thead th {\n",
              "        text-align: right;\n",
              "    }\n",
              "</style>\n",
              "<table border=\"1\" class=\"dataframe\">\n",
              "  <thead>\n",
              "    <tr style=\"text-align: right;\">\n",
              "      <th></th>\n",
              "      <th>id</th>\n",
              "      <th>round_winner</th>\n",
              "    </tr>\n",
              "  </thead>\n",
              "  <tbody>\n",
              "    <tr>\n",
              "      <th>0</th>\n",
              "      <td>6548</td>\n",
              "      <td>CT</td>\n",
              "    </tr>\n",
              "    <tr>\n",
              "      <th>1</th>\n",
              "      <td>79093</td>\n",
              "      <td>T</td>\n",
              "    </tr>\n",
              "    <tr>\n",
              "      <th>2</th>\n",
              "      <td>103345</td>\n",
              "      <td>T</td>\n",
              "    </tr>\n",
              "    <tr>\n",
              "      <th>3</th>\n",
              "      <td>17113</td>\n",
              "      <td>T</td>\n",
              "    </tr>\n",
              "    <tr>\n",
              "      <th>4</th>\n",
              "      <td>108774</td>\n",
              "      <td>T</td>\n",
              "    </tr>\n",
              "    <tr>\n",
              "      <th>...</th>\n",
              "      <td>...</td>\n",
              "      <td>...</td>\n",
              "    </tr>\n",
              "    <tr>\n",
              "      <th>48959</th>\n",
              "      <td>122127</td>\n",
              "      <td>T</td>\n",
              "    </tr>\n",
              "    <tr>\n",
              "      <th>48960</th>\n",
              "      <td>93115</td>\n",
              "      <td>T</td>\n",
              "    </tr>\n",
              "    <tr>\n",
              "      <th>48961</th>\n",
              "      <td>71219</td>\n",
              "      <td>CT</td>\n",
              "    </tr>\n",
              "    <tr>\n",
              "      <th>48962</th>\n",
              "      <td>74073</td>\n",
              "      <td>CT</td>\n",
              "    </tr>\n",
              "    <tr>\n",
              "      <th>48963</th>\n",
              "      <td>29200</td>\n",
              "      <td>T</td>\n",
              "    </tr>\n",
              "  </tbody>\n",
              "</table>\n",
              "<p>48964 rows × 2 columns</p>\n",
              "</div>"
            ],
            "text/plain": [
              "           id round_winner\n",
              "0        6548           CT\n",
              "1       79093            T\n",
              "2      103345            T\n",
              "3       17113            T\n",
              "4      108774            T\n",
              "...       ...          ...\n",
              "48959  122127            T\n",
              "48960   93115            T\n",
              "48961   71219           CT\n",
              "48962   74073           CT\n",
              "48963   29200            T\n",
              "\n",
              "[48964 rows x 2 columns]"
            ]
          },
          "execution_count": 283,
          "metadata": {},
          "output_type": "execute_result"
        }
      ]
    },
    {
      "cell_type": "code",
      "metadata": {
        "id": "rqDOsM39wrHm"
      },
      "source": [
        "guardar(score=scoreArbolExtra, prediccion=resultArbolExtra, nombreModelo=\"Extra Tree Classifier\", ruta='/content/predicciones', \n",
        "        params=[('criterion',criterion), ('splitter',splitter), ('max_depth',max_depth)])"
      ],
      "execution_count": null,
      "outputs": []
    },
    {
      "cell_type": "markdown",
      "metadata": {
        "id": "m1o5a7ICSn-Y"
      },
      "source": [
        "## **Redes neuronales**"
      ]
    },
    {
      "cell_type": "markdown",
      "metadata": {
        "id": "xHQKdXGSpgSK"
      },
      "source": [
        "### *Optimización de hiperparámetros con Nevergrad*"
      ]
    },
    {
      "cell_type": "markdown",
      "metadata": {
        "id": "GMEWg0FcLI2Q"
      },
      "source": [
        "Buscamos los mejores hiperparámetros utilizando la librería de MetaFacebook:  Nevergrad"
      ]
    },
    {
      "cell_type": "code",
      "metadata": {
        "id": "rI6BRV16pt2-"
      },
      "source": [
        "numBudgets=[1]\n",
        "def createRedNeuronal (numCapas, dr, neuronasCapa1, neuronasCapa2, neuronasCapa3, neuronasCapa4, neuronasCapa5, neuronasCapa6, neuronasCapa7, neuronasCapa8, \n",
        "                       neuronasCapa9, neuronasCapa10, funcionActivacion, X_train=X_train, y_train=y_train, X_val=X_val, y_val=y_val, numBudgets=numBudgets):\n",
        "  redNeuronal = K.Sequential()\n",
        "  \n",
        "  redNeuronal.add(K.layers.Dense(units=neuronasCapa1, activation=funcionActivacion, input_shape=[len(X_train.columns)]))\n",
        "  redNeuronal.add(K.layers.Dropout(dr))\n",
        "  redNeuronal.add(K.layers.Dense(units=neuronasCapa2, activation=funcionActivacion))\n",
        "  redNeuronal.add(K.layers.Dropout(dr))\n",
        "  redNeuronal.add(K.layers.Dense(units=neuronasCapa3, activation=funcionActivacion))\n",
        "  if(numCapas > 3):\n",
        "    redNeuronal.add(K.layers.Dropout(dr))\n",
        "    redNeuronal.add(K.layers.Dense(units=neuronasCapa4, activation=funcionActivacion))\n",
        "    if(numCapas > 4):\n",
        "      redNeuronal.add(K.layers.Dropout(dr))\n",
        "      redNeuronal.add(K.layers.Dense(units=neuronasCapa5, activation=funcionActivacion))\n",
        "      if(numCapas > 5):\n",
        "        redNeuronal.add(K.layers.Dropout(dr))\n",
        "        redNeuronal.add(K.layers.Dense(units=neuronasCapa6, activation=funcionActivacion))\n",
        "        if(numCapas > 6):\n",
        "          redNeuronal.add(K.layers.Dropout(dr))\n",
        "          redNeuronal.add(K.layers.Dense(units=neuronasCapa7, activation=funcionActivacion))\n",
        "          if(numCapas > 7):\n",
        "            redNeuronal.add(K.layers.Dropout(dr))\n",
        "            redNeuronal.add(K.layers.Dense(units=neuronasCapa8, activation=funcionActivacion))\n",
        "            if(numCapas > 8):\n",
        "              redNeuronal.add(K.layers.Dropout(dr))\n",
        "              redNeuronal.add(K.layers.Dense(units=neuronasCapa9, activation=funcionActivacion))\n",
        "              if(numCapas > 9):\n",
        "                redNeuronal.add(K.layers.Dropout(dr))\n",
        "                redNeuronal.add(K.layers.Dense(units=neuronasCapa10, activation=funcionActivacion))\n",
        "\n",
        "  redNeuronal.add(K.layers.Dense(2, activation='softmax'))\n",
        "  redNeuronal.compile(loss='binary_crossentropy',\n",
        "                    optimizer='adam',\n",
        "                    metrics=[f1_score_m])\n",
        "  \n",
        "  history = redNeuronal.fit(X_train, transform_Y(y_train), batch_size=256, epochs=200, verbose=False)\n",
        "\n",
        "  y_pred = inverse_transform_Y(redNeuronal.predict(X_val))\n",
        "  scoreRedNeuronal= f1_score(y_val, y_pred, average='weighted')\n",
        "\n",
        "  print('Test score:', scoreRedNeuronal, 'Num capas:', numCapas, '    ', numBudgets[0])\n",
        "  print(neuronasCapa1, neuronasCapa2, neuronasCapa3, neuronasCapa4, neuronasCapa5, neuronasCapa6, neuronasCapa7, neuronasCapa8, \n",
        "                       neuronasCapa9, neuronasCapa10)\n",
        "  print()\n",
        "\n",
        "  numBudgets[0]+=1\n",
        "  return -scoreRedNeuronal"
      ],
      "execution_count": null,
      "outputs": []
    },
    {
      "cell_type": "code",
      "metadata": {
        "id": "FjDP-lFepgSM"
      },
      "source": [
        "numCapas = ng.p.TransitionChoice(range(3, 11, 1))\n",
        "dr = ng.p.Scalar(lower=0.2, upper=0.7)\n",
        "neuronasCapa1 = ng.p.Choice(range(10, 101, 10))\n",
        "neuronasCapa2 = ng.p.Choice(range(10, 101, 10))\n",
        "neuronasCapa3 = ng.p.Choice(range(10, 101, 10))\n",
        "neuronasCapa4 = ng.p.Choice(range(10, 101, 10))\n",
        "neuronasCapa5 = ng.p.Choice(range(10, 101, 10))\n",
        "neuronasCapa6 = ng.p.Choice(range(10, 101, 10))\n",
        "neuronasCapa7 = ng.p.Choice(range(10, 101, 10))\n",
        "neuronasCapa8 = ng.p.Choice(range(10, 101, 10))\n",
        "neuronasCapa9 = ng.p.Choice(range(10, 101, 10))\n",
        "neuronasCapa10 = ng.p.Choice(range(10, 101, 10))\n",
        "funcionActivacion = ng.p.Choice(['sigmoid', 'relu'])\n",
        "\n",
        "params = ng.p.Instrumentation(numCapas, dr, neuronasCapa1, neuronasCapa2, neuronasCapa3, neuronasCapa4, neuronasCapa5, neuronasCapa6, neuronasCapa7, \n",
        "                              neuronasCapa8, neuronasCapa9, neuronasCapa10, funcionActivacion)\n",
        "\n",
        "optimizer = ng.optimizers.TwoPointsDE(parametrization=params, budget=25)\n",
        "best = optimizer.minimize(createRedNeuronal, batch_mode=False)"
      ],
      "execution_count": null,
      "outputs": []
    },
    {
      "cell_type": "code",
      "metadata": {
        "id": "AlGQUeGNpgSN"
      },
      "source": [
        "best.value[0]"
      ],
      "execution_count": null,
      "outputs": []
    },
    {
      "cell_type": "markdown",
      "metadata": {
        "id": "Uyh8Ug4mSxuf"
      },
      "source": [
        "### *Individual*"
      ]
    },
    {
      "cell_type": "code",
      "metadata": {
        "id": "FZV7_dShSzJ7"
      },
      "source": [
        "neuronasCapa1 = 500\n",
        "neuronasCapa2 = 500\n",
        "neuronasCapa3 = 500\n",
        "funcionActivacion='relu'\n",
        "\n",
        "redNeuronal = K.Sequential()\n",
        "\n",
        "redNeuronal.add(K.layers.Dense(units=neuronasCapa1, activation=funcionActivacion, input_shape=[len(X_predict.columns)]))\n",
        "redNeuronal.add(K.layers.Dense(units=neuronasCapa2, activation=funcionActivacion))\n",
        "redNeuronal.add(K.layers.Dense(units=neuronasCapa3, activation=funcionActivacion))\n",
        "redNeuronal.add(K.layers.Dense(units=neuronasCapa3, activation=funcionActivacion))\n",
        "redNeuronal.add(K.layers.Dense(units=neuronasCapa3, activation=funcionActivacion))\n",
        "redNeuronal.add(K.layers.Dense(units=neuronasCapa3, activation=funcionActivacion))\n",
        "redNeuronal.add(K.layers.Dense(units=neuronasCapa3, activation=funcionActivacion))\n",
        "redNeuronal.add(K.layers.Dense(units=neuronasCapa3, activation=funcionActivacion))\n",
        "redNeuronal.add(K.layers.Dense(2, activation='softmax'))\n",
        "\n",
        "redNeuronal.compile(loss='binary_crossentropy',\n",
        "                  optimizer='adam',\n",
        "                  metrics=[f1_score_m])"
      ],
      "execution_count": null,
      "outputs": []
    },
    {
      "cell_type": "code",
      "metadata": {
        "colab": {
          "base_uri": "https://localhost:8080/"
        },
        "id": "yX4quyMUT_YF",
        "outputId": "011f25d5-e897-43e3-91ed-6504101fc7a0"
      },
      "source": [
        "history = redNeuronal.fit(X_train, transform_Y(y_train), batch_size=256, epochs=400, verbose=True)\n",
        "history"
      ],
      "execution_count": null,
      "outputs": [
        {
          "output_type": "stream",
          "name": "stdout",
          "text": [
            "Epoch 1/400\n",
            "244/244 [==============================] - 19s 70ms/step - loss: 0.4744 - f1_score_m: 0.7455\n",
            "Epoch 2/400\n",
            "244/244 [==============================] - 17s 71ms/step - loss: 0.4459 - f1_score_m: 0.7599\n",
            "Epoch 3/400\n",
            "244/244 [==============================] - 17s 70ms/step - loss: 0.4330 - f1_score_m: 0.7674\n",
            "Epoch 4/400\n",
            "244/244 [==============================] - 17s 71ms/step - loss: 0.4212 - f1_score_m: 0.7755\n",
            "Epoch 5/400\n",
            "244/244 [==============================] - 18s 72ms/step - loss: 0.4074 - f1_score_m: 0.7860\n",
            "Epoch 6/400\n",
            "244/244 [==============================] - 18s 72ms/step - loss: 0.3936 - f1_score_m: 0.7979\n",
            "Epoch 7/400\n",
            "244/244 [==============================] - 17s 70ms/step - loss: 0.3734 - f1_score_m: 0.8091\n",
            "Epoch 8/400\n",
            "244/244 [==============================] - 17s 71ms/step - loss: 0.3470 - f1_score_m: 0.8253\n",
            "Epoch 9/400\n",
            "244/244 [==============================] - 17s 70ms/step - loss: 0.3207 - f1_score_m: 0.8443\n",
            "Epoch 10/400\n",
            "244/244 [==============================] - 17s 71ms/step - loss: 0.2913 - f1_score_m: 0.8596\n",
            "Epoch 11/400\n",
            "244/244 [==============================] - 17s 71ms/step - loss: 0.2632 - f1_score_m: 0.8741\n",
            "Epoch 12/400\n",
            "244/244 [==============================] - 17s 70ms/step - loss: 0.2405 - f1_score_m: 0.8858\n",
            "Epoch 13/400\n",
            "244/244 [==============================] - 17s 70ms/step - loss: 0.2101 - f1_score_m: 0.8987\n",
            "Epoch 14/400\n",
            "244/244 [==============================] - 17s 70ms/step - loss: 0.1934 - f1_score_m: 0.9069\n",
            "Epoch 15/400\n",
            "244/244 [==============================] - 17s 70ms/step - loss: 0.1732 - f1_score_m: 0.9168\n",
            "Epoch 16/400\n",
            "244/244 [==============================] - 17s 70ms/step - loss: 0.1567 - f1_score_m: 0.9229\n",
            "Epoch 17/400\n",
            "244/244 [==============================] - 17s 71ms/step - loss: 0.1422 - f1_score_m: 0.9299\n",
            "Epoch 18/400\n",
            "244/244 [==============================] - 18s 72ms/step - loss: 0.1322 - f1_score_m: 0.9354\n",
            "Epoch 19/400\n",
            "244/244 [==============================] - 18s 72ms/step - loss: 0.1257 - f1_score_m: 0.9380\n",
            "Epoch 20/400\n",
            "244/244 [==============================] - 18s 75ms/step - loss: 0.1190 - f1_score_m: 0.9413\n",
            "Epoch 21/400\n",
            "244/244 [==============================] - 18s 75ms/step - loss: 0.1100 - f1_score_m: 0.9459\n",
            "Epoch 22/400\n",
            "244/244 [==============================] - 17s 70ms/step - loss: 0.1064 - f1_score_m: 0.9475\n",
            "Epoch 23/400\n",
            "244/244 [==============================] - 17s 71ms/step - loss: 0.1008 - f1_score_m: 0.9502\n",
            "Epoch 24/400\n",
            "244/244 [==============================] - 18s 72ms/step - loss: 0.1003 - f1_score_m: 0.9514\n",
            "Epoch 25/400\n",
            "244/244 [==============================] - 17s 71ms/step - loss: 0.0953 - f1_score_m: 0.9529\n",
            "Epoch 26/400\n",
            "244/244 [==============================] - 18s 73ms/step - loss: 0.0919 - f1_score_m: 0.9547\n",
            "Epoch 27/400\n",
            "244/244 [==============================] - 18s 72ms/step - loss: 0.0917 - f1_score_m: 0.9555\n",
            "Epoch 28/400\n",
            "244/244 [==============================] - 18s 72ms/step - loss: 0.0875 - f1_score_m: 0.9588\n",
            "Epoch 29/400\n",
            "244/244 [==============================] - 17s 72ms/step - loss: 0.0869 - f1_score_m: 0.9590\n",
            "Epoch 30/400\n",
            "244/244 [==============================] - 17s 72ms/step - loss: 0.0879 - f1_score_m: 0.9590\n",
            "Epoch 31/400\n",
            "244/244 [==============================] - 17s 71ms/step - loss: 0.0787 - f1_score_m: 0.9620\n",
            "Epoch 32/400\n",
            "244/244 [==============================] - 17s 70ms/step - loss: 0.0756 - f1_score_m: 0.9637\n",
            "Epoch 33/400\n",
            "244/244 [==============================] - 17s 72ms/step - loss: 0.0738 - f1_score_m: 0.9637\n",
            "Epoch 34/400\n",
            "244/244 [==============================] - 17s 71ms/step - loss: 0.0735 - f1_score_m: 0.9656\n",
            "Epoch 35/400\n",
            "244/244 [==============================] - 18s 73ms/step - loss: 0.0725 - f1_score_m: 0.9653\n",
            "Epoch 36/400\n",
            "244/244 [==============================] - 18s 72ms/step - loss: 0.0742 - f1_score_m: 0.9652\n",
            "Epoch 37/400\n",
            "244/244 [==============================] - 18s 73ms/step - loss: 0.0693 - f1_score_m: 0.9677\n",
            "Epoch 38/400\n",
            "244/244 [==============================] - 17s 71ms/step - loss: 0.0667 - f1_score_m: 0.9687\n",
            "Epoch 39/400\n",
            "244/244 [==============================] - 18s 72ms/step - loss: 0.0651 - f1_score_m: 0.9702\n",
            "Epoch 40/400\n",
            "244/244 [==============================] - 17s 71ms/step - loss: 0.0647 - f1_score_m: 0.9693\n",
            "Epoch 41/400\n",
            "244/244 [==============================] - 18s 72ms/step - loss: 0.0641 - f1_score_m: 0.9709\n",
            "Epoch 42/400\n",
            "244/244 [==============================] - 18s 72ms/step - loss: 0.0642 - f1_score_m: 0.9707\n",
            "Epoch 43/400\n",
            "244/244 [==============================] - 17s 71ms/step - loss: 0.0591 - f1_score_m: 0.9729\n",
            "Epoch 44/400\n",
            "244/244 [==============================] - 17s 71ms/step - loss: 0.0633 - f1_score_m: 0.9716\n",
            "Epoch 45/400\n",
            "244/244 [==============================] - 18s 72ms/step - loss: 0.0619 - f1_score_m: 0.9730\n",
            "Epoch 46/400\n",
            "244/244 [==============================] - 17s 71ms/step - loss: 0.0598 - f1_score_m: 0.9734\n",
            "Epoch 47/400\n",
            "244/244 [==============================] - 17s 70ms/step - loss: 0.0540 - f1_score_m: 0.9755\n",
            "Epoch 48/400\n",
            "244/244 [==============================] - 17s 72ms/step - loss: 0.0558 - f1_score_m: 0.9744\n",
            "Epoch 49/400\n",
            "244/244 [==============================] - 17s 71ms/step - loss: 0.0552 - f1_score_m: 0.9753\n",
            "Epoch 50/400\n",
            "244/244 [==============================] - 18s 72ms/step - loss: 0.0541 - f1_score_m: 0.9767\n",
            "Epoch 51/400\n",
            "244/244 [==============================] - 17s 71ms/step - loss: 0.0521 - f1_score_m: 0.9766\n",
            "Epoch 52/400\n",
            "244/244 [==============================] - 17s 71ms/step - loss: 0.0508 - f1_score_m: 0.9766\n",
            "Epoch 53/400\n",
            "244/244 [==============================] - 18s 73ms/step - loss: 0.0506 - f1_score_m: 0.9774\n",
            "Epoch 54/400\n",
            "244/244 [==============================] - 18s 72ms/step - loss: 0.0466 - f1_score_m: 0.9786\n",
            "Epoch 55/400\n",
            "244/244 [==============================] - 20s 80ms/step - loss: 0.0513 - f1_score_m: 0.9772\n",
            "Epoch 56/400\n",
            "244/244 [==============================] - 18s 72ms/step - loss: 0.0474 - f1_score_m: 0.9791\n",
            "Epoch 57/400\n",
            "244/244 [==============================] - 17s 71ms/step - loss: 0.0481 - f1_score_m: 0.9790\n",
            "Epoch 58/400\n",
            "244/244 [==============================] - 17s 71ms/step - loss: 0.0505 - f1_score_m: 0.9782\n",
            "Epoch 59/400\n",
            "244/244 [==============================] - 18s 72ms/step - loss: 0.0466 - f1_score_m: 0.9790\n",
            "Epoch 60/400\n",
            "244/244 [==============================] - 18s 73ms/step - loss: 0.0476 - f1_score_m: 0.9787\n",
            "Epoch 61/400\n",
            "244/244 [==============================] - 18s 72ms/step - loss: 0.0461 - f1_score_m: 0.9797\n",
            "Epoch 62/400\n",
            "244/244 [==============================] - 17s 71ms/step - loss: 0.0433 - f1_score_m: 0.9809\n",
            "Epoch 63/400\n",
            "244/244 [==============================] - 17s 70ms/step - loss: 0.0428 - f1_score_m: 0.9816\n",
            "Epoch 64/400\n",
            "244/244 [==============================] - 17s 71ms/step - loss: 0.0403 - f1_score_m: 0.9827\n",
            "Epoch 65/400\n",
            "244/244 [==============================] - 17s 71ms/step - loss: 0.0453 - f1_score_m: 0.9811\n",
            "Epoch 66/400\n",
            "244/244 [==============================] - 18s 72ms/step - loss: 0.0413 - f1_score_m: 0.9816\n",
            "Epoch 67/400\n",
            "244/244 [==============================] - 18s 72ms/step - loss: 0.0416 - f1_score_m: 0.9819\n",
            "Epoch 68/400\n",
            "244/244 [==============================] - 18s 73ms/step - loss: 0.0444 - f1_score_m: 0.9810\n",
            "Epoch 69/400\n",
            "244/244 [==============================] - 18s 73ms/step - loss: 0.0421 - f1_score_m: 0.9819\n",
            "Epoch 70/400\n",
            "244/244 [==============================] - 18s 72ms/step - loss: 0.0420 - f1_score_m: 0.9820\n",
            "Epoch 71/400\n",
            "244/244 [==============================] - 18s 73ms/step - loss: 0.0408 - f1_score_m: 0.9822\n",
            "Epoch 72/400\n",
            "244/244 [==============================] - 17s 71ms/step - loss: 0.0366 - f1_score_m: 0.9834\n",
            "Epoch 73/400\n",
            "244/244 [==============================] - 18s 72ms/step - loss: 0.0407 - f1_score_m: 0.9823\n",
            "Epoch 74/400\n",
            "244/244 [==============================] - 17s 71ms/step - loss: 0.0397 - f1_score_m: 0.9821\n",
            "Epoch 75/400\n",
            "244/244 [==============================] - 18s 72ms/step - loss: 0.0381 - f1_score_m: 0.9833\n",
            "Epoch 76/400\n",
            "244/244 [==============================] - 17s 71ms/step - loss: 0.0379 - f1_score_m: 0.9834\n",
            "Epoch 77/400\n",
            "244/244 [==============================] - 18s 72ms/step - loss: 0.0343 - f1_score_m: 0.9842\n",
            "Epoch 78/400\n",
            "244/244 [==============================] - 18s 72ms/step - loss: 0.0385 - f1_score_m: 0.9840\n",
            "Epoch 79/400\n",
            "244/244 [==============================] - 18s 72ms/step - loss: 0.0378 - f1_score_m: 0.9836\n",
            "Epoch 80/400\n",
            "244/244 [==============================] - 17s 71ms/step - loss: 0.0373 - f1_score_m: 0.9832\n",
            "Epoch 81/400\n",
            "244/244 [==============================] - 17s 71ms/step - loss: 0.0377 - f1_score_m: 0.9838\n",
            "Epoch 82/400\n",
            "244/244 [==============================] - 18s 72ms/step - loss: 0.0355 - f1_score_m: 0.9849\n",
            "Epoch 83/400\n",
            "244/244 [==============================] - 17s 71ms/step - loss: 0.0385 - f1_score_m: 0.9835\n",
            "Epoch 84/400\n",
            "244/244 [==============================] - 18s 72ms/step - loss: 0.0368 - f1_score_m: 0.9837\n",
            "Epoch 85/400\n",
            "244/244 [==============================] - 17s 71ms/step - loss: 0.0328 - f1_score_m: 0.9854\n",
            "Epoch 86/400\n",
            "244/244 [==============================] - 18s 72ms/step - loss: 0.0332 - f1_score_m: 0.9852\n",
            "Epoch 87/400\n",
            "244/244 [==============================] - 17s 71ms/step - loss: 0.0350 - f1_score_m: 0.9850\n",
            "Epoch 88/400\n",
            "244/244 [==============================] - 18s 72ms/step - loss: 0.0349 - f1_score_m: 0.9850\n",
            "Epoch 89/400\n",
            "244/244 [==============================] - 18s 73ms/step - loss: 0.0344 - f1_score_m: 0.9841\n",
            "Epoch 90/400\n",
            "244/244 [==============================] - 18s 73ms/step - loss: 0.0349 - f1_score_m: 0.9848\n",
            "Epoch 91/400\n",
            "244/244 [==============================] - 18s 72ms/step - loss: 0.0310 - f1_score_m: 0.9860\n",
            "Epoch 92/400\n",
            "244/244 [==============================] - 18s 72ms/step - loss: 0.0333 - f1_score_m: 0.9852\n",
            "Epoch 93/400\n",
            "244/244 [==============================] - 17s 71ms/step - loss: 0.0316 - f1_score_m: 0.9860\n",
            "Epoch 94/400\n",
            "244/244 [==============================] - 17s 72ms/step - loss: 0.0311 - f1_score_m: 0.9863\n",
            "Epoch 95/400\n",
            "244/244 [==============================] - 18s 72ms/step - loss: 0.0312 - f1_score_m: 0.9864\n",
            "Epoch 96/400\n",
            "244/244 [==============================] - 18s 72ms/step - loss: 0.0328 - f1_score_m: 0.9856\n",
            "Epoch 97/400\n",
            "244/244 [==============================] - 18s 72ms/step - loss: 0.0316 - f1_score_m: 0.9862\n",
            "Epoch 98/400\n",
            "244/244 [==============================] - 17s 71ms/step - loss: 0.0313 - f1_score_m: 0.9860\n",
            "Epoch 99/400\n",
            "244/244 [==============================] - 18s 72ms/step - loss: 0.0321 - f1_score_m: 0.9859\n",
            "Epoch 100/400\n",
            "244/244 [==============================] - 18s 73ms/step - loss: 0.0322 - f1_score_m: 0.9855\n",
            "Epoch 101/400\n",
            "244/244 [==============================] - 18s 73ms/step - loss: 0.0315 - f1_score_m: 0.9858\n",
            "Epoch 102/400\n",
            "244/244 [==============================] - 17s 72ms/step - loss: 0.0322 - f1_score_m: 0.9857\n",
            "Epoch 103/400\n",
            "244/244 [==============================] - 17s 72ms/step - loss: 0.0305 - f1_score_m: 0.9866\n",
            "Epoch 104/400\n",
            "244/244 [==============================] - 17s 72ms/step - loss: 0.0306 - f1_score_m: 0.9867\n",
            "Epoch 105/400\n",
            "244/244 [==============================] - 18s 73ms/step - loss: 0.0299 - f1_score_m: 0.9868\n",
            "Epoch 106/400\n",
            "244/244 [==============================] - 18s 73ms/step - loss: 0.0300 - f1_score_m: 0.9873\n",
            "Epoch 107/400\n",
            "244/244 [==============================] - 18s 72ms/step - loss: 0.0308 - f1_score_m: 0.9862\n",
            "Epoch 108/400\n",
            "244/244 [==============================] - 17s 71ms/step - loss: 0.0327 - f1_score_m: 0.9857\n",
            "Epoch 109/400\n",
            "244/244 [==============================] - 18s 72ms/step - loss: 0.0309 - f1_score_m: 0.9865\n",
            "Epoch 110/400\n",
            "244/244 [==============================] - 18s 72ms/step - loss: 0.0279 - f1_score_m: 0.9874\n",
            "Epoch 111/400\n",
            "244/244 [==============================] - 18s 73ms/step - loss: 0.0293 - f1_score_m: 0.9870\n",
            "Epoch 112/400\n",
            "244/244 [==============================] - 17s 72ms/step - loss: 0.0266 - f1_score_m: 0.9874\n",
            "Epoch 113/400\n",
            "244/244 [==============================] - 18s 72ms/step - loss: 0.0306 - f1_score_m: 0.9871\n",
            "Epoch 114/400\n",
            "244/244 [==============================] - 18s 72ms/step - loss: 0.0276 - f1_score_m: 0.9876\n",
            "Epoch 115/400\n",
            "244/244 [==============================] - 18s 73ms/step - loss: 0.0309 - f1_score_m: 0.9870\n",
            "Epoch 116/400\n",
            "244/244 [==============================] - 18s 72ms/step - loss: 0.0278 - f1_score_m: 0.9879\n",
            "Epoch 117/400\n",
            "244/244 [==============================] - 18s 73ms/step - loss: 0.0282 - f1_score_m: 0.9874\n",
            "Epoch 118/400\n",
            "244/244 [==============================] - 18s 72ms/step - loss: 0.0314 - f1_score_m: 0.9866\n",
            "Epoch 119/400\n",
            "244/244 [==============================] - 18s 73ms/step - loss: 0.0274 - f1_score_m: 0.9874\n",
            "Epoch 120/400\n",
            "244/244 [==============================] - 18s 74ms/step - loss: 0.0255 - f1_score_m: 0.9876\n",
            "Epoch 121/400\n",
            "244/244 [==============================] - 18s 73ms/step - loss: 0.0277 - f1_score_m: 0.9877\n",
            "Epoch 122/400\n",
            "244/244 [==============================] - 18s 74ms/step - loss: 0.0288 - f1_score_m: 0.9864\n",
            "Epoch 123/400\n",
            "244/244 [==============================] - 18s 73ms/step - loss: 0.0284 - f1_score_m: 0.9874\n",
            "Epoch 124/400\n",
            "244/244 [==============================] - 18s 74ms/step - loss: 0.0269 - f1_score_m: 0.9877\n",
            "Epoch 125/400\n",
            "244/244 [==============================] - 18s 74ms/step - loss: 0.0248 - f1_score_m: 0.9886\n",
            "Epoch 126/400\n",
            "244/244 [==============================] - 18s 73ms/step - loss: 0.0292 - f1_score_m: 0.9868\n",
            "Epoch 127/400\n",
            "244/244 [==============================] - 18s 73ms/step - loss: 0.0271 - f1_score_m: 0.9882\n",
            "Epoch 128/400\n",
            "244/244 [==============================] - 18s 74ms/step - loss: 0.0254 - f1_score_m: 0.9884\n",
            "Epoch 129/400\n",
            "244/244 [==============================] - 18s 72ms/step - loss: 0.0274 - f1_score_m: 0.9879\n",
            "Epoch 130/400\n",
            "244/244 [==============================] - 18s 73ms/step - loss: 0.0255 - f1_score_m: 0.9885\n",
            "Epoch 131/400\n",
            "244/244 [==============================] - 18s 74ms/step - loss: 0.0261 - f1_score_m: 0.9881\n",
            "Epoch 132/400\n",
            "244/244 [==============================] - 18s 73ms/step - loss: 0.0259 - f1_score_m: 0.9885\n",
            "Epoch 133/400\n",
            "244/244 [==============================] - 18s 73ms/step - loss: 0.0268 - f1_score_m: 0.9877\n",
            "Epoch 134/400\n",
            "244/244 [==============================] - 18s 73ms/step - loss: 0.0335 - f1_score_m: 0.9860\n",
            "Epoch 135/400\n",
            "244/244 [==============================] - 18s 74ms/step - loss: 0.0270 - f1_score_m: 0.9883\n",
            "Epoch 136/400\n",
            "244/244 [==============================] - 18s 74ms/step - loss: 0.0278 - f1_score_m: 0.9876\n",
            "Epoch 137/400\n",
            "244/244 [==============================] - 18s 74ms/step - loss: 0.0267 - f1_score_m: 0.9880\n",
            "Epoch 138/400\n",
            "244/244 [==============================] - 18s 74ms/step - loss: 0.0236 - f1_score_m: 0.9893\n",
            "Epoch 139/400\n",
            "244/244 [==============================] - 18s 73ms/step - loss: 0.0250 - f1_score_m: 0.9888\n",
            "Epoch 140/400\n",
            "244/244 [==============================] - 18s 74ms/step - loss: 0.0224 - f1_score_m: 0.9891\n",
            "Epoch 141/400\n",
            "244/244 [==============================] - 18s 73ms/step - loss: 0.0247 - f1_score_m: 0.9886\n",
            "Epoch 142/400\n",
            "244/244 [==============================] - 18s 74ms/step - loss: 0.0242 - f1_score_m: 0.9886\n",
            "Epoch 143/400\n",
            "244/244 [==============================] - 18s 73ms/step - loss: 0.0224 - f1_score_m: 0.9891\n",
            "Epoch 144/400\n",
            "244/244 [==============================] - 18s 72ms/step - loss: 0.0267 - f1_score_m: 0.9881\n",
            "Epoch 145/400\n",
            "244/244 [==============================] - 18s 73ms/step - loss: 0.0226 - f1_score_m: 0.9896\n",
            "Epoch 146/400\n",
            "244/244 [==============================] - 18s 73ms/step - loss: 0.0269 - f1_score_m: 0.9882\n",
            "Epoch 147/400\n",
            "244/244 [==============================] - 18s 74ms/step - loss: 0.0253 - f1_score_m: 0.9885\n",
            "Epoch 148/400\n",
            "244/244 [==============================] - 18s 73ms/step - loss: 0.0266 - f1_score_m: 0.9883\n",
            "Epoch 149/400\n",
            "244/244 [==============================] - 18s 74ms/step - loss: 0.0264 - f1_score_m: 0.9880\n",
            "Epoch 150/400\n",
            "244/244 [==============================] - 18s 73ms/step - loss: 0.0265 - f1_score_m: 0.9884\n",
            "Epoch 151/400\n",
            "244/244 [==============================] - 18s 74ms/step - loss: 0.0252 - f1_score_m: 0.9888\n",
            "Epoch 152/400\n",
            "244/244 [==============================] - 18s 73ms/step - loss: 0.0257 - f1_score_m: 0.9887\n",
            "Epoch 153/400\n",
            "244/244 [==============================] - 18s 73ms/step - loss: 0.0241 - f1_score_m: 0.9891\n",
            "Epoch 154/400\n",
            "244/244 [==============================] - 18s 73ms/step - loss: 0.0244 - f1_score_m: 0.9891\n",
            "Epoch 155/400\n",
            "244/244 [==============================] - 18s 73ms/step - loss: 0.0251 - f1_score_m: 0.9889\n",
            "Epoch 156/400\n",
            "244/244 [==============================] - 18s 73ms/step - loss: 0.0239 - f1_score_m: 0.9890\n",
            "Epoch 157/400\n",
            "244/244 [==============================] - 18s 73ms/step - loss: 0.0283 - f1_score_m: 0.9878\n",
            "Epoch 158/400\n",
            "244/244 [==============================] - 18s 73ms/step - loss: 0.0259 - f1_score_m: 0.9884\n",
            "Epoch 159/400\n",
            "244/244 [==============================] - 18s 73ms/step - loss: 0.0221 - f1_score_m: 0.9900\n",
            "Epoch 160/400\n",
            "244/244 [==============================] - 18s 73ms/step - loss: 0.0229 - f1_score_m: 0.9894\n",
            "Epoch 161/400\n",
            "244/244 [==============================] - 18s 74ms/step - loss: 0.0242 - f1_score_m: 0.9896\n",
            "Epoch 162/400\n",
            "244/244 [==============================] - 18s 73ms/step - loss: 0.0267 - f1_score_m: 0.9882\n",
            "Epoch 163/400\n",
            "244/244 [==============================] - 18s 73ms/step - loss: 0.0246 - f1_score_m: 0.9891\n",
            "Epoch 164/400\n",
            "244/244 [==============================] - 18s 73ms/step - loss: 0.0233 - f1_score_m: 0.9893\n",
            "Epoch 165/400\n",
            "244/244 [==============================] - 18s 73ms/step - loss: 0.0253 - f1_score_m: 0.9888\n",
            "Epoch 166/400\n",
            "244/244 [==============================] - 18s 73ms/step - loss: 0.0264 - f1_score_m: 0.9884\n",
            "Epoch 167/400\n",
            "244/244 [==============================] - 18s 73ms/step - loss: 0.0212 - f1_score_m: 0.9899\n",
            "Epoch 168/400\n",
            "244/244 [==============================] - 18s 72ms/step - loss: 0.0244 - f1_score_m: 0.9893\n",
            "Epoch 169/400\n",
            "244/244 [==============================] - 18s 74ms/step - loss: 0.0246 - f1_score_m: 0.9888\n",
            "Epoch 170/400\n",
            "244/244 [==============================] - 18s 72ms/step - loss: 0.0261 - f1_score_m: 0.9885\n",
            "Epoch 171/400\n",
            "244/244 [==============================] - 18s 73ms/step - loss: 0.0223 - f1_score_m: 0.9896\n",
            "Epoch 172/400\n",
            "244/244 [==============================] - 18s 73ms/step - loss: 0.0192 - f1_score_m: 0.9909\n",
            "Epoch 173/400\n",
            "244/244 [==============================] - 18s 73ms/step - loss: 0.0203 - f1_score_m: 0.9905\n",
            "Epoch 174/400\n",
            "244/244 [==============================] - 18s 73ms/step - loss: 0.0224 - f1_score_m: 0.9895\n",
            "Epoch 175/400\n",
            "244/244 [==============================] - 18s 73ms/step - loss: 0.0240 - f1_score_m: 0.9892\n",
            "Epoch 176/400\n",
            "244/244 [==============================] - 18s 73ms/step - loss: 0.0228 - f1_score_m: 0.9886\n",
            "Epoch 177/400\n",
            "244/244 [==============================] - 18s 74ms/step - loss: 0.0215 - f1_score_m: 0.9900\n",
            "Epoch 178/400\n",
            "244/244 [==============================] - 18s 73ms/step - loss: 0.0223 - f1_score_m: 0.9896\n",
            "Epoch 179/400\n",
            "244/244 [==============================] - 18s 73ms/step - loss: 0.0249 - f1_score_m: 0.9889\n",
            "Epoch 180/400\n",
            "244/244 [==============================] - 18s 73ms/step - loss: 0.0254 - f1_score_m: 0.9889\n",
            "Epoch 181/400\n",
            "244/244 [==============================] - 18s 73ms/step - loss: 0.0219 - f1_score_m: 0.9897\n",
            "Epoch 182/400\n",
            "244/244 [==============================] - 18s 73ms/step - loss: 0.0196 - f1_score_m: 0.9907\n",
            "Epoch 183/400\n",
            "244/244 [==============================] - 18s 73ms/step - loss: 0.0235 - f1_score_m: 0.9896\n",
            "Epoch 184/400\n",
            "244/244 [==============================] - 18s 73ms/step - loss: 0.0228 - f1_score_m: 0.9901\n",
            "Epoch 185/400\n",
            "244/244 [==============================] - 18s 73ms/step - loss: 0.0200 - f1_score_m: 0.9908\n",
            "Epoch 186/400\n",
            "244/244 [==============================] - 18s 74ms/step - loss: 0.0208 - f1_score_m: 0.9900\n",
            "Epoch 187/400\n",
            "244/244 [==============================] - 18s 73ms/step - loss: 0.0251 - f1_score_m: 0.9890\n",
            "Epoch 188/400\n",
            "244/244 [==============================] - 18s 72ms/step - loss: 0.0243 - f1_score_m: 0.9894\n",
            "Epoch 189/400\n",
            "244/244 [==============================] - 18s 74ms/step - loss: 0.0263 - f1_score_m: 0.9896\n",
            "Epoch 190/400\n",
            "244/244 [==============================] - 18s 73ms/step - loss: 0.0222 - f1_score_m: 0.9896\n",
            "Epoch 191/400\n",
            "244/244 [==============================] - 18s 74ms/step - loss: 0.0220 - f1_score_m: 0.9899\n",
            "Epoch 192/400\n",
            "244/244 [==============================] - 18s 73ms/step - loss: 0.0185 - f1_score_m: 0.9913\n",
            "Epoch 193/400\n",
            "244/244 [==============================] - 18s 73ms/step - loss: 0.0212 - f1_score_m: 0.9900\n",
            "Epoch 194/400\n",
            "244/244 [==============================] - 18s 73ms/step - loss: 0.0279 - f1_score_m: 0.9883\n",
            "Epoch 195/400\n",
            "244/244 [==============================] - 18s 73ms/step - loss: 0.0246 - f1_score_m: 0.9892\n",
            "Epoch 196/400\n",
            "244/244 [==============================] - 18s 73ms/step - loss: 0.0237 - f1_score_m: 0.9891\n",
            "Epoch 197/400\n",
            "244/244 [==============================] - 18s 74ms/step - loss: 0.0230 - f1_score_m: 0.9895\n",
            "Epoch 198/400\n",
            "244/244 [==============================] - 18s 73ms/step - loss: 0.0192 - f1_score_m: 0.9904\n",
            "Epoch 199/400\n",
            "244/244 [==============================] - 18s 73ms/step - loss: 0.0213 - f1_score_m: 0.9902\n",
            "Epoch 200/400\n",
            "244/244 [==============================] - 18s 73ms/step - loss: 0.0192 - f1_score_m: 0.9906\n",
            "Epoch 201/400\n",
            "244/244 [==============================] - 18s 73ms/step - loss: 0.0180 - f1_score_m: 0.9910\n",
            "Epoch 202/400\n",
            "244/244 [==============================] - 17s 71ms/step - loss: 0.0208 - f1_score_m: 0.9903\n",
            "Epoch 203/400\n",
            "244/244 [==============================] - 18s 72ms/step - loss: 0.0243 - f1_score_m: 0.9889\n",
            "Epoch 204/400\n",
            "244/244 [==============================] - 18s 73ms/step - loss: 0.0205 - f1_score_m: 0.9905\n",
            "Epoch 205/400\n",
            "244/244 [==============================] - 18s 73ms/step - loss: 0.0209 - f1_score_m: 0.9901\n",
            "Epoch 206/400\n",
            "244/244 [==============================] - 18s 74ms/step - loss: 0.0237 - f1_score_m: 0.9896\n",
            "Epoch 207/400\n",
            "244/244 [==============================] - 18s 74ms/step - loss: 0.0237 - f1_score_m: 0.9894\n",
            "Epoch 208/400\n",
            "244/244 [==============================] - 18s 72ms/step - loss: 0.0297 - f1_score_m: 0.9878\n",
            "Epoch 209/400\n",
            "244/244 [==============================] - 18s 73ms/step - loss: 0.0241 - f1_score_m: 0.9896\n",
            "Epoch 210/400\n",
            "244/244 [==============================] - 18s 74ms/step - loss: 0.0212 - f1_score_m: 0.9900\n",
            "Epoch 211/400\n",
            "244/244 [==============================] - 18s 74ms/step - loss: 0.0205 - f1_score_m: 0.9908\n",
            "Epoch 212/400\n",
            "244/244 [==============================] - 18s 74ms/step - loss: 0.0219 - f1_score_m: 0.9901\n",
            "Epoch 213/400\n",
            "244/244 [==============================] - 18s 74ms/step - loss: 0.0187 - f1_score_m: 0.9912\n",
            "Epoch 214/400\n",
            "244/244 [==============================] - 18s 74ms/step - loss: 0.0228 - f1_score_m: 0.9900\n",
            "Epoch 215/400\n",
            "244/244 [==============================] - 18s 73ms/step - loss: 0.0220 - f1_score_m: 0.9898\n",
            "Epoch 216/400\n",
            "244/244 [==============================] - 18s 73ms/step - loss: 0.0213 - f1_score_m: 0.9901\n",
            "Epoch 217/400\n",
            "244/244 [==============================] - 18s 74ms/step - loss: 0.0191 - f1_score_m: 0.9911\n",
            "Epoch 218/400\n",
            "244/244 [==============================] - 18s 73ms/step - loss: 0.0207 - f1_score_m: 0.9905\n",
            "Epoch 219/400\n",
            "244/244 [==============================] - 18s 73ms/step - loss: 0.0261 - f1_score_m: 0.9891\n",
            "Epoch 220/400\n",
            "244/244 [==============================] - 18s 74ms/step - loss: 0.0214 - f1_score_m: 0.9903\n",
            "Epoch 221/400\n",
            "244/244 [==============================] - 18s 74ms/step - loss: 0.0196 - f1_score_m: 0.9903\n",
            "Epoch 222/400\n",
            "244/244 [==============================] - 18s 73ms/step - loss: 0.0211 - f1_score_m: 0.9899\n",
            "Epoch 223/400\n",
            "244/244 [==============================] - 18s 75ms/step - loss: 0.0211 - f1_score_m: 0.9904\n",
            "Epoch 224/400\n",
            "244/244 [==============================] - 18s 74ms/step - loss: 0.0210 - f1_score_m: 0.9907\n",
            "Epoch 225/400\n",
            "244/244 [==============================] - 18s 73ms/step - loss: 0.0226 - f1_score_m: 0.9902\n",
            "Epoch 226/400\n",
            "244/244 [==============================] - 18s 73ms/step - loss: 0.0205 - f1_score_m: 0.9902\n",
            "Epoch 227/400\n",
            "244/244 [==============================] - 18s 75ms/step - loss: 0.0192 - f1_score_m: 0.9907\n",
            "Epoch 228/400\n",
            "244/244 [==============================] - 18s 73ms/step - loss: 0.0214 - f1_score_m: 0.9907\n",
            "Epoch 229/400\n",
            "244/244 [==============================] - 18s 74ms/step - loss: 0.0252 - f1_score_m: 0.9897\n",
            "Epoch 230/400\n",
            "244/244 [==============================] - 18s 73ms/step - loss: 0.0233 - f1_score_m: 0.9890\n",
            "Epoch 231/400\n",
            "244/244 [==============================] - 18s 74ms/step - loss: 0.0224 - f1_score_m: 0.9902\n",
            "Epoch 232/400\n",
            "244/244 [==============================] - 18s 74ms/step - loss: 0.0183 - f1_score_m: 0.9907\n",
            "Epoch 233/400\n",
            "244/244 [==============================] - 18s 75ms/step - loss: 0.0218 - f1_score_m: 0.9899\n",
            "Epoch 234/400\n",
            "244/244 [==============================] - 18s 75ms/step - loss: 0.0222 - f1_score_m: 0.9899\n",
            "Epoch 235/400\n",
            "244/244 [==============================] - 18s 72ms/step - loss: 0.0223 - f1_score_m: 0.9897\n",
            "Epoch 236/400\n",
            "244/244 [==============================] - 18s 74ms/step - loss: 0.0227 - f1_score_m: 0.9907\n",
            "Epoch 237/400\n",
            "244/244 [==============================] - 18s 74ms/step - loss: 0.0216 - f1_score_m: 0.9894\n",
            "Epoch 238/400\n",
            "244/244 [==============================] - 18s 75ms/step - loss: 0.0183 - f1_score_m: 0.9911\n",
            "Epoch 239/400\n",
            "244/244 [==============================] - 18s 75ms/step - loss: 0.0182 - f1_score_m: 0.9912\n",
            "Epoch 240/400\n",
            "244/244 [==============================] - 18s 74ms/step - loss: 0.0185 - f1_score_m: 0.9909\n",
            "Epoch 241/400\n",
            "244/244 [==============================] - 18s 73ms/step - loss: 0.0193 - f1_score_m: 0.9911\n",
            "Epoch 242/400\n",
            "244/244 [==============================] - 18s 73ms/step - loss: 0.0208 - f1_score_m: 0.9901\n",
            "Epoch 243/400\n",
            "244/244 [==============================] - 18s 75ms/step - loss: 0.0198 - f1_score_m: 0.9907\n",
            "Epoch 244/400\n",
            "244/244 [==============================] - 18s 75ms/step - loss: 0.0218 - f1_score_m: 0.9904\n",
            "Epoch 245/400\n",
            "244/244 [==============================] - 18s 74ms/step - loss: 0.0194 - f1_score_m: 0.9904\n",
            "Epoch 246/400\n",
            "244/244 [==============================] - 18s 74ms/step - loss: 0.0190 - f1_score_m: 0.9914\n",
            "Epoch 247/400\n",
            "244/244 [==============================] - 18s 74ms/step - loss: 0.0179 - f1_score_m: 0.9911\n",
            "Epoch 248/400\n",
            "244/244 [==============================] - 18s 74ms/step - loss: 0.0205 - f1_score_m: 0.9904\n",
            "Epoch 249/400\n",
            "244/244 [==============================] - 18s 73ms/step - loss: 0.0238 - f1_score_m: 0.9897\n",
            "Epoch 250/400\n",
            "244/244 [==============================] - 18s 75ms/step - loss: 0.0244 - f1_score_m: 0.9891\n",
            "Epoch 251/400\n",
            "244/244 [==============================] - 18s 73ms/step - loss: 0.0181 - f1_score_m: 0.9913\n",
            "Epoch 252/400\n",
            "244/244 [==============================] - 18s 73ms/step - loss: 0.0199 - f1_score_m: 0.9910\n",
            "Epoch 253/400\n",
            "244/244 [==============================] - 18s 74ms/step - loss: 0.0204 - f1_score_m: 0.9903\n",
            "Epoch 254/400\n",
            "244/244 [==============================] - 18s 74ms/step - loss: 0.0224 - f1_score_m: 0.9898\n",
            "Epoch 255/400\n",
            "244/244 [==============================] - 18s 75ms/step - loss: 0.0240 - f1_score_m: 0.9901\n",
            "Epoch 256/400\n",
            "244/244 [==============================] - 18s 75ms/step - loss: 0.0206 - f1_score_m: 0.9904\n",
            "Epoch 257/400\n",
            "244/244 [==============================] - 18s 74ms/step - loss: 0.0179 - f1_score_m: 0.9914\n",
            "Epoch 258/400\n",
            "244/244 [==============================] - 18s 74ms/step - loss: 0.0208 - f1_score_m: 0.9905\n",
            "Epoch 259/400\n",
            "244/244 [==============================] - 18s 75ms/step - loss: 0.0274 - f1_score_m: 0.9890\n",
            "Epoch 260/400\n",
            "244/244 [==============================] - 18s 74ms/step - loss: 0.0260 - f1_score_m: 0.9891\n",
            "Epoch 261/400\n",
            "244/244 [==============================] - 18s 74ms/step - loss: 0.0209 - f1_score_m: 0.9906\n",
            "Epoch 262/400\n",
            "244/244 [==============================] - 18s 73ms/step - loss: 0.0189 - f1_score_m: 0.9913\n",
            "Epoch 263/400\n",
            "244/244 [==============================] - 18s 75ms/step - loss: 0.0190 - f1_score_m: 0.9911\n",
            "Epoch 264/400\n",
            "244/244 [==============================] - 18s 75ms/step - loss: 0.0164 - f1_score_m: 0.9922\n",
            "Epoch 265/400\n",
            "244/244 [==============================] - 18s 74ms/step - loss: 0.0208 - f1_score_m: 0.9912\n",
            "Epoch 266/400\n",
            "244/244 [==============================] - 18s 74ms/step - loss: 0.0182 - f1_score_m: 0.9916\n",
            "Epoch 267/400\n",
            "244/244 [==============================] - 18s 73ms/step - loss: 0.0200 - f1_score_m: 0.9909\n",
            "Epoch 268/400\n",
            "244/244 [==============================] - 18s 74ms/step - loss: 0.0222 - f1_score_m: 0.9904\n",
            "Epoch 269/400\n",
            "244/244 [==============================] - 18s 74ms/step - loss: 0.0191 - f1_score_m: 0.9907\n",
            "Epoch 270/400\n",
            "244/244 [==============================] - 18s 75ms/step - loss: 0.0182 - f1_score_m: 0.9917\n",
            "Epoch 271/400\n",
            "244/244 [==============================] - 18s 75ms/step - loss: 0.0214 - f1_score_m: 0.9904\n",
            "Epoch 272/400\n",
            "244/244 [==============================] - 18s 74ms/step - loss: 0.0244 - f1_score_m: 0.9897\n",
            "Epoch 273/400\n",
            "244/244 [==============================] - 18s 75ms/step - loss: 0.0347 - f1_score_m: 0.9873\n",
            "Epoch 274/400\n",
            "244/244 [==============================] - 18s 75ms/step - loss: 0.0344 - f1_score_m: 0.9869\n",
            "Epoch 275/400\n",
            "244/244 [==============================] - 18s 74ms/step - loss: 0.0257 - f1_score_m: 0.9894\n",
            "Epoch 276/400\n",
            "244/244 [==============================] - 18s 74ms/step - loss: 0.0216 - f1_score_m: 0.9902\n",
            "Epoch 277/400\n",
            "244/244 [==============================] - 18s 74ms/step - loss: 0.0242 - f1_score_m: 0.9890\n",
            "Epoch 278/400\n",
            "244/244 [==============================] - 18s 74ms/step - loss: 0.0192 - f1_score_m: 0.9911\n",
            "Epoch 279/400\n",
            "244/244 [==============================] - 18s 74ms/step - loss: 0.0180 - f1_score_m: 0.9912\n",
            "Epoch 280/400\n",
            "244/244 [==============================] - 18s 75ms/step - loss: 0.0176 - f1_score_m: 0.9911\n",
            "Epoch 281/400\n",
            "244/244 [==============================] - 18s 74ms/step - loss: 0.0211 - f1_score_m: 0.9902\n",
            "Epoch 282/400\n",
            "244/244 [==============================] - 18s 73ms/step - loss: 0.0194 - f1_score_m: 0.9912\n",
            "Epoch 283/400\n",
            "244/244 [==============================] - 18s 75ms/step - loss: 0.0186 - f1_score_m: 0.9917\n",
            "Epoch 284/400\n",
            "244/244 [==============================] - 18s 74ms/step - loss: 0.0163 - f1_score_m: 0.9912\n",
            "Epoch 285/400\n",
            "244/244 [==============================] - 18s 74ms/step - loss: 0.0179 - f1_score_m: 0.9910\n",
            "Epoch 286/400\n",
            "244/244 [==============================] - 18s 74ms/step - loss: 0.0310 - f1_score_m: 0.9876\n",
            "Epoch 287/400\n",
            "244/244 [==============================] - 18s 75ms/step - loss: 0.0261 - f1_score_m: 0.9884\n",
            "Epoch 288/400\n",
            "244/244 [==============================] - 18s 74ms/step - loss: 0.0246 - f1_score_m: 0.9892\n",
            "Epoch 289/400\n",
            "244/244 [==============================] - 18s 76ms/step - loss: 0.0301 - f1_score_m: 0.9881\n",
            "Epoch 290/400\n",
            "244/244 [==============================] - 18s 74ms/step - loss: 0.0236 - f1_score_m: 0.9901\n",
            "Epoch 291/400\n",
            "244/244 [==============================] - 18s 74ms/step - loss: 0.0251 - f1_score_m: 0.9899\n",
            "Epoch 292/400\n",
            "244/244 [==============================] - 18s 74ms/step - loss: 0.0171 - f1_score_m: 0.9915\n",
            "Epoch 293/400\n",
            "244/244 [==============================] - 18s 75ms/step - loss: 0.0197 - f1_score_m: 0.9907\n",
            "Epoch 294/400\n",
            "244/244 [==============================] - 18s 73ms/step - loss: 0.0232 - f1_score_m: 0.9898\n",
            "Epoch 295/400\n",
            "244/244 [==============================] - 18s 74ms/step - loss: 0.0196 - f1_score_m: 0.9910\n",
            "Epoch 296/400\n",
            "244/244 [==============================] - 18s 75ms/step - loss: 0.0210 - f1_score_m: 0.9908\n",
            "Epoch 297/400\n",
            "244/244 [==============================] - 18s 74ms/step - loss: 0.0209 - f1_score_m: 0.9910\n",
            "Epoch 298/400\n",
            "244/244 [==============================] - 18s 75ms/step - loss: 0.0166 - f1_score_m: 0.9919\n",
            "Epoch 299/400\n",
            "244/244 [==============================] - 18s 75ms/step - loss: 0.0182 - f1_score_m: 0.9918\n",
            "Epoch 300/400\n",
            "244/244 [==============================] - 18s 75ms/step - loss: 0.0223 - f1_score_m: 0.9901\n",
            "Epoch 301/400\n",
            "244/244 [==============================] - 18s 73ms/step - loss: 0.0188 - f1_score_m: 0.9913\n",
            "Epoch 302/400\n",
            "244/244 [==============================] - 18s 75ms/step - loss: 0.0187 - f1_score_m: 0.9914\n",
            "Epoch 303/400\n",
            "244/244 [==============================] - 18s 75ms/step - loss: 0.0161 - f1_score_m: 0.9921\n",
            "Epoch 304/400\n",
            "244/244 [==============================] - 18s 75ms/step - loss: 0.0179 - f1_score_m: 0.9917\n",
            "Epoch 305/400\n",
            "244/244 [==============================] - 18s 74ms/step - loss: 0.0185 - f1_score_m: 0.9911\n",
            "Epoch 306/400\n",
            "244/244 [==============================] - 18s 75ms/step - loss: 0.0174 - f1_score_m: 0.9913\n",
            "Epoch 307/400\n",
            "244/244 [==============================] - 18s 75ms/step - loss: 0.0223 - f1_score_m: 0.9895\n",
            "Epoch 308/400\n",
            "244/244 [==============================] - 18s 76ms/step - loss: 0.0238 - f1_score_m: 0.9897\n",
            "Epoch 309/400\n",
            "244/244 [==============================] - 18s 76ms/step - loss: 0.0214 - f1_score_m: 0.9909\n",
            "Epoch 310/400\n",
            "244/244 [==============================] - 19s 77ms/step - loss: 0.0239 - f1_score_m: 0.9898\n",
            "Epoch 311/400\n",
            "244/244 [==============================] - 18s 74ms/step - loss: 0.0233 - f1_score_m: 0.9902\n",
            "Epoch 312/400\n",
            "244/244 [==============================] - 18s 74ms/step - loss: 0.0197 - f1_score_m: 0.9910\n",
            "Epoch 313/400\n",
            "244/244 [==============================] - 18s 75ms/step - loss: 0.0203 - f1_score_m: 0.9906\n",
            "Epoch 314/400\n",
            "244/244 [==============================] - 18s 74ms/step - loss: 0.0163 - f1_score_m: 0.9920\n",
            "Epoch 315/400\n",
            "244/244 [==============================] - 18s 75ms/step - loss: 0.0167 - f1_score_m: 0.9913\n",
            "Epoch 316/400\n",
            "244/244 [==============================] - 18s 76ms/step - loss: 0.0163 - f1_score_m: 0.9916\n",
            "Epoch 317/400\n",
            "244/244 [==============================] - 18s 75ms/step - loss: 0.0216 - f1_score_m: 0.9903\n",
            "Epoch 318/400\n",
            "244/244 [==============================] - 18s 74ms/step - loss: 0.0283 - f1_score_m: 0.9879\n",
            "Epoch 319/400\n",
            "244/244 [==============================] - 18s 75ms/step - loss: 0.0207 - f1_score_m: 0.9907\n",
            "Epoch 320/400\n",
            "244/244 [==============================] - 18s 75ms/step - loss: 0.0232 - f1_score_m: 0.9902\n",
            "Epoch 321/400\n",
            "244/244 [==============================] - 18s 75ms/step - loss: 0.0248 - f1_score_m: 0.9906\n",
            "Epoch 322/400\n",
            "244/244 [==============================] - 19s 76ms/step - loss: 0.0165 - f1_score_m: 0.9920\n",
            "Epoch 323/400\n",
            "244/244 [==============================] - 19s 76ms/step - loss: 0.0192 - f1_score_m: 0.9913\n",
            "Epoch 324/400\n",
            "244/244 [==============================] - 18s 76ms/step - loss: 0.0186 - f1_score_m: 0.9914\n",
            "Epoch 325/400\n",
            "244/244 [==============================] - 18s 75ms/step - loss: 0.0212 - f1_score_m: 0.9904\n",
            "Epoch 326/400\n",
            "244/244 [==============================] - 18s 75ms/step - loss: 0.0238 - f1_score_m: 0.9910\n",
            "Epoch 327/400\n",
            "244/244 [==============================] - 18s 75ms/step - loss: 0.0226 - f1_score_m: 0.9903\n",
            "Epoch 328/400\n",
            "244/244 [==============================] - 18s 74ms/step - loss: 0.0230 - f1_score_m: 0.9904\n",
            "Epoch 329/400\n",
            "244/244 [==============================] - 18s 75ms/step - loss: 0.0182 - f1_score_m: 0.9911\n",
            "Epoch 330/400\n",
            "244/244 [==============================] - 18s 76ms/step - loss: 0.0178 - f1_score_m: 0.9914\n",
            "Epoch 331/400\n",
            "244/244 [==============================] - 18s 75ms/step - loss: 0.0167 - f1_score_m: 0.9920\n",
            "Epoch 332/400\n",
            "244/244 [==============================] - 18s 76ms/step - loss: 0.0159 - f1_score_m: 0.9920\n",
            "Epoch 333/400\n",
            "244/244 [==============================] - 18s 76ms/step - loss: 0.0163 - f1_score_m: 0.9919\n",
            "Epoch 334/400\n",
            "244/244 [==============================] - 18s 75ms/step - loss: 0.0213 - f1_score_m: 0.9902\n",
            "Epoch 335/400\n",
            "244/244 [==============================] - 18s 74ms/step - loss: 0.0192 - f1_score_m: 0.9911\n",
            "Epoch 336/400\n",
            "244/244 [==============================] - 18s 75ms/step - loss: 0.0181 - f1_score_m: 0.9909\n",
            "Epoch 337/400\n",
            "244/244 [==============================] - 18s 74ms/step - loss: 0.0204 - f1_score_m: 0.9906\n",
            "Epoch 338/400\n",
            "244/244 [==============================] - 18s 75ms/step - loss: 0.0194 - f1_score_m: 0.9913\n",
            "Epoch 339/400\n",
            "244/244 [==============================] - 18s 74ms/step - loss: 0.0178 - f1_score_m: 0.9913\n",
            "Epoch 340/400\n",
            "244/244 [==============================] - 18s 76ms/step - loss: 0.0193 - f1_score_m: 0.9912\n",
            "Epoch 341/400\n",
            "244/244 [==============================] - 18s 75ms/step - loss: 0.0213 - f1_score_m: 0.9901\n",
            "Epoch 342/400\n",
            "244/244 [==============================] - 18s 75ms/step - loss: 0.0224 - f1_score_m: 0.9897\n",
            "Epoch 343/400\n",
            "244/244 [==============================] - 18s 75ms/step - loss: 0.0205 - f1_score_m: 0.9910\n",
            "Epoch 344/400\n",
            "244/244 [==============================] - 18s 75ms/step - loss: 0.0157 - f1_score_m: 0.9924\n",
            "Epoch 345/400\n",
            "244/244 [==============================] - 18s 75ms/step - loss: 0.0200 - f1_score_m: 0.9909\n",
            "Epoch 346/400\n",
            "244/244 [==============================] - 18s 74ms/step - loss: 0.0211 - f1_score_m: 0.9906\n",
            "Epoch 347/400\n",
            "244/244 [==============================] - 18s 75ms/step - loss: 0.0217 - f1_score_m: 0.9904\n",
            "Epoch 348/400\n",
            "244/244 [==============================] - 18s 74ms/step - loss: 0.0171 - f1_score_m: 0.9916\n",
            "Epoch 349/400\n",
            "244/244 [==============================] - 19s 76ms/step - loss: 0.0186 - f1_score_m: 0.9915\n",
            "Epoch 350/400\n",
            "244/244 [==============================] - 18s 75ms/step - loss: 0.0204 - f1_score_m: 0.9907\n",
            "Epoch 351/400\n",
            "244/244 [==============================] - 18s 75ms/step - loss: 0.0174 - f1_score_m: 0.9916\n",
            "Epoch 352/400\n",
            "244/244 [==============================] - 19s 76ms/step - loss: 0.0190 - f1_score_m: 0.9912\n",
            "Epoch 353/400\n",
            "244/244 [==============================] - 19s 76ms/step - loss: 0.0163 - f1_score_m: 0.9921\n",
            "Epoch 354/400\n",
            "244/244 [==============================] - 19s 77ms/step - loss: 0.0179 - f1_score_m: 0.9917\n",
            "Epoch 355/400\n",
            "244/244 [==============================] - 19s 77ms/step - loss: 0.0160 - f1_score_m: 0.9923\n",
            "Epoch 356/400\n",
            "244/244 [==============================] - 19s 77ms/step - loss: 0.0179 - f1_score_m: 0.9917\n",
            "Epoch 357/400\n",
            "244/244 [==============================] - 19s 76ms/step - loss: 0.0212 - f1_score_m: 0.9908\n",
            "Epoch 358/400\n",
            "244/244 [==============================] - 19s 76ms/step - loss: 0.0196 - f1_score_m: 0.9906\n",
            "Epoch 359/400\n",
            "244/244 [==============================] - 18s 75ms/step - loss: 0.0204 - f1_score_m: 0.9909\n",
            "Epoch 360/400\n",
            "244/244 [==============================] - 19s 76ms/step - loss: 0.0184 - f1_score_m: 0.9915\n",
            "Epoch 361/400\n",
            "244/244 [==============================] - 19s 76ms/step - loss: 0.0165 - f1_score_m: 0.9916\n",
            "Epoch 362/400\n",
            "244/244 [==============================] - 19s 76ms/step - loss: 0.0171 - f1_score_m: 0.9919\n",
            "Epoch 363/400\n",
            "244/244 [==============================] - 19s 77ms/step - loss: 0.0158 - f1_score_m: 0.9922\n",
            "Epoch 364/400\n",
            "244/244 [==============================] - 18s 75ms/step - loss: 0.0154 - f1_score_m: 0.9923\n",
            "Epoch 365/400\n",
            "244/244 [==============================] - 18s 75ms/step - loss: 0.0176 - f1_score_m: 0.9918\n",
            "Epoch 366/400\n",
            "244/244 [==============================] - 19s 76ms/step - loss: 0.0203 - f1_score_m: 0.9906\n",
            "Epoch 367/400\n",
            "244/244 [==============================] - 18s 75ms/step - loss: 0.0255 - f1_score_m: 0.9894\n",
            "Epoch 368/400\n",
            "244/244 [==============================] - 18s 75ms/step - loss: 0.0226 - f1_score_m: 0.9905\n",
            "Epoch 369/400\n",
            "244/244 [==============================] - 19s 76ms/step - loss: 0.0175 - f1_score_m: 0.9915\n",
            "Epoch 370/400\n",
            "244/244 [==============================] - 18s 76ms/step - loss: 0.0155 - f1_score_m: 0.9926\n",
            "Epoch 371/400\n",
            "244/244 [==============================] - 19s 77ms/step - loss: 0.0152 - f1_score_m: 0.9923\n",
            "Epoch 372/400\n",
            "244/244 [==============================] - 19s 77ms/step - loss: 0.0159 - f1_score_m: 0.9922\n",
            "Epoch 373/400\n",
            "244/244 [==============================] - 18s 75ms/step - loss: 0.0178 - f1_score_m: 0.9917\n",
            "Epoch 374/400\n",
            "244/244 [==============================] - 19s 76ms/step - loss: 0.0194 - f1_score_m: 0.9917\n",
            "Epoch 375/400\n",
            "244/244 [==============================] - 18s 76ms/step - loss: 0.0206 - f1_score_m: 0.9904\n",
            "Epoch 376/400\n",
            "244/244 [==============================] - 18s 75ms/step - loss: 0.0217 - f1_score_m: 0.9908\n",
            "Epoch 377/400\n",
            "244/244 [==============================] - 18s 75ms/step - loss: 0.0180 - f1_score_m: 0.9919\n",
            "Epoch 378/400\n",
            "244/244 [==============================] - 18s 76ms/step - loss: 0.0166 - f1_score_m: 0.9920\n",
            "Epoch 379/400\n",
            "244/244 [==============================] - 19s 76ms/step - loss: 0.0159 - f1_score_m: 0.9921\n",
            "Epoch 380/400\n",
            "244/244 [==============================] - 19s 76ms/step - loss: 0.0183 - f1_score_m: 0.9913\n",
            "Epoch 381/400\n",
            "244/244 [==============================] - 19s 76ms/step - loss: 0.0233 - f1_score_m: 0.9900\n",
            "Epoch 382/400\n",
            "244/244 [==============================] - 19s 78ms/step - loss: 0.0242 - f1_score_m: 0.9906\n",
            "Epoch 383/400\n",
            "244/244 [==============================] - 19s 76ms/step - loss: 0.0185 - f1_score_m: 0.9916\n",
            "Epoch 384/400\n",
            "244/244 [==============================] - 19s 77ms/step - loss: 0.0174 - f1_score_m: 0.9917\n",
            "Epoch 385/400\n",
            "244/244 [==============================] - 19s 77ms/step - loss: 0.0134 - f1_score_m: 0.9928\n",
            "Epoch 386/400\n",
            "244/244 [==============================] - 19s 77ms/step - loss: 0.0138 - f1_score_m: 0.9930\n",
            "Epoch 387/400\n",
            "244/244 [==============================] - 19s 76ms/step - loss: 0.0135 - f1_score_m: 0.9930\n",
            "Epoch 388/400\n",
            "244/244 [==============================] - 19s 77ms/step - loss: 0.0190 - f1_score_m: 0.9916\n",
            "Epoch 389/400\n",
            "244/244 [==============================] - 19s 76ms/step - loss: 0.0212 - f1_score_m: 0.9910\n",
            "Epoch 390/400\n",
            "244/244 [==============================] - 19s 76ms/step - loss: 0.0278 - f1_score_m: 0.9884\n",
            "Epoch 391/400\n",
            "244/244 [==============================] - 18s 75ms/step - loss: 0.0253 - f1_score_m: 0.9893\n",
            "Epoch 392/400\n",
            "244/244 [==============================] - 19s 76ms/step - loss: 0.0200 - f1_score_m: 0.9917\n",
            "Epoch 393/400\n",
            "244/244 [==============================] - 19s 76ms/step - loss: 0.0176 - f1_score_m: 0.9921\n",
            "Epoch 394/400\n",
            "244/244 [==============================] - 19s 77ms/step - loss: 0.0187 - f1_score_m: 0.9912\n",
            "Epoch 395/400\n",
            "244/244 [==============================] - 19s 77ms/step - loss: 0.0128 - f1_score_m: 0.9931\n",
            "Epoch 396/400\n",
            "244/244 [==============================] - 19s 76ms/step - loss: 0.0145 - f1_score_m: 0.9927\n",
            "Epoch 397/400\n",
            "244/244 [==============================] - 18s 76ms/step - loss: 0.0206 - f1_score_m: 0.9906\n",
            "Epoch 398/400\n",
            "244/244 [==============================] - 19s 76ms/step - loss: 0.0238 - f1_score_m: 0.9900\n",
            "Epoch 399/400\n",
            "244/244 [==============================] - 19s 76ms/step - loss: 0.0344 - f1_score_m: 0.9875\n",
            "Epoch 400/400\n",
            "244/244 [==============================] - 19s 78ms/step - loss: 0.0400 - f1_score_m: 0.9865\n"
          ]
        },
        {
          "output_type": "execute_result",
          "data": {
            "text/plain": [
              "<keras.callbacks.History at 0x7f6d213bc150>"
            ]
          },
          "metadata": {},
          "execution_count": 25
        }
      ]
    },
    {
      "cell_type": "code",
      "metadata": {
        "colab": {
          "base_uri": "https://localhost:8080/"
        },
        "id": "ScBineI2UcGW",
        "outputId": "69a82c83-de6a-47d7-9670-d6873f65d064"
      },
      "source": [
        "y_pred = inverse_transform_Y(redNeuronal.predict(X_val))\n",
        "scoreRedNeuronal= (f1_score(y_val, y_pred, average='weighted'), accuracy_score(y_val, y_pred))\n",
        "scoreRedNeuronal"
      ],
      "execution_count": null,
      "outputs": [
        {
          "output_type": "execute_result",
          "data": {
            "text/plain": [
              "0.8568203888215193"
            ]
          },
          "metadata": {},
          "execution_count": 26
        }
      ]
    },
    {
      "cell_type": "code",
      "metadata": {
        "colab": {
          "base_uri": "https://localhost:8080/",
          "height": 419
        },
        "id": "2y39JpbjUWhQ",
        "outputId": "1290539a-47f6-4fa8-cb8e-ac9735c2c9ce"
      },
      "source": [
        "resultRedNeuronal = pd.DataFrame({'id': data_test['id'], 'round_winner': inverse_transform_Y(redNeuronal.predict(X_predict))})\n",
        "resultRedNeuronal"
      ],
      "execution_count": null,
      "outputs": [
        {
          "output_type": "execute_result",
          "data": {
            "text/html": [
              "<div>\n",
              "<style scoped>\n",
              "    .dataframe tbody tr th:only-of-type {\n",
              "        vertical-align: middle;\n",
              "    }\n",
              "\n",
              "    .dataframe tbody tr th {\n",
              "        vertical-align: top;\n",
              "    }\n",
              "\n",
              "    .dataframe thead th {\n",
              "        text-align: right;\n",
              "    }\n",
              "</style>\n",
              "<table border=\"1\" class=\"dataframe\">\n",
              "  <thead>\n",
              "    <tr style=\"text-align: right;\">\n",
              "      <th></th>\n",
              "      <th>id</th>\n",
              "      <th>round_winner</th>\n",
              "    </tr>\n",
              "  </thead>\n",
              "  <tbody>\n",
              "    <tr>\n",
              "      <th>0</th>\n",
              "      <td>6548</td>\n",
              "      <td>CT</td>\n",
              "    </tr>\n",
              "    <tr>\n",
              "      <th>1</th>\n",
              "      <td>79093</td>\n",
              "      <td>CT</td>\n",
              "    </tr>\n",
              "    <tr>\n",
              "      <th>2</th>\n",
              "      <td>103345</td>\n",
              "      <td>T</td>\n",
              "    </tr>\n",
              "    <tr>\n",
              "      <th>3</th>\n",
              "      <td>17113</td>\n",
              "      <td>CT</td>\n",
              "    </tr>\n",
              "    <tr>\n",
              "      <th>4</th>\n",
              "      <td>108774</td>\n",
              "      <td>T</td>\n",
              "    </tr>\n",
              "    <tr>\n",
              "      <th>...</th>\n",
              "      <td>...</td>\n",
              "      <td>...</td>\n",
              "    </tr>\n",
              "    <tr>\n",
              "      <th>48959</th>\n",
              "      <td>122127</td>\n",
              "      <td>T</td>\n",
              "    </tr>\n",
              "    <tr>\n",
              "      <th>48960</th>\n",
              "      <td>93115</td>\n",
              "      <td>T</td>\n",
              "    </tr>\n",
              "    <tr>\n",
              "      <th>48961</th>\n",
              "      <td>71219</td>\n",
              "      <td>T</td>\n",
              "    </tr>\n",
              "    <tr>\n",
              "      <th>48962</th>\n",
              "      <td>74073</td>\n",
              "      <td>CT</td>\n",
              "    </tr>\n",
              "    <tr>\n",
              "      <th>48963</th>\n",
              "      <td>29200</td>\n",
              "      <td>T</td>\n",
              "    </tr>\n",
              "  </tbody>\n",
              "</table>\n",
              "<p>48964 rows × 2 columns</p>\n",
              "</div>"
            ],
            "text/plain": [
              "           id round_winner\n",
              "0        6548           CT\n",
              "1       79093           CT\n",
              "2      103345            T\n",
              "3       17113           CT\n",
              "4      108774            T\n",
              "...       ...          ...\n",
              "48959  122127            T\n",
              "48960   93115            T\n",
              "48961   71219            T\n",
              "48962   74073           CT\n",
              "48963   29200            T\n",
              "\n",
              "[48964 rows x 2 columns]"
            ]
          },
          "metadata": {},
          "execution_count": 27
        }
      ]
    },
    {
      "cell_type": "code",
      "metadata": {
        "id": "v6j7_8EFUXrG"
      },
      "source": [
        "guardar(score=scoreRedNeuronal, prediccion=resultRedNeuronal, nombreModelo=\"RedNeuronal\", ruta='/content/predicciones', \n",
        "        params=[])"
      ],
      "execution_count": null,
      "outputs": []
    },
    {
      "cell_type": "markdown",
      "metadata": {
        "id": "iYnosilQo_VQ"
      },
      "source": [
        "## **Random Forest** (Usado como clasificador final en la práctica)"
      ]
    },
    {
      "cell_type": "markdown",
      "metadata": {
        "id": "06SFNLpVxDMy"
      },
      "source": [
        "### *Optimización de hiperparámetros con Nevergrad*"
      ]
    },
    {
      "cell_type": "markdown",
      "metadata": {
        "id": "sEDe7HKyLNNn"
      },
      "source": [
        "Buscamos los mejores hiperparámetros utilizando la librería de MetaFacebook:  Nevergrad"
      ]
    },
    {
      "cell_type": "code",
      "metadata": {
        "id": "2CynI3ntDAYr"
      },
      "source": [
        "numBudgets=[1]\n",
        "def createRandomForest (n_estimators, max_depth, criterion, X_train=X_train, y_train=y_train, X_val=X_val, y_val=y_val, numBudgets=numBudgets):\n",
        "  randomForest = RandomForestClassifier(n_estimators=n_estimators, max_depth=max_depth, criterion=criterion, random_state=96, n_jobs=-1)\n",
        "  randomForest.fit(X_train, y_train)\n",
        "  y_pred = randomForest.predict(X_val)\n",
        "  scoreRandomForest = max(f1_score(y_val, y_pred, average='weighted'),  accuracy_score(y_val, y_pred))\n",
        "  print('Test score: '+ str(scoreRandomForest)+ ' Params: n_estimators='+ str(n_estimators)+ ', max_depth='+ str(max_depth)+\", criterion=\"+criterion+\"   \"+str(numBudgets[0]))\n",
        "  numBudgets[0]+=1\n",
        "  return -scoreRandomForest"
      ],
      "execution_count": null,
      "outputs": []
    },
    {
      "cell_type": "code",
      "metadata": {
        "colab": {
          "base_uri": "https://localhost:8080/"
        },
        "id": "GtRofkN8CxPJ",
        "outputId": "ba384153-1f0a-4a1b-e9f0-419cf41b2da8"
      },
      "source": [
        "n_estimators = ng.p.Choice(range(10, 7001, 100))\n",
        "max_depth = ng.p.Choice(range(10, 1001, 10))\n",
        "criterion = ng.p.Choice(['gini', 'entropy'])\n",
        "\n",
        "params = ng.p.Instrumentation(n_estimators, max_depth, criterion)\n",
        "optimizer = ng.optimizers.TwoPointsDE(parametrization=params, budget=75)\n",
        "best = optimizer.minimize(createRandomForest, batch_mode=False)"
      ],
      "execution_count": null,
      "outputs": [
        {
          "output_type": "stream",
          "name": "stdout",
          "text": [
            "Test score: 0.8489784307598955 Params: n_estimators=1710, max_depth=690, criterion=gini   1\n",
            "Test score: 0.8501578496076341 Params: n_estimators=4610, max_depth=500, criterion=gini   2\n",
            "Test score: 0.8505208832851445 Params: n_estimators=5510, max_depth=350, criterion=gini   3\n",
            "Test score: 0.8497042061490285 Params: n_estimators=6510, max_depth=820, criterion=entropy   4\n",
            "Test score: 0.8498857228082686 Params: n_estimators=3410, max_depth=570, criterion=gini   5\n",
            "Test score: 0.8501565752134008 Params: n_estimators=4510, max_depth=400, criterion=entropy   6\n",
            "Test score: 0.7604611055641282 Params: n_estimators=1310, max_depth=10, criterion=entropy   7\n",
            "Test score: 0.8507935938517239 Params: n_estimators=5610, max_depth=50, criterion=gini   8\n",
            "Test score: 0.7627303258600345 Params: n_estimators=6310, max_depth=10, criterion=gini   9\n",
            "Test score: 0.8507029759684605 Params: n_estimators=6410, max_depth=840, criterion=gini   10\n",
            "Test score: 0.8504302727859898 Params: n_estimators=5610, max_depth=340, criterion=entropy   11\n",
            "Test score: 0.8494314769950884 Params: n_estimators=810, max_depth=950, criterion=entropy   12\n",
            "Test score: 0.8493381110871349 Params: n_estimators=510, max_depth=530, criterion=gini   13\n",
            "Test score: 0.8506123557943658 Params: n_estimators=6210, max_depth=300, criterion=gini   14\n",
            "Test score: 0.850610538601366 Params: n_estimators=810, max_depth=1000, criterion=gini   15\n",
            "Test score: 0.8503393664463893 Params: n_estimators=5810, max_depth=980, criterion=gini   16\n",
            "Test score: 0.8497935384483213 Params: n_estimators=4110, max_depth=880, criterion=entropy   17\n",
            "Test score: 0.8305346283017155 Params: n_estimators=310, max_depth=20, criterion=gini   18\n"
          ]
        }
      ]
    },
    {
      "cell_type": "code",
      "metadata": {
        "id": "QvUyjaH9HO5C"
      },
      "source": [
        "best.value[0]"
      ],
      "execution_count": null,
      "outputs": []
    },
    {
      "cell_type": "markdown",
      "metadata": {
        "id": "suxB1lXFxOtx"
      },
      "source": [
        "### *Individual*"
      ]
    },
    {
      "cell_type": "code",
      "source": [
        "from sklearn.ensemble import RandomForestClassifier"
      ],
      "metadata": {
        "id": "__YiHVkgnPii"
      },
      "execution_count": 51,
      "outputs": []
    },
    {
      "cell_type": "code",
      "source": [
        "# n_estimators = 10\n",
        "# max_depth = 5\n",
        "# criterion = 'entropy' #'gini'\n",
        "\n",
        "# columns = X_train.columns\n",
        "# for column in columns:\n",
        "#   print(column)\n",
        "#   trainAux = pd.DataFrame({column: X_train[column]})\n",
        "#   randomForest = RandomForestClassifier(n_estimators=n_estimators, max_depth=max_depth, criterion=criterion, random_state=seed, n_jobs=-1)\n",
        "#   randomForest.fit(trainAux, y_train)\n",
        "#   predictAux = pd.DataFrame({column: X_predict[column]})\n",
        "#   pd.DataFrame({'PassengerId': data_predict['PassengerId'], 'Survived': randomForest.predict(predictAux)})"
      ],
      "metadata": {
        "id": "ErJeQibDxf8V"
      },
      "execution_count": 52,
      "outputs": []
    },
    {
      "cell_type": "code",
      "metadata": {
        "colab": {
          "base_uri": "https://localhost:8080/"
        },
        "id": "tpHVXSo1rwPA",
        "outputId": "dfdd39e0-56a2-44b7-f7fa-b1e444cfb490"
      },
      "source": [
        "n_estimators = 1510\n",
        "max_depth = 260\n",
        "criterion = 'entropy' #'gini'\n",
        "\n",
        "randomForest = RandomForestClassifier(n_estimators=n_estimators, max_depth=max_depth, criterion=criterion, random_state=seed, n_jobs=-1)\n",
        "randomForest.fit(X_train, y_train)"
      ],
      "execution_count": 53,
      "outputs": [
        {
          "output_type": "execute_result",
          "data": {
            "text/plain": [
              "RandomForestClassifier(criterion='entropy', max_depth=260, n_estimators=1510,\n",
              "                       n_jobs=-1, random_state=1337)"
            ]
          },
          "metadata": {},
          "execution_count": 53
        }
      ]
    },
    {
      "cell_type": "code",
      "metadata": {
        "id": "qlP09nHGhCd8"
      },
      "source": [
        "# y_pred = randomForest.predict(X_val)\n",
        "# scoreRandomForest= (f1_score(y_val, y_pred, average='weighted'), accuracy_score(y_val, y_pred))\n",
        "# scoreRandomForest"
      ],
      "execution_count": 54,
      "outputs": []
    },
    {
      "cell_type": "code",
      "metadata": {
        "colab": {
          "base_uri": "https://localhost:8080/",
          "height": 424
        },
        "id": "pm_GAHsxokOq",
        "outputId": "23ae457d-17e8-491f-f0df-55f11fdf2ccf"
      },
      "source": [
        "resultRandomForest = pd.DataFrame({'PassengerId': data_predict['PassengerId'], 'Survived': randomForest.predict(X_predict)})\n",
        "resultRandomForest"
      ],
      "execution_count": 55,
      "outputs": [
        {
          "output_type": "execute_result",
          "data": {
            "text/plain": [
              "     PassengerId  Survived\n",
              "0            892         0\n",
              "1            893         0\n",
              "2            894         0\n",
              "3            895         0\n",
              "4            896         1\n",
              "..           ...       ...\n",
              "413         1305         0\n",
              "414         1306         1\n",
              "415         1307         0\n",
              "416         1308         0\n",
              "417         1309         1\n",
              "\n",
              "[418 rows x 2 columns]"
            ],
            "text/html": [
              "\n",
              "  <div id=\"df-7ff3cb59-b5f0-4688-b401-194bdb0b4805\">\n",
              "    <div class=\"colab-df-container\">\n",
              "      <div>\n",
              "<style scoped>\n",
              "    .dataframe tbody tr th:only-of-type {\n",
              "        vertical-align: middle;\n",
              "    }\n",
              "\n",
              "    .dataframe tbody tr th {\n",
              "        vertical-align: top;\n",
              "    }\n",
              "\n",
              "    .dataframe thead th {\n",
              "        text-align: right;\n",
              "    }\n",
              "</style>\n",
              "<table border=\"1\" class=\"dataframe\">\n",
              "  <thead>\n",
              "    <tr style=\"text-align: right;\">\n",
              "      <th></th>\n",
              "      <th>PassengerId</th>\n",
              "      <th>Survived</th>\n",
              "    </tr>\n",
              "  </thead>\n",
              "  <tbody>\n",
              "    <tr>\n",
              "      <th>0</th>\n",
              "      <td>892</td>\n",
              "      <td>0</td>\n",
              "    </tr>\n",
              "    <tr>\n",
              "      <th>1</th>\n",
              "      <td>893</td>\n",
              "      <td>0</td>\n",
              "    </tr>\n",
              "    <tr>\n",
              "      <th>2</th>\n",
              "      <td>894</td>\n",
              "      <td>0</td>\n",
              "    </tr>\n",
              "    <tr>\n",
              "      <th>3</th>\n",
              "      <td>895</td>\n",
              "      <td>0</td>\n",
              "    </tr>\n",
              "    <tr>\n",
              "      <th>4</th>\n",
              "      <td>896</td>\n",
              "      <td>1</td>\n",
              "    </tr>\n",
              "    <tr>\n",
              "      <th>...</th>\n",
              "      <td>...</td>\n",
              "      <td>...</td>\n",
              "    </tr>\n",
              "    <tr>\n",
              "      <th>413</th>\n",
              "      <td>1305</td>\n",
              "      <td>0</td>\n",
              "    </tr>\n",
              "    <tr>\n",
              "      <th>414</th>\n",
              "      <td>1306</td>\n",
              "      <td>1</td>\n",
              "    </tr>\n",
              "    <tr>\n",
              "      <th>415</th>\n",
              "      <td>1307</td>\n",
              "      <td>0</td>\n",
              "    </tr>\n",
              "    <tr>\n",
              "      <th>416</th>\n",
              "      <td>1308</td>\n",
              "      <td>0</td>\n",
              "    </tr>\n",
              "    <tr>\n",
              "      <th>417</th>\n",
              "      <td>1309</td>\n",
              "      <td>1</td>\n",
              "    </tr>\n",
              "  </tbody>\n",
              "</table>\n",
              "<p>418 rows × 2 columns</p>\n",
              "</div>\n",
              "      <button class=\"colab-df-convert\" onclick=\"convertToInteractive('df-7ff3cb59-b5f0-4688-b401-194bdb0b4805')\"\n",
              "              title=\"Convert this dataframe to an interactive table.\"\n",
              "              style=\"display:none;\">\n",
              "        \n",
              "  <svg xmlns=\"http://www.w3.org/2000/svg\" height=\"24px\"viewBox=\"0 0 24 24\"\n",
              "       width=\"24px\">\n",
              "    <path d=\"M0 0h24v24H0V0z\" fill=\"none\"/>\n",
              "    <path d=\"M18.56 5.44l.94 2.06.94-2.06 2.06-.94-2.06-.94-.94-2.06-.94 2.06-2.06.94zm-11 1L8.5 8.5l.94-2.06 2.06-.94-2.06-.94L8.5 2.5l-.94 2.06-2.06.94zm10 10l.94 2.06.94-2.06 2.06-.94-2.06-.94-.94-2.06-.94 2.06-2.06.94z\"/><path d=\"M17.41 7.96l-1.37-1.37c-.4-.4-.92-.59-1.43-.59-.52 0-1.04.2-1.43.59L10.3 9.45l-7.72 7.72c-.78.78-.78 2.05 0 2.83L4 21.41c.39.39.9.59 1.41.59.51 0 1.02-.2 1.41-.59l7.78-7.78 2.81-2.81c.8-.78.8-2.07 0-2.86zM5.41 20L4 18.59l7.72-7.72 1.47 1.35L5.41 20z\"/>\n",
              "  </svg>\n",
              "      </button>\n",
              "      \n",
              "  <style>\n",
              "    .colab-df-container {\n",
              "      display:flex;\n",
              "      flex-wrap:wrap;\n",
              "      gap: 12px;\n",
              "    }\n",
              "\n",
              "    .colab-df-convert {\n",
              "      background-color: #E8F0FE;\n",
              "      border: none;\n",
              "      border-radius: 50%;\n",
              "      cursor: pointer;\n",
              "      display: none;\n",
              "      fill: #1967D2;\n",
              "      height: 32px;\n",
              "      padding: 0 0 0 0;\n",
              "      width: 32px;\n",
              "    }\n",
              "\n",
              "    .colab-df-convert:hover {\n",
              "      background-color: #E2EBFA;\n",
              "      box-shadow: 0px 1px 2px rgba(60, 64, 67, 0.3), 0px 1px 3px 1px rgba(60, 64, 67, 0.15);\n",
              "      fill: #174EA6;\n",
              "    }\n",
              "\n",
              "    [theme=dark] .colab-df-convert {\n",
              "      background-color: #3B4455;\n",
              "      fill: #D2E3FC;\n",
              "    }\n",
              "\n",
              "    [theme=dark] .colab-df-convert:hover {\n",
              "      background-color: #434B5C;\n",
              "      box-shadow: 0px 1px 3px 1px rgba(0, 0, 0, 0.15);\n",
              "      filter: drop-shadow(0px 1px 2px rgba(0, 0, 0, 0.3));\n",
              "      fill: #FFFFFF;\n",
              "    }\n",
              "  </style>\n",
              "\n",
              "      <script>\n",
              "        const buttonEl =\n",
              "          document.querySelector('#df-7ff3cb59-b5f0-4688-b401-194bdb0b4805 button.colab-df-convert');\n",
              "        buttonEl.style.display =\n",
              "          google.colab.kernel.accessAllowed ? 'block' : 'none';\n",
              "\n",
              "        async function convertToInteractive(key) {\n",
              "          const element = document.querySelector('#df-7ff3cb59-b5f0-4688-b401-194bdb0b4805');\n",
              "          const dataTable =\n",
              "            await google.colab.kernel.invokeFunction('convertToInteractive',\n",
              "                                                     [key], {});\n",
              "          if (!dataTable) return;\n",
              "\n",
              "          const docLinkHtml = 'Like what you see? Visit the ' +\n",
              "            '<a target=\"_blank\" href=https://colab.research.google.com/notebooks/data_table.ipynb>data table notebook</a>'\n",
              "            + ' to learn more about interactive tables.';\n",
              "          element.innerHTML = '';\n",
              "          dataTable['output_type'] = 'display_data';\n",
              "          await google.colab.output.renderOutput(dataTable, element);\n",
              "          const docLink = document.createElement('div');\n",
              "          docLink.innerHTML = docLinkHtml;\n",
              "          element.appendChild(docLink);\n",
              "        }\n",
              "      </script>\n",
              "    </div>\n",
              "  </div>\n",
              "  "
            ]
          },
          "metadata": {},
          "execution_count": 55
        }
      ]
    },
    {
      "cell_type": "code",
      "metadata": {
        "id": "Fy20v8cz6MzL"
      },
      "source": [
        "guardar(score=1, prediccion=resultRandomForest, nombreModelo=\"RandomForest\", ruta='/content/predicciones', \n",
        "        params=[(\"max_depth\", max_depth), (\"n_estimators\", n_estimators), (\"criterion\", criterion)])"
      ],
      "execution_count": 56,
      "outputs": []
    },
    {
      "cell_type": "markdown",
      "metadata": {
        "id": "1XHSk_HkMQEJ"
      },
      "source": [
        "## **Ensembles**"
      ]
    },
    {
      "cell_type": "markdown",
      "metadata": {
        "id": "TLwk0KQoMyk9"
      },
      "source": [
        "### Voting"
      ]
    },
    {
      "cell_type": "markdown",
      "metadata": {
        "id": "amp33UvZLcQa"
      },
      "source": [
        "Realizamos un ensemble tipo Voting de una red neuronal y un random forest"
      ]
    },
    {
      "cell_type": "code",
      "metadata": {
        "id": "Rg88LiTexlfl"
      },
      "source": [
        "neuronasCapa1 = 500\n",
        "neuronasCapa2 = 500\n",
        "neuronasCapa3 = 500\n",
        "funcionActivacion='relu'\n",
        "\n",
        "redNeuronal = K.Sequential()\n",
        "\n",
        "redNeuronal.add(K.layers.Dense(units=neuronasCapa1, activation=funcionActivacion, input_shape=[len(X_predict.columns)]))\n",
        "redNeuronal.add(K.layers.Dense(units=neuronasCapa2, activation=funcionActivacion))\n",
        "redNeuronal.add(K.layers.Dense(units=neuronasCapa3, activation=funcionActivacion))\n",
        "redNeuronal.add(K.layers.Dense(units=neuronasCapa3, activation=funcionActivacion))\n",
        "redNeuronal.add(K.layers.Dense(units=neuronasCapa3, activation=funcionActivacion))\n",
        "redNeuronal.add(K.layers.Dense(units=neuronasCapa3, activation=funcionActivacion))\n",
        "redNeuronal.add(K.layers.Dense(units=neuronasCapa3, activation=funcionActivacion))\n",
        "redNeuronal.add(K.layers.Dense(units=neuronasCapa3, activation=funcionActivacion))\n",
        "redNeuronal.add(K.layers.Dense(2, activation='softmax'))\n",
        "\n",
        "redNeuronal.compile(loss='binary_crossentropy',\n",
        "                  optimizer='adam',\n",
        "                  metrics=[f1_score_m])"
      ],
      "execution_count": null,
      "outputs": []
    },
    {
      "cell_type": "code",
      "metadata": {
        "id": "DphAKM7eMVV9"
      },
      "source": [
        "randomForest = RandomForestClassifier(n_estimators=1510, max_depth=260, criterion='entropy', random_state=96, n_jobs=-1)\n",
        "\n",
        "votting = VotingClassifier(estimators=[('rf', randomForest), ('rn', redNeuronal)], voting='hard')\n",
        "\n",
        "randomForest.fit(X_train, y_train)\n",
        "redNeuronal.fit(X_train, transform_Y(y_train), batch_size=256, epochs=400, verbose=False)\n",
        "\n",
        "votting = votting.fit(X_train, y_train)"
      ],
      "execution_count": null,
      "outputs": []
    },
    {
      "cell_type": "code",
      "metadata": {
        "id": "5vYUc30PM7SI"
      },
      "source": [
        "y_pred = votting.predict(X_val)\n",
        "scoreVotting = (f1_score(y_val, y_pred, average='weighted'), accuracy_score(y_val, y_pred))\n",
        "scoreVotting"
      ],
      "execution_count": null,
      "outputs": []
    },
    {
      "cell_type": "code",
      "metadata": {
        "id": "pBezp70pPacm"
      },
      "source": [
        "resultVotting= pd.DataFrame({'id': data_test['id'], 'round_winner': votting.predict(X_predict)})\n",
        "resultVotting"
      ],
      "execution_count": null,
      "outputs": []
    },
    {
      "cell_type": "code",
      "metadata": {
        "id": "bUAnJ6PZWTKK"
      },
      "source": [
        "guardar(score=scoreVotting, prediccion=resultVotting, nombreModelo=\"EnsemblesVotting\", ruta='/content/predicciones', \n",
        "        params=[('rf', 'randomForest'), ('rn', 'redNeuronal')])"
      ],
      "execution_count": null,
      "outputs": []
    },
    {
      "cell_type": "markdown",
      "metadata": {
        "id": "TYVxM64DXh4O"
      },
      "source": [
        "### Bagging"
      ]
    },
    {
      "cell_type": "markdown",
      "metadata": {
        "id": "i_N3TS7qLw1R"
      },
      "source": [
        "Entrenamos un ensemble tipo Bagging con clasificadores Kneighbors"
      ]
    },
    {
      "cell_type": "code",
      "metadata": {
        "id": "LNVkqzoyXh4Q"
      },
      "source": [
        "n_neighbors = 8\n",
        "n_estimators, max_samples, max_features = 80, 0.2, 0.5\n",
        "\n",
        "clf = KNeighborsClassifier(n_neighbors=n_neighbors)\n",
        "bagging = BaggingClassifier(clf, n_estimators=n_estimators, max_samples=max_samples, max_features=max_features, random_state=96)\n",
        "bagging.fit(X_train, y_train)"
      ],
      "execution_count": null,
      "outputs": []
    },
    {
      "cell_type": "code",
      "metadata": {
        "id": "Km5l4Bo3Xh4R"
      },
      "source": [
        "y_pred = bagging.predict(X_val)\n",
        "scoreBagging = (f1_score(y_val, y_pred, average='weighted'), accuracy_score(y_val, y_pred))\n",
        "scoreBagging"
      ],
      "execution_count": null,
      "outputs": []
    },
    {
      "cell_type": "code",
      "metadata": {
        "id": "bFaLN2LlXh4T"
      },
      "source": [
        "resultBagging= pd.DataFrame({'id': data_test['id'], 'round_winner': bagging.predict(X_predict)})\n",
        "resultBagging"
      ],
      "execution_count": null,
      "outputs": []
    },
    {
      "cell_type": "code",
      "metadata": {
        "id": "tHgagKEUXh4U"
      },
      "source": [
        "guardar(score=scoreBagging, prediccion=resultBagging, nombreModelo=\"EnsemblesBagging\", ruta='/content/predicciones', \n",
        "        params=[('clf', 'knn'), ('n_estimators' , n_estimators), ('max_samples', max_samples), ('max_features', max_features)])"
      ],
      "execution_count": null,
      "outputs": []
    },
    {
      "cell_type": "markdown",
      "metadata": {
        "id": "1hhhRf3pM30f"
      },
      "source": [
        "### Boosting"
      ]
    },
    {
      "cell_type": "markdown",
      "metadata": {
        "id": "1cDzLQfRbyGV"
      },
      "source": [
        "#### AdaBoosting"
      ]
    },
    {
      "cell_type": "code",
      "metadata": {
        "id": "0jg3BjyVbyGy"
      },
      "source": [
        "n_estimators = 50\n",
        "adaboost = AdaBoostClassifier(n_estimators=n_estimators, random_state=96)\n",
        "adaboost.fit(X_train, y_train)"
      ],
      "execution_count": null,
      "outputs": []
    },
    {
      "cell_type": "code",
      "metadata": {
        "id": "vmdRSws9byGz"
      },
      "source": [
        "y_pred = adaboost.predict(X_val)\n",
        "scoreAdaboost= f1_score(y_val, y_pred, average='weighted')\n",
        "scoreAdaboost"
      ],
      "execution_count": null,
      "outputs": []
    },
    {
      "cell_type": "code",
      "metadata": {
        "id": "RSnqTJ1SbyGz"
      },
      "source": [
        "resultAdaboost= pd.DataFrame({'id': data_test['id'], 'round_winner': adaboost.predict(X_predict)})\n",
        "resultAdaboost"
      ],
      "execution_count": null,
      "outputs": []
    },
    {
      "cell_type": "code",
      "metadata": {
        "id": "fZQYGn08byG0"
      },
      "source": [
        "guardar(score=scoreAdaboost, prediccion=resultAdaboost, nombreModelo=\"AdaBoost\", ruta='/content/predicciones', \n",
        "        params=[('n_estimators', n_estimators)])"
      ],
      "execution_count": null,
      "outputs": []
    },
    {
      "cell_type": "markdown",
      "metadata": {
        "id": "m7uXCH7OeGAO"
      },
      "source": [
        "#### Gradient Boosting"
      ]
    },
    {
      "cell_type": "code",
      "metadata": {
        "id": "YJ3fMP5KeGAP"
      },
      "source": [
        "n_estimators, learning_rate, criterion, max_depth = 50, 1.0, 'mse', 1\n",
        "gb = GradientBoostingClassifier(n_estimators=n_estimators, learning_rate=learning_rate, criterion='mse', max_depth=max_depth, random_state=96)\n",
        "gb.fit(X_train, y_train)"
      ],
      "execution_count": null,
      "outputs": []
    },
    {
      "cell_type": "code",
      "metadata": {
        "id": "9EEmeSjieGAQ"
      },
      "source": [
        "y_pred = gb.predict(X_val)\n",
        "scoreGb= (f1_score(y_val, y_pred, average='weighted'), accuracy_score(y_val, y_pred))\n",
        "scoreGb"
      ],
      "execution_count": null,
      "outputs": []
    },
    {
      "cell_type": "code",
      "metadata": {
        "id": "3zdjAFXgeGAQ"
      },
      "source": [
        "resultGb= pd.DataFrame({'id': data_test['id'], 'round_winner': gb.predict(X_predict)})\n",
        "resultGb"
      ],
      "execution_count": null,
      "outputs": []
    },
    {
      "cell_type": "code",
      "metadata": {
        "id": "O6WRNy6peGAR"
      },
      "source": [
        "guardar(score=scoreGb, prediccion=resultGb, nombreModelo=\"GradientBooster\", ruta='/content/predicciones', \n",
        "        params=[('n_estimators', n_estimators), ('learning_rate', learning_rate), ('criterion', criterion), ('max_depth', max_depth)])"
      ],
      "execution_count": null,
      "outputs": []
    },
    {
      "cell_type": "markdown",
      "metadata": {
        "id": "lv0oxMzAM_nD"
      },
      "source": [
        "### Stacking"
      ]
    },
    {
      "cell_type": "code",
      "metadata": {
        "id": "xQXDL6kBzozZ"
      },
      "source": [
        "neuronasCapa1 = 500\n",
        "neuronasCapa2 = 500\n",
        "neuronasCapa3 = 500\n",
        "funcionActivacion='relu'\n",
        "\n",
        "redNeuronal = K.Sequential()\n",
        "\n",
        "redNeuronal.add(K.layers.Dense(units=neuronasCapa1, activation=funcionActivacion, input_shape=[len(X_predict.columns)]))\n",
        "redNeuronal.add(K.layers.Dense(units=neuronasCapa2, activation=funcionActivacion))\n",
        "redNeuronal.add(K.layers.Dense(units=neuronasCapa3, activation=funcionActivacion))\n",
        "redNeuronal.add(K.layers.Dense(units=neuronasCapa3, activation=funcionActivacion))\n",
        "redNeuronal.add(K.layers.Dense(units=neuronasCapa3, activation=funcionActivacion))\n",
        "redNeuronal.add(K.layers.Dense(units=neuronasCapa3, activation=funcionActivacion))\n",
        "redNeuronal.add(K.layers.Dense(units=neuronasCapa3, activation=funcionActivacion))\n",
        "redNeuronal.add(K.layers.Dense(units=neuronasCapa3, activation=funcionActivacion))\n",
        "redNeuronal.add(K.layers.Dense(2, activation='softmax'))\n",
        "\n",
        "redNeuronal.compile(loss='binary_crossentropy',\n",
        "                  optimizer='adam',\n",
        "                  metrics=[f1_score_m])"
      ],
      "execution_count": null,
      "outputs": []
    },
    {
      "cell_type": "code",
      "metadata": {
        "id": "dmtXfYAngLho"
      },
      "source": [
        "sclf = True\n",
        "\n",
        "randomForest = RandomForestClassifier(n_estimators=1510, max_depth=260, criterion='entropy', random_state=96, n_jobs=-1)\n",
        "\n",
        "estimators = [('randomForest', randomForest), ('redNeuronal', redNeuronal)]\n",
        "sclf_pass_false = StackingClassifier(estimators=estimators, passthrough=False)\n",
        "sclf_pass_true = StackingClassifier(estimators=estimators, passthrough=True)\n",
        "\n",
        "randomForest.fit(X_train, y_train)\n",
        "redNeuronal.fit(X_train, transform_Y(y_train), batch_size=256, epochs=400, verbose=False)\n",
        "\n",
        "if sclf:\n",
        "  sclf_pass = sclf_pass_true.fit(X_train, y_train)\n",
        "else:\n",
        "  sclf_pass = sclf_pass_false.fit(X_train, y_train)"
      ],
      "execution_count": null,
      "outputs": []
    },
    {
      "cell_type": "code",
      "metadata": {
        "id": "urRgFJoFgLho"
      },
      "source": [
        "y_pred = sclf_pass.predict(X_val)\n",
        "\n",
        "scoreStacking = (f1_score(y_val, y_pred, average='weighted'), accuracy_score(y_val, y_pred))\n",
        "scoreStacking"
      ],
      "execution_count": null,
      "outputs": []
    },
    {
      "cell_type": "code",
      "metadata": {
        "id": "wAi7JW3fgLhp"
      },
      "source": [
        "resultStacking= pd.DataFrame({'id': data_test['id'], 'round_winner': sclf_pass.predict(X_predict)})\n",
        "\n",
        "resultStacking"
      ],
      "execution_count": null,
      "outputs": []
    },
    {
      "cell_type": "code",
      "metadata": {
        "id": "Jvt-TaedgLhq"
      },
      "source": [
        "guardar(score=scoreStacking, prediccion=resultStacking, nombreModelo=\"EnsemblesStacking\", ruta='/content/predicciones', \n",
        "        params=[('cl1', 'randomForest'), ('cl2', 'redNeuronal'), ('passthrough', True)])"
      ],
      "execution_count": null,
      "outputs": []
    }
  ]
}